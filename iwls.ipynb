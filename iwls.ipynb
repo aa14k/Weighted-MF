{
 "cells": [
  {
   "cell_type": "code",
   "execution_count": 1,
   "id": "c2f203d9-5ef9-49b9-af1e-b0e48e1be90c",
   "metadata": {
    "execution": {
     "iopub.execute_input": "2024-09-10T23:15:55.902904Z",
     "iopub.status.busy": "2024-09-10T23:15:55.902362Z",
     "iopub.status.idle": "2024-09-10T23:15:56.360610Z",
     "shell.execute_reply": "2024-09-10T23:15:56.359984Z",
     "shell.execute_reply.started": "2024-09-10T23:15:55.902885Z"
    }
   },
   "outputs": [],
   "source": [
    "import numpy as np\n",
    "import scipy as sc\n",
    "from tqdm.notebook import tqdm\n",
    "from scipy.optimize import minimize\n",
    "from scipy import linalg\n",
    "from scipy.sparse import csr_matrix\n",
    "from scipy.special import expit as sigmoid\n",
    "from scipy.special import log_expit\n",
    "from joblib import Parallel, delayed"
   ]
  },
  {
   "cell_type": "code",
   "execution_count": 2,
   "id": "769a840a-939f-4ecb-a3ba-b5cb3ea71ad5",
   "metadata": {
    "execution": {
     "iopub.execute_input": "2024-09-10T23:15:56.361856Z",
     "iopub.status.busy": "2024-09-10T23:15:56.361584Z",
     "iopub.status.idle": "2024-09-10T23:15:57.410695Z",
     "shell.execute_reply": "2024-09-10T23:15:57.410096Z",
     "shell.execute_reply.started": "2024-09-10T23:15:56.361841Z"
    }
   },
   "outputs": [],
   "source": [
    "import os\n",
    "import shutil\n",
    "import sys\n",
    "\n",
    "import numpy as np\n",
    "from scipy import sparse\n",
    "\n",
    "import matplotlib.pyplot as plt\n",
    "%matplotlib inline\n",
    "#\n",
    "import seaborn as sn\n",
    "#sn.set()\n",
    "\n",
    "import pandas as pd\n",
    "\n",
    "import bottleneck as bn\n",
    "\n",
    "import datetime\n",
    "from copy import deepcopy"
   ]
  },
  {
   "cell_type": "code",
   "execution_count": 3,
   "id": "e20aaa7f-86af-4dba-9668-2de92e9700d1",
   "metadata": {
    "execution": {
     "iopub.execute_input": "2024-09-10T23:15:58.631984Z",
     "iopub.status.busy": "2024-09-10T23:15:58.631284Z",
     "iopub.status.idle": "2024-09-10T23:15:58.635113Z",
     "shell.execute_reply": "2024-09-10T23:15:58.634642Z",
     "shell.execute_reply.started": "2024-09-10T23:15:58.631964Z"
    }
   },
   "outputs": [],
   "source": [
    "\n",
    "import pickle\n",
    "\n",
    "def save_pkl(obj, filename ):\n",
    "    with open(filename, 'wb') as f:\n",
    "        pickle.dump(obj, f, pickle.HIGHEST_PROTOCOL )\n",
    "    \n",
    "def load_pkl(filename ):\n",
    "    with open(filename, 'rb') as f:\n",
    "        return pickle.load(f)\n",
    " "
   ]
  },
  {
   "cell_type": "code",
   "execution_count": 4,
   "id": "81ebb53b-13d3-4254-8c64-54caf389a77f",
   "metadata": {
    "execution": {
     "iopub.execute_input": "2024-09-10T23:15:59.169704Z",
     "iopub.status.busy": "2024-09-10T23:15:59.169229Z",
     "iopub.status.idle": "2024-09-10T23:15:59.172158Z",
     "shell.execute_reply": "2024-09-10T23:15:59.171699Z",
     "shell.execute_reply.started": "2024-09-10T23:15:59.169686Z"
    }
   },
   "outputs": [],
   "source": [
    "DATA_DIR = '/efs/users/hsteck/public/data_for_ease/movielens20mio/'"
   ]
  },
  {
   "cell_type": "code",
   "execution_count": 5,
   "id": "c0bf2350-3726-4f15-b0c2-8846c808820c",
   "metadata": {
    "execution": {
     "iopub.execute_input": "2024-09-10T23:15:59.679984Z",
     "iopub.status.busy": "2024-09-10T23:15:59.679512Z",
     "iopub.status.idle": "2024-09-10T23:15:59.682465Z",
     "shell.execute_reply": "2024-09-10T23:15:59.682009Z",
     "shell.execute_reply.started": "2024-09-10T23:15:59.679965Z"
    }
   },
   "outputs": [],
   "source": [
    "pro_dir = os.path.join(DATA_DIR, 'pro_sg')\n"
   ]
  },
  {
   "cell_type": "code",
   "execution_count": 6,
   "id": "d5e42eaa-18c4-4a1f-9775-f9997bf0b901",
   "metadata": {
    "execution": {
     "iopub.execute_input": "2024-09-10T23:16:00.203634Z",
     "iopub.status.busy": "2024-09-10T23:16:00.203164Z",
     "iopub.status.idle": "2024-09-10T23:16:00.231340Z",
     "shell.execute_reply": "2024-09-10T23:16:00.230800Z",
     "shell.execute_reply.started": "2024-09-10T23:16:00.203616Z"
    }
   },
   "outputs": [],
   "source": [
    "unique_sid = list()\n",
    "with open(os.path.join(pro_dir, 'unique_sid.txt'), 'r') as f:\n",
    "    for line in f:\n",
    "        unique_sid.append(line.strip())\n",
    "\n",
    "n_items = len(unique_sid)\n",
    "\n",
    "def load_train_data(csv_file):\n",
    "    tp = pd.read_csv(csv_file)\n",
    "    n_users = tp['uid'].max() + 1\n",
    "\n",
    "    rows, cols = tp['uid'], tp['sid']\n",
    "    data = sparse.csr_matrix((np.ones_like(rows),\n",
    "                             (rows, cols)), dtype='float64',\n",
    "                             shape=(n_users, n_items))\n",
    "    return data"
   ]
  },
  {
   "cell_type": "code",
   "execution_count": 7,
   "id": "36724a42-ce95-4068-9d34-165631718cf6",
   "metadata": {
    "execution": {
     "iopub.execute_input": "2024-09-10T23:16:01.366632Z",
     "iopub.status.busy": "2024-09-10T23:16:01.366169Z",
     "iopub.status.idle": "2024-09-10T23:16:01.369414Z",
     "shell.execute_reply": "2024-09-10T23:16:01.368958Z",
     "shell.execute_reply.started": "2024-09-10T23:16:01.366614Z"
    }
   },
   "outputs": [],
   "source": [
    "def load_xtx_binary():\n",
    "    train_data = load_train_data(os.path.join(pro_dir, 'train.csv'))\n",
    "    X=train_data\n",
    "    print (X.shape)\n",
    "    return [X.shape[0] , X]"
   ]
  },
  {
   "cell_type": "code",
   "execution_count": 8,
   "id": "684c91ae-2f62-4776-9ec0-07150a5f32af",
   "metadata": {
    "execution": {
     "iopub.execute_input": "2024-09-10T23:16:02.944063Z",
     "iopub.status.busy": "2024-09-10T23:16:02.943287Z",
     "iopub.status.idle": "2024-09-10T23:16:06.206117Z",
     "shell.execute_reply": "2024-09-10T23:16:06.205457Z",
     "shell.execute_reply.started": "2024-09-10T23:16:02.944028Z"
    }
   },
   "outputs": [
    {
     "name": "stdout",
     "output_type": "stream",
     "text": [
      "(116677, 20108)\n"
     ]
    }
   ],
   "source": [
    "userCnt , X =load_xtx_binary()\n",
    "X_ = X.toarray()\n",
    "I = 20108\n",
    "U = 116677"
   ]
  },
  {
   "cell_type": "code",
   "execution_count": 9,
   "id": "6dcff08c-5325-4a29-a70f-b7ca8ae01c6f",
   "metadata": {
    "execution": {
     "iopub.execute_input": "2024-09-10T23:16:06.490878Z",
     "iopub.status.busy": "2024-09-10T23:16:06.490483Z",
     "iopub.status.idle": "2024-09-10T23:16:06.494346Z",
     "shell.execute_reply": "2024-09-10T23:16:06.493876Z",
     "shell.execute_reply.started": "2024-09-10T23:16:06.490860Z"
    }
   },
   "outputs": [],
   "source": [
    "def ease(X, lam = 200.0):\n",
    "    print('multiplying matrix')\n",
    "    G = X.T @ X\n",
    "    diagIndices = np.diag_indices(G.shape[0])\n",
    "    G = G + lam * np.eye(G.shape[0])\n",
    "    print('inverting')\n",
    "    P = linalg.inv(G)\n",
    "    print('inverting complete')\n",
    "    B = P / (-np.diag(P))\n",
    "    B[diagIndices] = 0.0\n",
    "    return B"
   ]
  },
  {
   "cell_type": "code",
   "execution_count": 14,
   "id": "d02497f1-76c7-4175-bdb2-461ab18033f5",
   "metadata": {
    "execution": {
     "iopub.execute_input": "2024-09-10T23:17:16.544526Z",
     "iopub.status.busy": "2024-09-10T23:17:16.544110Z",
     "iopub.status.idle": "2024-09-10T23:17:16.550147Z",
     "shell.execute_reply": "2024-09-10T23:17:16.549667Z",
     "shell.execute_reply.started": "2024-09-10T23:17:16.544507Z"
    }
   },
   "outputs": [],
   "source": [
    "def irls(item,lam=1.0):\n",
    "    ii = np.diag_indices(items-1)\n",
    "    mask = np.ones(items, dtype=bool)\n",
    "    mask[item] = False\n",
    "    w = np.zeros(items-1) \n",
    "    for _ in range(2000):\n",
    "        xw = 2*X[:,mask]@w - np.sum(w)\n",
    "        p = sigmoid(xw)\n",
    "        S = p*(1-p)\n",
    "        SX = S@X[:,mask]\n",
    "        __ = SX + SX[:, np.newaxis]\n",
    "        hess = 4*X[:,mask].T.multiply(S).dot(X[:,mask]) -2*__ + np.sum(S)\n",
    "        hess[ii] += lam\n",
    "        temp = p-X_[:,item]\n",
    "        grad = 2*X[:,mask].T@temp - np.sum(temp) + lam*w\n",
    "        step = sc.sparse.linalg.cg(hess,grad)[0]\n",
    "        cov = np.linalg.norm(grad)\n",
    "        beta = max(1e-32,np.linalg.norm(step))\n",
    "        wnew = w - sc.special.xlogy(1/beta,1+beta)*step\n",
    "        #print(cov)\n",
    "        if cov<1e-12:\n",
    "            return wnew\n",
    "        if np.linalg.norm(wnew-w)<1e-12:\n",
    "            return wnew\n",
    "        w=wnew\n",
    "    return wnew\n",
    "\n",
    "def weighted_ls(item,lam=200.0):\n",
    "    mask = np.ones(I, dtype=bool)\n",
    "    mask[item] = False\n",
    "    D = sc.sparse.diags(Var[:,item])\n",
    "    Xty = X[:,mask].T@D@X[:,item]\n",
    "    XtX = X[:,mask].T@D@X[:,mask]\n",
    "    return sc.sparse.linalg.spsolve(XtX + lam*identity, Xty)\n",
    "    \n",
    "    \n",
    "\n"
   ]
  },
  {
   "cell_type": "code",
   "execution_count": 15,
   "id": "f8a68beb-3b22-41e2-b943-37fa2245b743",
   "metadata": {
    "execution": {
     "iopub.execute_input": "2024-09-10T23:17:18.784524Z",
     "iopub.status.busy": "2024-09-10T23:17:18.783808Z",
     "iopub.status.idle": "2024-09-10T23:17:18.787458Z",
     "shell.execute_reply": "2024-09-10T23:17:18.786984Z",
     "shell.execute_reply.started": "2024-09-10T23:17:18.784506Z"
    }
   },
   "outputs": [],
   "source": [
    "def exp_cf(item):\n",
    "    lam = 100.0\n",
    "    w = np.zeros(I)\n",
    "    mask = np.ones(I, dtype=bool)\n",
    "    mask[item] = False\n",
    "    w[mask]=irls(item,lam)\n",
    "    return w"
   ]
  },
  {
   "cell_type": "code",
   "execution_count": null,
   "id": "b9a85ef7-97a4-4d6b-b7ef-a6432c3fda65",
   "metadata": {
    "execution": {
     "iopub.execute_input": "2024-09-10T23:17:24.492518Z",
     "iopub.status.busy": "2024-09-10T23:17:24.491786Z"
    },
    "scrolled": true
   },
   "outputs": [
    {
     "data": {
      "application/vnd.jupyter.widget-view+json": {
       "model_id": "af25653395ff40e59c6b5f7f80f3cb5e",
       "version_major": 2,
       "version_minor": 0
      },
      "text/plain": [
       "  0%|          | 0/20108 [00:00<?, ?it/s]"
      ]
     },
     "metadata": {},
     "output_type": "display_data"
    }
   ],
   "source": [
    "W = Parallel(n_jobs=-2)(delayed(exp_cf)(item) for item in tqdm(range(I)))\n",
    "W = np.array(W)\n",
    "np.save('weights_lam_100_bf.npy',W)"
   ]
  },
  {
   "cell_type": "code",
   "execution_count": 20,
   "id": "530cf5fc-c56f-46d1-af7d-33eff2f62b44",
   "metadata": {
    "execution": {
     "iopub.execute_input": "2024-06-27T16:31:20.330069Z",
     "iopub.status.busy": "2024-06-27T16:31:20.329900Z",
     "iopub.status.idle": "2024-06-27T16:31:32.591470Z",
     "shell.execute_reply": "2024-06-27T16:31:32.590750Z",
     "shell.execute_reply.started": "2024-06-27T16:31:20.330049Z"
    },
    "scrolled": true
   },
   "outputs": [
    {
     "name": "stdout",
     "output_type": "stream",
     "text": [
      "2024-06-27 16:31:20.331092\n",
      "0 ... 5000\n",
      "5000 ... 10000\n",
      "Test NDCG@100=0.41643 (0.00215)\n",
      "Test Recall@20=0.38927 (0.00267)\n",
      "Test Recall@50=0.51623 (0.00282)\n",
      "2024-06-27 16:31:32.583200\n"
     ]
    },
    {
     "data": {
      "text/plain": [
       "[0.41643417019034085, 0.389274373357121, 0.5162321377128388]"
      ]
     },
     "execution_count": 20,
     "metadata": {},
     "output_type": "execute_result"
    }
   ],
   "source": [
    "evaluate(W_lin)"
   ]
  },
  {
   "cell_type": "code",
   "execution_count": 12,
   "id": "f7ded6bb-d8c1-455f-8093-db7057a7bad8",
   "metadata": {
    "execution": {
     "iopub.execute_input": "2024-06-27T16:29:06.033024Z",
     "iopub.status.busy": "2024-06-27T16:29:06.032614Z",
     "iopub.status.idle": "2024-06-27T16:29:06.036804Z",
     "shell.execute_reply": "2024-06-27T16:29:06.036431Z",
     "shell.execute_reply.started": "2024-06-27T16:29:06.033005Z"
    }
   },
   "outputs": [],
   "source": [
    "def load_tr_te_data(csv_file_tr, csv_file_te):\n",
    "    tp_tr = pd.read_csv(csv_file_tr)\n",
    "    tp_te = pd.read_csv(csv_file_te)\n",
    "\n",
    "    start_idx = min(tp_tr['uid'].min(), tp_te['uid'].min())\n",
    "    end_idx = max(tp_tr['uid'].max(), tp_te['uid'].max())\n",
    "\n",
    "    rows_tr, cols_tr = tp_tr['uid'] - start_idx, tp_tr['sid']\n",
    "    rows_te, cols_te = tp_te['uid'] - start_idx, tp_te['sid']\n",
    "\n",
    "    data_tr = sparse.csr_matrix((np.ones_like(rows_tr),\n",
    "                             (rows_tr, cols_tr)), dtype='float64', shape=(end_idx - start_idx + 1, n_items))\n",
    "    data_te = sparse.csr_matrix((np.ones_like(rows_te),\n",
    "                             (rows_te, cols_te)), dtype='float64', shape=(end_idx - start_idx + 1, n_items))\n",
    "    return data_tr, data_te"
   ]
  },
  {
   "cell_type": "code",
   "execution_count": 13,
   "id": "24e32e5a-f44a-41a4-9460-75a4691036aa",
   "metadata": {
    "execution": {
     "iopub.execute_input": "2024-06-27T16:29:06.211341Z",
     "iopub.status.busy": "2024-06-27T16:29:06.210974Z",
     "iopub.status.idle": "2024-06-27T16:29:06.330924Z",
     "shell.execute_reply": "2024-06-27T16:29:06.330400Z",
     "shell.execute_reply.started": "2024-06-27T16:29:06.211322Z"
    }
   },
   "outputs": [],
   "source": [
    "test_data_tr, test_data_te = load_tr_te_data(\n",
    "    os.path.join(pro_dir, 'test_tr.csv'),\n",
    "    os.path.join(pro_dir, 'test_te.csv'))"
   ]
  },
  {
   "cell_type": "code",
   "execution_count": 14,
   "id": "b2164789-565e-4745-9a99-41804bd2e0aa",
   "metadata": {
    "execution": {
     "iopub.execute_input": "2024-06-27T16:29:06.367738Z",
     "iopub.status.busy": "2024-06-27T16:29:06.367397Z",
     "iopub.status.idle": "2024-06-27T16:29:06.370080Z",
     "shell.execute_reply": "2024-06-27T16:29:06.369743Z",
     "shell.execute_reply.started": "2024-06-27T16:29:06.367721Z"
    }
   },
   "outputs": [],
   "source": [
    "N_test = test_data_tr.shape[0]\n",
    "idxlist_test = range(N_test)\n"
   ]
  },
  {
   "cell_type": "code",
   "execution_count": 15,
   "id": "0dca1c0f-0404-4790-9b81-67a727e34f7c",
   "metadata": {
    "execution": {
     "iopub.execute_input": "2024-06-27T16:29:06.570499Z",
     "iopub.status.busy": "2024-06-27T16:29:06.570120Z",
     "iopub.status.idle": "2024-06-27T16:29:06.574602Z",
     "shell.execute_reply": "2024-06-27T16:29:06.574207Z",
     "shell.execute_reply.started": "2024-06-27T16:29:06.570479Z"
    }
   },
   "outputs": [],
   "source": [
    "def NDCG_binary_at_k_batch(X_pred, heldout_batch, k=100):\n",
    "    '''\n",
    "    normalized discounted cumulative gain@k for binary relevance\n",
    "    ASSUMPTIONS: all the 0's in heldout_data indicate 0 relevance\n",
    "    '''\n",
    "    batch_users = X_pred.shape[0]\n",
    "    idx_topk_part = bn.argpartition(-X_pred, k, axis=1)\n",
    "    topk_part = X_pred[np.arange(batch_users)[:, np.newaxis],\n",
    "                       idx_topk_part[:, :k]]\n",
    "    idx_part = np.argsort(-topk_part, axis=1)\n",
    "    # X_pred[np.arange(batch_users)[:, np.newaxis], idx_topk] is the sorted\n",
    "    # topk predicted score\n",
    "    idx_topk = idx_topk_part[np.arange(batch_users)[:, np.newaxis], idx_part]\n",
    "    # build the discount template\n",
    "    tp = 1. / np.log2(np.arange(2, k + 2))\n",
    "\n",
    "    DCG = (heldout_batch[np.arange(batch_users)[:, np.newaxis],\n",
    "                         idx_topk].toarray() * tp).sum(axis=1)\n",
    "    IDCG = np.array([(tp[:min(n, k)]).sum()\n",
    "                     for n in heldout_batch.getnnz(axis=1)])\n",
    "    return DCG / IDCG"
   ]
  },
  {
   "cell_type": "code",
   "execution_count": 16,
   "id": "83151e12-931b-4d3c-b251-7b6225e5dffb",
   "metadata": {
    "execution": {
     "iopub.execute_input": "2024-06-27T16:29:07.231837Z",
     "iopub.status.busy": "2024-06-27T16:29:07.231421Z",
     "iopub.status.idle": "2024-06-27T16:29:07.235382Z",
     "shell.execute_reply": "2024-06-27T16:29:07.234988Z",
     "shell.execute_reply.started": "2024-06-27T16:29:07.231818Z"
    }
   },
   "outputs": [],
   "source": [
    "def Recall_at_k_batch(X_pred, heldout_batch, k=100):\n",
    "    batch_users = X_pred.shape[0]\n",
    "\n",
    "    idx = bn.argpartition(-X_pred, k, axis=1)\n",
    "    X_pred_binary = np.zeros_like(X_pred, dtype=bool)\n",
    "    X_pred_binary[np.arange(batch_users)[:, np.newaxis], idx[:, :k]] = True\n",
    "\n",
    "    X_true_binary = (heldout_batch > 0).toarray()\n",
    "    tmp = (np.logical_and(X_true_binary, X_pred_binary).sum(axis=1)).astype(\n",
    "        np.float32)\n",
    "    recall = tmp / np.minimum(k, X_true_binary.sum(axis=1))\n",
    "    return recall"
   ]
  },
  {
   "cell_type": "code",
   "execution_count": 17,
   "id": "5101572b-0e88-4561-8714-4b3420699448",
   "metadata": {
    "execution": {
     "iopub.execute_input": "2024-06-27T16:29:07.989874Z",
     "iopub.status.busy": "2024-06-27T16:29:07.989514Z",
     "iopub.status.idle": "2024-06-27T16:29:07.995388Z",
     "shell.execute_reply": "2024-06-27T16:29:07.994977Z",
     "shell.execute_reply.started": "2024-06-27T16:29:07.989856Z"
    }
   },
   "outputs": [],
   "source": [
    "def evaluate(BB,i=0.0):\n",
    "    #evaluate in batches\n",
    "    print(datetime.datetime.now())\n",
    "\n",
    "    #makeSparseFormat(BB, 0.0)\n",
    "\n",
    "\n",
    "    batch_size_test=5000\n",
    "    n100_list, r20_list, r50_list = [], [], []\n",
    "\n",
    "\n",
    "\n",
    "    for bnum, st_idx in enumerate(range(0, N_test, batch_size_test)):\n",
    "        end_idx = min(st_idx + batch_size_test, N_test)\n",
    "        Xtest = test_data_tr[idxlist_test[st_idx:end_idx]]\n",
    "        #Xtest = Xtest[:,:600]\n",
    "        print (str(st_idx)+' ... '+str(end_idx))\n",
    "        if sparse.isspmatrix(Xtest):\n",
    "            Xtest = Xtest.toarray()\n",
    "        Xtest = Xtest.astype('float32')\n",
    "\n",
    "        #pred_val = Xtest.dot(BB_excl)\n",
    "        #pred_val = (((Xtest-mu) * scaling).dot(BBth) / scaling) +mu   # no bias\n",
    "        #pred_val = Xtest.dot(beta_0d)  # no bias\n",
    "        #pred_val =Xtest.dot(beta_lowrank)  \n",
    "        pred_val = (Xtest.dot(BB) - i)\n",
    "\n",
    "        # exclude examples from training and validation (if any)\n",
    "        pred_val[Xtest.nonzero()] = -np.inf\n",
    "        n100_list.append(NDCG_binary_at_k_batch(pred_val, test_data_te[idxlist_test[st_idx:end_idx]], k=100))\n",
    "        r20_list.append(Recall_at_k_batch(pred_val, test_data_te[idxlist_test[st_idx:end_idx]], k=20))\n",
    "        r50_list.append(Recall_at_k_batch(pred_val, test_data_te[idxlist_test[st_idx:end_idx]], k=50))\n",
    "        #calc_coverageCounts(coverageCounts2, pred_val)\n",
    "        #break  # do only 5000 users\n",
    "\n",
    "    n100_list = np.concatenate(n100_list)\n",
    "    r20_list = np.concatenate(r20_list)\n",
    "    r50_list = np.concatenate(r50_list)\n",
    "\n",
    "    print(\"Test NDCG@100=%.5f (%.5f)\" % (np.mean(n100_list), np.std(n100_list) / np.sqrt(len(n100_list))))\n",
    "    print(\"Test Recall@20=%.5f (%.5f)\" % (np.mean(r20_list), np.std(r20_list) / np.sqrt(len(r20_list))))\n",
    "    print(\"Test Recall@50=%.5f (%.5f)\" % (np.mean(r50_list), np.std(r50_list) / np.sqrt(len(r50_list))))\n",
    "\n",
    "    print(datetime.datetime.now())\n",
    "    return [np.mean(n100_list), np.mean(r20_list), np.mean(r50_list)]"
   ]
  },
  {
   "cell_type": "code",
   "execution_count": null,
   "id": "56608f47-287f-4aab-859c-993535a99d56",
   "metadata": {
    "execution": {
     "execution_failed": "2024-06-25T23:56:49.551Z"
    }
   },
   "outputs": [],
   "source": [
    "# #Bn_ = (np.ones((I , I)) - 3).flatten()\n",
    "# Bn = (np.zeros((I , I))).flatten()\n",
    "# Bn1 = (np.ones((I , I)) + 2).flatten()\n",
    "# for i in range(10000):\n",
    "#     #Bnvec = Bn.flatten()\n",
    "#     #Bn_vec = Bn_.flatten()\n",
    "#     dBn_ = der(Bn_).flatten()\n",
    "#     dBn = der(Bn).flatten()\n",
    "#     top = np.abs(np.inner(Bn - Bn_, dBn - dBn_))\n",
    "#     bottom = np.linalg.norm(dBn - dBn_) ** 2\n",
    "#     if bottom <= 1e-132:\n",
    "#         break\n",
    "#     gamma = top / bottom\n",
    "#     #print(gamma)\n",
    "#     print(np.linalg.norm(der(Bn)))\n",
    "#     Bn1 = Bn - gamma * der(Bn)\n",
    "#     Bn_ = Bn\n",
    "#     Bn = Bn1\n",
    "\n",
    "# def temp(W):\n",
    "#     W = W.reshape(I,I)\n",
    "#     sums = 0.0\n",
    "#     for i in range(I):\n",
    "#         xw = X@W[:,i]\n",
    "#         sums += np.sum( np.logaddexp(-xw/2,xw/2) - X[:,i]/2 * xw)\n",
    "#     return sums\n",
    "\n",
    "\n",
    "\n",
    "# def temp2(W, lam = 1.0):\n",
    "#     W = W.reshape(I,I)\n",
    "#     S = X @ W\n",
    "#     return np.sum(np.logaddexp(-S/2,S/2) - X / 2 * S) + lam * np.linalg.norm(W,ord='fro') ** 2\n",
    "\n",
    "\n",
    "# def der2(W, lam = 1.0):\n",
    "#     W = W.reshape(I,I)\n",
    "#     S = X @ W\n",
    "#     return (1/2 * X.T @ (sigmoid(S/2) - (sigmoid(-S/2)) + X) + 2 * lam * W).flatten()\n",
    "    \n",
    "\n",
    "\n",
    "\n",
    "# def der(W):\n",
    "#     W = W.reshape(I,I)\n",
    "#     der = np.zeros((I,I))\n",
    "#     for u in range(U):\n",
    "#         for i in range(I):\n",
    "#             scalar = 1 / 2 * (np.tanh(np.inner(X[u],W[:,i])) - X[u,i])\n",
    "#             der[i] = der[i] + scalar * X[u]\n",
    "#     return der.flatten()\n",
    "\n",
    "# def Hess(W):\n",
    "#     hess = np.zeros((I,I))\n",
    "#     for u in range(U):\n",
    "#         for i in range(I):\n",
    "#             scalar = 1 / (2 * np.cosh(np.inner(X[u],W[:,i])) + 2)\n",
    "#             hess = hess + scalar * np.outer(X[u],X[u])\n",
    "#     return hess\n",
    "\n",
    "# def lsq(B, X, lam = 1.0):\n",
    "#     B = B.reshape(I,I)\n",
    "#     S = X @ B\n",
    "#     loss = sc.linalg.norm(X - S, ord='fro') ** 2 + lam * (sc.linalg.norm(B, ord='fro') ** 2)\n",
    "#     return loss\n",
    "\n",
    "# def dlsq(B, X, lam = 1.0):\n",
    "#     B = B.reshape(I,I)\n",
    "#     S = X @ B\n",
    "#     return (2 * lam * B - 2 * X.T @ (X - S)).flatten()\n",
    "\n",
    "\n",
    "# def llog(Bvec, X, lam = 1.0):\n",
    "#     B = Bvec.reshape(I,I)\n",
    "#     S = X @ B\n",
    "#     Svec = S.flatten()\n",
    "#     Xvec = X.flatten()\n",
    "\n",
    "#     loss = np.sum(np.logaddexp(-Svec/2,Svec/2) - Xvec/2*Svec)\n",
    "    \n",
    "#     loss = lam * np.inner(Bvec,Bvec) + loss\n",
    "#     return loss\n",
    "\n",
    "\n",
    "# def llog2(Bvec, X, lam = 1.0):\n",
    "#     B = Bvec.reshape(I,I)\n",
    "#     S = X @ B\n",
    "#     Svec = S.flatten()\n",
    "#     Xvec = X.flatten()\n",
    "\n",
    "#     loss = np.sum(np.logaddexp(-S/2,S/2) - X/2*S)\n",
    "    \n",
    "#     loss = lam * np.inner(Bvec,Bvec) + loss\n",
    "#     return loss\n",
    "\n",
    "# def dllog2(Bvec, X, lam = 1.0):\n",
    "#     B = Bvec.reshape(I,I)\n",
    "#     S = X @ B\n",
    "#     return (1/2 * X.T @ (2*sigmoid(S) - np.ones((U,I)) + X) + 2 * lam * B).flatten\n",
    "    \n",
    "    \n",
    "     "
   ]
  },
  {
   "cell_type": "code",
   "execution_count": null,
   "id": "735b965b-d9a1-400e-a130-396797d9a649",
   "metadata": {
    "execution": {
     "execution_failed": "2024-06-25T23:56:49.551Z"
    },
    "scrolled": true
   },
   "outputs": [],
   "source": [
    "# Bn = np.zeros(I * I)  \n",
    "# Bn_ = np.zeros(I * I) + 10 \n",
    "# Bn1 = np.zeros(I * I) + 100\n",
    "# gamma = 1.0\n",
    "# lam = 0.0\n",
    "# while gamma > 1e-10:\n",
    "#     dBn_ = der2(Bn_)\n",
    "#     dBn = der2(Bn)\n",
    "#     top = np.abs(np.inner(Bn - Bn_, dBn - dBn_))\n",
    "#     bottom = np.linalg.norm(dBn - dBn_) ** 2\n",
    "#     if bottom <= 1e-32:\n",
    "#         break\n",
    "#     gamma = top / bottom\n",
    "#     print(temp2(Bn1),np.linalg.norm(der2(Bn1)),gamma)\n",
    "#     Bn1 = Bn - gamma * der2(Bn)\n",
    "#     #Bn1mat = Bn1.reshape(I,I)\n",
    "#     #Bn1 = (Bn1mat - np.diag(np.diag(Bn1mat))).flatten()\n",
    "#     Bn_ = Bn\n",
    "#     Bn = Bn1"
   ]
  },
  {
   "cell_type": "code",
   "execution_count": null,
   "id": "1ea8e046-f935-43a2-90ae-05ad1587847e",
   "metadata": {
    "execution": {
     "execution_failed": "2024-06-25T23:56:49.551Z"
    }
   },
   "outputs": [],
   "source": [
    "# print(temp2(Bn1),np.linalg.norm(der2(np.eye(I) * 100)))"
   ]
  },
  {
   "cell_type": "code",
   "execution_count": null,
   "id": "945e451f-71b1-45b1-907c-d8369a5f7dfe",
   "metadata": {
    "execution": {
     "execution_failed": "2024-06-25T23:56:49.551Z"
    }
   },
   "outputs": [],
   "source": [
    "# W = ease(X)"
   ]
  },
  {
   "cell_type": "code",
   "execution_count": null,
   "id": "4b863731-e505-4f77-bb9f-abb39e752c2b",
   "metadata": {
    "execution": {
     "execution_failed": "2024-06-25T23:56:49.551Z"
    }
   },
   "outputs": [],
   "source": [
    "# np.linalg.norm(W - Bn1.reshape(I,I))"
   ]
  },
  {
   "cell_type": "code",
   "execution_count": null,
   "id": "5d87a67e-9591-471a-a6cd-95908c341572",
   "metadata": {
    "execution": {
     "execution_failed": "2024-06-25T23:56:49.552Z"
    }
   },
   "outputs": [],
   "source": [
    "# U = 200_000\n",
    "# I = 20_000\n",
    "# lam = 100\n",
    "# #X = np.zeros((U,I))\n",
    "\n",
    "# p = np.random.uniform(size=I)\n",
    "# print('sampling matrix')\n",
    "# X_ = np.random.binomial(n=1,p=p,size=(U,I)) \n",
    "# X = csr_matrix(X_)\n",
    "# X_ = []"
   ]
  },
  {
   "cell_type": "code",
   "execution_count": null,
   "id": "579229dc-9ba5-4994-b666-2e575996b9e6",
   "metadata": {
    "execution": {
     "execution_failed": "2024-06-25T23:56:49.552Z"
    }
   },
   "outputs": [],
   "source": [
    "mask = np.ones(I, dtype=bool)\n",
    "mask[0] = False\n",
    "w = np.zeros(I-1)\n",
    "item = 0"
   ]
  },
  {
   "cell_type": "code",
   "execution_count": null,
   "id": "c7e4fdce-dd9c-40a0-aa22-e58cc4f47ba4",
   "metadata": {
    "execution": {
     "execution_failed": "2024-06-25T23:56:49.552Z"
    }
   },
   "outputs": [],
   "source": [
    "hess = (np.diag(Var[:,item]**2)@X[:,mask]).T @ X[:,mask]\n",
    "print('1')\n",
    "diff=(X[:,mask]@w).reshape(U,1) - X[:,item]\n",
    "print('2')\n",
    "grad = X[:,mask].T @ (Var[:,item]**2*diff).T"
   ]
  },
  {
   "cell_type": "code",
   "execution_count": null,
   "id": "aed997c0-c157-407b-a711-45f2942422e8",
   "metadata": {
    "execution": {
     "execution_failed": "2024-06-25T23:56:49.552Z"
    }
   },
   "outputs": [],
   "source": [
    "w = w-sc.sparse.linalg.spsolve(hess,grad)"
   ]
  },
  {
   "cell_type": "code",
   "execution_count": null,
   "id": "f389aa31-a4fc-4ffd-9e19-83520287d852",
   "metadata": {
    "execution": {
     "execution_failed": "2024-06-25T23:56:49.552Z"
    }
   },
   "outputs": [],
   "source": [
    "w"
   ]
  },
  {
   "cell_type": "code",
   "execution_count": null,
   "id": "bdb2518a-1bd4-4f30-b62a-9ac79f776974",
   "metadata": {
    "execution": {
     "execution_failed": "2024-06-25T23:56:49.552Z"
    }
   },
   "outputs": [],
   "source": [
    "np.multiply(np.multiply(Var[:,item],diff),Var[:,item])"
   ]
  },
  {
   "cell_type": "code",
   "execution_count": null,
   "id": "1c1b2dc6-233e-4d58-9296-0900a0966c4a",
   "metadata": {
    "execution": {
     "execution_failed": "2024-06-25T23:56:49.553Z"
    }
   },
   "outputs": [],
   "source": [
    "hess.toar"
   ]
  },
  {
   "cell_type": "code",
   "execution_count": null,
   "id": "45e1bf3d-86e4-42c6-bd07-5b7fbb8db508",
   "metadata": {
    "execution": {
     "execution_failed": "2024-06-25T23:56:49.553Z"
    }
   },
   "outputs": [],
   "source": [
    "X.T.shape"
   ]
  },
  {
   "cell_type": "code",
   "execution_count": null,
   "id": "de40bfb7-b11d-43ab-b7fd-50461c5db007",
   "metadata": {},
   "outputs": [],
   "source": []
  }
 ],
 "metadata": {
  "kernelspec": {
   "display_name": "Python 3.10 (recommended)",
   "language": "python",
   "name": "python310"
  },
  "language_info": {
   "codemirror_mode": {
    "name": "ipython",
    "version": 3
   },
   "file_extension": ".py",
   "mimetype": "text/x-python",
   "name": "python",
   "nbconvert_exporter": "python",
   "pygments_lexer": "ipython3",
   "version": "3.10.15"
  }
 },
 "nbformat": 4,
 "nbformat_minor": 5
}
