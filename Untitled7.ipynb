{
 "cells": [
  {
   "cell_type": "code",
   "execution_count": 2,
   "id": "b1253f14-66b2-4721-ac25-56c83495ff14",
   "metadata": {
    "execution": {
     "iopub.execute_input": "2024-10-13T17:06:59.692962Z",
     "iopub.status.busy": "2024-10-13T17:06:59.692383Z",
     "iopub.status.idle": "2024-10-13T17:06:59.701894Z",
     "shell.execute_reply": "2024-10-13T17:06:59.701417Z",
     "shell.execute_reply.started": "2024-10-13T17:06:59.692942Z"
    }
   },
   "outputs": [],
   "source": [
    "import numpy as np\n",
    "import utils as ut\n",
    "import sys\n",
    "import scipy.sparse as sparse\n",
    "from tqdm.notebook import tqdm\n",
    "import scipy as sc\n",
    "from joblib import Parallel, delayed\n",
    "\n",
    "\n",
    "def hadamard_matmal(r,X,B,cols,ind):\n",
    "    idx = cols[ind[r]:ind[r+1]]\n",
    "    return (B[idx][:,idx]).sum(0)\n",
    "\n",
    "def get_V_cg(U, V, WXT, weight, X, eye, lam):\n",
    "    nonzeros = WXT.nonzero()\n",
    "    XU = X@U\n",
    "    UXtXU = XU.T @ XU + eye\n",
    "    pc = np.linalg.inv(UXtXU)\n",
    "    VUX = V@XU.T\n",
    "    VUX[nonzeros] *= weight\n",
    "    r = WXT @ XU - (lam * V + VUX@XU)\n",
    "    z = r @ pc\n",
    "    p = z.copy()\n",
    "    for _ in (range(50)):\n",
    "        PUX = p@XU.T\n",
    "        PUX[nonzeros] *= weight\n",
    "        Ap = (PUX @ XU + lam*p)\n",
    "        rtz = np.dot(r.flatten('F'),z.flatten('F'))\n",
    "        alpha = rtz / np.dot(p.flatten('F'), Ap.flatten('F'))\n",
    "        V += alpha * p\n",
    "        r -= alpha * Ap\n",
    "        if np.linalg.norm(r.flatten()) < 1e-8:\n",
    "            return V\n",
    "        z = r @ pc\n",
    "        beta = np.dot(r.flatten('F'),p.flatten('F')) / rtz\n",
    "        p = z + beta * p\n",
    "    return V\n",
    "\n",
    " \n",
    "\n",
    "def get_wmf_U2(weight, lam, d, X, V, U, XtX, XtX_inv):\n",
    "    ind = X.indptr\n",
    "    nonzeroU = X.nonzero()\n",
    "    VtV_lam = V.T@V + lam * np.eye(d)\n",
    "    VtV_inv = np.linalg.inv(VtV_lam)\n",
    "    UVt = U@V.T\n",
    "    temp = Parallel(n_jobs=36)(delayed(hadamard_matmal)(user,X,UVt,nonzeros[1],ind) for user in range(users))\n",
    "    WXXUVt = (weight - 1) * sparse.csr_matrix((np.concatenate(temp), (nonzeros[0], nonzeros[1])))\n",
    "    XtXUVtV = X.T @ (WXXUVt@V) + XtX @ U @ VtV_lam\n",
    "    r = X.T @ ((weight * X) @ V) - XtXUVtV\n",
    "    #XUV = X @ U @ V.T # dimension mismatch\n",
    "    #XUV[nonzeroU] = weight * XUV[nonzeroU]\n",
    "    #r = (X.T @ (W2X @ V)) - (X.T @ (XUV@V) + lam*XtX@U)\n",
    "    z = XtX_inv @ r @ VtV_inv\n",
    "    p = z.copy()\n",
    "    for _ in (range(50)):\n",
    "        pVt = p@V.T\n",
    "        temp = Parallel(n_jobs=36)(delayed(hadamard_matmal)(user,X,pVt,nonzeros[1],ind) for user in range(users))\n",
    "        WXXpVt = (weight - 1) * sparse.csr_matrix((np.concatenate(temp), (nonzeros[0], nonzeros[1])))\n",
    "        Ap = X.T @ (WXXpVt @ V) + XtX @ p @ VtV_lam\n",
    "        #XPV = X @ p @ V.T\n",
    "        #XPV[nonzeroU] = weight * XPV[nonzeroU]\n",
    "        #Ap = X.T @ (XPV @ V) + lam*XtX@p\n",
    "        rtz = np.dot(r.flatten('F'),z.flatten('F'))\n",
    "        alpha = rtz / np.dot(p.flatten('F'),Ap.flatten('F'))\n",
    "        U += alpha * p\n",
    "        r -= alpha * Ap\n",
    "        z = XtX_inv @ r @ VtV_inv\n",
    "        print(np.linalg.norm(r))\n",
    "        if np.linalg.norm(r) < 1e-8:\n",
    "            return U\n",
    "        beta = np.dot(r.flatten('F'),z.flatten('F')) / rtz\n",
    "        p = z + beta * p\n",
    "    return U\n"
   ]
  },
  {
   "cell_type": "code",
   "execution_count": 5,
   "id": "79cd91e0-474b-48e2-93fb-b2812f6688d7",
   "metadata": {
    "execution": {
     "iopub.execute_input": "2024-10-13T17:07:30.182836Z",
     "iopub.status.busy": "2024-10-13T17:07:30.182108Z",
     "iopub.status.idle": "2024-10-13T17:08:07.769211Z",
     "shell.execute_reply": "2024-10-13T17:08:07.768267Z",
     "shell.execute_reply.started": "2024-10-13T17:07:30.182815Z"
    }
   },
   "outputs": [],
   "source": [
    "weight = [1]\n",
    "lam = [1]\n",
    "path = '/efs/users/hsteck/public/datasets/msd_data/pro_sg'\n",
    "eigenpath = 'ml'\n",
    "dims = [10]\n",
    "runs = 5\n",
    "\n",
    "\n",
    "X = ut.load_train_data(path)\n",
    "XtX = (X.T @ X).toarray()\n",
    "#np.save('dawen/eigen/pinv_ml.npy',XtX_inv)\n",
    "users, items = X.shape\n",
    "nonzeros = X.nonzero()\n",
    "nonzerosT = (X.T).nonzero()\n",
    "XtX_inv = np.load('eigen/pinv_ml.npy')\n",
    "\n",
    "    "
   ]
  },
  {
   "cell_type": "code",
   "execution_count": null,
   "id": "a780e6c3-2ddb-421d-afa8-df823befee38",
   "metadata": {},
   "outputs": [],
   "source": []
  },
  {
   "cell_type": "code",
   "execution_count": 6,
   "id": "0aa200c1-55d6-4bf7-a724-64990035d77e",
   "metadata": {
    "execution": {
     "iopub.execute_input": "2024-10-13T17:08:07.770961Z",
     "iopub.status.busy": "2024-10-13T17:08:07.770519Z",
     "iopub.status.idle": "2024-10-13T17:08:07.773399Z",
     "shell.execute_reply": "2024-10-13T17:08:07.773015Z",
     "shell.execute_reply.started": "2024-10-13T17:08:07.770940Z"
    }
   },
   "outputs": [],
   "source": [
    "#print('Loading eigendecomposition of XtX')\n",
    "#xvals = np.load('eigen/' + eigenpath + '-xvals.npy')\n",
    "#xvecs = np.load('eigen/' + eigenpath + '-xvecs.npy')"
   ]
  },
  {
   "cell_type": "code",
   "execution_count": 7,
   "id": "5c3aa0c0-a427-4d96-b5d0-b01f3c172566",
   "metadata": {
    "execution": {
     "iopub.execute_input": "2024-10-13T17:08:07.774035Z",
     "iopub.status.busy": "2024-10-13T17:08:07.773894Z",
     "iopub.status.idle": "2024-10-13T17:08:09.406665Z",
     "shell.execute_reply": "2024-10-13T17:08:09.406028Z",
     "shell.execute_reply.started": "2024-10-13T17:08:07.774022Z"
    }
   },
   "outputs": [],
   "source": [
    "d = 1000\n",
    "weight = 2\n",
    "lam = 10\n",
    "W2X = weight * X\n",
    "V = np.random.randn(items,d) * 0.01\n",
    "U = np.random.randn(items,d) * 0.01\n",
    "#U = get_wmf_U2(weight, lam, d, X, V, U, XtX, XtX_inv)"
   ]
  },
  {
   "cell_type": "code",
   "execution_count": 8,
   "id": "acb76f62-b1e9-4aee-8790-2bef1b1f2181",
   "metadata": {
    "execution": {
     "iopub.execute_input": "2024-10-13T17:08:09.408227Z",
     "iopub.status.busy": "2024-10-13T17:08:09.407808Z",
     "iopub.status.idle": "2024-10-13T17:08:09.648875Z",
     "shell.execute_reply": "2024-10-13T17:08:09.648327Z",
     "shell.execute_reply.started": "2024-10-13T17:08:09.408209Z"
    }
   },
   "outputs": [],
   "source": [
    "ind = X.indptr\n",
    "VtV_lam = V.T@V + lam * np.eye(d)\n",
    "VtV_inv = np.linalg.inv(VtV_lam)\n",
    "nonzeroU = X.nonzero()"
   ]
  },
  {
   "cell_type": "code",
   "execution_count": null,
   "id": "40c3e3d9-dc8c-4508-a5ff-88b9a7a94be2",
   "metadata": {},
   "outputs": [],
   "source": []
  }
 ],
 "metadata": {
  "kernelspec": {
   "display_name": "Python 3.10 (recommended)",
   "language": "python",
   "name": "python310"
  },
  "language_info": {
   "codemirror_mode": {
    "name": "ipython",
    "version": 3
   },
   "file_extension": ".py",
   "mimetype": "text/x-python",
   "name": "python",
   "nbconvert_exporter": "python",
   "pygments_lexer": "ipython3",
   "version": "3.10.15"
  }
 },
 "nbformat": 4,
 "nbformat_minor": 5
}
