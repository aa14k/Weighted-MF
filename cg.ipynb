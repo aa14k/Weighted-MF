{
 "cells": [
  {
   "cell_type": "markdown",
   "id": "8a962290-33e1-4d5e-8d90-49f76740f907",
   "metadata": {},
   "source": [
    "# Warming up with JAX"
   ]
  },
  {
   "cell_type": "code",
   "execution_count": 1,
   "id": "a4f1fe8f-d4db-4c84-9372-a75810aebc32",
   "metadata": {
    "execution": {
     "iopub.execute_input": "2024-09-29T18:53:45.611638Z",
     "iopub.status.busy": "2024-09-29T18:53:45.611246Z",
     "iopub.status.idle": "2024-09-29T18:53:47.826178Z",
     "shell.execute_reply": "2024-09-29T18:53:47.825567Z",
     "shell.execute_reply.started": "2024-09-29T18:53:45.611619Z"
    }
   },
   "outputs": [],
   "source": [
    "import numpy as np\n",
    "import utils as ut\n",
    "from tqdm.notebook import tqdm\n",
    "import scipy as sc\n",
    "from joblib import Parallel, delayed\n",
    "from dawen.batched_inv_joblib import recompute_factors_batched"
   ]
  },
  {
   "cell_type": "code",
   "execution_count": 2,
   "id": "35fffc25-3e7e-44b8-808d-691702f4aa28",
   "metadata": {
    "execution": {
     "iopub.execute_input": "2024-09-29T18:53:47.827269Z",
     "iopub.status.busy": "2024-09-29T18:53:47.827124Z",
     "iopub.status.idle": "2024-09-29T18:54:06.487594Z",
     "shell.execute_reply": "2024-09-29T18:54:06.486937Z",
     "shell.execute_reply.started": "2024-09-29T18:53:47.827253Z"
    }
   },
   "outputs": [
    {
     "name": "stdout",
     "output_type": "stream",
     "text": [
      "(116677, 20108)\n",
      "Loading eigendecomposition of XtX\n"
     ]
    }
   ],
   "source": [
    "items=20108\n",
    "userCnt , X= ut.load_xtx_binary(items)\n",
    "XtX = (X.T @ X).toarray()\n",
    "X_test = ut.load_xtx_binary_val()\n",
    "users = 116677\n",
    "nonzeros = X.nonzero()\n",
    "nonzerosT = (X.T).nonzero()\n",
    "get_ed_X = False\n",
    "train_on_val = False\n",
    "cg = True\n",
    "if get_ed_X:\n",
    "    print('Getting eigendecomposition of XtX')\n",
    "    XtX = (X.T @ X).toarray()\n",
    "    xvals, xvecs = np.linalg.eigh(XtX)\n",
    "    np.save('xvals.npy', xvals)\n",
    "    np.save('xvecs.npy', xvecs)\n",
    "else:\n",
    "    print('Loading eigendecomposition of XtX')\n",
    "    xvals = np.load('xvals.npy')\n",
    "    xvecs = np.load('xvecs.npy')\n",
    "    #xvals_val = np.load('xvals_val.npy')\n",
    "    #xvecs_val = np.load('xvecs_val.npy')\n"
   ]
  },
  {
   "cell_type": "code",
   "execution_count": 3,
   "id": "bebf3590-a992-4534-a036-4467a6a0e919",
   "metadata": {
    "execution": {
     "iopub.execute_input": "2024-09-29T18:54:46.111077Z",
     "iopub.status.busy": "2024-09-29T18:54:46.110648Z",
     "iopub.status.idle": "2024-09-29T18:54:46.115252Z",
     "shell.execute_reply": "2024-09-29T18:54:46.114823Z",
     "shell.execute_reply.started": "2024-09-29T18:54:46.111058Z"
    }
   },
   "outputs": [],
   "source": [
    "import numpy as np\n",
    "from scipy import sparse\n",
    "\n",
    "def compute_D_element(i, j, V, X, w, u, d):\n",
    "    # Initialize the result with the identity matrix contribution\n",
    "    result = 1 if i == j else 0\n",
    "    \n",
    "    # Compute the contribution from the matrix multiplication\n",
    "    for k in range(d):\n",
    "        for l in range(u):\n",
    "            # Kronecker product terms\n",
    "            kron_left = V[i % d, k] * X[l, i // d]\n",
    "            kron_right = V[j % d, k] * X[l, j // d]\n",
    "            \n",
    "            # w is now a vector, so we directly access its element\n",
    "            w_element = w[k*u + l]\n",
    "            \n",
    "            result += kron_left * w_element * kron_right\n",
    "\n",
    "    return result"
   ]
  },
  {
   "cell_type": "code",
   "execution_count": 4,
   "id": "c528486b-9ed9-4ffd-98e2-47c6f073ca93",
   "metadata": {
    "execution": {
     "iopub.execute_input": "2024-09-29T18:56:03.984017Z",
     "iopub.status.busy": "2024-09-29T18:56:03.983583Z",
     "iopub.status.idle": "2024-09-29T18:56:13.141729Z",
     "shell.execute_reply": "2024-09-29T18:56:13.140805Z",
     "shell.execute_reply.started": "2024-09-29T18:56:03.983997Z"
    }
   },
   "outputs": [],
   "source": [
    "W = np.ones((users,items))\n",
    "W[nonzeros] = 5\n",
    "w = W.flatten('F')\n",
    "V = np.random.randn(items,100)"
   ]
  },
  {
   "cell_type": "code",
   "execution_count": 5,
   "id": "60f8faea-640c-4515-8792-430eb4b96072",
   "metadata": {
    "execution": {
     "iopub.execute_input": "2024-09-29T18:56:29.801375Z",
     "iopub.status.busy": "2024-09-29T18:56:29.800908Z",
     "iopub.status.idle": "2024-09-29T18:56:30.478410Z",
     "shell.execute_reply": "2024-09-29T18:56:30.477640Z",
     "shell.execute_reply.started": "2024-09-29T18:56:29.801353Z"
    }
   },
   "outputs": [
    {
     "ename": "IndexError",
     "evalue": "column index (20108) out of range",
     "output_type": "error",
     "traceback": [
      "\u001b[0;31m---------------------------------------------------------------------------\u001b[0m",
      "\u001b[0;31mIndexError\u001b[0m                                Traceback (most recent call last)",
      "Cell \u001b[0;32mIn[5], line 1\u001b[0m\n\u001b[0;32m----> 1\u001b[0m test \u001b[38;5;241m=\u001b[39m \u001b[43mcompute_D_ij\u001b[49m\u001b[43m(\u001b[49m\u001b[38;5;241;43m0\u001b[39;49m\u001b[43m,\u001b[49m\u001b[38;5;241;43m0\u001b[39;49m\u001b[43m,\u001b[49m\u001b[43m \u001b[49m\u001b[43mV\u001b[49m\u001b[43m,\u001b[49m\u001b[43m \u001b[49m\u001b[43mX\u001b[49m\u001b[43m,\u001b[49m\u001b[43m \u001b[49m\u001b[43mw\u001b[49m\u001b[43m)\u001b[49m\n",
      "Cell \u001b[0;32mIn[3], line 19\u001b[0m, in \u001b[0;36mcompute_D_ij\u001b[0;34m(i, j, V, X, w)\u001b[0m\n\u001b[1;32m     17\u001b[0m i_v, i_x \u001b[38;5;241m=\u001b[39m i \u001b[38;5;241m/\u001b[39m\u001b[38;5;241m/\u001b[39m p, i \u001b[38;5;241m%\u001b[39m p\n\u001b[1;32m     18\u001b[0m k_v, k_x \u001b[38;5;241m=\u001b[39m k \u001b[38;5;241m/\u001b[39m\u001b[38;5;241m/\u001b[39m p, k \u001b[38;5;241m%\u001b[39m p\n\u001b[0;32m---> 19\u001b[0m kron_VX_ik \u001b[38;5;241m=\u001b[39m V[i_v, k_v] \u001b[38;5;241m*\u001b[39m \u001b[43mX\u001b[49m\u001b[43m[\u001b[49m\u001b[43mi_x\u001b[49m\u001b[43m,\u001b[49m\u001b[43m \u001b[49m\u001b[43mk_x\u001b[49m\u001b[43m]\u001b[49m\n\u001b[1;32m     21\u001b[0m \u001b[38;5;66;03m# Compute (kron(V,X))_{k,j}\u001b[39;00m\n\u001b[1;32m     22\u001b[0m j_v, j_x \u001b[38;5;241m=\u001b[39m j \u001b[38;5;241m/\u001b[39m\u001b[38;5;241m/\u001b[39m p, j \u001b[38;5;241m%\u001b[39m p\n",
      "File \u001b[0;32m/apps/bdi-venv-310/lib/python3.10/site-packages/scipy/sparse/_index.py:52\u001b[0m, in \u001b[0;36mIndexMixin.__getitem__\u001b[0;34m(self, key)\u001b[0m\n\u001b[1;32m     51\u001b[0m \u001b[38;5;28;01mdef\u001b[39;00m \u001b[38;5;21m__getitem__\u001b[39m(\u001b[38;5;28mself\u001b[39m, key):\n\u001b[0;32m---> 52\u001b[0m     row, col \u001b[38;5;241m=\u001b[39m \u001b[38;5;28;43mself\u001b[39;49m\u001b[38;5;241;43m.\u001b[39;49m\u001b[43m_validate_indices\u001b[49m\u001b[43m(\u001b[49m\u001b[43mkey\u001b[49m\u001b[43m)\u001b[49m\n\u001b[1;32m     54\u001b[0m     \u001b[38;5;66;03m# Dispatch to specialized methods.\u001b[39;00m\n\u001b[1;32m     55\u001b[0m     \u001b[38;5;28;01mif\u001b[39;00m \u001b[38;5;28misinstance\u001b[39m(row, INT_TYPES):\n",
      "File \u001b[0;32m/apps/bdi-venv-310/lib/python3.10/site-packages/scipy/sparse/_index.py:191\u001b[0m, in \u001b[0;36mIndexMixin._validate_indices\u001b[0;34m(self, key)\u001b[0m\n\u001b[1;32m    189\u001b[0m col \u001b[38;5;241m=\u001b[39m \u001b[38;5;28mint\u001b[39m(col)\n\u001b[1;32m    190\u001b[0m \u001b[38;5;28;01mif\u001b[39;00m col \u001b[38;5;241m<\u001b[39m \u001b[38;5;241m-\u001b[39mN \u001b[38;5;129;01mor\u001b[39;00m col \u001b[38;5;241m>\u001b[39m\u001b[38;5;241m=\u001b[39m N:\n\u001b[0;32m--> 191\u001b[0m     \u001b[38;5;28;01mraise\u001b[39;00m \u001b[38;5;167;01mIndexError\u001b[39;00m(\u001b[38;5;124m'\u001b[39m\u001b[38;5;124mcolumn index (\u001b[39m\u001b[38;5;132;01m%d\u001b[39;00m\u001b[38;5;124m) out of range\u001b[39m\u001b[38;5;124m'\u001b[39m \u001b[38;5;241m%\u001b[39m col)\n\u001b[1;32m    192\u001b[0m \u001b[38;5;28;01mif\u001b[39;00m col \u001b[38;5;241m<\u001b[39m \u001b[38;5;241m0\u001b[39m:\n\u001b[1;32m    193\u001b[0m     col \u001b[38;5;241m+\u001b[39m\u001b[38;5;241m=\u001b[39m N\n",
      "\u001b[0;31mIndexError\u001b[0m: column index (20108) out of range"
     ]
    }
   ],
   "source": [
    "test = compute_D_ij(0, 0, V, X, w)"
   ]
  },
  {
   "cell_type": "code",
   "execution_count": 82,
   "id": "04cdd933-f10e-449b-97ce-2d08d8506197",
   "metadata": {
    "execution": {
     "iopub.execute_input": "2024-09-27T22:23:13.013710Z",
     "iopub.status.busy": "2024-09-27T22:23:13.013245Z",
     "iopub.status.idle": "2024-09-27T22:23:13.018321Z",
     "shell.execute_reply": "2024-09-27T22:23:13.017944Z",
     "shell.execute_reply.started": "2024-09-27T22:23:13.013688Z"
    }
   },
   "outputs": [],
   "source": [
    "def iter_rows(S):\n",
    "    \"\"\"\n",
    "    Helper function to iterate quickly over the data and indices of the\n",
    "    rows of the S matrix. A naive implementation using indexing\n",
    "    on S is much, much slower.\n",
    "    \"\"\"\n",
    "    for i in range(S.shape[0]):\n",
    "        lo, hi = S.indptr[i], S.indptr[i + 1]\n",
    "        yield i, S.data[lo:hi], S.indices[lo:hi]\n",
    "\n",
    "\n",
    "def recompute_factors(Y, S, lambda_reg, dtype='float32'):\n",
    "    \"\"\"\n",
    "    recompute matrix X from Y.\n",
    "    X = recompute_factors(Y, S, lambda_reg)\n",
    "    This can also be used for the reverse operation as follows:\n",
    "    Y = recompute_factors(X, ST, lambda_reg)\n",
    "\n",
    "    The comments are in terms of X being the users and Y being the items.\n",
    "    \"\"\"\n",
    "    m = S.shape[0]  # m = number of users\n",
    "    f = Y.shape[1]  # f = number of factors\n",
    "    # pre-compute this\n",
    "    invYTYpI = np.linalg.inv(Y.T.dot(Y) + lambda_reg * np.eye(f))\n",
    "    X_new = np.zeros((m, f), dtype=dtype)\n",
    "\n",
    "    for k, s_u, i_u in iter_rows(S):\n",
    "        Y_u = Y[i_u]  # exploit sparsity\n",
    "        A = np.dot(s_u, Y_u)\n",
    "\n",
    "        X_new[k] = A@(invYTYpI)\n",
    "    return X_new"
   ]
  },
  {
   "cell_type": "code",
   "execution_count": 106,
   "id": "561b24a9-a9dd-43a1-90b9-d4b08858398f",
   "metadata": {
    "execution": {
     "iopub.execute_input": "2024-09-27T22:29:16.274028Z",
     "iopub.status.busy": "2024-09-27T22:29:16.273683Z",
     "iopub.status.idle": "2024-09-27T22:29:16.282136Z",
     "shell.execute_reply": "2024-09-27T22:29:16.281760Z",
     "shell.execute_reply.started": "2024-09-27T22:29:16.274006Z"
    }
   },
   "outputs": [],
   "source": [
    "def get_V_cg(U,V,WXT,weight,X=X):\n",
    "    nonzeros = WXT.nonzero()\n",
    "    XU = X@U\n",
    "    UXtXU = XU.T @ XU + eye\n",
    "    pc = np.linalg.inv(UXtXU)\n",
    "    VUX = V@XU.T\n",
    "    VUX[nonzeros] *= weight\n",
    "    r = WXT @ XU - (lam * V + VUX@XU)\n",
    "    z = r @ pc\n",
    "    p = z.copy()\n",
    "    for _ in tqdm(range(210)):\n",
    "        PUX = p@XU.T\n",
    "        PUX[nonzeros] *= weight\n",
    "        Ap = (PUX @ XU + lam*p)\n",
    "        rtz = np.dot(r.flatten('F'),z.flatten('F'))\n",
    "        alpha = rtz / np.dot(p.flatten('F'), Ap.flatten('F'))\n",
    "        V += alpha * p\n",
    "        r -= alpha * Ap\n",
    "        print(np.linalg.norm(r.flatten()))\n",
    "        if np.linalg.norm(r.flatten()) < 1e-8:\n",
    "            return V\n",
    "        z = r @ pc\n",
    "        beta = np.dot(r.flatten('F'),p.flatten('F')) / rtz\n",
    "        p = z + beta * p\n",
    "\n",
    "\n",
    "def get_wmf_U(weight,lam,d,items,X=X,xvals=xvals,xvecs=xvecs):\n",
    "    nonzeroU = X.nonzero()\n",
    "    u = U.flatten('F')\n",
    "    VtV = V.T @ V\n",
    "    vvals, vvecs = np.linalg.eigh(VtV)\n",
    "    D_inv = 1 / (np.kron(vvals,xvals) + lam)\n",
    "    XUV = X @ U @ V.T\n",
    "    XUV[nonzeroU] = weight * XUV[nonzeroU]\n",
    "    r = (X.T @ (W2X @ V)).flatten('F') - (X.T @ (XUV@V) + lam*U).flatten('F')\n",
    "    z = (xvecs @ (D_inv * (xvecs.T @ r.reshape((items,d),order='F') @ vvecs).flatten('F')).reshape((items,d),order='F') @ vvecs.T).flatten('F')\n",
    "    p = z\n",
    "    for _ in tqdm(range(210)):\n",
    "        XPV = X @ p.reshape((items,d),order='F') @ V.T\n",
    "        XPV[nonzeroU] = weight * XPV[nonzeroU]\n",
    "        Ap = (X.T @ (XPV @ V)).flatten('F') + lam * p\n",
    "        rtz = np.dot(r,z)\n",
    "        alpha = rtz / np.dot(p,Ap)\n",
    "        u = u + alpha * p\n",
    "        r_new = r - alpha * Ap\n",
    "        DXRV = D_inv * (xvecs.T @ r_new.reshape((items,d),order='F') @ vvecs).flatten('F')\n",
    "        z = (xvecs @ DXRV.reshape((items,d),order='F') @ vvecs.T).flatten('F')\n",
    "        print(np.linalg.norm(r_new))\n",
    "        if np.linalg.norm(r_new) < 1e-8:\n",
    "            return u.reshape((items,d),order='F')\n",
    "        beta = np.dot(r_new,z) / rtz\n",
    "        p = z + beta * p\n",
    "        r = r_new\n",
    "    return u.reshape((items,d),order='F')"
   ]
  },
  {
   "cell_type": "code",
   "execution_count": 107,
   "id": "64dcac04-1622-4362-a5c0-572cea611475",
   "metadata": {
    "execution": {
     "iopub.execute_input": "2024-09-27T22:29:16.467880Z",
     "iopub.status.busy": "2024-09-27T22:29:16.467436Z",
     "iopub.status.idle": "2024-09-27T22:29:16.600352Z",
     "shell.execute_reply": "2024-09-27T22:29:16.599850Z",
     "shell.execute_reply.started": "2024-09-27T22:29:16.467861Z"
    }
   },
   "outputs": [],
   "source": [
    "weight = 1\n",
    "W2X = (weight)*X\n",
    "lam = 1\n",
    "d=100\n",
    "U = np.random.normal(size = (items,d)) * 1 / np.sqrt(d**(3) * weight)\n",
    "V = np.random.normal(size = (items,d)) * 1 / np.sqrt(d**(3) * weight)"
   ]
  },
  {
   "cell_type": "code",
   "execution_count": 108,
   "id": "df440b73-1e0c-4b4f-a655-9c555554ba52",
   "metadata": {
    "execution": {
     "iopub.execute_input": "2024-09-27T22:29:16.634942Z",
     "iopub.status.busy": "2024-09-27T22:29:16.634610Z",
     "iopub.status.idle": "2024-09-27T22:29:31.228536Z",
     "shell.execute_reply": "2024-09-27T22:29:31.227692Z",
     "shell.execute_reply.started": "2024-09-27T22:29:16.634924Z"
    }
   },
   "outputs": [
    {
     "data": {
      "application/vnd.jupyter.widget-view+json": {
       "model_id": "fb914bd1f23f4bef83f11c636bc3bb20",
       "version_major": 2,
       "version_minor": 0
      },
      "text/plain": [
       "  0%|          | 0/210 [00:00<?, ?it/s]"
      ]
     },
     "metadata": {},
     "output_type": "display_data"
    },
    {
     "name": "stdout",
     "output_type": "stream",
     "text": [
      "7.604862906999857e-11\n"
     ]
    }
   ],
   "source": [
    "eye = lam * np.eye(d)\n",
    "U = get_wmf_U(weight,lam,d,items,X=X,xvals=xvals,xvecs=xvecs)"
   ]
  },
  {
   "cell_type": "code",
   "execution_count": 109,
   "id": "654885d3-e9c6-4019-aeb8-75b7e6b341ff",
   "metadata": {
    "execution": {
     "iopub.execute_input": "2024-09-27T22:29:31.230140Z",
     "iopub.status.busy": "2024-09-27T22:29:31.229908Z",
     "iopub.status.idle": "2024-09-27T22:29:37.977756Z",
     "shell.execute_reply": "2024-09-27T22:29:37.976906Z",
     "shell.execute_reply.started": "2024-09-27T22:29:31.230122Z"
    }
   },
   "outputs": [
    {
     "name": "stdout",
     "output_type": "stream",
     "text": [
      "7.509964055166179e-11\n"
     ]
    }
   ],
   "source": [
    "XUV = X@U@V.T\n",
    "XUV[X.nonzero()] *= 1\n",
    "print(np.linalg.norm(lam*U - X.T @ (W2X@V) + X.T @ (XUV@V)))"
   ]
  },
  {
   "cell_type": "code",
   "execution_count": 110,
   "id": "104dc5b8-fcc5-491f-9611-375751a16600",
   "metadata": {
    "execution": {
     "iopub.execute_input": "2024-09-27T22:29:37.979060Z",
     "iopub.status.busy": "2024-09-27T22:29:37.978809Z",
     "iopub.status.idle": "2024-09-27T22:29:46.510376Z",
     "shell.execute_reply": "2024-09-27T22:29:46.509518Z",
     "shell.execute_reply.started": "2024-09-27T22:29:37.979042Z"
    }
   },
   "outputs": [
    {
     "data": {
      "application/vnd.jupyter.widget-view+json": {
       "model_id": "d807ee7d96f64799a1a90a8084573cf2",
       "version_major": 2,
       "version_minor": 0
      },
      "text/plain": [
       "  0%|          | 0/210 [00:00<?, ?it/s]"
      ]
     },
     "metadata": {},
     "output_type": "display_data"
    },
    {
     "name": "stdout",
     "output_type": "stream",
     "text": [
      "7.757012910048986e-10\n"
     ]
    }
   ],
   "source": [
    "V = get_V_cg(U,V,W2X.T,weight,X=X)"
   ]
  },
  {
   "cell_type": "code",
   "execution_count": 111,
   "id": "9810a859-3569-4097-a8cb-616f7c4faa94",
   "metadata": {
    "execution": {
     "iopub.execute_input": "2024-09-27T22:29:46.512065Z",
     "iopub.status.busy": "2024-09-27T22:29:46.511837Z",
     "iopub.status.idle": "2024-09-27T22:29:51.193862Z",
     "shell.execute_reply": "2024-09-27T22:29:51.193090Z",
     "shell.execute_reply.started": "2024-09-27T22:29:46.512047Z"
    }
   },
   "outputs": [
    {
     "data": {
      "text/plain": [
       "7.81665807246999e-10"
      ]
     },
     "execution_count": 111,
     "metadata": {},
     "output_type": "execute_result"
    }
   ],
   "source": [
    "XU = X@U\n",
    "VUX = V@XU.T\n",
    "VUX[X.T.nonzero()] *= 1\n",
    "np.linalg.norm(lam * V - W2X.T@XU+ VUX @ XU)"
   ]
  },
  {
   "cell_type": "code",
   "execution_count": null,
   "id": "5462edc8-b5b5-4c70-b7a0-99778798b85e",
   "metadata": {},
   "outputs": [],
   "source": []
  },
  {
   "cell_type": "code",
   "execution_count": null,
   "id": "ad0956c8-7ed3-434f-a959-bafaccbfbdfe",
   "metadata": {},
   "outputs": [],
   "source": [
    "#def get_V_cg2(U,V,WXT,weight,X=X):\n",
    "#     nonzeros = WXT.nonzero()\n",
    "#     XU = X@U\n",
    "#     UXtXU = XU.T @ XU + eye\n",
    "#     pc = np.linalg.inv(UXtXU)\n",
    "#     VUX = V@XU.T\n",
    "#     VUX[nonzeros] *= weight\n",
    "#     r = WXT @ XU - (lam * V + VUX@XU)\n",
    "#     z = r @ pc\n",
    "#     p = z.copy()\n",
    "#     for _ in tqdm(range(210)):\n",
    "#         PUX = p@XU.T\n",
    "#         PUX[nonzeros] *= weight\n",
    "#         Ap = (PUX @ XU + lam*p)\n",
    "#         rtz = np.dot(r.flatten('F'),z.flatten('F'))\n",
    "#         alpha = rtz / np.dot(p.flatten('F'), Ap.flatten('F'))\n",
    "#         V += alpha * p\n",
    "#         r -= alpha * Ap\n",
    "#         print(np.linalg.norm(r.flatten()))\n",
    "#         if np.linalg.norm(r.flatten()) < 1e-12:\n",
    "#             return V\n",
    "#         z = r @ pc\n",
    "#         beta = np.dot(r.flatten('F'),p.flatten('F')) / rtz\n",
    "#         p = z + beta * p\n",
    "\n",
    "\n",
    "# def get_wmf_U(weight,lam,d,items,X=X,xvals=xvals,xvecs=xvecs):\n",
    "#     nonzeroU = X.nonzero()\n",
    "#     u = U.flatten('F')\n",
    "#     VtV = V.T @ V\n",
    "#     vvals, vvecs = np.linalg.eigh(VtV)\n",
    "#     D_inv = 1 / (np.kron(vvals,xvals) + lam)\n",
    "#     XUV = X @ U @ V.T\n",
    "#     XUV[nonzeroU] = weight * XUV[nonzeroU]\n",
    "#     r = (X.T @ (W2X @ V)).flatten('F') - (X.T @ (XUV@V) + lam*U).flatten('F')\n",
    "#     z = (xvecs @ (D_inv * (xvecs.T @ r.reshape((items,d),order='F') @ vvecs).flatten('F')).reshape((items,d),order='F') @ vvecs.T).flatten('F')\n",
    "#     p = z\n",
    "#     for _ in tqdm(range(210)):\n",
    "#         XPV = X @ p.reshape((items,d),order='F') @ V.T\n",
    "#         XPV[nonzeroU] = weight * XPV[nonzeroU]\n",
    "#         Ap = (X.T @ (XPV @ V)).flatten('F') + lam * p\n",
    "#         rtz = np.dot(r,z)\n",
    "#         alpha = rtz / np.dot(p,Ap)\n",
    "#         u = u + alpha * p\n",
    "#         r_new = r - alpha * Ap\n",
    "#         DXRV = D_inv * (xvecs.T @ r_new.reshape((items,d),order='F') @ vvecs).flatten('F')\n",
    "#         z = (xvecs @ DXRV.reshape((items,d),order='F') @ vvecs.T).flatten('F')\n",
    "#         print(np.linalg.norm(r_new))\n",
    "#         if np.linalg.norm(r_new) < 1e-8:\n",
    "#             return u.reshape((items,d),order='F')\n",
    "#         beta = np.dot(r_new,z) / rtz\n",
    "#         p = z + beta * p\n",
    "#         r = r_new\n",
    "#     return u.reshape((items,d),order='F')\n",
    "\n",
    "\n",
    "def get_U_cg(U,V,WX,X=X,xvals=xvals,xvecs=xvecs,XtX=XtX):\n",
    "    u = U.flatten('F')\n",
    "    VtV = V.T @ V\n",
    "    vvals, vvecs = np.linalg.eigh(VtV)\n",
    "    D_inv = 1 / (np.kron(vvals,xvals) + lam)\n",
    "    r = ((X.T @ (W2X @ V)) - (XtX @ U @ VtV + X.T @ ((WX.multiply(X@U@V.T))@V) + lam*U)).flatten('F')\n",
    "    z = (xvecs @ (D_inv * (xvecs.T @ r.reshape((items,d),order='F') @ vvecs).flatten('F')).reshape((items,d),order='F') @ vvecs.T).flatten('F')\n",
    "    p = z\n",
    "    for _ in tqdm(range(210)):\n",
    "        Ap = (XtX @ p.reshape((items,d),order='F') @ VtV + X.T @ ((WX.multiply(X@p.reshape((items,d),order='F')@V.T))@V) + lam*p.reshape((items,d),order='F')).flatten('F')\n",
    "        rtz = np.dot(r,z)\n",
    "        alpha = rtz / np.dot(p,Ap)\n",
    "        u += alpha * p\n",
    "        r -= alpha * Ap\n",
    "        DXRV = D_inv * (xvecs.T @ r.reshape((items,d),order='F') @ vvecs).flatten('F')\n",
    "        z = (xvecs @ DXRV.reshape((items,d),order='F') @ vvecs.T)\n",
    "        print(np.linalg.norm(r))\n",
    "        if np.linalg.norm(r) < 1e-8:\n",
    "            return u.reshape((items,d),order='F')\n",
    "        beta = np.dot(r,z) / rtz\n",
    "        p = z + beta * p\n",
    "    return u.reshape((items,d),order='F')\n",
    "\n",
    "# def get_wmf_U(weight,lam,d,items,X=X,xvals=xvals,xvecs=xvecs):\n",
    "#     nonzeroU = X.nonzero()\n",
    "#     u = U.flatten('F')\n",
    "#     VtV = V.T @ V\n",
    "#     vvals, vvecs = np.linalg.eigh(VtV)\n",
    "#     D_inv = 1 / (np.kron(vvals,xvals) + lam)\n",
    "#     XUV = X @ U @ V.T\n",
    "#     XUV[nonzeroU] = weight * XUV[nonzeroU]\n",
    "#     r = (X.T @ (W2X @ V)).flatten('F') - (X.T @ (XUV@V) + lam*U).flatten('F')\n",
    "#     z = (xvecs @ (D_inv * (xvecs.T @ r.reshape((items,d),order='F') @ vvecs).flatten('F')).reshape((items,d),order='F') @ vvecs.T).flatten('F')\n",
    "#     p = z\n",
    "#     for _ in tqdm(range(210)):\n",
    "#         XPV = X @ p.reshape((items,d),order='F') @ V.T\n",
    "#         XPV[nonzeroU] = weight * XPV[nonzeroU]\n",
    "#         Ap = (X.T @ (XPV @ V)).flatten('F') + lam * p\n",
    "#         rtz = np.dot(r,z)\n",
    "#         alpha = rtz / np.dot(p,Ap)\n",
    "#         u = u + alpha * p\n",
    "#         r_new = r - alpha * Ap\n",
    "#         DXRV = D_inv * (xvecs.T @ r_new.reshape((items,d),order='F') @ vvecs).flatten('F')\n",
    "#         z = (xvecs @ DXRV.reshape((items,d),order='F') @ vvecs.T).flatten('F')\n",
    "#         print(np.linalg.norm(r_new))\n",
    "#         if np.linalg.norm(r_new) < 1e-8:\n",
    "#             return u.reshape((items,d),order='F')\n",
    "#         beta = np.dot(r_new,z) / rtz\n",
    "#         p = z + beta * p\n",
    "#         r = r_new\n",
    "#     return u.reshape((items,d),order='F')\n",
    "\n",
    "\n",
    "def get_V_cg(U,V,WXT,X=X):\n",
    "    XU = X@U\n",
    "    UXtXU = XU.T @ XU\n",
    "    UXtXU_eye = UXtXU + eye\n",
    "    pc = np.linalg.inv(UXtXU_eye)\n",
    "    r = WXT @ XU - (V@UXtXU + lam*V + (WXT.multiply(V@XU.T))@XU)\n",
    "    z = r @ pc\n",
    "    p = z.copy()\n",
    "    for _ in tqdm(range(210)):\n",
    "        Ap = (p@UXtXU + lam*p + (WXT.multiply(p@XU.T))@XU)\n",
    "        rtz = np.dot(r.flatten('F'),z.flatten('F'))\n",
    "        alpha = rtz / np.dot(p.flatten('F'), Ap.flatten('F'))\n",
    "        V += alpha * p\n",
    "        r -= alpha * Ap\n",
    "        print(np.linalg.norm(r.flatten()))\n",
    "        if np.linalg.norm(r.flatten()) < 1e-8:\n",
    "            return V\n",
    "        z = r @ pc\n",
    "        beta = np.dot(r.flatten('F'),p.flatten('F')) / rtz\n",
    "        p = z + beta * p\n",
    "    return V\n",
    "\n",
    "\n",
    "\n",
    "\n",
    "    "
   ]
  }
 ],
 "metadata": {
  "kernelspec": {
   "display_name": "Python 3.10 (recommended)",
   "language": "python",
   "name": "python310"
  },
  "language_info": {
   "codemirror_mode": {
    "name": "ipython",
    "version": 3
   },
   "file_extension": ".py",
   "mimetype": "text/x-python",
   "name": "python",
   "nbconvert_exporter": "python",
   "pygments_lexer": "ipython3",
   "version": "3.10.14"
  }
 },
 "nbformat": 4,
 "nbformat_minor": 5
}
