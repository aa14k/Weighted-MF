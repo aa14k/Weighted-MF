{
 "cells": [
  {
   "cell_type": "code",
   "execution_count": 1,
   "id": "464accba-cfb5-4a04-805d-1ecf590cd37f",
   "metadata": {
    "execution": {
     "iopub.execute_input": "2024-09-11T22:53:46.713223Z",
     "iopub.status.busy": "2024-09-11T22:53:46.712875Z",
     "iopub.status.idle": "2024-09-11T22:53:47.183243Z",
     "shell.execute_reply": "2024-09-11T22:53:47.182665Z",
     "shell.execute_reply.started": "2024-09-11T22:53:46.713198Z"
    }
   },
   "outputs": [],
   "source": [
    "import numpy as np\n",
    "import utils as ut\n",
    "from tqdm.notebook import tqdm\n",
    "import scipy as sc"
   ]
  },
  {
   "cell_type": "code",
   "execution_count": 2,
   "id": "bd4e08b2-035d-4f0e-9264-4c77f71d4947",
   "metadata": {
    "execution": {
     "iopub.execute_input": "2024-09-11T22:53:47.184056Z",
     "iopub.status.busy": "2024-09-11T22:53:47.183894Z",
     "iopub.status.idle": "2024-09-11T22:54:00.059637Z",
     "shell.execute_reply": "2024-09-11T22:54:00.058993Z",
     "shell.execute_reply.started": "2024-09-11T22:53:47.184040Z"
    }
   },
   "outputs": [
    {
     "name": "stdout",
     "output_type": "stream",
     "text": [
      "(116677, 20108)\n"
     ]
    }
   ],
   "source": [
    "I=20108\n",
    "userCnt , X=ut.load_xtx_binary(I)\n",
    "W = 8 * X.toarray() + 1"
   ]
  },
  {
   "cell_type": "code",
   "execution_count": null,
   "id": "1f2f6dcd-4c65-47f2-b085-eb0e80e8660d",
   "metadata": {
    "execution": {
     "execution_failed": "2024-09-11T23:26:48.940Z",
     "iopub.execute_input": "2024-09-11T23:24:38.812983Z",
     "iopub.status.busy": "2024-09-11T23:24:38.812257Z"
    }
   },
   "outputs": [],
   "source": [
    "import numpy as np\n",
    "\n",
    "def minimize_linf_norm(D, n, m):\n",
    "    \"\"\"\n",
    "    Minimize the l-infinity norm of ||D@kron(A,B)^{-1}|| given D.\n",
    "    \n",
    "    Parameters:\n",
    "    D : numpy.ndarray\n",
    "        Diagonal elements of matrix D (1D array of length n*m)\n",
    "    n : int\n",
    "        Size of matrix A\n",
    "    m : int\n",
    "        Size of matrix B\n",
    "    \n",
    "    Returns:\n",
    "    A : numpy.ndarray\n",
    "        Diagonal elements of optimal matrix A\n",
    "    B : numpy.ndarray\n",
    "        Diagonal elements of optimal matrix B\n",
    "    min_norm : float\n",
    "        Minimum l-infinity norm achieved\n",
    "    \"\"\"\n",
    "    \n",
    "    # Ensure D is a 1D array\n",
    "    D = D.flatten()\n",
    "    \n",
    "    # Reshape D into an n x m matrix\n",
    "    D_reshaped = D.reshape(n, m)\n",
    "    \n",
    "    # Compute optimal A\n",
    "    A = np.prod(np.abs(D_reshaped) ** (1/(2*m)), axis=1)\n",
    "    \n",
    "    # Compute optimal B\n",
    "    B = np.prod(np.abs(D_reshaped) ** (1/(2*n)), axis=0)\n",
    "    \n",
    "    # Compute the constant c\n",
    "    c = np.prod(A) * np.prod(B)\n",
    "    \n",
    "    # Compute the minimum l-infinity norm\n",
    "    min_norm = 1 / c\n",
    "    \n",
    "    return A, B, min_norm\n",
    "\n",
    "# Example usage\n",
    "n, m = 1161, 200\n",
    "D = np.random.choice([1,36],size=(m*n),p=[0.99,0.01])  # Random diagonal elements for D\n",
    "\n",
    "A_opt, B_opt, min_norm = minimize_linf_norm(D, n, m)\n",
    "\n",
    "#print(\"Optimal diagonal elements of A:\")\n",
    "#print(A_opt)\n",
    "#print(\"\\nOptimal diagonal elements of B:\")\n",
    "#print(B_opt)\n",
    "#print(f\"\\nMinimum l-infinity norm: {min_norm}\")\n",
    "\n",
    "# Verify the result\n",
    "def verify_result(D, A, B):\n",
    "    D_matrix = np.diag(D)\n",
    "    A_matrix = np.diag(A)\n",
    "    B_matrix = np.diag(B)\n",
    "    \n",
    "    kron_inv = np.linalg.inv(np.kron(A_matrix, B_matrix))\n",
    "    result = D_matrix @ kron_inv\n",
    "    \n",
    "    actual_norm = np.linalg.norm(result, ord=np.inf)\n",
    "    print(f\"\\nActual l-infinity norm: {actual_norm}\")\n",
    "    print(f\"Relative error: {abs(actual_norm - min_norm) / min_norm:.2e}\")\n",
    "\n",
    "verify_result(D, A_opt, B_opt)"
   ]
  },
  {
   "cell_type": "code",
   "execution_count": 52,
   "id": "58ec616c-9510-4340-9688-f9e492f827e2",
   "metadata": {
    "execution": {
     "iopub.execute_input": "2024-09-11T23:23:44.467485Z",
     "iopub.status.busy": "2024-09-11T23:23:44.467313Z",
     "iopub.status.idle": "2024-09-11T23:23:44.470146Z",
     "shell.execute_reply": "2024-09-11T23:23:44.469704Z",
     "shell.execute_reply.started": "2024-09-11T23:23:44.467467Z"
    }
   },
   "outputs": [],
   "source": [
    "x=D / np.kron(A_opt,B_opt)"
   ]
  },
  {
   "cell_type": "code",
   "execution_count": 53,
   "id": "e299a069-6e30-4ad7-98cf-cd4dd94e1d08",
   "metadata": {
    "execution": {
     "iopub.execute_input": "2024-09-11T23:23:45.102035Z",
     "iopub.status.busy": "2024-09-11T23:23:45.101344Z",
     "iopub.status.idle": "2024-09-11T23:23:45.105272Z",
     "shell.execute_reply": "2024-09-11T23:23:45.104823Z",
     "shell.execute_reply.started": "2024-09-11T23:23:45.102015Z"
    }
   },
   "outputs": [
    {
     "data": {
      "text/plain": [
       "24.799735030421836"
      ]
     },
     "execution_count": 53,
     "metadata": {},
     "output_type": "execute_result"
    }
   ],
   "source": [
    "np.max(x)"
   ]
  },
  {
   "cell_type": "code",
   "execution_count": null,
   "id": "4052a56f-1350-4e0d-a7a9-ba5ded0c6a5a",
   "metadata": {},
   "outputs": [],
   "source": []
  },
  {
   "cell_type": "code",
   "execution_count": null,
   "id": "72a780c5-187b-4631-911b-49a7d04d3405",
   "metadata": {},
   "outputs": [],
   "source": []
  }
 ],
 "metadata": {
  "kernelspec": {
   "display_name": "Python 3.10 (recommended)",
   "language": "python",
   "name": "python310"
  },
  "language_info": {
   "codemirror_mode": {
    "name": "ipython",
    "version": 3
   },
   "file_extension": ".py",
   "mimetype": "text/x-python",
   "name": "python",
   "nbconvert_exporter": "python",
   "pygments_lexer": "ipython3",
   "version": "3.10.14"
  }
 },
 "nbformat": 4,
 "nbformat_minor": 5
}
