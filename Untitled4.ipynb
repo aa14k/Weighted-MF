{
 "cells": [
  {
   "cell_type": "code",
   "execution_count": null,
   "id": "d6dd9979-e44f-4ab1-8ba3-7023c400ac9c",
   "metadata": {
    "execution": {
     "iopub.execute_input": "2024-10-11T23:29:11.100965Z",
     "iopub.status.busy": "2024-10-11T23:29:11.100683Z"
    }
   },
   "outputs": [
    {
     "name": "stdout",
     "output_type": "stream",
     "text": [
      "loading data\n",
      "running\n"
     ]
    },
    {
     "data": {
      "application/vnd.jupyter.widget-view+json": {
       "model_id": "3a15a608e46a45f9bdc62d53b7071729",
       "version_major": 2,
       "version_minor": 0
      },
      "text/plain": [
       "  0%|          | 0/4 [00:00<?, ?it/s]"
      ]
     },
     "metadata": {},
     "output_type": "display_data"
    },
    {
     "data": {
      "application/vnd.jupyter.widget-view+json": {
       "model_id": "cc3f3555952f409f817151377f82ca9f",
       "version_major": 2,
       "version_minor": 0
      },
      "text/plain": [
       "  0%|          | 0/5 [00:00<?, ?it/s]"
      ]
     },
     "metadata": {},
     "output_type": "display_data"
    }
   ],
   "source": [
    "import utils as ut\n",
    "import scipy as sc\n",
    "import numpy as np\n",
    "from tqdm.notebook import tqdm\n",
    "from joblib import Parallel, delayed\n",
    "\n",
    "\n",
    "#path = '/efs/users/hsteck/public/datasets/movielens20mio/pro_sg'\n",
    "path = '/efs/users/hsteck/public/datasets/msd_data/pro_sg'\n",
    "print('loading data')\n",
    "X = ut.load_train_data(path)\n",
    "#X = sc.sparse.random(10000,1000,0.01,format='csr')\n",
    "users,items = X.shape[0],X.shape[1]\n",
    "XtX = (X.T@X).toarray()\n",
    "nonzeros = X.nonzero()\n",
    "\n",
    "def wease_cg(pc,WX,XtX_lam,weight):\n",
    "    B = np.zeros((items,items))\n",
    "    XWX = (X.T.dot(weight*X)).toarray()\n",
    "    XtXB = np.array(X.T.dot(WX.multiply(X.dot(B)))) + XtX_lam.dot(B)\n",
    "    r = XWX - XtXB\n",
    "    z = pc.dot(r)\n",
    "    p = z.copy()\n",
    "    for _ in tqdm(range(5)):\n",
    "        XtXp = np.array(X.T.dot(WX.multiply(X.dot(p))) + XtX_lam.dot(p))\n",
    "        rtz = np.inner(r.flatten('F'),z.flatten('F'))  \n",
    "        alpha = rtz / max(1e-32,np.inner(p.flatten('F'),XtXp.flatten('F')))\n",
    "        B += alpha * p\n",
    "        r -= alpha * XtXp\n",
    "        rnorm = np.linalg.norm(r.flatten('F'))\n",
    "        if rnorm <= 1e-8:\n",
    "            return B\n",
    "        z = pc.dot(r)\n",
    "        beta = np.inner(r.flatten('F'),z.flatten('F')) / rtz\n",
    "        p = z + beta * p\n",
    "    return B\n",
    "\n",
    "def exp_cf(weight,pc,XtX_lam):\n",
    "    #print('weight = ', weight, ' lam = ', lam)\n",
    "    WX = (weight-1) * X\n",
    "    return wease_cg(pc, WX, XtX_lam, weight)\n",
    "\n",
    "lams = [100,10000]\n",
    "weights = [1,2,5,10]\n",
    "print('running')\n",
    "for lam in lams:\n",
    "    XtX_lam = XtX.copy()\n",
    "    XtX_lam[np.diag_indices(items)] += lam\n",
    "    pc = np.linalg.inv(XtX_lam)\n",
    "    Bs = Parallel(n_jobs=2)(delayed(exp_cf)(weight,pc,XtX_lam) for weight in tqdm(weights))\n",
    "    for i in range(len(weights)):\n",
    "        print('weight = ', weights[i], ' lam = ', lam)\n",
    "        ut.evaluate(Bs[i],path)\n"
   ]
  },
  {
   "cell_type": "code",
   "execution_count": null,
   "id": "f1e13d30-ba4a-445c-bd1c-907e903960d4",
   "metadata": {},
   "outputs": [],
   "source": []
  }
 ],
 "metadata": {
  "kernelspec": {
   "display_name": "Python 3.10 (recommended)",
   "language": "python",
   "name": "python310"
  },
  "language_info": {
   "codemirror_mode": {
    "name": "ipython",
    "version": 3
   },
   "file_extension": ".py",
   "mimetype": "text/x-python",
   "name": "python",
   "nbconvert_exporter": "python",
   "pygments_lexer": "ipython3",
   "version": "3.10.15"
  }
 },
 "nbformat": 4,
 "nbformat_minor": 5
}
