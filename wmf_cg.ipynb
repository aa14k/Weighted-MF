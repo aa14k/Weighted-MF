{
 "cells": [
  {
   "cell_type": "code",
   "execution_count": 1,
   "id": "df1abf2c-bba1-43f5-b34f-219cf726582d",
   "metadata": {
    "execution": {
     "iopub.execute_input": "2024-09-30T16:34:05.717849Z",
     "iopub.status.busy": "2024-09-30T16:34:05.717159Z",
     "iopub.status.idle": "2024-09-30T16:34:06.101600Z",
     "shell.execute_reply": "2024-09-30T16:34:06.100961Z",
     "shell.execute_reply.started": "2024-09-30T16:34:05.717828Z"
    }
   },
   "outputs": [],
   "source": [
    "import numpy as np\n",
    "import utils as ut\n",
    "from tqdm import tqdm\n",
    "import scipy as sc"
   ]
  },
  {
   "cell_type": "code",
   "execution_count": 2,
   "id": "ad92c9d9-feb8-4803-bbea-74ca9941e079",
   "metadata": {
    "execution": {
     "iopub.execute_input": "2024-09-30T16:34:15.008421Z",
     "iopub.status.busy": "2024-09-30T16:34:15.007824Z",
     "iopub.status.idle": "2024-09-30T16:34:23.812779Z",
     "shell.execute_reply": "2024-09-30T16:34:23.812122Z",
     "shell.execute_reply.started": "2024-09-30T16:34:15.008401Z"
    }
   },
   "outputs": [
    {
     "name": "stdout",
     "output_type": "stream",
     "text": [
      "(116677, 20108)\n"
     ]
    }
   ],
   "source": [
    "items=20108\n",
    "userCnt , X = ut.load_xtx_binary(items)\n",
    "XtX = (X.T @ X).toarray()\n",
    "users = 116677\n",
    "nonzeros = X.nonzero()"
   ]
  },
  {
   "cell_type": "code",
   "execution_count": null,
   "id": "e9a9f29d-0e3a-4bc5-b272-dca13642de4c",
   "metadata": {},
   "outputs": [],
   "source": []
  }
 ],
 "metadata": {
  "kernelspec": {
   "display_name": "Python 3.10 (recommended)",
   "language": "python",
   "name": "python310"
  },
  "language_info": {
   "codemirror_mode": {
    "name": "ipython",
    "version": 3
   },
   "file_extension": ".py",
   "mimetype": "text/x-python",
   "name": "python",
   "nbconvert_exporter": "python",
   "pygments_lexer": "ipython3",
   "version": "3.10.14"
  }
 },
 "nbformat": 4,
 "nbformat_minor": 5
}
