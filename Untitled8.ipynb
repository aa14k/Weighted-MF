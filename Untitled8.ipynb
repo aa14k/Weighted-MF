{
 "cells": [
  {
   "cell_type": "code",
   "execution_count": 1,
   "id": "6a522f05-787f-42f5-8ba2-81cea7e04e2b",
   "metadata": {
    "execution": {
     "iopub.execute_input": "2024-10-12T23:08:22.919728Z",
     "iopub.status.busy": "2024-10-12T23:08:22.919307Z",
     "iopub.status.idle": "2024-10-12T23:08:59.573100Z",
     "shell.execute_reply": "2024-10-12T23:08:59.572401Z",
     "shell.execute_reply.started": "2024-10-12T23:08:22.919705Z"
    }
   },
   "outputs": [
    {
     "name": "stdout",
     "output_type": "stream",
     "text": [
      "loading data\n"
     ]
    }
   ],
   "source": [
    "import utils as ut\n",
    "import scipy as sc\n",
    "import numpy as np\n",
    "from tqdm.notebook import tqdm\n",
    "from scipy import sparse\n",
    "from joblib import Parallel, delayed\n",
    "\n",
    "\n",
    "#path = '/efs/users/hsteck/public/datasets/movielens20mio/pro_sg'\n",
    "path = '/efs/users/hsteck/public/datasets/msd_data/pro_sg'\n",
    "print('loading data')\n",
    "X = ut.load_train_data(path)\n",
    "#X = sc.sparse.random(10000,1000,0.01,format='csr')\n",
    "users,items = X.shape[0],X.shape[1]\n",
    "XtX = (X.T@X).toarray()\n",
    "nonzeros = X.nonzero()\n",
    "ind = X.indptr\n"
   ]
  },
  {
   "cell_type": "code",
   "execution_count": 30,
   "id": "2badc1cb-be4e-46f6-94f0-4b7423f8b27a",
   "metadata": {
    "execution": {
     "iopub.execute_input": "2024-10-12T23:43:52.723284Z",
     "iopub.status.busy": "2024-10-12T23:43:52.722841Z",
     "iopub.status.idle": "2024-10-12T23:43:52.730246Z",
     "shell.execute_reply": "2024-10-12T23:43:52.729787Z",
     "shell.execute_reply.started": "2024-10-12T23:43:52.723265Z"
    }
   },
   "outputs": [],
   "source": [
    "from tqdm.notebook import tqdm\n",
    "# def hadamard_matmal(r,X,B,cols):\n",
    "#     idx = cols[ind[r]:ind[r+1]]\n",
    "#     a = (B[idx][:,idx]).sum(0)\n",
    "#     idx = cols[ind[r+1]:ind[r+2]]\n",
    "#     b = (B[idx][:,idx]).sum(0)\n",
    "#     idx = cols[ind[r+2]:ind[r+3]]\n",
    "#     c = (B[idx][:,idx]).sum(0)\n",
    "#     idx = cols[ind[r+3]:ind[r+4]]\n",
    "#     d = (B[idx][:,idx]).sum(0)\n",
    "#     return np.concatenate((a,b,c,d))\n",
    "\n",
    "def hadamard_matmal(r,X,B,cols):\n",
    "    idx = cols[ind[r]:ind[r+1]]\n",
    "    return (B[idx][:,idx]).sum(0)\n",
    "\n",
    "def wease_cg(pc, X, XtX_lam, weight, nonzeros=nonzeros, path=path, users=users, items=items):\n",
    "    B = np.zeros((items,items))\n",
    "    print('1')\n",
    "    XWX = (X.T.dot(weight*X)).toarray() # 30 seconds\n",
    "    print('2')\n",
    "    temp = Parallel(n_jobs=36)(delayed(hadamard_matmal)(user,X,B,nonzeros[1]) for user in tqdm(range(users))) # 2 minutes\n",
    "    print('3')\n",
    "    WXXB = (weight - 1) * sparse.csr_matrix((np.concatenate(temp), (nonzeros[0], nonzeros[1])))\n",
    "    print('4')\n",
    "    XtXB = np.array(X.T.dot(WXXB) + XtX_lam.dot(B)) # 1.5 minutes...\n",
    "    print('5')\n",
    "    r = XWX - XtXB\n",
    "    print('6')\n",
    "    z = pc.dot(r) # 1.5 minutes \n",
    "    print('7')\n",
    "    p = z.copy()\n",
    "    print('8')\n",
    "    for _ in tqdm(range(20)):\n",
    "        temp = Parallel(n_jobs=36)(delayed(hadamard_matmal)(user,X,p,nonzeros[1]) for user in range(users))\n",
    "        WXXp = (weight - 1) * sparse.csr_matrix((np.concatenate(temp), (nonzeros[0], nonzeros[1])))\n",
    "        XtXp = np.array(X.T.dot(WXXp) + XtX_lam.dot(p))\n",
    "        rtz = np.inner(r.flatten('F'),z.flatten('F'))  \n",
    "        alpha = rtz / max(1e-32,np.inner(p.flatten('F'),XtXp.flatten('F')))\n",
    "        B += alpha * p\n",
    "        if _ % 5 == 4:\n",
    "            ut.evaluate(B,path)\n",
    "        r -= alpha * XtXp\n",
    "        rnorm = np.linalg.norm(r.flatten('F'))\n",
    "        if rnorm <= 1e-8:\n",
    "            ut.evaluate(B,path)\n",
    "        z = pc.dot(r)\n",
    "        beta = np.inner(r.flatten('F'),z.flatten('F')) / rtz\n",
    "        p = z + beta * p\n",
    "    return B"
   ]
  },
  {
   "cell_type": "code",
   "execution_count": 24,
   "id": "bd9ae257-8636-49f8-a401-3f826d8a63a5",
   "metadata": {
    "execution": {
     "iopub.execute_input": "2024-10-12T23:35:28.945423Z",
     "iopub.status.busy": "2024-10-12T23:35:28.944950Z",
     "iopub.status.idle": "2024-10-12T23:37:42.858838Z",
     "shell.execute_reply": "2024-10-12T23:37:42.857822Z",
     "shell.execute_reply.started": "2024-10-12T23:35:28.945400Z"
    }
   },
   "outputs": [
    {
     "name": "stdout",
     "output_type": "stream",
     "text": [
      "running with (lam,weight):  1000  ,  2\n"
     ]
    }
   ],
   "source": [
    "lam = 1000\n",
    "weight = 2\n",
    "print('running with (lam,weight): ', lam,' , ', weight)\n",
    "XtX_lam = XtX.copy()\n",
    "XtX_lam[np.diag_indices(items)] += lam\n",
    "pc = np.linalg.inv(XtX_lam)\n"
   ]
  },
  {
   "cell_type": "code",
   "execution_count": 31,
   "id": "3bdc61d7-85ee-4fda-8a9e-8258903bcfa3",
   "metadata": {
    "execution": {
     "iopub.execute_input": "2024-10-12T23:43:54.548339Z",
     "iopub.status.busy": "2024-10-12T23:43:54.547946Z",
     "iopub.status.idle": "2024-10-12T23:54:37.488449Z",
     "shell.execute_reply": "2024-10-12T23:54:37.487795Z",
     "shell.execute_reply.started": "2024-10-12T23:43:54.548319Z"
    }
   },
   "outputs": [
    {
     "name": "stdout",
     "output_type": "stream",
     "text": [
      "1\n",
      "2\n"
     ]
    },
    {
     "data": {
      "application/vnd.jupyter.widget-view+json": {
       "model_id": "aa196d655d004002aae573dc90e7fedf",
       "version_major": 2,
       "version_minor": 0
      },
      "text/plain": [
       "  0%|          | 0/471355 [00:00<?, ?it/s]"
      ]
     },
     "metadata": {},
     "output_type": "display_data"
    },
    {
     "name": "stdout",
     "output_type": "stream",
     "text": [
      "3\n",
      "4\n",
      "5\n",
      "6\n",
      "7\n",
      "8\n"
     ]
    },
    {
     "data": {
      "application/vnd.jupyter.widget-view+json": {
       "model_id": "17eaaf47c9204fe2bb61cd231dcfb6cf",
       "version_major": 2,
       "version_minor": 0
      },
      "text/plain": [
       "  0%|          | 0/20 [00:00<?, ?it/s]"
      ]
     },
     "metadata": {},
     "output_type": "display_data"
    },
    {
     "ename": "KeyboardInterrupt",
     "evalue": "",
     "output_type": "error",
     "traceback": [
      "\u001b[0;31m---------------------------------------------------------------------------\u001b[0m",
      "\u001b[0;31mKeyboardInterrupt\u001b[0m                         Traceback (most recent call last)",
      "Cell \u001b[0;32mIn[31], line 1\u001b[0m\n\u001b[0;32m----> 1\u001b[0m \u001b[43mwease_cg\u001b[49m\u001b[43m(\u001b[49m\u001b[43mpc\u001b[49m\u001b[43m,\u001b[49m\u001b[43m \u001b[49m\u001b[43mX\u001b[49m\u001b[43m,\u001b[49m\u001b[43m \u001b[49m\u001b[43mXtX_lam\u001b[49m\u001b[43m,\u001b[49m\u001b[43m \u001b[49m\u001b[43mweight\u001b[49m\u001b[43m,\u001b[49m\u001b[43m \u001b[49m\u001b[43mnonzeros\u001b[49m\u001b[43m)\u001b[49m\n",
      "Cell \u001b[0;32mIn[30], line 35\u001b[0m, in \u001b[0;36mwease_cg\u001b[0;34m(pc, X, XtX_lam, weight, nonzeros, path, users, items)\u001b[0m\n\u001b[1;32m     33\u001b[0m \u001b[38;5;28mprint\u001b[39m(\u001b[38;5;124m'\u001b[39m\u001b[38;5;124m8\u001b[39m\u001b[38;5;124m'\u001b[39m)\n\u001b[1;32m     34\u001b[0m \u001b[38;5;28;01mfor\u001b[39;00m _ \u001b[38;5;129;01min\u001b[39;00m tqdm(\u001b[38;5;28mrange\u001b[39m(\u001b[38;5;241m20\u001b[39m)):\n\u001b[0;32m---> 35\u001b[0m     temp \u001b[38;5;241m=\u001b[39m \u001b[43mParallel\u001b[49m\u001b[43m(\u001b[49m\u001b[43mn_jobs\u001b[49m\u001b[38;5;241;43m=\u001b[39;49m\u001b[38;5;241;43m36\u001b[39;49m\u001b[43m)\u001b[49m\u001b[43m(\u001b[49m\u001b[43mdelayed\u001b[49m\u001b[43m(\u001b[49m\u001b[43mhadamard_matmal\u001b[49m\u001b[43m)\u001b[49m\u001b[43m(\u001b[49m\u001b[43muser\u001b[49m\u001b[43m,\u001b[49m\u001b[43mX\u001b[49m\u001b[43m,\u001b[49m\u001b[43mp\u001b[49m\u001b[43m,\u001b[49m\u001b[43mnonzeros\u001b[49m\u001b[43m[\u001b[49m\u001b[38;5;241;43m1\u001b[39;49m\u001b[43m]\u001b[49m\u001b[43m)\u001b[49m\u001b[43m \u001b[49m\u001b[38;5;28;43;01mfor\u001b[39;49;00m\u001b[43m \u001b[49m\u001b[43muser\u001b[49m\u001b[43m \u001b[49m\u001b[38;5;129;43;01min\u001b[39;49;00m\u001b[43m \u001b[49m\u001b[38;5;28;43mrange\u001b[39;49m\u001b[43m(\u001b[49m\u001b[43musers\u001b[49m\u001b[43m)\u001b[49m\u001b[43m)\u001b[49m\n\u001b[1;32m     36\u001b[0m     WXXp \u001b[38;5;241m=\u001b[39m (weight \u001b[38;5;241m-\u001b[39m \u001b[38;5;241m1\u001b[39m) \u001b[38;5;241m*\u001b[39m sparse\u001b[38;5;241m.\u001b[39mcsr_matrix((np\u001b[38;5;241m.\u001b[39mconcatenate(temp), (nonzeros[\u001b[38;5;241m0\u001b[39m], nonzeros[\u001b[38;5;241m1\u001b[39m])))\n\u001b[1;32m     37\u001b[0m     XtXp \u001b[38;5;241m=\u001b[39m np\u001b[38;5;241m.\u001b[39marray(X\u001b[38;5;241m.\u001b[39mT\u001b[38;5;241m.\u001b[39mdot(WXXp) \u001b[38;5;241m+\u001b[39m XtX_lam\u001b[38;5;241m.\u001b[39mdot(p))\n",
      "File \u001b[0;32m/apps/bdi-venv-310/lib/python3.10/site-packages/joblib/parallel.py:2007\u001b[0m, in \u001b[0;36mParallel.__call__\u001b[0;34m(self, iterable)\u001b[0m\n\u001b[1;32m   2001\u001b[0m \u001b[38;5;66;03m# The first item from the output is blank, but it makes the interpreter\u001b[39;00m\n\u001b[1;32m   2002\u001b[0m \u001b[38;5;66;03m# progress until it enters the Try/Except block of the generator and\u001b[39;00m\n\u001b[1;32m   2003\u001b[0m \u001b[38;5;66;03m# reaches the first `yield` statement. This starts the asynchronous\u001b[39;00m\n\u001b[1;32m   2004\u001b[0m \u001b[38;5;66;03m# dispatch of the tasks to the workers.\u001b[39;00m\n\u001b[1;32m   2005\u001b[0m \u001b[38;5;28mnext\u001b[39m(output)\n\u001b[0;32m-> 2007\u001b[0m \u001b[38;5;28;01mreturn\u001b[39;00m output \u001b[38;5;28;01mif\u001b[39;00m \u001b[38;5;28mself\u001b[39m\u001b[38;5;241m.\u001b[39mreturn_generator \u001b[38;5;28;01melse\u001b[39;00m \u001b[38;5;28;43mlist\u001b[39;49m\u001b[43m(\u001b[49m\u001b[43moutput\u001b[49m\u001b[43m)\u001b[49m\n",
      "File \u001b[0;32m/apps/bdi-venv-310/lib/python3.10/site-packages/joblib/parallel.py:1650\u001b[0m, in \u001b[0;36mParallel._get_outputs\u001b[0;34m(self, iterator, pre_dispatch)\u001b[0m\n\u001b[1;32m   1647\u001b[0m     \u001b[38;5;28;01myield\u001b[39;00m\n\u001b[1;32m   1649\u001b[0m     \u001b[38;5;28;01mwith\u001b[39;00m \u001b[38;5;28mself\u001b[39m\u001b[38;5;241m.\u001b[39m_backend\u001b[38;5;241m.\u001b[39mretrieval_context():\n\u001b[0;32m-> 1650\u001b[0m         \u001b[38;5;28;01myield from\u001b[39;00m \u001b[38;5;28mself\u001b[39m\u001b[38;5;241m.\u001b[39m_retrieve()\n\u001b[1;32m   1652\u001b[0m \u001b[38;5;28;01mexcept\u001b[39;00m \u001b[38;5;167;01mGeneratorExit\u001b[39;00m:\n\u001b[1;32m   1653\u001b[0m     \u001b[38;5;66;03m# The generator has been garbage collected before being fully\u001b[39;00m\n\u001b[1;32m   1654\u001b[0m     \u001b[38;5;66;03m# consumed. This aborts the remaining tasks if possible and warn\u001b[39;00m\n\u001b[1;32m   1655\u001b[0m     \u001b[38;5;66;03m# the user if necessary.\u001b[39;00m\n\u001b[1;32m   1656\u001b[0m     \u001b[38;5;28mself\u001b[39m\u001b[38;5;241m.\u001b[39m_exception \u001b[38;5;241m=\u001b[39m \u001b[38;5;28;01mTrue\u001b[39;00m\n",
      "File \u001b[0;32m/apps/bdi-venv-310/lib/python3.10/site-packages/joblib/parallel.py:1762\u001b[0m, in \u001b[0;36mParallel._retrieve\u001b[0;34m(self)\u001b[0m\n\u001b[1;32m   1757\u001b[0m \u001b[38;5;66;03m# If the next job is not ready for retrieval yet, we just wait for\u001b[39;00m\n\u001b[1;32m   1758\u001b[0m \u001b[38;5;66;03m# async callbacks to progress.\u001b[39;00m\n\u001b[1;32m   1759\u001b[0m \u001b[38;5;28;01mif\u001b[39;00m ((\u001b[38;5;28mlen\u001b[39m(\u001b[38;5;28mself\u001b[39m\u001b[38;5;241m.\u001b[39m_jobs) \u001b[38;5;241m==\u001b[39m \u001b[38;5;241m0\u001b[39m) \u001b[38;5;129;01mor\u001b[39;00m\n\u001b[1;32m   1760\u001b[0m     (\u001b[38;5;28mself\u001b[39m\u001b[38;5;241m.\u001b[39m_jobs[\u001b[38;5;241m0\u001b[39m]\u001b[38;5;241m.\u001b[39mget_status(\n\u001b[1;32m   1761\u001b[0m         timeout\u001b[38;5;241m=\u001b[39m\u001b[38;5;28mself\u001b[39m\u001b[38;5;241m.\u001b[39mtimeout) \u001b[38;5;241m==\u001b[39m TASK_PENDING)):\n\u001b[0;32m-> 1762\u001b[0m     \u001b[43mtime\u001b[49m\u001b[38;5;241;43m.\u001b[39;49m\u001b[43msleep\u001b[49m\u001b[43m(\u001b[49m\u001b[38;5;241;43m0.01\u001b[39;49m\u001b[43m)\u001b[49m\n\u001b[1;32m   1763\u001b[0m     \u001b[38;5;28;01mcontinue\u001b[39;00m\n\u001b[1;32m   1765\u001b[0m \u001b[38;5;66;03m# We need to be careful: the job list can be filling up as\u001b[39;00m\n\u001b[1;32m   1766\u001b[0m \u001b[38;5;66;03m# we empty it and Python list are not thread-safe by\u001b[39;00m\n\u001b[1;32m   1767\u001b[0m \u001b[38;5;66;03m# default hence the use of the lock\u001b[39;00m\n",
      "\u001b[0;31mKeyboardInterrupt\u001b[0m: "
     ]
    }
   ],
   "source": [
    "wease_cg(pc, X, XtX_lam, weight, nonzeros)"
   ]
  },
  {
   "cell_type": "code",
   "execution_count": null,
   "id": "a6f53916-c610-476b-b73c-454b4e6e2b04",
   "metadata": {},
   "outputs": [],
   "source": []
  }
 ],
 "metadata": {
  "kernelspec": {
   "display_name": "Python 3.10 (recommended)",
   "language": "python",
   "name": "python310"
  },
  "language_info": {
   "codemirror_mode": {
    "name": "ipython",
    "version": 3
   },
   "file_extension": ".py",
   "mimetype": "text/x-python",
   "name": "python",
   "nbconvert_exporter": "python",
   "pygments_lexer": "ipython3",
   "version": "3.10.15"
  }
 },
 "nbformat": 4,
 "nbformat_minor": 5
}
