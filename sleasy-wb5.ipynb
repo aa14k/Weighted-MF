{
 "cells": [
  {
   "cell_type": "code",
   "execution_count": 55,
   "id": "c2f203d9-5ef9-49b9-af1e-b0e48e1be90c",
   "metadata": {
    "execution": {
     "iopub.execute_input": "2024-06-24T17:29:54.766508Z",
     "iopub.status.busy": "2024-06-24T17:29:54.766101Z",
     "iopub.status.idle": "2024-06-24T17:29:54.769768Z",
     "shell.execute_reply": "2024-06-24T17:29:54.769321Z",
     "shell.execute_reply.started": "2024-06-24T17:29:54.766489Z"
    }
   },
   "outputs": [],
   "source": [
    "import numpy as np\n",
    "import scipy as sc\n",
    "from tqdm.notebook import tqdm\n",
    "from scipy import linalg\n",
    "from scipy.optimize import minimize\n",
    "from scipy.sparse import csr_matrix\n",
    "from scipy.special import expit as sigmoid\n",
    "from scipy.special import log_expit, softmax, log_softmax\n",
    "from joblib import Parallel, delayed"
   ]
  },
  {
   "cell_type": "code",
   "execution_count": 56,
   "id": "85647e14-8ecf-4d88-afbc-8c9f6f3a48e5",
   "metadata": {
    "execution": {
     "iopub.execute_input": "2024-06-24T17:29:54.947500Z",
     "iopub.status.busy": "2024-06-24T17:29:54.947155Z",
     "iopub.status.idle": "2024-06-24T17:29:55.694737Z",
     "shell.execute_reply": "2024-06-24T17:29:55.694208Z",
     "shell.execute_reply.started": "2024-06-24T17:29:54.947482Z"
    }
   },
   "outputs": [
    {
     "data": {
      "text/plain": [
       "array([-1.60943791, -1.60943791, -1.60943791, -1.60943791, -1.60943791])"
      ]
     },
     "execution_count": 56,
     "metadata": {},
     "output_type": "execute_result"
    }
   ],
   "source": [
    "log_softmax(np.ones(5))"
   ]
  },
  {
   "cell_type": "code",
   "execution_count": 57,
   "id": "769a840a-939f-4ecb-a3ba-b5cb3ea71ad5",
   "metadata": {
    "execution": {
     "iopub.execute_input": "2024-06-24T17:29:55.695923Z",
     "iopub.status.busy": "2024-06-24T17:29:55.695642Z",
     "iopub.status.idle": "2024-06-24T17:29:55.794659Z",
     "shell.execute_reply": "2024-06-24T17:29:55.794087Z",
     "shell.execute_reply.started": "2024-06-24T17:29:55.695907Z"
    }
   },
   "outputs": [],
   "source": [
    "import os\n",
    "import shutil\n",
    "import sys\n",
    "\n",
    "import numpy as np\n",
    "from scipy import sparse\n",
    "\n",
    "#import matplotlib.pyplot as plt\n",
    "#%matplotlib inline\n",
    "#\n",
    "#import seaborn as sn\n",
    "#sn.set()\n",
    "\n",
    "import pandas as pd\n",
    "\n",
    "import bottleneck as bn\n",
    "\n",
    "import datetime\n",
    "from copy import deepcopy"
   ]
  },
  {
   "cell_type": "code",
   "execution_count": 58,
   "id": "e20aaa7f-86af-4dba-9668-2de92e9700d1",
   "metadata": {
    "execution": {
     "iopub.execute_input": "2024-06-24T17:29:55.795541Z",
     "iopub.status.busy": "2024-06-24T17:29:55.795406Z",
     "iopub.status.idle": "2024-06-24T17:29:55.927635Z",
     "shell.execute_reply": "2024-06-24T17:29:55.927085Z",
     "shell.execute_reply.started": "2024-06-24T17:29:55.795527Z"
    }
   },
   "outputs": [],
   "source": [
    "\n",
    "import pickle\n",
    "\n",
    "def save_pkl(obj, filename ):\n",
    "    with open(filename, 'wb') as f:\n",
    "        pickle.dump(obj, f, pickle.HIGHEST_PROTOCOL )\n",
    "    \n",
    "def load_pkl(filename ):\n",
    "    with open(filename, 'rb') as f:\n",
    "        return pickle.load(f)\n",
    " "
   ]
  },
  {
   "cell_type": "code",
   "execution_count": 59,
   "id": "81ebb53b-13d3-4254-8c64-54caf389a77f",
   "metadata": {
    "execution": {
     "iopub.execute_input": "2024-06-24T17:29:55.928906Z",
     "iopub.status.busy": "2024-06-24T17:29:55.928660Z",
     "iopub.status.idle": "2024-06-24T17:29:56.028450Z",
     "shell.execute_reply": "2024-06-24T17:29:56.027862Z",
     "shell.execute_reply.started": "2024-06-24T17:29:55.928890Z"
    }
   },
   "outputs": [],
   "source": [
    "DATA_DIR = '/efs/users/hsteck/public/data_for_ease/movielens20mio/'"
   ]
  },
  {
   "cell_type": "code",
   "execution_count": 60,
   "id": "c0bf2350-3726-4f15-b0c2-8846c808820c",
   "metadata": {
    "execution": {
     "iopub.execute_input": "2024-06-24T17:29:56.029372Z",
     "iopub.status.busy": "2024-06-24T17:29:56.029143Z",
     "iopub.status.idle": "2024-06-24T17:29:56.273335Z",
     "shell.execute_reply": "2024-06-24T17:29:56.272756Z",
     "shell.execute_reply.started": "2024-06-24T17:29:56.029355Z"
    }
   },
   "outputs": [],
   "source": [
    "pro_dir = os.path.join(DATA_DIR, 'pro_sg')\n"
   ]
  },
  {
   "cell_type": "code",
   "execution_count": 61,
   "id": "d5e42eaa-18c4-4a1f-9775-f9997bf0b901",
   "metadata": {
    "execution": {
     "iopub.execute_input": "2024-06-24T17:29:56.274579Z",
     "iopub.status.busy": "2024-06-24T17:29:56.274354Z",
     "iopub.status.idle": "2024-06-24T17:29:56.410892Z",
     "shell.execute_reply": "2024-06-24T17:29:56.410300Z",
     "shell.execute_reply.started": "2024-06-24T17:29:56.274564Z"
    }
   },
   "outputs": [],
   "source": [
    "unique_sid = list()\n",
    "with open(os.path.join(pro_dir, 'unique_sid.txt'), 'r') as f:\n",
    "    for line in f:\n",
    "        unique_sid.append(line.strip())\n",
    "\n",
    "n_items = len(unique_sid)\n",
    "\n",
    "def load_train_data(csv_file):\n",
    "    tp = pd.read_csv(csv_file)\n",
    "    n_users = tp['uid'].max() + 1\n",
    "\n",
    "    rows, cols = tp['uid'], tp['sid']\n",
    "    data = sparse.csr_matrix((np.ones_like(rows),\n",
    "                             (rows, cols)), dtype='float64',\n",
    "                             shape=(n_users, n_items))\n",
    "    return data"
   ]
  },
  {
   "cell_type": "code",
   "execution_count": 62,
   "id": "36724a42-ce95-4068-9d34-165631718cf6",
   "metadata": {
    "execution": {
     "iopub.execute_input": "2024-06-24T17:29:56.503590Z",
     "iopub.status.busy": "2024-06-24T17:29:56.503209Z",
     "iopub.status.idle": "2024-06-24T17:29:56.531871Z",
     "shell.execute_reply": "2024-06-24T17:29:56.531342Z",
     "shell.execute_reply.started": "2024-06-24T17:29:56.503571Z"
    }
   },
   "outputs": [],
   "source": [
    "def load_xtx_binary(I):\n",
    "    train_data = load_train_data(os.path.join(pro_dir, 'train.csv'))\n",
    "    X_reg=train_data[:,:I]\n",
    "    X = X_reg.toarray()\n",
    "    Xp = csr_matrix(np.where(X==-1,0,1))\n",
    "    Xn = csr_matrix(np.where(X==1,0,-1))\n",
    "    #X = -1.0*csr_matrix.sign(X)\n",
    "    #X = 2 * X - 1\n",
    "    ####normalize users\n",
    "    #nn=np.array(np.sum(X,axis=1)) [:,0]\n",
    "    #nn=1.0/np.sqrt(nn)  # user weight normalized on diagonal, approx prop to nn  (off diag)\n",
    "    #X=  sparse.spdiags(nn, 0, len(nn), len(nn)) * X\n",
    "    ### remove mean  --> cov\n",
    "    print (X_reg.shape)\n",
    "    #XtX=np.array(X.T.dot(X).todense()) \n",
    "\n",
    "    return [X_reg.shape[0] , X_reg, Xp, Xn]\n",
    "\n",
    "\n",
    "def load_xtx_sign(I):\n",
    "    train_data = load_train_data(os.path.join(pro_dir, 'train.csv'))\n",
    "    \n",
    "    X=train_data[:,:I]\n",
    "    X = X.toarray()\n",
    "    #X = -1.0*csr_matrix.sign(X)\n",
    "    X = 2 * X - 1\n",
    "    ####normalize users\n",
    "    #nn=np.array(np.sum(X,axis=1)) [:,0]\n",
    "    #nn=1.0/np.sqrt(nn)  # user weight normalized on diagonal, approx prop to nn  (off diag)\n",
    "    #X=  sparse.spdiags(nn, 0, len(nn), len(nn)) * X\n",
    "    ### remove mean  --> cov\n",
    "    print (X.shape)\n",
    "    #XtX=np.array(X.T.dot(X).todense()) \n",
    "\n",
    "    return [X.shape[0] ,X,None]"
   ]
  },
  {
   "cell_type": "code",
   "execution_count": 63,
   "id": "684c91ae-2f62-4776-9ec0-07150a5f32af",
   "metadata": {
    "execution": {
     "iopub.execute_input": "2024-06-24T17:29:56.885189Z",
     "iopub.status.busy": "2024-06-24T17:29:56.884779Z",
     "iopub.status.idle": "2024-06-24T17:29:58.910496Z",
     "shell.execute_reply": "2024-06-24T17:29:58.909863Z",
     "shell.execute_reply.started": "2024-06-24T17:29:56.885170Z"
    }
   },
   "outputs": [
    {
     "name": "stdout",
     "output_type": "stream",
     "text": [
      "(116677, 200)\n"
     ]
    }
   ],
   "source": [
    "#I = 20108\n",
    "I = 200\n",
    "U = 116677\n",
    "userCnt , X, Xp, Xn = load_xtx_binary(I)\n",
    "X_ = X.toarray()\n",
    "scale = 1\n",
    "Xt = (2*X_-1)*scale"
   ]
  },
  {
   "cell_type": "code",
   "execution_count": 64,
   "id": "060b5207-d68c-4f95-bd0a-15c0585aebd1",
   "metadata": {
    "execution": {
     "iopub.execute_input": "2024-06-24T17:30:22.023488Z",
     "iopub.status.busy": "2024-06-24T17:30:22.023091Z",
     "iopub.status.idle": "2024-06-24T17:30:22.027007Z",
     "shell.execute_reply": "2024-06-24T17:30:22.026585Z",
     "shell.execute_reply.started": "2024-06-24T17:30:22.023470Z"
    }
   },
   "outputs": [
    {
     "data": {
      "text/plain": [
       "(116677, 200)"
      ]
     },
     "execution_count": 64,
     "metadata": {},
     "output_type": "execute_result"
    }
   ],
   "source": [
    "Xt.shape"
   ]
  },
  {
   "cell_type": "code",
   "execution_count": 65,
   "id": "6dcff08c-5325-4a29-a70f-b7ca8ae01c6f",
   "metadata": {
    "execution": {
     "iopub.execute_input": "2024-06-24T17:30:22.231381Z",
     "iopub.status.busy": "2024-06-24T17:30:22.231010Z",
     "iopub.status.idle": "2024-06-24T17:30:22.234626Z",
     "shell.execute_reply": "2024-06-24T17:30:22.234190Z",
     "shell.execute_reply.started": "2024-06-24T17:30:22.231364Z"
    }
   },
   "outputs": [],
   "source": [
    "def ease(X, lam):\n",
    "    print('multiplying matrix')\n",
    "    G = X.T @ X\n",
    "    diagIndices = np.diag_indices(G.shape[0])\n",
    "    G = G + lam * np.eye(G.shape[0])\n",
    "    print('inverting')\n",
    "    P = linalg.inv(G)\n",
    "    print('inverting complete')\n",
    "    B = P / (-np.diag(P))\n",
    "    B[diagIndices] = 0.0\n",
    "    return B"
   ]
  },
  {
   "cell_type": "code",
   "execution_count": 66,
   "id": "5880b844-8cc6-4bec-b806-98256f64e663",
   "metadata": {
    "execution": {
     "iopub.execute_input": "2024-06-24T17:30:22.697481Z",
     "iopub.status.busy": "2024-06-24T17:30:22.697114Z",
     "iopub.status.idle": "2024-06-24T17:30:22.701042Z",
     "shell.execute_reply": "2024-06-24T17:30:22.700581Z",
     "shell.execute_reply.started": "2024-06-24T17:30:22.697462Z"
    }
   },
   "outputs": [],
   "source": [
    "\n",
    "\n",
    "def sllog(w,item,idx0,idx1,lam=200.0):\n",
    "    return lam * np.inner(w,w) - np.sum(log_expit(X[idx1[0],:]@w)) - np.sum(log_expit(-X[idx0[0],:]@w))\n",
    "\n",
    "\n",
    "def dsllog(w,item,idx0,idx1,lam=200.0):\n",
    "    xw = (X@w).reshape(U,1)\n",
    "    return (sigmoid(xw)-X[:,item]).T@X + 2 * lam * w\n"
   ]
  },
  {
   "cell_type": "code",
   "execution_count": 68,
   "id": "d02497f1-76c7-4175-bdb2-461ab18033f5",
   "metadata": {
    "execution": {
     "iopub.execute_input": "2024-06-24T17:30:35.387065Z",
     "iopub.status.busy": "2024-06-24T17:30:35.386658Z",
     "iopub.status.idle": "2024-06-24T17:30:35.392923Z",
     "shell.execute_reply": "2024-06-24T17:30:35.392461Z",
     "shell.execute_reply.started": "2024-06-24T17:30:35.387046Z"
    }
   },
   "outputs": [],
   "source": [
    "def lsq(B, lam = 1.0):\n",
    "    B = B.reshape(I,I)\n",
    "    S = X @ B\n",
    "    loss = sc.linalg.norm(X - S, ord='fro') ** 2 + lam * (sc.linalg.norm(B, ord='fro') ** 2)\n",
    "    return loss\n",
    "\n",
    "def dlsq(B, lam = 1.0):\n",
    "    B = B.reshape(I,I)\n",
    "    S = X @ B\n",
    "    return (2 * lam * B - 2 * X.T @ (X - S)).flatten()\n",
    "\n",
    "\n",
    "# def llog1(w,item,lam=200.0):\n",
    "#     xw = (X@w)\n",
    "#     return np.sum(np.logaddexp(-xw/2,xw/2) - X[:,item]/2*(xw)) + lam * np.inner(w,w)\n",
    "\n",
    "\n",
    "# def dllog1(w,item,lam=200.0):\n",
    "#     xw = (X@w)\n",
    "#     scalar = 1/2 * (sigmoid(xw/2) - sigmoid(-xw/2) - X[:,item])\n",
    "#     return scalar.T@X + 2 * lam * w\n",
    "\n",
    "\n",
    "\n",
    "# def llog(w,item,lam=200.0):\n",
    "#     xw = (X@w)\n",
    "#     return -1.0 * np.sum(log_expit(X[:,item]*xw)) + lam * np.inner(w,w) / 2\n",
    "\n",
    "\n",
    "# def dllog(w,item,lam=200.0):\n",
    "#     y = X[:,item]\n",
    "#     xw = X@w\n",
    "#     scalar = -1.0 * y * sigmoid(-y*xw)\n",
    "#     return scalar.T@X + lam*w\n",
    "\n",
    "\n",
    "# def llog(w,item,idx0,idx1,lam):\n",
    "#     xw0 = Xp[idx0,:]@w + Xn[idx0,:]@w\n",
    "#     xw1 = Xp[idx1,:]@w + Xn[idx1,:]@w\n",
    "#     loss = -1.0 * np.sum((log_expit(xw1))) - np.sum(log_expit(-xw0))\n",
    "#     return loss + lam * np.inner(w,w) / 2\n",
    "\n",
    "# def dllog(w,item,idx0,idx1,lam):\n",
    "#     scalar = sigmoid(Xp@w + Xn@w).reshape(U,1) - X[:,item]\n",
    "#     return scalar.T@Xp + scalar.T@Xn + lam*w\n",
    "\n",
    "\n",
    "# def llog(w,item,lam):\n",
    "#     xw = Xt@w\n",
    "#     loss = 0.0\n",
    "#     for u in range(U):\n",
    "#         xw = np.inner(Xt[u,:],w)\n",
    "#         for i in range(I):\n",
    "#             loss += np.logaddexp(0,(1-2*X_[u,i])*xw)\n",
    "#     return loss + lam/2 * np.inner(w,w)\n",
    "\n",
    "\n",
    "def lcat(w,item,lam):\n",
    "    xw = X_@w\n",
    "    loss = -1.0*np.inner(X_[:,item],log_softmax(xw))\n",
    "    return loss + lam * np.inner(w,w) / 2\n",
    "    \n",
    "\n",
    "def dlcat(w,item,lam):\n",
    "    xw = Xt@w\n",
    "    return (softmax(xw) - X_[:,item]).T@X_ + lam * w\n",
    "\n",
    "def projected_newton(item,lam,alpha = 1/10):\n",
    "    w = np.zeros(I)\n",
    "    done = False\n",
    "    while not done:\n",
    "        grad = dllog(w,item,lam)\n",
    "        hess = hllog(w,item,lam)\n",
    "        update = sc.sparse.linalg.spsolve(hess,grad)\n",
    "        beta = np.linalg.norm(update)\n",
    "        w_new = w - 1 / beta * np.log(1 + beta) * update\n",
    "        #w_new = w_new / (-w_new[item])\n",
    "        w_new[item] = 0.0\n",
    "        #w_new=np.clip(w_new,-5,5)\n",
    "        #print(np.linalg.norm(w_new-w))\n",
    "        if np.linalg.norm(w_new-w) < 1e-6:\n",
    "            done = True\n",
    "            return w_new\n",
    "        w = w_new\n",
    "    return w_new"
   ]
  },
  {
   "cell_type": "code",
   "execution_count": 69,
   "id": "bb37efb6-2e5b-4352-8bc4-ad2b4ac15816",
   "metadata": {
    "execution": {
     "iopub.execute_input": "2024-06-24T17:30:35.804690Z",
     "iopub.status.busy": "2024-06-24T17:30:35.804082Z",
     "iopub.status.idle": "2024-06-24T17:30:35.808304Z",
     "shell.execute_reply": "2024-06-24T17:30:35.807851Z",
     "shell.execute_reply.started": "2024-06-24T17:30:35.804671Z"
    }
   },
   "outputs": [],
   "source": [
    "lam = 0.0\n",
    "def exp(item):\n",
    "    b = 0.0\n",
    "    bounds = np.zeros((I,2))\n",
    "    bounds[:,0] = -100\n",
    "    bounds[:,1] = 100\n",
    "    bounds[item,:] = np.array([b,b])\n",
    "    # bounds = sc.optimize.Bounds(lb=bounds[:,0],ub=bounds[:,1])\n",
    "    x0 = np.random.uniform(low=-0.0,high=0.0,size=I)\n",
    "    x0[item] = b\n",
    "    # clf = LogisticRegression(solver='L-BFGS-B', penalty = 'l2', C=lam)\n",
    "    # clf.fit(Xt,X_[:,item],bounds=bounds)\n",
    "    \n",
    "    sol = minimize(\n",
    "       fun = lcat, x0=x0, args = (item,lam),method='l-bfgs-b',jac=dlcat, bounds=bounds,\n",
    "       options={'gtol':1e-12,'ftol':1e-12}\n",
    "    )\n",
    "    print(sol, np.linalg.norm(sol.jac))\n",
    "    return sol.x\n",
    "\n",
    "\n",
    "\n"
   ]
  },
  {
   "cell_type": "code",
   "execution_count": 70,
   "id": "0d62c930-5415-4f8f-8b47-b579d2102bfc",
   "metadata": {
    "execution": {
     "iopub.execute_input": "2024-06-24T17:30:36.935388Z",
     "iopub.status.busy": "2024-06-24T17:30:36.935025Z",
     "iopub.status.idle": "2024-06-24T17:30:55.878895Z",
     "shell.execute_reply": "2024-06-24T17:30:55.878211Z",
     "shell.execute_reply.started": "2024-06-24T17:30:36.935369Z"
    }
   },
   "outputs": [
    {
     "data": {
      "application/vnd.jupyter.widget-view+json": {
       "model_id": "909aa3cf45d74fa59e086dac9733600c",
       "version_major": 2,
       "version_minor": 0
      },
      "text/plain": [
       "  0%|          | 0/200 [00:00<?, ?it/s]"
      ]
     },
     "metadata": {},
     "output_type": "display_data"
    },
    {
     "name": "stdout",
     "output_type": "stream",
     "text": [
      "  message: ABNORMAL_TERMINATION_IN_LNSRCH\n",
      "  success: False\n",
      "   status: 2\n",
      "      fun: 62257.83604243571\n",
      "        x: [ 0.000e+00  3.020e-02 ...  2.619e-02  2.650e-02]\n",
      "      nit: 3\n",
      "      jac: [-5.409e+03 -1.068e+03 ... -3.168e+02 -2.408e+02]\n",
      "     nfev: 77\n",
      "     njev: 77\n",
      " hess_inv: <200x200 LbfgsInvHessProduct with dtype=float64> 14929.619511249335\n",
      "  message: ABNORMAL_TERMINATION_IN_LNSRCH\n",
      "  success: False\n",
      "   status: 2\n",
      "      fun: 150929.08779640906\n",
      "        x: [ 3.256e-02  0.000e+00 ...  3.256e-02  3.256e-02]\n",
      "      nit: 1\n",
      "      jac: [-1.068e+03 -1.325e+04 ... -7.116e+02 -9.117e+02]\n",
      "     nfev: 56\n",
      "     njev: 56\n",
      " hess_inv: <200x200 LbfgsInvHessProduct with dtype=float64> 40942.171843861135\n",
      "  message: ABNORMAL_TERMINATION_IN_LNSRCH\n",
      "  success: False\n",
      "   status: 2\n",
      "      fun: 125612.2109256484\n",
      "        x: [ 3.105e-02  3.111e-02 ...  2.432e-02  2.482e-02]\n",
      "      nit: 8\n",
      "      jac: [-1.472e+03 -2.551e+03 ... -4.567e+02 -3.818e+02]\n",
      "     nfev: 134\n",
      "     njev: 134\n",
      " hess_inv: <200x200 LbfgsInvHessProduct with dtype=float64> 30397.667558487374\n",
      "  message: ABNORMAL_TERMINATION_IN_LNSRCH\n",
      "  success: False\n",
      "   status: 2\n",
      "      fun: 417072.4738258765\n",
      "        x: [ 3.048e-02  3.048e-02 ...  3.048e-02  3.048e-02]\n",
      "      nit: 1\n",
      "      jac: [-2.134e+03 -6.648e+03 ... -2.087e+03 -1.615e+03]\n",
      "     nfev: 54\n",
      "     njev: 54\n",
      " hess_inv: <200x200 LbfgsInvHessProduct with dtype=float64> 103467.0780234025\n",
      "  message: ABNORMAL_TERMINATION_IN_LNSRCH\n",
      "  success: False\n",
      "   status: 2\n",
      "      fun: 185445.07613885278\n",
      "        x: [ 3.323e-02  3.323e-02 ...  3.323e-02  3.323e-02]\n",
      "      nit: 1\n",
      "      jac: [-1.680e+03 -4.459e+03 ... -8.056e+02 -7.447e+02]\n",
      "     nfev: 56\n",
      "     njev: 56\n",
      " hess_inv: <200x200 LbfgsInvHessProduct with dtype=float64> 52256.777048822114\n",
      "  message: ABNORMAL_TERMINATION_IN_LNSRCH\n",
      "  success: False\n",
      "   status: 2\n",
      "      fun: 516739.57537434937\n",
      "        x: [ 2.060e-02  2.060e-02 ...  2.060e-02  2.060e-02]\n",
      "      nit: 2\n",
      "      jac: [-3.164e+03 -9.577e+03 ... -1.614e+03 -1.523e+03]\n",
      "     nfev: 65\n",
      "     njev: 65\n",
      " hess_inv: <200x200 LbfgsInvHessProduct with dtype=float64> 112508.27311904149\n",
      "  message: ABNORMAL_TERMINATION_IN_LNSRCH\n",
      "  success: False\n",
      "   status: 2\n",
      "      fun: 551592.0844939686\n",
      "        x: [ 1.740e-02  1.740e-02 ...  1.740e-02  1.740e-02]\n",
      "      nit: 2\n",
      "      jac: [-3.626e+03 -8.168e+03 ... -1.486e+03 -1.544e+03]\n",
      "     nfev: 66\n",
      "     njev: 66\n",
      " hess_inv: <200x200 LbfgsInvHessProduct with dtype=float64> 113359.34666065883\n",
      "  message: ABNORMAL_TERMINATION_IN_LNSRCH\n",
      "  success: False\n",
      "   status: 2\n",
      "      fun: 219979.48636017813\n",
      "        x: [ 3.685e-02  3.723e-02 ...  3.653e-02  3.630e-02]\n",
      "      nit: 4\n",
      "      jac: [-1.420e+03 -4.530e+03 ... -1.566e+03 -1.054e+03]\n",
      "     nfev: 91\n",
      "     njev: 91\n",
      " hess_inv: <200x200 LbfgsInvHessProduct with dtype=float64> 66637.76221630276\n",
      "  message: ABNORMAL_TERMINATION_IN_LNSRCH\n",
      "  success: False\n",
      "   status: 2\n",
      "      fun: 198770.4816424525\n",
      "        x: [ 3.835e-02  3.856e-02 ...  3.799e-02  3.803e-02]\n",
      "      nit: 4\n",
      "      jac: [-1.455e+03 -4.241e+03 ... -1.364e+03 -1.308e+03]\n",
      "     nfev: 87\n",
      "     njev: 87\n",
      " hess_inv: <200x200 LbfgsInvHessProduct with dtype=float64> 62949.222910015575\n",
      "  message: ABNORMAL_TERMINATION_IN_LNSRCH\n",
      "  success: False\n",
      "   status: 2\n",
      "      fun: 120637.49414267782\n",
      "        x: [ 4.053e-02  4.117e-02 ...  3.982e-02  4.008e-02]\n",
      "      nit: 4\n",
      "      jac: [-1.114e+03 -3.215e+03 ... -9.844e+02 -1.125e+03]\n",
      "     nfev: 100\n",
      "     njev: 100\n",
      " hess_inv: <200x200 LbfgsInvHessProduct with dtype=float64> 39315.57127764444\n",
      "  message: ABNORMAL_TERMINATION_IN_LNSRCH\n",
      "  success: False\n",
      "   status: 2\n",
      "      fun: 101603.67776269665\n",
      "        x: [ 4.460e-02  4.479e-02 ...  4.315e-02  4.319e-02]\n",
      "      nit: 4\n",
      "      jac: [-1.071e+03 -2.601e+03 ... -9.003e+02 -8.254e+02]\n",
      "     nfev: 94\n",
      "     njev: 94\n",
      " hess_inv: <200x200 LbfgsInvHessProduct with dtype=float64> 37051.97663780214\n",
      "  message: ABNORMAL_TERMINATION_IN_LNSRCH\n",
      "  success: False\n",
      "   status: 2\n",
      "      fun: 185915.34735931962\n",
      "        x: [ 3.705e-02  3.739e-02 ...  3.672e-02  3.663e-02]\n",
      "      nit: 4\n",
      "      jac: [-1.368e+03 -3.558e+03 ... -1.407e+03 -1.098e+03]\n",
      "     nfev: 89\n",
      "     njev: 89\n",
      " hess_inv: <200x200 LbfgsInvHessProduct with dtype=float64> 56115.574650725874\n",
      "  message: ABNORMAL_TERMINATION_IN_LNSRCH\n",
      "  success: False\n",
      "   status: 2\n",
      "      fun: 346482.9075794\n",
      "        x: [ 3.724e-02  3.724e-02 ...  3.724e-02  3.724e-02]\n",
      "      nit: 1\n",
      "      jac: [-1.838e+03 -6.373e+03 ... -2.000e+03 -1.638e+03]\n",
      "     nfev: 54\n",
      "     njev: 54\n",
      " hess_inv: <200x200 LbfgsInvHessProduct with dtype=float64> 97739.35327174244\n",
      "  message: ABNORMAL_TERMINATION_IN_LNSRCH\n",
      "  success: False\n",
      "   status: 2\n",
      "      fun: 336323.6700485087\n",
      "        x: [ 3.741e-02  3.741e-02 ...  3.741e-02  3.741e-02]\n",
      "      nit: 1\n",
      "      jac: [-1.867e+03 -5.899e+03 ... -2.100e+03 -1.720e+03]\n",
      "     nfev: 54\n",
      "     njev: 54\n",
      " hess_inv: <200x200 LbfgsInvHessProduct with dtype=float64> 94191.57844676825\n",
      "  message: ABNORMAL_TERMINATION_IN_LNSRCH\n",
      "  success: False\n",
      "   status: 2\n",
      "      fun: 184975.60778397715\n",
      "        x: [ 4.011e-02  4.044e-02 ...  3.988e-02  3.958e-02]\n",
      "      nit: 4\n",
      "      jac: [-1.326e+03 -3.948e+03 ... -1.542e+03 -1.078e+03]\n",
      "     nfev: 92\n",
      "     njev: 92\n",
      " hess_inv: <200x200 LbfgsInvHessProduct with dtype=float64> 61679.5542430334\n",
      "  message: ABNORMAL_TERMINATION_IN_LNSRCH\n",
      "  success: False\n",
      "   status: 2\n",
      "      fun: 215366.84286645966\n",
      "        x: [ 3.888e-02  3.904e-02 ...  3.889e-02  3.859e-02]\n",
      "      nit: 4\n",
      "      jac: [-1.367e+03 -4.254e+03 ... -1.915e+03 -1.063e+03]\n",
      "     nfev: 88\n",
      "     njev: 88\n",
      " hess_inv: <200x200 LbfgsInvHessProduct with dtype=float64> 69045.3392705274\n",
      "  message: ABNORMAL_TERMINATION_IN_LNSRCH\n",
      "  success: False\n",
      "   status: 2\n",
      "      fun: 70149.93985137471\n",
      "        x: [ 4.093e-02  4.215e-02 ...  4.067e-02  4.070e-02]\n",
      "      nit: 2\n",
      "      jac: [-4.675e+02 -2.298e+03 ... -6.494e+02 -4.945e+02]\n",
      "     nfev: 68\n",
      "     njev: 68\n",
      " hess_inv: <200x200 LbfgsInvHessProduct with dtype=float64> 23268.72490718217\n",
      "  message: ABNORMAL_TERMINATION_IN_LNSRCH\n",
      "  success: False\n",
      "   status: 2\n",
      "      fun: 138848.77974023938\n",
      "        x: [ 4.004e-02  4.097e-02 ...  4.022e-02  3.942e-02]\n",
      "      nit: 3\n",
      "      jac: [-9.815e+02 -3.057e+03 ... -1.653e+03 -7.535e+02]\n",
      "     nfev: 79\n",
      "     njev: 79\n",
      " hess_inv: <200x200 LbfgsInvHessProduct with dtype=float64> 45310.94571726311\n",
      "  message: ABNORMAL_TERMINATION_IN_LNSRCH\n",
      "  success: False\n",
      "   status: 2\n",
      "      fun: 211522.9087515669\n",
      "        x: [ 3.920e-02  3.939e-02 ...  3.902e-02  3.886e-02]\n",
      "      nit: 5\n",
      "      jac: [-1.414e+03 -4.351e+03 ... -1.640e+03 -1.274e+03]\n",
      "     nfev: 104\n",
      "     njev: 104\n",
      " hess_inv: <200x200 LbfgsInvHessProduct with dtype=float64> 68805.49842645897\n",
      "  message: ABNORMAL_TERMINATION_IN_LNSRCH\n",
      "  success: False\n",
      "   status: 2\n",
      "      fun: 58476.73053233328\n",
      "        x: [ 4.322e-02  4.498e-02 ...  4.164e-02  4.134e-02]\n",
      "      nit: 6\n",
      "      jac: [-5.885e+02 -1.546e+03 ... -5.604e+02 -4.054e+02]\n",
      "     nfev: 123\n",
      "     njev: 123\n",
      " hess_inv: <200x200 LbfgsInvHessProduct with dtype=float64> 20262.06466909659\n",
      "  message: ABNORMAL_TERMINATION_IN_LNSRCH\n",
      "  success: False\n",
      "   status: 2\n",
      "      fun: 159109.09546502877\n",
      "        x: [ 3.925e-02  4.058e-02 ...  3.901e-02  3.876e-02]\n",
      "      nit: 3\n",
      "      jac: [-8.886e+02 -3.679e+03 ... -1.225e+03 -8.955e+02]\n",
      "     nfev: 80\n",
      "     njev: 80\n",
      " hess_inv: <200x200 LbfgsInvHessProduct with dtype=float64> 50910.90716017665\n",
      "  message: ABNORMAL_TERMINATION_IN_LNSRCH\n",
      "  success: False\n",
      "   status: 2\n",
      "      fun: 142728.9961430666\n",
      "        x: [ 3.947e-02  4.005e-02 ...  3.901e-02  3.917e-02]\n",
      "      nit: 4\n",
      "      jac: [-1.127e+03 -3.756e+03 ... -1.107e+03 -1.196e+03]\n",
      "     nfev: 93\n",
      "     njev: 93\n",
      " hess_inv: <200x200 LbfgsInvHessProduct with dtype=float64> 45718.55057492243\n",
      "  message: ABNORMAL_TERMINATION_IN_LNSRCH\n",
      "  success: False\n",
      "   status: 2\n",
      "      fun: 94902.11491204458\n",
      "        x: [ 4.464e-02  4.497e-02 ...  4.361e-02  4.307e-02]\n",
      "      nit: 7\n",
      "      jac: [-1.032e+03 -2.448e+03 ... -9.783e+02 -7.364e+02]\n",
      "     nfev: 141\n",
      "     njev: 141\n",
      " hess_inv: <200x200 LbfgsInvHessProduct with dtype=float64> 34444.06137507339\n",
      "  message: ABNORMAL_TERMINATION_IN_LNSRCH\n",
      "  success: False\n",
      "   status: 2\n",
      "      fun: 102489.88327515895\n",
      "        x: [ 4.081e-02  4.140e-02 ...  4.085e-02  4.049e-02]\n",
      "      nit: 4\n",
      "      jac: [-8.635e+02 -2.584e+03 ... -1.292e+03 -8.665e+02]\n",
      "     nfev: 102\n",
      "     njev: 102\n",
      " hess_inv: <200x200 LbfgsInvHessProduct with dtype=float64> 33631.322061737585\n",
      "  message: ABNORMAL_TERMINATION_IN_LNSRCH\n",
      "  success: False\n",
      "   status: 2\n",
      "      fun: 35532.68291822039\n",
      "        x: [ 4.592e-02  4.714e-02 ...  4.602e-02  4.556e-02]\n",
      "      nit: 3\n",
      "      jac: [-3.814e+02 -9.812e+02 ... -6.513e+02 -3.894e+02]\n",
      "     nfev: 82\n",
      "     njev: 82\n",
      " hess_inv: <200x200 LbfgsInvHessProduct with dtype=float64> 13350.345856969556\n",
      "  message: ABNORMAL_TERMINATION_IN_LNSRCH\n",
      "  success: False\n",
      "   status: 2\n",
      "      fun: 63525.83453183758\n",
      "        x: [ 4.279e-02  4.437e-02 ...  4.362e-02  4.159e-02]\n",
      "      nit: 5\n",
      "      jac: [-5.505e+02 -1.330e+03 ... -1.077e+03 -3.904e+02]\n",
      "     nfev: 112\n",
      "     njev: 112\n",
      " hess_inv: <200x200 LbfgsInvHessProduct with dtype=float64> 22038.514790616013\n",
      "  message: ABNORMAL_TERMINATION_IN_LNSRCH\n",
      "  success: False\n",
      "   status: 2\n",
      "      fun: 94055.49583996671\n",
      "        x: [ 3.963e-02  4.038e-02 ...  3.814e-02  3.838e-02]\n",
      "      nit: 4\n",
      "      jac: [-8.846e+02 -2.352e+03 ... -8.005e+02 -7.165e+02]\n",
      "     nfev: 86\n",
      "     njev: 86\n",
      " hess_inv: <200x200 LbfgsInvHessProduct with dtype=float64> 29178.46916886057\n",
      "  message: ABNORMAL_TERMINATION_IN_LNSRCH\n",
      "  success: False\n",
      "   status: 2\n",
      "      fun: 87565.2481793065\n",
      "        x: [ 4.346e-02  4.392e-02 ...  4.292e-02  4.211e-02]\n",
      "      nit: 8\n",
      "      jac: [-9.015e+02 -1.920e+03 ... -1.025e+03 -7.234e+02]\n",
      "     nfev: 150\n",
      "     njev: 150\n",
      " hess_inv: <200x200 LbfgsInvHessProduct with dtype=float64> 31112.9968738987\n",
      "  message: ABNORMAL_TERMINATION_IN_LNSRCH\n",
      "  success: False\n",
      "   status: 2\n",
      "      fun: 127784.01808820684\n",
      "        x: [ 4.339e-02  4.363e-02 ...  4.355e-02  4.293e-02]\n",
      "      nit: 5\n",
      "      jac: [-1.061e+03 -2.897e+03 ... -1.724e+03 -9.204e+02]\n",
      "     nfev: 111\n",
      "     njev: 111\n",
      " hess_inv: <200x200 LbfgsInvHessProduct with dtype=float64> 45812.29228813014\n",
      "  message: ABNORMAL_TERMINATION_IN_LNSRCH\n",
      "  success: False\n",
      "   status: 2\n",
      "      fun: 41809.581053406575\n",
      "        x: [ 4.104e-02  4.498e-02 ...  4.022e-02  4.033e-02]\n",
      "      nit: 6\n",
      "      jac: [-2.945e+02 -1.187e+03 ... -3.724e+02 -3.395e+02]\n",
      "     nfev: 129\n",
      "     njev: 129\n",
      " hess_inv: <200x200 LbfgsInvHessProduct with dtype=float64> 13862.636021859871\n",
      "  message: ABNORMAL_TERMINATION_IN_LNSRCH\n",
      "  success: False\n",
      "   status: 2\n",
      "      fun: 35814.171307545126\n",
      "        x: [ 4.597e-02  4.715e-02 ...  4.520e-02  4.536e-02]\n",
      "      nit: 2\n",
      "      jac: [-3.395e+02 -8.832e+02 ... -3.483e+02 -2.884e+02]\n",
      "     nfev: 66\n",
      "     njev: 66\n",
      " hess_inv: <200x200 LbfgsInvHessProduct with dtype=float64> 13141.633165577428\n",
      "  message: ABNORMAL_TERMINATION_IN_LNSRCH\n",
      "  success: False\n",
      "   status: 2\n",
      "      fun: 39029.16127997099\n",
      "        x: [ 4.357e-02  4.417e-02 ...  4.310e-02  4.373e-02]\n",
      "      nit: 2\n",
      "      jac: [-4.545e+02 -8.613e+02 ... -5.344e+02 -6.154e+02]\n",
      "     nfev: 66\n",
      "     njev: 66\n",
      " hess_inv: <200x200 LbfgsInvHessProduct with dtype=float64> 13527.26134544667\n",
      "  message: ABNORMAL_TERMINATION_IN_LNSRCH\n",
      "  success: False\n",
      "   status: 2\n",
      "      fun: 16608.33786861857\n",
      "        x: [ 5.246e-02  5.319e-02 ...  5.260e-02  5.210e-02]\n",
      "      nit: 4\n",
      "      jac: [-2.164e+02 -5.002e+02 ... -3.942e+02 -2.143e+02]\n",
      "     nfev: 93\n",
      "     njev: 93\n",
      " hess_inv: <200x200 LbfgsInvHessProduct with dtype=float64> 7431.299424824796\n",
      "  message: ABNORMAL_TERMINATION_IN_LNSRCH\n",
      "  success: False\n",
      "   status: 2\n",
      "      fun: 15277.622739345252\n",
      "        x: [ 4.855e-02  4.873e-02 ...  4.854e-02  4.848e-02]\n",
      "      nit: 2\n",
      "      jac: [-1.775e+02 -4.273e+02 ... -2.783e+02 -1.714e+02]\n",
      "     nfev: 64\n",
      "     njev: 64\n",
      " hess_inv: <200x200 LbfgsInvHessProduct with dtype=float64> 5983.452714779231\n",
      "  message: ABNORMAL_TERMINATION_IN_LNSRCH\n",
      "  success: False\n",
      "   status: 2\n",
      "      fun: 39495.17054149581\n",
      "        x: [ 4.378e-02  4.382e-02 ...  4.376e-02  4.376e-02]\n",
      "      nit: 2\n",
      "      jac: [-3.415e+02 -1.064e+03 ... -4.283e+02 -3.464e+02]\n",
      "     nfev: 71\n",
      "     njev: 71\n",
      " hess_inv: <200x200 LbfgsInvHessProduct with dtype=float64> 13672.06269348882\n",
      "  message: ABNORMAL_TERMINATION_IN_LNSRCH\n",
      "  success: False\n",
      "   status: 2\n",
      "      fun: 10872.73208925763\n",
      "        x: [ 5.342e-02  5.414e-02 ...  5.291e-02  5.308e-02]\n",
      "      nit: 2\n",
      "      jac: [-1.624e+02 -3.622e+02 ... -1.622e+02 -1.573e+02]\n",
      "     nfev: 63\n",
      "     njev: 63\n",
      " hess_inv: <200x200 LbfgsInvHessProduct with dtype=float64> 4721.181583078012\n",
      "  message: ABNORMAL_TERMINATION_IN_LNSRCH\n",
      "  success: False\n",
      "   status: 2\n",
      "      fun: 3798.0505145070674\n",
      "        x: [ 3.243e-02  6.285e-02 ...  6.264e-02  1.651e-02]\n",
      "      nit: 3\n",
      "      jac: [-5.252e+01 -1.133e+02 ... -1.134e+02 -2.849e+01]\n",
      "     nfev: 79\n",
      "     njev: 79\n",
      " hess_inv: <200x200 LbfgsInvHessProduct with dtype=float64> 1569.8997581538783\n",
      "  message: ABNORMAL_TERMINATION_IN_LNSRCH\n",
      "  success: False\n",
      "   status: 2\n",
      "      fun: 86913.92229582541\n",
      "        x: [ 4.218e-02  4.330e-02 ...  4.192e-02  4.212e-02]\n",
      "      nit: 5\n",
      "      jac: [-6.255e+02 -2.498e+03 ... -8.683e+02 -8.724e+02]\n",
      "     nfev: 105\n",
      "     njev: 105\n",
      " hess_inv: <200x200 LbfgsInvHessProduct with dtype=float64> 29742.668056513816\n",
      "  message: ABNORMAL_TERMINATION_IN_LNSRCH\n",
      "  success: False\n",
      "   status: 2\n",
      "      fun: 39088.7253651035\n",
      "        x: [ 4.616e-02  4.738e-02 ...  4.529e-02  4.568e-02]\n",
      "      nit: 2\n",
      "      jac: [-4.385e+02 -1.028e+03 ... -4.193e+02 -4.284e+02]\n",
      "     nfev: 66\n",
      "     njev: 66\n",
      " hess_inv: <200x200 LbfgsInvHessProduct with dtype=float64> 14322.209754095042\n",
      "  message: ABNORMAL_TERMINATION_IN_LNSRCH\n",
      "  success: False\n",
      "   status: 2\n",
      "      fun: 50352.844116989865\n",
      "        x: [ 4.450e-02  4.629e-02 ...  4.504e-02  4.417e-02]\n",
      "      nit: 2\n",
      "      jac: [-3.605e+02 -1.210e+03 ... -8.313e+02 -3.904e+02]\n",
      "     nfev: 66\n",
      "     njev: 66\n",
      " hess_inv: <200x200 LbfgsInvHessProduct with dtype=float64> 18791.334769270517\n"
     ]
    },
    {
     "ename": "KeyboardInterrupt",
     "evalue": "",
     "output_type": "error",
     "traceback": [
      "\u001b[0;31m---------------------------------------------------------------------------\u001b[0m",
      "\u001b[0;31mKeyboardInterrupt\u001b[0m                         Traceback (most recent call last)",
      "Cell \u001b[0;32mIn[70], line 1\u001b[0m\n\u001b[0;32m----> 1\u001b[0m W \u001b[38;5;241m=\u001b[39m \u001b[43mParallel\u001b[49m\u001b[43m(\u001b[49m\u001b[43mn_jobs\u001b[49m\u001b[38;5;241;43m=\u001b[39;49m\u001b[38;5;241;43m1\u001b[39;49m\u001b[43m)\u001b[49m\u001b[43m(\u001b[49m\u001b[43mdelayed\u001b[49m\u001b[43m(\u001b[49m\u001b[43mexp\u001b[49m\u001b[43m)\u001b[49m\u001b[43m(\u001b[49m\u001b[43mitem\u001b[49m\u001b[43m)\u001b[49m\u001b[43m \u001b[49m\u001b[38;5;28;43;01mfor\u001b[39;49;00m\u001b[43m \u001b[49m\u001b[43mitem\u001b[49m\u001b[43m \u001b[49m\u001b[38;5;129;43;01min\u001b[39;49;00m\u001b[43m \u001b[49m\u001b[43mtqdm\u001b[49m\u001b[43m(\u001b[49m\u001b[38;5;28;43mrange\u001b[39;49m\u001b[43m(\u001b[49m\u001b[43mI\u001b[49m\u001b[43m)\u001b[49m\u001b[43m)\u001b[49m\u001b[43m)\u001b[49m\n\u001b[1;32m      2\u001b[0m W \u001b[38;5;241m=\u001b[39m np\u001b[38;5;241m.\u001b[39marray(W)\n",
      "File \u001b[0;32m/apps/bdi-venv-310/lib/python3.10/site-packages/joblib/parallel.py:1863\u001b[0m, in \u001b[0;36mParallel.__call__\u001b[0;34m(self, iterable)\u001b[0m\n\u001b[1;32m   1861\u001b[0m     output \u001b[38;5;241m=\u001b[39m \u001b[38;5;28mself\u001b[39m\u001b[38;5;241m.\u001b[39m_get_sequential_output(iterable)\n\u001b[1;32m   1862\u001b[0m     \u001b[38;5;28mnext\u001b[39m(output)\n\u001b[0;32m-> 1863\u001b[0m     \u001b[38;5;28;01mreturn\u001b[39;00m output \u001b[38;5;28;01mif\u001b[39;00m \u001b[38;5;28mself\u001b[39m\u001b[38;5;241m.\u001b[39mreturn_generator \u001b[38;5;28;01melse\u001b[39;00m \u001b[38;5;28;43mlist\u001b[39;49m\u001b[43m(\u001b[49m\u001b[43moutput\u001b[49m\u001b[43m)\u001b[49m\n\u001b[1;32m   1865\u001b[0m \u001b[38;5;66;03m# Let's create an ID that uniquely identifies the current call. If the\u001b[39;00m\n\u001b[1;32m   1866\u001b[0m \u001b[38;5;66;03m# call is interrupted early and that the same instance is immediately\u001b[39;00m\n\u001b[1;32m   1867\u001b[0m \u001b[38;5;66;03m# re-used, this id will be used to prevent workers that were\u001b[39;00m\n\u001b[1;32m   1868\u001b[0m \u001b[38;5;66;03m# concurrently finalizing a task from the previous call to run the\u001b[39;00m\n\u001b[1;32m   1869\u001b[0m \u001b[38;5;66;03m# callback.\u001b[39;00m\n\u001b[1;32m   1870\u001b[0m \u001b[38;5;28;01mwith\u001b[39;00m \u001b[38;5;28mself\u001b[39m\u001b[38;5;241m.\u001b[39m_lock:\n",
      "File \u001b[0;32m/apps/bdi-venv-310/lib/python3.10/site-packages/joblib/parallel.py:1792\u001b[0m, in \u001b[0;36mParallel._get_sequential_output\u001b[0;34m(self, iterable)\u001b[0m\n\u001b[1;32m   1790\u001b[0m \u001b[38;5;28mself\u001b[39m\u001b[38;5;241m.\u001b[39mn_dispatched_batches \u001b[38;5;241m+\u001b[39m\u001b[38;5;241m=\u001b[39m \u001b[38;5;241m1\u001b[39m\n\u001b[1;32m   1791\u001b[0m \u001b[38;5;28mself\u001b[39m\u001b[38;5;241m.\u001b[39mn_dispatched_tasks \u001b[38;5;241m+\u001b[39m\u001b[38;5;241m=\u001b[39m \u001b[38;5;241m1\u001b[39m\n\u001b[0;32m-> 1792\u001b[0m res \u001b[38;5;241m=\u001b[39m \u001b[43mfunc\u001b[49m\u001b[43m(\u001b[49m\u001b[38;5;241;43m*\u001b[39;49m\u001b[43margs\u001b[49m\u001b[43m,\u001b[49m\u001b[43m \u001b[49m\u001b[38;5;241;43m*\u001b[39;49m\u001b[38;5;241;43m*\u001b[39;49m\u001b[43mkwargs\u001b[49m\u001b[43m)\u001b[49m\n\u001b[1;32m   1793\u001b[0m \u001b[38;5;28mself\u001b[39m\u001b[38;5;241m.\u001b[39mn_completed_tasks \u001b[38;5;241m+\u001b[39m\u001b[38;5;241m=\u001b[39m \u001b[38;5;241m1\u001b[39m\n\u001b[1;32m   1794\u001b[0m \u001b[38;5;28mself\u001b[39m\u001b[38;5;241m.\u001b[39mprint_progress()\n",
      "Cell \u001b[0;32mIn[69], line 14\u001b[0m, in \u001b[0;36mexp\u001b[0;34m(item)\u001b[0m\n\u001b[1;32m     10\u001b[0m x0[item] \u001b[38;5;241m=\u001b[39m b\n\u001b[1;32m     11\u001b[0m \u001b[38;5;66;03m# clf = LogisticRegression(solver='L-BFGS-B', penalty = 'l2', C=lam)\u001b[39;00m\n\u001b[1;32m     12\u001b[0m \u001b[38;5;66;03m# clf.fit(Xt,X_[:,item],bounds=bounds)\u001b[39;00m\n\u001b[0;32m---> 14\u001b[0m sol \u001b[38;5;241m=\u001b[39m \u001b[43mminimize\u001b[49m\u001b[43m(\u001b[49m\n\u001b[1;32m     15\u001b[0m \u001b[43m   \u001b[49m\u001b[43mfun\u001b[49m\u001b[43m \u001b[49m\u001b[38;5;241;43m=\u001b[39;49m\u001b[43m \u001b[49m\u001b[43mlcat\u001b[49m\u001b[43m,\u001b[49m\u001b[43m \u001b[49m\u001b[43mx0\u001b[49m\u001b[38;5;241;43m=\u001b[39;49m\u001b[43mx0\u001b[49m\u001b[43m,\u001b[49m\u001b[43m \u001b[49m\u001b[43margs\u001b[49m\u001b[43m \u001b[49m\u001b[38;5;241;43m=\u001b[39;49m\u001b[43m \u001b[49m\u001b[43m(\u001b[49m\u001b[43mitem\u001b[49m\u001b[43m,\u001b[49m\u001b[43mlam\u001b[49m\u001b[43m)\u001b[49m\u001b[43m,\u001b[49m\u001b[43mmethod\u001b[49m\u001b[38;5;241;43m=\u001b[39;49m\u001b[38;5;124;43m'\u001b[39;49m\u001b[38;5;124;43ml-bfgs-b\u001b[39;49m\u001b[38;5;124;43m'\u001b[39;49m\u001b[43m,\u001b[49m\u001b[43mjac\u001b[49m\u001b[38;5;241;43m=\u001b[39;49m\u001b[43mdlcat\u001b[49m\u001b[43m,\u001b[49m\u001b[43m \u001b[49m\u001b[43mbounds\u001b[49m\u001b[38;5;241;43m=\u001b[39;49m\u001b[43mbounds\u001b[49m\u001b[43m,\u001b[49m\n\u001b[1;32m     16\u001b[0m \u001b[43m   \u001b[49m\u001b[43moptions\u001b[49m\u001b[38;5;241;43m=\u001b[39;49m\u001b[43m{\u001b[49m\u001b[38;5;124;43m'\u001b[39;49m\u001b[38;5;124;43mgtol\u001b[39;49m\u001b[38;5;124;43m'\u001b[39;49m\u001b[43m:\u001b[49m\u001b[38;5;241;43m1e-12\u001b[39;49m\u001b[43m,\u001b[49m\u001b[38;5;124;43m'\u001b[39;49m\u001b[38;5;124;43mftol\u001b[39;49m\u001b[38;5;124;43m'\u001b[39;49m\u001b[43m:\u001b[49m\u001b[38;5;241;43m1e-12\u001b[39;49m\u001b[43m}\u001b[49m\n\u001b[1;32m     17\u001b[0m \u001b[43m\u001b[49m\u001b[43m)\u001b[49m\n\u001b[1;32m     18\u001b[0m \u001b[38;5;28mprint\u001b[39m(sol, np\u001b[38;5;241m.\u001b[39mlinalg\u001b[38;5;241m.\u001b[39mnorm(sol\u001b[38;5;241m.\u001b[39mjac))\n\u001b[1;32m     19\u001b[0m \u001b[38;5;28;01mreturn\u001b[39;00m sol\u001b[38;5;241m.\u001b[39mx\n",
      "File \u001b[0;32m/apps/bdi-venv-310/lib/python3.10/site-packages/scipy/optimize/_minimize.py:713\u001b[0m, in \u001b[0;36mminimize\u001b[0;34m(fun, x0, args, method, jac, hess, hessp, bounds, constraints, tol, callback, options)\u001b[0m\n\u001b[1;32m    710\u001b[0m     res \u001b[38;5;241m=\u001b[39m _minimize_newtoncg(fun, x0, args, jac, hess, hessp, callback,\n\u001b[1;32m    711\u001b[0m                              \u001b[38;5;241m*\u001b[39m\u001b[38;5;241m*\u001b[39moptions)\n\u001b[1;32m    712\u001b[0m \u001b[38;5;28;01melif\u001b[39;00m meth \u001b[38;5;241m==\u001b[39m \u001b[38;5;124m'\u001b[39m\u001b[38;5;124ml-bfgs-b\u001b[39m\u001b[38;5;124m'\u001b[39m:\n\u001b[0;32m--> 713\u001b[0m     res \u001b[38;5;241m=\u001b[39m \u001b[43m_minimize_lbfgsb\u001b[49m\u001b[43m(\u001b[49m\u001b[43mfun\u001b[49m\u001b[43m,\u001b[49m\u001b[43m \u001b[49m\u001b[43mx0\u001b[49m\u001b[43m,\u001b[49m\u001b[43m \u001b[49m\u001b[43margs\u001b[49m\u001b[43m,\u001b[49m\u001b[43m \u001b[49m\u001b[43mjac\u001b[49m\u001b[43m,\u001b[49m\u001b[43m \u001b[49m\u001b[43mbounds\u001b[49m\u001b[43m,\u001b[49m\n\u001b[1;32m    714\u001b[0m \u001b[43m                           \u001b[49m\u001b[43mcallback\u001b[49m\u001b[38;5;241;43m=\u001b[39;49m\u001b[43mcallback\u001b[49m\u001b[43m,\u001b[49m\u001b[43m \u001b[49m\u001b[38;5;241;43m*\u001b[39;49m\u001b[38;5;241;43m*\u001b[39;49m\u001b[43moptions\u001b[49m\u001b[43m)\u001b[49m\n\u001b[1;32m    715\u001b[0m \u001b[38;5;28;01melif\u001b[39;00m meth \u001b[38;5;241m==\u001b[39m \u001b[38;5;124m'\u001b[39m\u001b[38;5;124mtnc\u001b[39m\u001b[38;5;124m'\u001b[39m:\n\u001b[1;32m    716\u001b[0m     res \u001b[38;5;241m=\u001b[39m _minimize_tnc(fun, x0, args, jac, bounds, callback\u001b[38;5;241m=\u001b[39mcallback,\n\u001b[1;32m    717\u001b[0m                         \u001b[38;5;241m*\u001b[39m\u001b[38;5;241m*\u001b[39moptions)\n",
      "File \u001b[0;32m/apps/bdi-venv-310/lib/python3.10/site-packages/scipy/optimize/_lbfgsb_py.py:369\u001b[0m, in \u001b[0;36m_minimize_lbfgsb\u001b[0;34m(fun, x0, args, jac, bounds, disp, maxcor, ftol, gtol, eps, maxfun, maxiter, iprint, callback, maxls, finite_diff_rel_step, **unknown_options)\u001b[0m\n\u001b[1;32m    363\u001b[0m task_str \u001b[38;5;241m=\u001b[39m task\u001b[38;5;241m.\u001b[39mtobytes()\n\u001b[1;32m    364\u001b[0m \u001b[38;5;28;01mif\u001b[39;00m task_str\u001b[38;5;241m.\u001b[39mstartswith(\u001b[38;5;124mb\u001b[39m\u001b[38;5;124m'\u001b[39m\u001b[38;5;124mFG\u001b[39m\u001b[38;5;124m'\u001b[39m):\n\u001b[1;32m    365\u001b[0m     \u001b[38;5;66;03m# The minimization routine wants f and g at the current x.\u001b[39;00m\n\u001b[1;32m    366\u001b[0m     \u001b[38;5;66;03m# Note that interruptions due to maxfun are postponed\u001b[39;00m\n\u001b[1;32m    367\u001b[0m     \u001b[38;5;66;03m# until the completion of the current minimization iteration.\u001b[39;00m\n\u001b[1;32m    368\u001b[0m     \u001b[38;5;66;03m# Overwrite f and g:\u001b[39;00m\n\u001b[0;32m--> 369\u001b[0m     f, g \u001b[38;5;241m=\u001b[39m \u001b[43mfunc_and_grad\u001b[49m\u001b[43m(\u001b[49m\u001b[43mx\u001b[49m\u001b[43m)\u001b[49m\n\u001b[1;32m    370\u001b[0m \u001b[38;5;28;01melif\u001b[39;00m task_str\u001b[38;5;241m.\u001b[39mstartswith(\u001b[38;5;124mb\u001b[39m\u001b[38;5;124m'\u001b[39m\u001b[38;5;124mNEW_X\u001b[39m\u001b[38;5;124m'\u001b[39m):\n\u001b[1;32m    371\u001b[0m     \u001b[38;5;66;03m# new iteration\u001b[39;00m\n\u001b[1;32m    372\u001b[0m     n_iterations \u001b[38;5;241m+\u001b[39m\u001b[38;5;241m=\u001b[39m \u001b[38;5;241m1\u001b[39m\n",
      "File \u001b[0;32m/apps/bdi-venv-310/lib/python3.10/site-packages/scipy/optimize/_differentiable_functions.py:297\u001b[0m, in \u001b[0;36mScalarFunction.fun_and_grad\u001b[0;34m(self, x)\u001b[0m\n\u001b[1;32m    295\u001b[0m     \u001b[38;5;28mself\u001b[39m\u001b[38;5;241m.\u001b[39m_update_x_impl(x)\n\u001b[1;32m    296\u001b[0m \u001b[38;5;28mself\u001b[39m\u001b[38;5;241m.\u001b[39m_update_fun()\n\u001b[0;32m--> 297\u001b[0m \u001b[38;5;28;43mself\u001b[39;49m\u001b[38;5;241;43m.\u001b[39;49m\u001b[43m_update_grad\u001b[49m\u001b[43m(\u001b[49m\u001b[43m)\u001b[49m\n\u001b[1;32m    298\u001b[0m \u001b[38;5;28;01mreturn\u001b[39;00m \u001b[38;5;28mself\u001b[39m\u001b[38;5;241m.\u001b[39mf, \u001b[38;5;28mself\u001b[39m\u001b[38;5;241m.\u001b[39mg\n",
      "File \u001b[0;32m/apps/bdi-venv-310/lib/python3.10/site-packages/scipy/optimize/_differentiable_functions.py:267\u001b[0m, in \u001b[0;36mScalarFunction._update_grad\u001b[0;34m(self)\u001b[0m\n\u001b[1;32m    265\u001b[0m \u001b[38;5;28;01mdef\u001b[39;00m \u001b[38;5;21m_update_grad\u001b[39m(\u001b[38;5;28mself\u001b[39m):\n\u001b[1;32m    266\u001b[0m     \u001b[38;5;28;01mif\u001b[39;00m \u001b[38;5;129;01mnot\u001b[39;00m \u001b[38;5;28mself\u001b[39m\u001b[38;5;241m.\u001b[39mg_updated:\n\u001b[0;32m--> 267\u001b[0m         \u001b[38;5;28;43mself\u001b[39;49m\u001b[38;5;241;43m.\u001b[39;49m\u001b[43m_update_grad_impl\u001b[49m\u001b[43m(\u001b[49m\u001b[43m)\u001b[49m\n\u001b[1;32m    268\u001b[0m         \u001b[38;5;28mself\u001b[39m\u001b[38;5;241m.\u001b[39mg_updated \u001b[38;5;241m=\u001b[39m \u001b[38;5;28;01mTrue\u001b[39;00m\n",
      "File \u001b[0;32m/apps/bdi-venv-310/lib/python3.10/site-packages/scipy/optimize/_differentiable_functions.py:175\u001b[0m, in \u001b[0;36mScalarFunction.__init__.<locals>.update_grad\u001b[0;34m()\u001b[0m\n\u001b[1;32m    174\u001b[0m \u001b[38;5;28;01mdef\u001b[39;00m \u001b[38;5;21mupdate_grad\u001b[39m():\n\u001b[0;32m--> 175\u001b[0m     \u001b[38;5;28mself\u001b[39m\u001b[38;5;241m.\u001b[39mg \u001b[38;5;241m=\u001b[39m \u001b[43mgrad_wrapped\u001b[49m\u001b[43m(\u001b[49m\u001b[38;5;28;43mself\u001b[39;49m\u001b[38;5;241;43m.\u001b[39;49m\u001b[43mx\u001b[49m\u001b[43m)\u001b[49m\n",
      "File \u001b[0;32m/apps/bdi-venv-310/lib/python3.10/site-packages/scipy/optimize/_differentiable_functions.py:172\u001b[0m, in \u001b[0;36mScalarFunction.__init__.<locals>.grad_wrapped\u001b[0;34m(x)\u001b[0m\n\u001b[1;32m    170\u001b[0m \u001b[38;5;28;01mdef\u001b[39;00m \u001b[38;5;21mgrad_wrapped\u001b[39m(x):\n\u001b[1;32m    171\u001b[0m     \u001b[38;5;28mself\u001b[39m\u001b[38;5;241m.\u001b[39mngev \u001b[38;5;241m+\u001b[39m\u001b[38;5;241m=\u001b[39m \u001b[38;5;241m1\u001b[39m\n\u001b[0;32m--> 172\u001b[0m     \u001b[38;5;28;01mreturn\u001b[39;00m np\u001b[38;5;241m.\u001b[39matleast_1d(\u001b[43mgrad\u001b[49m\u001b[43m(\u001b[49m\u001b[43mnp\u001b[49m\u001b[38;5;241;43m.\u001b[39;49m\u001b[43mcopy\u001b[49m\u001b[43m(\u001b[49m\u001b[43mx\u001b[49m\u001b[43m)\u001b[49m\u001b[43m,\u001b[49m\u001b[43m \u001b[49m\u001b[38;5;241;43m*\u001b[39;49m\u001b[43margs\u001b[49m\u001b[43m)\u001b[49m)\n",
      "\u001b[0;31mKeyboardInterrupt\u001b[0m: "
     ]
    }
   ],
   "source": [
    "W = Parallel(n_jobs=1)(delayed(exp)(item) for item in tqdm(range(I)))\n",
    "W = np.array(W)"
   ]
  },
  {
   "cell_type": "code",
   "execution_count": 54,
   "id": "009560b8-99d2-4f69-bf8e-6a8898cdb3d6",
   "metadata": {
    "execution": {
     "iopub.execute_input": "2024-06-24T17:07:33.191610Z",
     "iopub.status.busy": "2024-06-24T17:07:33.191202Z",
     "iopub.status.idle": "2024-06-24T17:07:33.201569Z",
     "shell.execute_reply": "2024-06-24T17:07:33.201070Z",
     "shell.execute_reply.started": "2024-06-24T17:07:33.191591Z"
    }
   },
   "outputs": [
    {
     "data": {
      "text/plain": [
       "141958.2765303649"
      ]
     },
     "execution_count": 54,
     "metadata": {},
     "output_type": "execute_result"
    }
   ],
   "source": [
    "np.linalg.norm(dlcat(np.zeros(I),1,1.0))"
   ]
  },
  {
   "cell_type": "code",
   "execution_count": 38,
   "id": "979df937-a6a8-42ae-bb2c-844f159b117f",
   "metadata": {
    "execution": {
     "iopub.execute_input": "2024-06-24T17:00:02.515280Z",
     "iopub.status.busy": "2024-06-24T17:00:02.514888Z",
     "iopub.status.idle": "2024-06-24T17:00:02.614018Z",
     "shell.execute_reply": "2024-06-24T17:00:02.613500Z",
     "shell.execute_reply.started": "2024-06-24T17:00:02.515262Z"
    }
   },
   "outputs": [
    {
     "name": "stdout",
     "output_type": "stream",
     "text": [
      "2024-06-24 17:00:02.515985\n",
      "0 ... 5000\n",
      "(100,)\n",
      "5000 ... 10000\n",
      "(100,)\n",
      "Test NDCG@100=0.05386 (0.00069)\n",
      "2024-06-24 17:00:02.610911\n"
     ]
    },
    {
     "data": {
      "text/plain": [
       "[0.0538576744587746, nan, nan]"
      ]
     },
     "execution_count": 38,
     "metadata": {},
     "output_type": "execute_result"
    }
   ],
   "source": [
    "k=100\n",
    "evaluate(W,I,scale,'log',k)"
   ]
  },
  {
   "cell_type": "code",
   "execution_count": 36,
   "id": "bdba1f56-9735-4b77-b134-8c67775223c9",
   "metadata": {
    "execution": {
     "iopub.execute_input": "2024-06-24T16:59:54.606484Z",
     "iopub.status.busy": "2024-06-24T16:59:54.605871Z",
     "iopub.status.idle": "2024-06-24T16:59:54.945939Z",
     "shell.execute_reply": "2024-06-24T16:59:54.945417Z",
     "shell.execute_reply.started": "2024-06-24T16:59:54.606464Z"
    }
   },
   "outputs": [
    {
     "name": "stdout",
     "output_type": "stream",
     "text": [
      "multiplying matrix\n",
      "inverting\n",
      "inverting complete\n",
      "2024-06-24 16:59:54.739333\n",
      "0 ... 5000\n",
      "(100,)\n",
      "5000 ... 10000\n",
      "(100,)\n",
      "Test NDCG@100=0.19303 (0.00178)\n",
      "2024-06-24 16:59:54.942925\n"
     ]
    },
    {
     "data": {
      "text/plain": [
       "[0.19303411014326652, nan, nan]"
      ]
     },
     "execution_count": 36,
     "metadata": {},
     "output_type": "execute_result"
    }
   ],
   "source": [
    "W_lin = ease(X,lam)\n",
    "evaluate(W_lin,I,scale,'ease',k)"
   ]
  },
  {
   "cell_type": "code",
   "execution_count": 39,
   "id": "5efa44e7-c5e4-4c18-8768-004b499d5bf7",
   "metadata": {
    "execution": {
     "iopub.execute_input": "2024-06-24T17:00:27.075810Z",
     "iopub.status.busy": "2024-06-24T17:00:27.075407Z",
     "iopub.status.idle": "2024-06-24T17:00:27.079693Z",
     "shell.execute_reply": "2024-06-24T17:00:27.079255Z",
     "shell.execute_reply.started": "2024-06-24T17:00:27.075791Z"
    }
   },
   "outputs": [
    {
     "data": {
      "text/plain": [
       "array([[0., 0., 0., ..., 0., 0., 0.],\n",
       "       [0., 0., 0., ..., 0., 0., 0.],\n",
       "       [0., 0., 0., ..., 0., 0., 0.],\n",
       "       ...,\n",
       "       [0., 0., 0., ..., 0., 0., 0.],\n",
       "       [0., 0., 0., ..., 0., 0., 0.],\n",
       "       [0., 0., 0., ..., 0., 0., 0.]])"
      ]
     },
     "execution_count": 39,
     "metadata": {},
     "output_type": "execute_result"
    }
   ],
   "source": [
    "W"
   ]
  },
  {
   "cell_type": "code",
   "execution_count": 27,
   "id": "f7ded6bb-d8c1-455f-8093-db7057a7bad8",
   "metadata": {
    "execution": {
     "iopub.execute_input": "2024-06-24T16:59:26.727330Z",
     "iopub.status.busy": "2024-06-24T16:59:26.726690Z",
     "iopub.status.idle": "2024-06-24T16:59:26.731134Z",
     "shell.execute_reply": "2024-06-24T16:59:26.730696Z",
     "shell.execute_reply.started": "2024-06-24T16:59:26.727309Z"
    }
   },
   "outputs": [],
   "source": [
    "def load_tr_te_data(csv_file_tr, csv_file_te):\n",
    "    tp_tr = pd.read_csv(csv_file_tr)\n",
    "    tp_te = pd.read_csv(csv_file_te)\n",
    "\n",
    "    start_idx = min(tp_tr['uid'].min(), tp_te['uid'].min())\n",
    "    end_idx = max(tp_tr['uid'].max(), tp_te['uid'].max())\n",
    "\n",
    "    rows_tr, cols_tr = tp_tr['uid'] - start_idx, tp_tr['sid']\n",
    "    rows_te, cols_te = tp_te['uid'] - start_idx, tp_te['sid']\n",
    "\n",
    "    data_tr = sparse.csr_matrix((np.ones_like(rows_tr),\n",
    "                             (rows_tr, cols_tr)), dtype='float64', shape=(end_idx - start_idx + 1, n_items))\n",
    "    data_te = sparse.csr_matrix((np.ones_like(rows_te),\n",
    "                             (rows_te, cols_te)), dtype='float64', shape=(end_idx - start_idx + 1, n_items))\n",
    "    return data_tr, data_te"
   ]
  },
  {
   "cell_type": "code",
   "execution_count": 28,
   "id": "24e32e5a-f44a-41a4-9460-75a4691036aa",
   "metadata": {
    "execution": {
     "iopub.execute_input": "2024-06-24T16:59:26.887518Z",
     "iopub.status.busy": "2024-06-24T16:59:26.887166Z",
     "iopub.status.idle": "2024-06-24T16:59:27.035808Z",
     "shell.execute_reply": "2024-06-24T16:59:27.035213Z",
     "shell.execute_reply.started": "2024-06-24T16:59:26.887501Z"
    }
   },
   "outputs": [],
   "source": [
    "test_data_tr, test_data_te = load_tr_te_data(\n",
    "    os.path.join(pro_dir, 'test_tr.csv'),\n",
    "    os.path.join(pro_dir, 'test_te.csv'))"
   ]
  },
  {
   "cell_type": "code",
   "execution_count": null,
   "id": "eb64ad5d-167f-4d28-b928-4eb1d0f0a1c0",
   "metadata": {},
   "outputs": [],
   "source": []
  },
  {
   "cell_type": "code",
   "execution_count": 29,
   "id": "b2164789-565e-4745-9a99-41804bd2e0aa",
   "metadata": {
    "execution": {
     "iopub.execute_input": "2024-06-24T16:59:27.203062Z",
     "iopub.status.busy": "2024-06-24T16:59:27.202527Z",
     "iopub.status.idle": "2024-06-24T16:59:27.205426Z",
     "shell.execute_reply": "2024-06-24T16:59:27.205018Z",
     "shell.execute_reply.started": "2024-06-24T16:59:27.203043Z"
    }
   },
   "outputs": [],
   "source": [
    "N_test = test_data_te.shape[0]\n",
    "idxlist_test = range(N_test)\n"
   ]
  },
  {
   "cell_type": "code",
   "execution_count": 30,
   "id": "0dca1c0f-0404-4790-9b81-67a727e34f7c",
   "metadata": {
    "execution": {
     "iopub.execute_input": "2024-06-24T16:59:27.367685Z",
     "iopub.status.busy": "2024-06-24T16:59:27.367160Z",
     "iopub.status.idle": "2024-06-24T16:59:27.408478Z",
     "shell.execute_reply": "2024-06-24T16:59:27.407967Z",
     "shell.execute_reply.started": "2024-06-24T16:59:27.367658Z"
    }
   },
   "outputs": [],
   "source": [
    "def NDCG_binary_at_k_batch(X_pred, heldout_batch, k=20):\n",
    "    '''\n",
    "    normalized discounted cumulative gain@k for binary relevance\n",
    "    ASSUMPTIONS: all the 0's in heldout_data indicate 0 relevance\n",
    "    '''\n",
    "    batch_users = X_pred.shape[0]\n",
    "    idx_topk_part = bn.argpartition(-X_pred, k, axis=1)\n",
    "    topk_part = X_pred[np.arange(batch_users)[:, np.newaxis],\n",
    "                       idx_topk_part[:, :k]]\n",
    "    idx_part = np.argsort(-topk_part, axis=1)\n",
    "    # X_pred[np.arange(batch_users)[:, np.newaxis], idx_topk] is the sorted\n",
    "    # topk predicted score\n",
    "    idx_topk = idx_topk_part[np.arange(batch_users)[:, np.newaxis], idx_part]\n",
    "    # build the discount template\n",
    "    tp = 1. / (np.log2(np.arange(2, k + 2)))\n",
    "    print(tp.shape)\n",
    "\n",
    "    DCG = (heldout_batch[np.arange(batch_users)[:, np.newaxis],\n",
    "                         idx_topk].toarray() * tp).sum(axis=1)\n",
    "    IDCG = np.array([(tp[:min(n, k)]).sum()\n",
    "                     for n in heldout_batch.getnnz(axis=1)])\n",
    "    return DCG / IDCG"
   ]
  },
  {
   "cell_type": "code",
   "execution_count": 31,
   "id": "83151e12-931b-4d3c-b251-7b6225e5dffb",
   "metadata": {
    "execution": {
     "iopub.execute_input": "2024-06-24T16:59:27.532755Z",
     "iopub.status.busy": "2024-06-24T16:59:27.532196Z",
     "iopub.status.idle": "2024-06-24T16:59:27.697053Z",
     "shell.execute_reply": "2024-06-24T16:59:27.696471Z",
     "shell.execute_reply.started": "2024-06-24T16:59:27.532736Z"
    }
   },
   "outputs": [],
   "source": [
    "def Recall_at_k_batch(X_pred, heldout_batch, k=100):\n",
    "    batch_users = X_pred.shape[0]\n",
    "\n",
    "    idx = bn.argpartition(-X_pred, k, axis=1)\n",
    "    X_pred_binary = np.zeros_like(X_pred, dtype=bool)\n",
    "    X_pred_binary[np.arange(batch_users)[:, np.newaxis], idx[:, :k]] = True\n",
    "    \n",
    "    X_true_binary = (heldout_batch > 0).toarray()\n",
    "    X_true_binary = X_true_binary[:,:I]\n",
    "    print(X_true_binary.sum(axis=1))\n",
    "    tmp = (np.logical_and(X_true_binary, X_pred_binary).sum(axis=1)).astype(\n",
    "        np.float32)\n",
    "    recall = tmp / np.minimum(k, X_true_binary.sum(axis=1))\n",
    "    return recall"
   ]
  },
  {
   "cell_type": "code",
   "execution_count": 33,
   "id": "5101572b-0e88-4561-8714-4b3420699448",
   "metadata": {
    "execution": {
     "iopub.execute_input": "2024-06-24T16:59:39.177555Z",
     "iopub.status.busy": "2024-06-24T16:59:39.177154Z",
     "iopub.status.idle": "2024-06-24T16:59:39.182506Z",
     "shell.execute_reply": "2024-06-24T16:59:39.182070Z",
     "shell.execute_reply.started": "2024-06-24T16:59:39.177535Z"
    }
   },
   "outputs": [],
   "source": [
    "def evaluate(BB,I,scale,method='log',k=100):\n",
    "    #evaluate in batches\n",
    "    print(datetime.datetime.now())\n",
    "\n",
    "    #makeSparseFormat(BB, 0.0)\n",
    "\n",
    "\n",
    "    batch_size_test=5000\n",
    "    n100_list, r20_list, r50_list = [], [], []\n",
    "\n",
    "\n",
    "\n",
    "    for bnum, st_idx in enumerate(range(0, N_test, batch_size_test)):\n",
    "        end_idx = min(st_idx + batch_size_test, N_test)\n",
    "        Xtest = test_data_tr[idxlist_test[st_idx:end_idx]]\n",
    "        Xtest=Xtest[:,:I].toarray()\n",
    "        print (str(st_idx)+' ... '+str(end_idx))\n",
    "        if sparse.isspmatrix(Xtest):\n",
    "            Xtest = Xtest.toarray()\n",
    "        Xtest = Xtest.astype('float32')\n",
    "\n",
    "        #pred_val = Xtest.dot(BB_excl)\n",
    "        #pred_val = (((Xtest-mu) * scaling).dot(BBth) / scaling) +mu   # no bias\n",
    "        #pred_val = Xtest.dot(beta_0d)  # no bias\n",
    "        #pred_val =Xtest.dot(beta_lowrank)\n",
    "        if method == 'log':\n",
    "            pred_val = softmax((2*Xtest-1).dot(BB))\n",
    "        else:\n",
    "            pred_val = Xtest.dot(BB)\n",
    "\n",
    "        # exclude examples from training and validation (if any)\n",
    "        pred_val[Xtest.nonzero()] = -np.inf\n",
    "        n100_list.append(NDCG_binary_at_k_batch(pred_val, test_data_te[idxlist_test[st_idx:end_idx]], k))\n",
    "        #r20_list.append(Recall_at_k_batch(pred_val, test_data_te[idxlist_test[st_idx:end_idx]], k=20))\n",
    "        #r50_list.append(Recall_at_k_batch(pred_val, test_data_te[idxlist_test[st_idx:end_idx]], k=50))\n",
    "        #calc_coverageCounts(coverageCounts2, pred_val)\n",
    "        #break  # do only 5000 users\n",
    "\n",
    "    n100_list = np.concatenate(n100_list)\n",
    "    #r20_list = np.concatenate(r20_list)\n",
    "    #r50_list = np.concatenate(r50_list)\n",
    "\n",
    "    print(\"Test NDCG@100=%.5f (%.5f)\" % (np.mean(n100_list), np.std(n100_list) / np.sqrt(len(n100_list))))\n",
    "    #print(\"Test Recall@20=%.5f (%.5f)\" % (np.mean(r20_list), np.std(r20_list) / np.sqrt(len(r20_list))))\n",
    "    #print(\"Test Recall@50=%.5f (%.5f)\" % (np.mean(r50_list), np.std(r50_list) / np.sqrt(len(r50_list))))\n",
    "\n",
    "    print(datetime.datetime.now())\n",
    "    return [np.mean(n100_list), np.mean(r20_list), np.mean(r50_list)]"
   ]
  },
  {
   "cell_type": "code",
   "execution_count": 31,
   "id": "73ae09f4-5eac-4d8e-9a8a-2ba9a45226bf",
   "metadata": {
    "execution": {
     "iopub.execute_input": "2024-06-23T04:33:35.194806Z",
     "iopub.status.busy": "2024-06-23T04:33:35.194232Z",
     "iopub.status.idle": "2024-06-23T04:33:35.206706Z",
     "shell.execute_reply": "2024-06-23T04:33:35.206210Z",
     "shell.execute_reply.started": "2024-06-23T04:33:35.194789Z"
    }
   },
   "outputs": [
    {
     "ename": "TypeError",
     "evalue": "evaluate() missing 1 required positional argument: 'I'",
     "output_type": "error",
     "traceback": [
      "\u001b[0;31m---------------------------------------------------------------------------\u001b[0m",
      "\u001b[0;31mTypeError\u001b[0m                                 Traceback (most recent call last)",
      "Cell \u001b[0;32mIn[31], line 1\u001b[0m\n\u001b[0;32m----> 1\u001b[0m \u001b[43mevaluate\u001b[49m\u001b[43m(\u001b[49m\u001b[43mW\u001b[49m\u001b[43m)\u001b[49m\n",
      "\u001b[0;31mTypeError\u001b[0m: evaluate() missing 1 required positional argument: 'I'"
     ]
    }
   ],
   "source": [
    "evaluate(W)"
   ]
  },
  {
   "cell_type": "code",
   "execution_count": 31,
   "id": "245f50ac-7007-4fff-9d63-0b545553aded",
   "metadata": {
    "execution": {
     "iopub.execute_input": "2024-06-21T21:56:25.685698Z",
     "iopub.status.busy": "2024-06-21T21:56:25.685298Z",
     "iopub.status.idle": "2024-06-21T21:56:26.065196Z",
     "shell.execute_reply": "2024-06-21T21:56:26.064662Z",
     "shell.execute_reply.started": "2024-06-21T21:56:25.685680Z"
    }
   },
   "outputs": [
    {
     "name": "stdout",
     "output_type": "stream",
     "text": [
      "2024-06-21 21:56:25.686416\n",
      "0 ... 5000\n",
      "5000 ... 10000\n",
      "Test NDCG@100=0.35762 (0.00214)\n",
      "2024-06-21 21:56:26.061809\n"
     ]
    },
    {
     "data": {
      "text/plain": [
       "[0.35762368625418844, nan, nan]"
      ]
     },
     "execution_count": 31,
     "metadata": {},
     "output_type": "execute_result"
    }
   ],
   "source": [
    "evaluate(W.T)"
   ]
  },
  {
   "cell_type": "code",
   "execution_count": 40,
   "id": "82bd2b80-604c-4d92-913c-5fe5ddadec5d",
   "metadata": {
    "execution": {
     "iopub.execute_input": "2024-06-21T21:58:11.704995Z",
     "iopub.status.busy": "2024-06-21T21:58:11.704580Z",
     "iopub.status.idle": "2024-06-21T21:58:13.508249Z",
     "shell.execute_reply": "2024-06-21T21:58:13.507712Z",
     "shell.execute_reply.started": "2024-06-21T21:58:11.704975Z"
    }
   },
   "outputs": [
    {
     "name": "stdout",
     "output_type": "stream",
     "text": [
      "multiplying matrix\n",
      "inverting\n",
      "inverting complete\n",
      "2024-06-21 21:58:13.024974\n",
      "0 ... 5000\n",
      "5000 ... 10000\n",
      "Test NDCG@100=0.36168 (0.00215)\n",
      "2024-06-21 21:58:13.504854\n"
     ]
    },
    {
     "data": {
      "text/plain": [
       "[0.36167687300486134, nan, nan]"
      ]
     },
     "execution_count": 40,
     "metadata": {},
     "output_type": "execute_result"
    }
   ],
   "source": [
    "evaluate(ease(X_reg,lam=200.0))"
   ]
  },
  {
   "cell_type": "code",
   "execution_count": null,
   "id": "56608f47-287f-4aab-859c-993535a99d56",
   "metadata": {},
   "outputs": [],
   "source": [
    "# #Bn_ = (np.ones((I , I)) - 3).flatten()\n",
    "# Bn = (np.zeros((I , I))).flatten()\n",
    "# Bn1 = (np.ones((I , I)) + 2).flatten()\n",
    "# for i in range(10000):\n",
    "#     #Bnvec = Bn.flatten()\n",
    "#     #Bn_vec = Bn_.flatten()\n",
    "#     dBn_ = der(Bn_).flatten()\n",
    "#     dBn = der(Bn).flatten()\n",
    "#     top = np.abs(np.inner(Bn - Bn_, dBn - dBn_))\n",
    "#     bottom = np.linalg.norm(dBn - dBn_) ** 2\n",
    "#     if bottom <= 1e-132:\n",
    "#         break\n",
    "#     gamma = top / bottom\n",
    "#     #print(gamma)\n",
    "#     print(np.linalg.norm(der(Bn)))\n",
    "#     Bn1 = Bn - gamma * der(Bn)\n",
    "#     Bn_ = Bn\n",
    "#     Bn = Bn1\n",
    "\n",
    "# def temp(W):\n",
    "#     W = W.reshape(I,I)\n",
    "#     sums = 0.0\n",
    "#     for i in range(I):\n",
    "#         xw = X@W[:,i]\n",
    "#         sums += np.sum( np.logaddexp(-xw/2,xw/2) - X[:,i]/2 * xw)\n",
    "#     return sums\n",
    "\n",
    "\n",
    "\n",
    "# def temp2(W, lam = 1.0):\n",
    "#     W = W.reshape(I,I)\n",
    "#     S = X @ W\n",
    "#     return np.sum(np.logaddexp(-S/2,S/2) - X / 2 * S) + lam * np.linalg.norm(W,ord='fro') ** 2\n",
    "\n",
    "\n",
    "# def der2(W, lam = 1.0):\n",
    "#     W = W.reshape(I,I)\n",
    "#     S = X @ W\n",
    "#     return (1/2 * X.T @ (sigmoid(S/2) - (sigmoid(-S/2)) + X) + 2 * lam * W).flatten()\n",
    "    \n",
    "\n",
    "\n",
    "\n",
    "# def der(W):\n",
    "#     W = W.reshape(I,I)\n",
    "#     der = np.zeros((I,I))\n",
    "#     for u in range(U):\n",
    "#         for i in range(I):\n",
    "#             scalar = 1 / 2 * (np.tanh(np.inner(X[u],W[:,i])) - X[u,i])\n",
    "#             der[i] = der[i] + scalar * X[u]\n",
    "#     return der.flatten()\n",
    "\n",
    "# def Hess(W):\n",
    "#     hess = np.zeros((I,I))\n",
    "#     for u in range(U):\n",
    "#         for i in range(I):\n",
    "#             scalar = 1 / (2 * np.cosh(np.inner(X[u],W[:,i])) + 2)\n",
    "#             hess = hess + scalar * np.outer(X[u],X[u])\n",
    "#     return hess\n",
    "\n",
    "# def lsq(B, X, lam = 1.0):\n",
    "#     B = B.reshape(I,I)\n",
    "#     S = X @ B\n",
    "#     loss = sc.linalg.norm(X - S, ord='fro') ** 2 + lam * (sc.linalg.norm(B, ord='fro') ** 2)\n",
    "#     return loss\n",
    "\n",
    "# def dlsq(B, X, lam = 1.0):\n",
    "#     B = B.reshape(I,I)\n",
    "#     S = X @ B\n",
    "#     return (2 * lam * B - 2 * X.T @ (X - S)).flatten()\n",
    "\n",
    "\n",
    "# def llog(Bvec, X, lam = 1.0):\n",
    "#     B = Bvec.reshape(I,I)\n",
    "#     S = X @ B\n",
    "#     Svec = S.flatten()\n",
    "#     Xvec = X.flatten()\n",
    "\n",
    "#     loss = np.sum(np.logaddexp(-Svec/2,Svec/2) - Xvec/2*Svec)\n",
    "    \n",
    "#     loss = lam * np.inner(Bvec,Bvec) + loss\n",
    "#     return loss\n",
    "\n",
    "\n",
    "# def llog2(Bvec, X, lam = 1.0):\n",
    "#     B = Bvec.reshape(I,I)\n",
    "#     S = X @ B\n",
    "#     Svec = S.flatten()\n",
    "#     Xvec = X.flatten()\n",
    "\n",
    "#     loss = np.sum(np.logaddexp(-S/2,S/2) - X/2*S)\n",
    "    \n",
    "#     loss = lam * np.inner(Bvec,Bvec) + loss\n",
    "#     return loss\n",
    "\n",
    "# def dllog2(Bvec, X, lam = 1.0):\n",
    "#     B = Bvec.reshape(I,I)\n",
    "#     S = X @ B\n",
    "#     return (1/2 * X.T @ (2*sigmoid(S) - np.ones((U,I)) + X) + 2 * lam * B).flatten\n",
    "    \n",
    "    \n",
    "     "
   ]
  },
  {
   "cell_type": "code",
   "execution_count": null,
   "id": "735b965b-d9a1-400e-a130-396797d9a649",
   "metadata": {
    "scrolled": true
   },
   "outputs": [],
   "source": [
    "# Bn = np.zeros(I * I)  \n",
    "# Bn_ = np.zeros(I * I) + 10 \n",
    "# Bn1 = np.zeros(I * I) + 100\n",
    "# gamma = 1.0\n",
    "# lam = 0.0\n",
    "# while gamma > 1e-10:\n",
    "#     dBn_ = der2(Bn_)\n",
    "#     dBn = der2(Bn)\n",
    "#     top = np.abs(np.inner(Bn - Bn_, dBn - dBn_))\n",
    "#     bottom = np.linalg.norm(dBn - dBn_) ** 2\n",
    "#     if bottom <= 1e-32:\n",
    "#         break\n",
    "#     gamma = top / bottom\n",
    "#     print(temp2(Bn1),np.linalg.norm(der2(Bn1)),gamma)\n",
    "#     Bn1 = Bn - gamma * der2(Bn)\n",
    "#     #Bn1mat = Bn1.reshape(I,I)\n",
    "#     #Bn1 = (Bn1mat - np.diag(np.diag(Bn1mat))).flatten()\n",
    "#     Bn_ = Bn\n",
    "#     Bn = Bn1"
   ]
  },
  {
   "cell_type": "code",
   "execution_count": null,
   "id": "1ea8e046-f935-43a2-90ae-05ad1587847e",
   "metadata": {},
   "outputs": [],
   "source": [
    "# print(temp2(Bn1),np.linalg.norm(der2(np.eye(I) * 100)))"
   ]
  },
  {
   "cell_type": "code",
   "execution_count": null,
   "id": "945e451f-71b1-45b1-907c-d8369a5f7dfe",
   "metadata": {},
   "outputs": [],
   "source": [
    "# W = ease(X)"
   ]
  },
  {
   "cell_type": "code",
   "execution_count": null,
   "id": "4b863731-e505-4f77-bb9f-abb39e752c2b",
   "metadata": {},
   "outputs": [],
   "source": [
    "# np.linalg.norm(W - Bn1.reshape(I,I))"
   ]
  },
  {
   "cell_type": "code",
   "execution_count": 4,
   "id": "5d87a67e-9591-471a-a6cd-95908c341572",
   "metadata": {
    "execution": {
     "iopub.execute_input": "2024-06-21T19:31:21.054444Z",
     "iopub.status.busy": "2024-06-21T19:31:21.053751Z",
     "iopub.status.idle": "2024-06-21T19:31:21.910450Z",
     "shell.execute_reply": "2024-06-21T19:31:21.909846Z",
     "shell.execute_reply.started": "2024-06-21T19:31:21.054423Z"
    }
   },
   "outputs": [
    {
     "name": "stdout",
     "output_type": "stream",
     "text": [
      "sampling matrix\n"
     ]
    }
   ],
   "source": [
    "U = 200_000\n",
    "I = 90\n",
    "lam = 100\n",
    "#X = np.zeros((U,I))\n",
    "\n",
    "p = np.random.uniform(size=I)\n",
    "print('sampling matrix')\n",
    "X = csr_matrix(np.random.binomial(n=1,p=p,size=(U,I)))"
   ]
  },
  {
   "cell_type": "code",
   "execution_count": 5,
   "id": "e5c1a5e7-e071-40e8-9886-7ea7cee30ed6",
   "metadata": {
    "execution": {
     "iopub.execute_input": "2024-06-21T19:31:52.472405Z",
     "iopub.status.busy": "2024-06-21T19:31:52.471722Z",
     "iopub.status.idle": "2024-06-21T19:31:52.475672Z",
     "shell.execute_reply": "2024-06-21T19:31:52.475229Z",
     "shell.execute_reply.started": "2024-06-21T19:31:52.472386Z"
    }
   },
   "outputs": [],
   "source": []
  },
  {
   "cell_type": "code",
   "execution_count": 50,
   "id": "f24db2f7-7d23-4cfd-b04c-c8810992adbf",
   "metadata": {
    "execution": {
     "iopub.execute_input": "2024-06-21T21:28:14.666828Z",
     "iopub.status.busy": "2024-06-21T21:28:14.666406Z",
     "iopub.status.idle": "2024-06-21T21:28:14.727760Z",
     "shell.execute_reply": "2024-06-21T21:28:14.727183Z",
     "shell.execute_reply.started": "2024-06-21T21:28:14.666809Z"
    }
   },
   "outputs": [
    {
     "name": "stderr",
     "output_type": "stream",
     "text": [
      "/apps/bdi-venv-310/lib/python3.10/site-packages/IPython/core/interactiveshell.py:3553: SparseEfficiencyWarning: Comparing a sparse matrix with 0 using == is inefficient, try using != instead.\n",
      "  exec(code_obj, self.user_global_ns, self.user_ns)\n"
     ]
    },
    {
     "ename": "ValueError",
     "evalue": "The truth value of an array with more than one element is ambiguous. Use a.any() or a.all().",
     "output_type": "error",
     "traceback": [
      "\u001b[0;31m---------------------------------------------------------------------------\u001b[0m",
      "\u001b[0;31mValueError\u001b[0m                                Traceback (most recent call last)",
      "Cell \u001b[0;32mIn[50], line 1\u001b[0m\n\u001b[0;32m----> 1\u001b[0m \u001b[43mnp\u001b[49m\u001b[38;5;241;43m.\u001b[39;49m\u001b[43mwhere\u001b[49m\u001b[43m(\u001b[49m\u001b[43mX\u001b[49m\u001b[43m[\u001b[49m\u001b[43m:\u001b[49m\u001b[43m,\u001b[49m\u001b[38;5;241;43m0\u001b[39;49m\u001b[43m]\u001b[49m\u001b[38;5;241;43m==\u001b[39;49m\u001b[38;5;241;43m0\u001b[39;49m\u001b[43m)\u001b[49m\n",
      "File \u001b[0;32m<__array_function__ internals>:180\u001b[0m, in \u001b[0;36mwhere\u001b[0;34m(*args, **kwargs)\u001b[0m\n",
      "File \u001b[0;32m/apps/bdi-venv-310/lib/python3.10/site-packages/scipy/sparse/_base.py:387\u001b[0m, in \u001b[0;36m_spbase.__bool__\u001b[0;34m(self)\u001b[0m\n\u001b[1;32m    385\u001b[0m     \u001b[38;5;28;01mreturn\u001b[39;00m \u001b[38;5;28mself\u001b[39m\u001b[38;5;241m.\u001b[39mnnz \u001b[38;5;241m!=\u001b[39m \u001b[38;5;241m0\u001b[39m\n\u001b[1;32m    386\u001b[0m \u001b[38;5;28;01melse\u001b[39;00m:\n\u001b[0;32m--> 387\u001b[0m     \u001b[38;5;28;01mraise\u001b[39;00m \u001b[38;5;167;01mValueError\u001b[39;00m(\u001b[38;5;124m\"\u001b[39m\u001b[38;5;124mThe truth value of an array with more than one \u001b[39m\u001b[38;5;124m\"\u001b[39m\n\u001b[1;32m    388\u001b[0m                      \u001b[38;5;124m\"\u001b[39m\u001b[38;5;124melement is ambiguous. Use a.any() or a.all().\u001b[39m\u001b[38;5;124m\"\u001b[39m)\n",
      "\u001b[0;31mValueError\u001b[0m: The truth value of an array with more than one element is ambiguous. Use a.any() or a.all()."
     ]
    }
   ],
   "source": [
    "np.where(X[:,0]==0)"
   ]
  },
  {
   "cell_type": "code",
   "execution_count": 51,
   "id": "d0a766b4-2b39-4df1-81c0-e5c75d36df22",
   "metadata": {
    "execution": {
     "iopub.execute_input": "2024-06-21T21:28:23.859255Z",
     "iopub.status.busy": "2024-06-21T21:28:23.858832Z",
     "iopub.status.idle": "2024-06-21T21:28:23.871456Z",
     "shell.execute_reply": "2024-06-21T21:28:23.870966Z",
     "shell.execute_reply.started": "2024-06-21T21:28:23.859236Z"
    }
   },
   "outputs": [
    {
     "data": {
      "text/plain": [
       "<116677x1 sparse matrix of type '<class 'numpy.float64'>'\n",
       "\twith 5409 stored elements in Compressed Sparse Row format>"
      ]
     },
     "execution_count": 51,
     "metadata": {},
     "output_type": "execute_result"
    }
   ],
   "source": [
    "X[:,0]"
   ]
  },
  {
   "cell_type": "code",
   "execution_count": 52,
   "id": "da28722a-9e3a-4628-9290-8c2265fded53",
   "metadata": {
    "execution": {
     "iopub.execute_input": "2024-06-21T21:32:01.289185Z",
     "iopub.status.busy": "2024-06-21T21:32:01.288750Z",
     "iopub.status.idle": "2024-06-21T21:32:01.292027Z",
     "shell.execute_reply": "2024-06-21T21:32:01.291597Z",
     "shell.execute_reply.started": "2024-06-21T21:32:01.289165Z"
    }
   },
   "outputs": [],
   "source": [
    "from sklearn.metrics import log_loss"
   ]
  },
  {
   "cell_type": "code",
   "execution_count": 53,
   "id": "660893b5-f8ee-4657-9253-d956fa576dee",
   "metadata": {
    "execution": {
     "iopub.execute_input": "2024-06-21T21:32:27.758960Z",
     "iopub.status.busy": "2024-06-21T21:32:27.758544Z",
     "iopub.status.idle": "2024-06-21T21:32:28.082668Z",
     "shell.execute_reply": "2024-06-21T21:32:28.082028Z",
     "shell.execute_reply.started": "2024-06-21T21:32:27.758941Z"
    }
   },
   "outputs": [
    {
     "ename": "TypeError",
     "evalue": "unhashable type: 'csr_matrix'",
     "output_type": "error",
     "traceback": [
      "\u001b[0;31m---------------------------------------------------------------------------\u001b[0m",
      "\u001b[0;31mTypeError\u001b[0m                                 Traceback (most recent call last)",
      "Cell \u001b[0;32mIn[53], line 1\u001b[0m\n\u001b[0;32m----> 1\u001b[0m \u001b[43mlog_loss\u001b[49m\u001b[43m(\u001b[49m\u001b[43mX\u001b[49m\u001b[43m[\u001b[49m\u001b[43m:\u001b[49m\u001b[43m,\u001b[49m\u001b[38;5;241;43m0\u001b[39;49m\u001b[43m]\u001b[49m\u001b[43m,\u001b[49m\u001b[43msigmoid\u001b[49m\u001b[43m(\u001b[49m\u001b[43mX\u001b[49m\u001b[38;5;129;43m@np\u001b[39;49m\u001b[38;5;241;43m.\u001b[39;49m\u001b[43mzeros\u001b[49m\u001b[43m(\u001b[49m\u001b[43mI\u001b[49m\u001b[43m)\u001b[49m\u001b[43m)\u001b[49m\u001b[43m)\u001b[49m\n",
      "File \u001b[0;32m/apps/bdi-venv-310/lib/python3.10/site-packages/sklearn/utils/_param_validation.py:213\u001b[0m, in \u001b[0;36mvalidate_params.<locals>.decorator.<locals>.wrapper\u001b[0;34m(*args, **kwargs)\u001b[0m\n\u001b[1;32m    207\u001b[0m \u001b[38;5;28;01mtry\u001b[39;00m:\n\u001b[1;32m    208\u001b[0m     \u001b[38;5;28;01mwith\u001b[39;00m config_context(\n\u001b[1;32m    209\u001b[0m         skip_parameter_validation\u001b[38;5;241m=\u001b[39m(\n\u001b[1;32m    210\u001b[0m             prefer_skip_nested_validation \u001b[38;5;129;01mor\u001b[39;00m global_skip_validation\n\u001b[1;32m    211\u001b[0m         )\n\u001b[1;32m    212\u001b[0m     ):\n\u001b[0;32m--> 213\u001b[0m         \u001b[38;5;28;01mreturn\u001b[39;00m \u001b[43mfunc\u001b[49m\u001b[43m(\u001b[49m\u001b[38;5;241;43m*\u001b[39;49m\u001b[43margs\u001b[49m\u001b[43m,\u001b[49m\u001b[43m \u001b[49m\u001b[38;5;241;43m*\u001b[39;49m\u001b[38;5;241;43m*\u001b[39;49m\u001b[43mkwargs\u001b[49m\u001b[43m)\u001b[49m\n\u001b[1;32m    214\u001b[0m \u001b[38;5;28;01mexcept\u001b[39;00m InvalidParameterError \u001b[38;5;28;01mas\u001b[39;00m e:\n\u001b[1;32m    215\u001b[0m     \u001b[38;5;66;03m# When the function is just a wrapper around an estimator, we allow\u001b[39;00m\n\u001b[1;32m    216\u001b[0m     \u001b[38;5;66;03m# the function to delegate validation to the estimator, but we replace\u001b[39;00m\n\u001b[1;32m    217\u001b[0m     \u001b[38;5;66;03m# the name of the estimator by the name of the function in the error\u001b[39;00m\n\u001b[1;32m    218\u001b[0m     \u001b[38;5;66;03m# message to avoid confusion.\u001b[39;00m\n\u001b[1;32m    219\u001b[0m     msg \u001b[38;5;241m=\u001b[39m re\u001b[38;5;241m.\u001b[39msub(\n\u001b[1;32m    220\u001b[0m         \u001b[38;5;124mr\u001b[39m\u001b[38;5;124m\"\u001b[39m\u001b[38;5;124mparameter of \u001b[39m\u001b[38;5;124m\\\u001b[39m\u001b[38;5;124mw+ must be\u001b[39m\u001b[38;5;124m\"\u001b[39m,\n\u001b[1;32m    221\u001b[0m         \u001b[38;5;124mf\u001b[39m\u001b[38;5;124m\"\u001b[39m\u001b[38;5;124mparameter of \u001b[39m\u001b[38;5;132;01m{\u001b[39;00mfunc\u001b[38;5;241m.\u001b[39m\u001b[38;5;18m__qualname__\u001b[39m\u001b[38;5;132;01m}\u001b[39;00m\u001b[38;5;124m must be\u001b[39m\u001b[38;5;124m\"\u001b[39m,\n\u001b[1;32m    222\u001b[0m         \u001b[38;5;28mstr\u001b[39m(e),\n\u001b[1;32m    223\u001b[0m     )\n",
      "File \u001b[0;32m/apps/bdi-venv-310/lib/python3.10/site-packages/sklearn/metrics/_classification.py:2913\u001b[0m, in \u001b[0;36mlog_loss\u001b[0;34m(y_true, y_pred, eps, normalize, sample_weight, labels)\u001b[0m\n\u001b[1;32m   2911\u001b[0m     lb\u001b[38;5;241m.\u001b[39mfit(labels)\n\u001b[1;32m   2912\u001b[0m \u001b[38;5;28;01melse\u001b[39;00m:\n\u001b[0;32m-> 2913\u001b[0m     \u001b[43mlb\u001b[49m\u001b[38;5;241;43m.\u001b[39;49m\u001b[43mfit\u001b[49m\u001b[43m(\u001b[49m\u001b[43my_true\u001b[49m\u001b[43m)\u001b[49m\n\u001b[1;32m   2915\u001b[0m \u001b[38;5;28;01mif\u001b[39;00m \u001b[38;5;28mlen\u001b[39m(lb\u001b[38;5;241m.\u001b[39mclasses_) \u001b[38;5;241m==\u001b[39m \u001b[38;5;241m1\u001b[39m:\n\u001b[1;32m   2916\u001b[0m     \u001b[38;5;28;01mif\u001b[39;00m labels \u001b[38;5;129;01mis\u001b[39;00m \u001b[38;5;28;01mNone\u001b[39;00m:\n",
      "File \u001b[0;32m/apps/bdi-venv-310/lib/python3.10/site-packages/sklearn/base.py:1351\u001b[0m, in \u001b[0;36m_fit_context.<locals>.decorator.<locals>.wrapper\u001b[0;34m(estimator, *args, **kwargs)\u001b[0m\n\u001b[1;32m   1344\u001b[0m     estimator\u001b[38;5;241m.\u001b[39m_validate_params()\n\u001b[1;32m   1346\u001b[0m \u001b[38;5;28;01mwith\u001b[39;00m config_context(\n\u001b[1;32m   1347\u001b[0m     skip_parameter_validation\u001b[38;5;241m=\u001b[39m(\n\u001b[1;32m   1348\u001b[0m         prefer_skip_nested_validation \u001b[38;5;129;01mor\u001b[39;00m global_skip_validation\n\u001b[1;32m   1349\u001b[0m     )\n\u001b[1;32m   1350\u001b[0m ):\n\u001b[0;32m-> 1351\u001b[0m     \u001b[38;5;28;01mreturn\u001b[39;00m \u001b[43mfit_method\u001b[49m\u001b[43m(\u001b[49m\u001b[43mestimator\u001b[49m\u001b[43m,\u001b[49m\u001b[43m \u001b[49m\u001b[38;5;241;43m*\u001b[39;49m\u001b[43margs\u001b[49m\u001b[43m,\u001b[49m\u001b[43m \u001b[49m\u001b[38;5;241;43m*\u001b[39;49m\u001b[38;5;241;43m*\u001b[39;49m\u001b[43mkwargs\u001b[49m\u001b[43m)\u001b[49m\n",
      "File \u001b[0;32m/apps/bdi-venv-310/lib/python3.10/site-packages/sklearn/preprocessing/_label.py:306\u001b[0m, in \u001b[0;36mLabelBinarizer.fit\u001b[0;34m(self, y)\u001b[0m\n\u001b[1;32m    303\u001b[0m     \u001b[38;5;28;01mraise\u001b[39;00m \u001b[38;5;167;01mValueError\u001b[39;00m(\u001b[38;5;124m\"\u001b[39m\u001b[38;5;124my has 0 samples: \u001b[39m\u001b[38;5;132;01m%r\u001b[39;00m\u001b[38;5;124m\"\u001b[39m \u001b[38;5;241m%\u001b[39m y)\n\u001b[1;32m    305\u001b[0m \u001b[38;5;28mself\u001b[39m\u001b[38;5;241m.\u001b[39msparse_input_ \u001b[38;5;241m=\u001b[39m sp\u001b[38;5;241m.\u001b[39missparse(y)\n\u001b[0;32m--> 306\u001b[0m \u001b[38;5;28mself\u001b[39m\u001b[38;5;241m.\u001b[39mclasses_ \u001b[38;5;241m=\u001b[39m \u001b[43munique_labels\u001b[49m\u001b[43m(\u001b[49m\u001b[43my\u001b[49m\u001b[43m)\u001b[49m\n\u001b[1;32m    307\u001b[0m \u001b[38;5;28;01mreturn\u001b[39;00m \u001b[38;5;28mself\u001b[39m\n",
      "File \u001b[0;32m/apps/bdi-venv-310/lib/python3.10/site-packages/sklearn/utils/multiclass.py:113\u001b[0m, in \u001b[0;36munique_labels\u001b[0;34m(*ys)\u001b[0m\n\u001b[1;32m    110\u001b[0m     unique_ys \u001b[38;5;241m=\u001b[39m xp\u001b[38;5;241m.\u001b[39mconcat([_unique_labels(y) \u001b[38;5;28;01mfor\u001b[39;00m y \u001b[38;5;129;01min\u001b[39;00m ys])\n\u001b[1;32m    111\u001b[0m     \u001b[38;5;28;01mreturn\u001b[39;00m xp\u001b[38;5;241m.\u001b[39munique_values(unique_ys)\n\u001b[0;32m--> 113\u001b[0m ys_labels \u001b[38;5;241m=\u001b[39m \u001b[38;5;28;43mset\u001b[39;49m\u001b[43m(\u001b[49m\u001b[43mchain\u001b[49m\u001b[38;5;241;43m.\u001b[39;49m\u001b[43mfrom_iterable\u001b[49m\u001b[43m(\u001b[49m\u001b[43m(\u001b[49m\u001b[43mi\u001b[49m\u001b[43m \u001b[49m\u001b[38;5;28;43;01mfor\u001b[39;49;00m\u001b[43m \u001b[49m\u001b[43mi\u001b[49m\u001b[43m \u001b[49m\u001b[38;5;129;43;01min\u001b[39;49;00m\u001b[43m \u001b[49m\u001b[43m_unique_labels\u001b[49m\u001b[43m(\u001b[49m\u001b[43my\u001b[49m\u001b[43m)\u001b[49m\u001b[43m)\u001b[49m\u001b[43m \u001b[49m\u001b[38;5;28;43;01mfor\u001b[39;49;00m\u001b[43m \u001b[49m\u001b[43my\u001b[49m\u001b[43m \u001b[49m\u001b[38;5;129;43;01min\u001b[39;49;00m\u001b[43m \u001b[49m\u001b[43mys\u001b[49m\u001b[43m)\u001b[49m\u001b[43m)\u001b[49m\n\u001b[1;32m    114\u001b[0m \u001b[38;5;66;03m# Check that we don't mix string type with number type\u001b[39;00m\n\u001b[1;32m    115\u001b[0m \u001b[38;5;28;01mif\u001b[39;00m \u001b[38;5;28mlen\u001b[39m(\u001b[38;5;28mset\u001b[39m(\u001b[38;5;28misinstance\u001b[39m(label, \u001b[38;5;28mstr\u001b[39m) \u001b[38;5;28;01mfor\u001b[39;00m label \u001b[38;5;129;01min\u001b[39;00m ys_labels)) \u001b[38;5;241m>\u001b[39m \u001b[38;5;241m1\u001b[39m:\n",
      "File \u001b[0;32m/apps/bdi-venv-310/lib/python3.10/site-packages/sklearn/utils/multiclass.py:113\u001b[0m, in \u001b[0;36m<genexpr>\u001b[0;34m(.0)\u001b[0m\n\u001b[1;32m    110\u001b[0m     unique_ys \u001b[38;5;241m=\u001b[39m xp\u001b[38;5;241m.\u001b[39mconcat([_unique_labels(y) \u001b[38;5;28;01mfor\u001b[39;00m y \u001b[38;5;129;01min\u001b[39;00m ys])\n\u001b[1;32m    111\u001b[0m     \u001b[38;5;28;01mreturn\u001b[39;00m xp\u001b[38;5;241m.\u001b[39munique_values(unique_ys)\n\u001b[0;32m--> 113\u001b[0m ys_labels \u001b[38;5;241m=\u001b[39m \u001b[38;5;28mset\u001b[39m(chain\u001b[38;5;241m.\u001b[39mfrom_iterable((i \u001b[38;5;28;01mfor\u001b[39;00m i \u001b[38;5;129;01min\u001b[39;00m \u001b[43m_unique_labels\u001b[49m\u001b[43m(\u001b[49m\u001b[43my\u001b[49m\u001b[43m)\u001b[49m) \u001b[38;5;28;01mfor\u001b[39;00m y \u001b[38;5;129;01min\u001b[39;00m ys))\n\u001b[1;32m    114\u001b[0m \u001b[38;5;66;03m# Check that we don't mix string type with number type\u001b[39;00m\n\u001b[1;32m    115\u001b[0m \u001b[38;5;28;01mif\u001b[39;00m \u001b[38;5;28mlen\u001b[39m(\u001b[38;5;28mset\u001b[39m(\u001b[38;5;28misinstance\u001b[39m(label, \u001b[38;5;28mstr\u001b[39m) \u001b[38;5;28;01mfor\u001b[39;00m label \u001b[38;5;129;01min\u001b[39;00m ys_labels)) \u001b[38;5;241m>\u001b[39m \u001b[38;5;241m1\u001b[39m:\n",
      "File \u001b[0;32m/apps/bdi-venv-310/lib/python3.10/site-packages/sklearn/utils/multiclass.py:26\u001b[0m, in \u001b[0;36m_unique_multiclass\u001b[0;34m(y)\u001b[0m\n\u001b[1;32m     24\u001b[0m     \u001b[38;5;28;01mreturn\u001b[39;00m xp\u001b[38;5;241m.\u001b[39munique_values(xp\u001b[38;5;241m.\u001b[39masarray(y))\n\u001b[1;32m     25\u001b[0m \u001b[38;5;28;01melse\u001b[39;00m:\n\u001b[0;32m---> 26\u001b[0m     \u001b[38;5;28;01mreturn\u001b[39;00m \u001b[38;5;28;43mset\u001b[39;49m\u001b[43m(\u001b[49m\u001b[43my\u001b[49m\u001b[43m)\u001b[49m\n",
      "\u001b[0;31mTypeError\u001b[0m: unhashable type: 'csr_matrix'"
     ]
    }
   ],
   "source": [
    "log_loss(X[:,0],sigmoid(X@np.zeros(I)))"
   ]
  },
  {
   "cell_type": "code",
   "execution_count": 227,
   "id": "67b45081-728c-4655-945b-8ef298fefd5c",
   "metadata": {
    "execution": {
     "iopub.execute_input": "2024-06-22T21:49:29.524396Z",
     "iopub.status.busy": "2024-06-22T21:49:29.523972Z",
     "iopub.status.idle": "2024-06-22T21:49:29.539915Z",
     "shell.execute_reply": "2024-06-22T21:49:29.539537Z",
     "shell.execute_reply.started": "2024-06-22T21:49:29.524375Z"
    }
   },
   "outputs": [],
   "source": [
    "X = 2 * np.random.binomial(1,0.5,size=(5,5)) - 1"
   ]
  },
  {
   "cell_type": "code",
   "execution_count": 239,
   "id": "8ca085ff-1673-48f4-8ed8-f2694a571348",
   "metadata": {
    "execution": {
     "iopub.execute_input": "2024-06-22T21:51:52.715246Z",
     "iopub.status.busy": "2024-06-22T21:51:52.714841Z",
     "iopub.status.idle": "2024-06-22T21:51:52.718464Z",
     "shell.execute_reply": "2024-06-22T21:51:52.718041Z",
     "shell.execute_reply.started": "2024-06-22T21:51:52.715225Z"
    }
   },
   "outputs": [],
   "source": [
    "Xp = np.where(X==-1,0,1)\n",
    "Xn = np.where(X==1,0,-1)\n",
    "\n",
    "w = np.random.uniform(size=5)\n"
   ]
  },
  {
   "cell_type": "code",
   "execution_count": 240,
   "id": "9407283d-a7a8-4ab0-b34c-50b0162fb0d2",
   "metadata": {
    "execution": {
     "iopub.execute_input": "2024-06-22T21:51:55.852066Z",
     "iopub.status.busy": "2024-06-22T21:51:55.851649Z",
     "iopub.status.idle": "2024-06-22T21:51:55.856010Z",
     "shell.execute_reply": "2024-06-22T21:51:55.855607Z",
     "shell.execute_reply.started": "2024-06-22T21:51:55.852045Z"
    }
   },
   "outputs": [
    {
     "data": {
      "text/plain": [
       "array([ 1.20294548,  1.51995758, -1.60616126,  1.60616126, -2.16785936])"
      ]
     },
     "execution_count": 240,
     "metadata": {},
     "output_type": "execute_result"
    }
   ],
   "source": [
    "X@w"
   ]
  },
  {
   "cell_type": "code",
   "execution_count": 241,
   "id": "af75b0a6-106d-4e88-a076-ffaca17010e9",
   "metadata": {
    "execution": {
     "iopub.execute_input": "2024-06-22T21:52:02.325623Z",
     "iopub.status.busy": "2024-06-22T21:52:02.325186Z",
     "iopub.status.idle": "2024-06-22T21:52:02.329043Z",
     "shell.execute_reply": "2024-06-22T21:52:02.328699Z",
     "shell.execute_reply.started": "2024-06-22T21:52:02.325602Z"
    }
   },
   "outputs": [
    {
     "data": {
      "text/plain": [
       "array([ 1.20294548,  1.51995758, -1.60616126,  1.60616126, -2.16785936])"
      ]
     },
     "execution_count": 241,
     "metadata": {},
     "output_type": "execute_result"
    }
   ],
   "source": [
    "Xp@w + Xn@w"
   ]
  },
  {
   "cell_type": "code",
   "execution_count": null,
   "id": "f7f0cd6d-7fee-48d3-aeb4-2b55befaeab8",
   "metadata": {},
   "outputs": [],
   "source": []
  }
 ],
 "metadata": {
  "kernelspec": {
   "display_name": "Python 3.10 (recommended)",
   "language": "python",
   "name": "python310"
  },
  "language_info": {
   "codemirror_mode": {
    "name": "ipython",
    "version": 3
   },
   "file_extension": ".py",
   "mimetype": "text/x-python",
   "name": "python",
   "nbconvert_exporter": "python",
   "pygments_lexer": "ipython3",
   "version": "3.10.14"
  }
 },
 "nbformat": 4,
 "nbformat_minor": 5
}
