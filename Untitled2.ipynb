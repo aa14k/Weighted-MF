{
 "cells": [
  {
   "cell_type": "code",
   "execution_count": 5,
   "id": "30d8ecd2-35ad-4f2f-8e40-7a78651eff77",
   "metadata": {
    "execution": {
     "iopub.execute_input": "2024-09-19T16:59:24.697445Z",
     "iopub.status.busy": "2024-09-19T16:59:24.697150Z",
     "iopub.status.idle": "2024-09-19T16:59:26.362509Z",
     "shell.execute_reply": "2024-09-19T16:59:26.361918Z",
     "shell.execute_reply.started": "2024-09-19T16:59:24.697420Z"
    }
   },
   "outputs": [],
   "source": [
    "import utils as ut\n",
    "import scipy.sparse as scs\n",
    "import numpy as np\n",
    "import scipy as sc\n",
    "from tqdm.notebook import tqdm"
   ]
  },
  {
   "cell_type": "code",
   "execution_count": 6,
   "id": "47039781-2067-4647-83cf-2eb2176cb9d4",
   "metadata": {
    "execution": {
     "iopub.execute_input": "2024-09-19T16:59:32.589588Z",
     "iopub.status.busy": "2024-09-19T16:59:32.589291Z",
     "iopub.status.idle": "2024-09-19T16:59:35.021012Z",
     "shell.execute_reply": "2024-09-19T16:59:35.020376Z",
     "shell.execute_reply.started": "2024-09-19T16:59:32.589559Z"
    }
   },
   "outputs": [
    {
     "name": "stdout",
     "output_type": "stream",
     "text": [
      "(116677, 20108)\n"
     ]
    }
   ],
   "source": [
    "items=20108\n",
    "userCnt , X= ut.load_xtx_binary(items)\n",
    "users = 116677\n",
    "nonzeros = X.nonzero()\n",
    "nonzerosT = (X.T).nonzero()"
   ]
  },
  {
   "cell_type": "code",
   "execution_count": 4,
   "id": "9d9d1cb5-ce7c-40eb-bc4e-8be5b495f345",
   "metadata": {
    "execution": {
     "iopub.execute_input": "2024-09-19T16:59:13.172331Z",
     "iopub.status.busy": "2024-09-19T16:59:13.171590Z",
     "iopub.status.idle": "2024-09-19T16:59:14.381526Z",
     "shell.execute_reply": "2024-09-19T16:59:14.380925Z",
     "shell.execute_reply.started": "2024-09-19T16:59:13.172300Z"
    }
   },
   "outputs": [],
   "source": [
    "xval =np.load('xvals.npy')\n",
    "xvec = np.load('xvecs.npy')"
   ]
  },
  {
   "cell_type": "code",
   "execution_count": 8,
   "id": "40ef52c6-cd52-49bc-8664-d0d14160dd4b",
   "metadata": {
    "execution": {
     "iopub.execute_input": "2024-09-19T17:00:03.213449Z",
     "iopub.status.busy": "2024-09-19T17:00:03.213075Z",
     "iopub.status.idle": "2024-09-19T17:00:03.266596Z",
     "shell.execute_reply": "2024-09-19T17:00:03.265937Z",
     "shell.execute_reply.started": "2024-09-19T17:00:03.213413Z"
    }
   },
   "outputs": [
    {
     "ename": "NameError",
     "evalue": "name 'd' is not defined",
     "output_type": "error",
     "traceback": [
      "\u001b[0;31m---------------------------------------------------------------------------\u001b[0m",
      "\u001b[0;31mNameError\u001b[0m                                 Traceback (most recent call last)",
      "Cell \u001b[0;32mIn[8], line 1\u001b[0m\n\u001b[0;32m----> 1\u001b[0m V \u001b[38;5;241m=\u001b[39m np\u001b[38;5;241m.\u001b[39mrandom\u001b[38;5;241m.\u001b[39mnormal(size\u001b[38;5;241m=\u001b[39m(items,\u001b[43md\u001b[49m)) \u001b[38;5;241m*\u001b[39m \u001b[38;5;241m0.001\u001b[39m\n\u001b[1;32m      2\u001b[0m U \u001b[38;5;241m=\u001b[39m np\u001b[38;5;241m.\u001b[39mrandom\u001b[38;5;241m.\u001b[39mnormal(size\u001b[38;5;241m=\u001b[39m(items,d)) \u001b[38;5;241m*\u001b[39m \u001b[38;5;241m0.001\u001b[39m\n",
      "\u001b[0;31mNameError\u001b[0m: name 'd' is not defined"
     ]
    }
   ],
   "source": [
    "V = np.random.normal(size=(items,d)) * 0.001\n",
    "U = np.random.normal(size=(items,d)) * 0.001"
   ]
  },
  {
   "cell_type": "code",
   "execution_count": 14,
   "id": "2300af38-12f4-464f-bfa2-7ba322bd5791",
   "metadata": {
    "execution": {
     "iopub.execute_input": "2024-09-19T17:01:50.408680Z",
     "iopub.status.busy": "2024-09-19T17:01:50.408066Z",
     "iopub.status.idle": "2024-09-19T17:01:50.415509Z",
     "shell.execute_reply": "2024-09-19T17:01:50.414766Z",
     "shell.execute_reply.started": "2024-09-19T17:01:50.408655Z"
    }
   },
   "outputs": [],
   "source": [
    "def get_wmf_V_cg(weight,lam,d,items):\n",
    "    v = V.flatten('F')\n",
    "    XU = X@U\n",
    "    pd = np.linalg.inv(np.array(XU.T @ XU + lam*sc.sparse.eye(d)))\n",
    "    VUX = V@XU.T\n",
    "    VUX[nonzerosT] *= weight\n",
    "    r = (W2X.T @ XU).flatten('F') - (VUX @ XU + lam*V).flatten('F') \n",
    "    z = (r.reshape(items,d,order='F') @ pd).flatten('F')\n",
    "    p = z\n",
    "    for _ in tqdm(range(210)):\n",
    "        print(_)\n",
    "        P = p.reshape((items,d),order='F')\n",
    "        PUX = P@XU.T\n",
    "        PUX[nonzerosT] *= weight\n",
    "        Ap = (lam * P + PUX @ XU).flatten('F')\n",
    "        alpha = np.dot(r,z) / max(1e-300,np.dot(p,Ap))\n",
    "        v = v + alpha * p\n",
    "        r_new = r - alpha * Ap\n",
    "        #print('V:',np.linalg.norm(r_new))\n",
    "        if np.linalg.norm(r_new) < 1e-8:\n",
    "            #print('success')\n",
    "            return v.reshape((items,d),order='F')\n",
    "        z_new = (r_new.reshape((items,d),order='F')@pd).flatten('F')\n",
    "        beta = np.dot(r_new,z_new) / max(1e-300,np.dot(r,z))\n",
    "        p = z_new + beta * p\n",
    "        r = r_new\n",
    "        z = z_new\n",
    "    #print(np.linalg.norm(r_new))\n",
    "    return v.reshape((items,d),order='F')"
   ]
  },
  {
   "cell_type": "code",
   "execution_count": 15,
   "id": "60595471-c98b-4e60-935f-28aef360d1ad",
   "metadata": {
    "execution": {
     "iopub.execute_input": "2024-09-19T17:01:51.459972Z",
     "iopub.status.busy": "2024-09-19T17:01:51.459602Z",
     "iopub.status.idle": "2024-09-19T17:02:00.458630Z",
     "shell.execute_reply": "2024-09-19T17:02:00.458093Z",
     "shell.execute_reply.started": "2024-09-19T17:01:51.459947Z"
    }
   },
   "outputs": [
    {
     "data": {
      "application/vnd.jupyter.widget-view+json": {
       "model_id": "b8e023c0ced947fe80f71a62f0583d39",
       "version_major": 2,
       "version_minor": 0
      },
      "text/plain": [
       "  0%|          | 0/210 [00:00<?, ?it/s]"
      ]
     },
     "metadata": {},
     "output_type": "display_data"
    },
    {
     "name": "stdout",
     "output_type": "stream",
     "text": [
      "0\n"
     ]
    },
    {
     "data": {
      "text/plain": [
       "array([[-3.57956802e-02, -3.49896951e-02, -2.39582711e-04, ...,\n",
       "         4.67346341e-02, -6.08306936e-02, -1.09315340e-01],\n",
       "       [-1.46925408e-01, -4.40182554e-02,  8.47056092e-03, ...,\n",
       "         1.68505658e-01, -6.93732915e-02, -3.27226621e-01],\n",
       "       [-1.22307877e-01, -1.59230520e-01,  1.68673275e-02, ...,\n",
       "         1.01391710e-01, -1.22828144e-01, -2.35526117e-01],\n",
       "       ...,\n",
       "       [ 3.46074381e-06,  6.66893573e-05,  9.72811271e-05, ...,\n",
       "         1.76064707e-04,  3.38264789e-05, -1.19670793e-04],\n",
       "       [ 3.46074381e-06,  6.66893573e-05,  9.72811271e-05, ...,\n",
       "         1.76064707e-04,  3.38264789e-05, -1.19670793e-04],\n",
       "       [ 3.46074381e-06,  6.66893573e-05,  9.72811271e-05, ...,\n",
       "         1.76064707e-04,  3.38264789e-05, -1.19670793e-04]])"
      ]
     },
     "execution_count": 15,
     "metadata": {},
     "output_type": "execute_result"
    }
   ],
   "source": [
    "d = 10\n",
    "lam = 200\n",
    "weight = 1\n",
    "W2X = weight * X\n",
    "V = np.random.normal(size=(items,d)) * 0.001\n",
    "U = np.random.normal(size=(items,d)) * 0.001\n",
    "get_wmf_V_cg(weight,lam,d,items)"
   ]
  },
  {
   "cell_type": "code",
   "execution_count": null,
   "id": "ca4f8f9a-0fcf-4f2c-bef9-47014a82e2a3",
   "metadata": {},
   "outputs": [],
   "source": []
  }
 ],
 "metadata": {
  "kernelspec": {
   "display_name": "Python 3.10 (recommended)",
   "language": "python",
   "name": "python310"
  },
  "language_info": {
   "codemirror_mode": {
    "name": "ipython",
    "version": 3
   },
   "file_extension": ".py",
   "mimetype": "text/x-python",
   "name": "python",
   "nbconvert_exporter": "python",
   "pygments_lexer": "ipython3",
   "version": "3.10.15"
  }
 },
 "nbformat": 4,
 "nbformat_minor": 5
}
