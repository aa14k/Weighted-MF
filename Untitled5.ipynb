{
 "cells": [
  {
   "cell_type": "code",
   "execution_count": 1,
   "id": "400e8748-2723-482e-9365-7706133d9518",
   "metadata": {
    "execution": {
     "iopub.execute_input": "2024-10-12T00:45:28.690061Z",
     "iopub.status.busy": "2024-10-12T00:45:28.689878Z",
     "iopub.status.idle": "2024-10-12T00:45:28.887518Z",
     "shell.execute_reply": "2024-10-12T00:45:28.886729Z",
     "shell.execute_reply.started": "2024-10-12T00:45:28.690045Z"
    }
   },
   "outputs": [
    {
     "ename": "NameError",
     "evalue": "name 'ut' is not defined",
     "output_type": "error",
     "traceback": [
      "\u001b[0;31m---------------------------------------------------------------------------\u001b[0m",
      "\u001b[0;31mNameError\u001b[0m                                 Traceback (most recent call last)",
      "Cell \u001b[0;32mIn[1], line 2\u001b[0m\n\u001b[1;32m      1\u001b[0m path \u001b[38;5;241m=\u001b[39m \u001b[38;5;124m'\u001b[39m\u001b[38;5;124m/efs/users/hsteck/public/datasets/msd_data/pro_sg\u001b[39m\u001b[38;5;124m'\u001b[39m\n\u001b[0;32m----> 2\u001b[0m X \u001b[38;5;241m=\u001b[39m \u001b[43mut\u001b[49m\u001b[38;5;241m.\u001b[39mload_train_data(path)\n\u001b[1;32m      3\u001b[0m \u001b[38;5;66;03m#X =sc.sparse.random(10000,1000,density=0.01,format='csr')\u001b[39;00m\n\u001b[1;32m      4\u001b[0m users,items \u001b[38;5;241m=\u001b[39m X\u001b[38;5;241m.\u001b[39mshape[\u001b[38;5;241m0\u001b[39m],X\u001b[38;5;241m.\u001b[39mshape[\u001b[38;5;241m1\u001b[39m]\n",
      "\u001b[0;31mNameError\u001b[0m: name 'ut' is not defined"
     ]
    }
   ],
   "source": [
    "path = '/efs/users/hsteck/public/datasets/msd_data/pro_sg'\n",
    "X = ut.load_train_data(path)\n",
    "#X =sc.sparse.random(10000,1000,density=0.01,format='csr')\n",
    "users,items = X.shape[0],X.shape[1]"
   ]
  },
  {
   "cell_type": "code",
   "execution_count": 2,
   "id": "f04defa2-e3fa-4f7f-b063-bb0fdc1d0651",
   "metadata": {
    "execution": {
     "iopub.execute_input": "2024-10-12T00:49:17.378032Z",
     "iopub.status.busy": "2024-10-12T00:49:17.377447Z",
     "iopub.status.idle": "2024-10-12T01:27:55.253155Z",
     "shell.execute_reply": "2024-10-12T01:27:55.252321Z",
     "shell.execute_reply.started": "2024-10-12T00:49:17.378009Z"
    }
   },
   "outputs": [
    {
     "data": {
      "application/vnd.jupyter.widget-view+json": {
       "model_id": "d8e5dfd6425246ed997bb914a4d1a2b8",
       "version_major": 2,
       "version_minor": 0
      },
      "text/plain": [
       "  0%|          | 0/5 [00:00<?, ?it/s]"
      ]
     },
     "metadata": {},
     "output_type": "display_data"
    },
    {
     "data": {
      "application/vnd.jupyter.widget-view+json": {
       "model_id": "a728341dbba64e5c936ea72a47d3ad9d",
       "version_major": 2,
       "version_minor": 0
      },
      "text/plain": [
       "  0%|          | 0/25 [00:00<?, ?it/s]"
      ]
     },
     "metadata": {},
     "output_type": "display_data"
    },
    {
     "data": {
      "application/vnd.jupyter.widget-view+json": {
       "model_id": "48ff5015d93840798022324bf9295ec0",
       "version_major": 2,
       "version_minor": 0
      },
      "text/plain": [
       "  0%|          | 0/25 [00:00<?, ?it/s]"
      ]
     },
     "metadata": {},
     "output_type": "display_data"
    },
    {
     "ename": "KeyboardInterrupt",
     "evalue": "",
     "output_type": "error",
     "traceback": [
      "\u001b[0;31m---------------------------------------------------------------------------\u001b[0m",
      "\u001b[0;31mKeyboardInterrupt\u001b[0m                         Traceback (most recent call last)",
      "Cell \u001b[0;32mIn[2], line 68\u001b[0m\n\u001b[1;32m     66\u001b[0m     UtU_lam \u001b[38;5;241m=\u001b[39m U\u001b[38;5;241m.\u001b[39mT\u001b[38;5;129m@U\u001b[39m \u001b[38;5;241m+\u001b[39m eye\n\u001b[1;32m     67\u001b[0m     pc \u001b[38;5;241m=\u001b[39m np\u001b[38;5;241m.\u001b[39mlinalg\u001b[38;5;241m.\u001b[39minv(UtU_lam)\n\u001b[0;32m---> 68\u001b[0m     V \u001b[38;5;241m=\u001b[39m \u001b[43mget_V_cg\u001b[49m\u001b[43m(\u001b[49m\u001b[43mpc\u001b[49m\u001b[43m,\u001b[49m\u001b[43mWXT\u001b[49m\u001b[43m,\u001b[49m\u001b[43mUtU_lam\u001b[49m\u001b[43m,\u001b[49m\u001b[43mU\u001b[49m\u001b[43m,\u001b[49m\u001b[43mweight\u001b[49m\u001b[43m,\u001b[49m\u001b[43mV\u001b[49m\u001b[43m)\u001b[49m\n\u001b[1;32m     70\u001b[0m X_val \u001b[38;5;241m=\u001b[39m ut\u001b[38;5;241m.\u001b[39mload_tr_te_data(path,\u001b[38;5;28;01mFalse\u001b[39;00m)\n\u001b[1;32m     71\u001b[0m VtV_lam \u001b[38;5;241m=\u001b[39m V\u001b[38;5;241m.\u001b[39mT \u001b[38;5;241m@\u001b[39m V \u001b[38;5;241m+\u001b[39m eye\n",
      "Cell \u001b[0;32mIn[2], line 41\u001b[0m, in \u001b[0;36mget_V_cg\u001b[0;34m(pc, WXT, UtU_lam, U, weight, V)\u001b[0m\n\u001b[1;32m     39\u001b[0m p \u001b[38;5;241m=\u001b[39m z\u001b[38;5;241m.\u001b[39mcopy()\n\u001b[1;32m     40\u001b[0m \u001b[38;5;28;01mfor\u001b[39;00m _ \u001b[38;5;129;01min\u001b[39;00m tqdm(\u001b[38;5;28mrange\u001b[39m(\u001b[38;5;241m25\u001b[39m)):\n\u001b[0;32m---> 41\u001b[0m     pVtV \u001b[38;5;241m=\u001b[39m np\u001b[38;5;241m.\u001b[39marray(\u001b[43m(\u001b[49m\u001b[43mWXT\u001b[49m\u001b[38;5;241;43m.\u001b[39;49m\u001b[43mmultiply\u001b[49m\u001b[43m(\u001b[49m\u001b[43mp\u001b[49m\u001b[38;5;129;43m@U\u001b[39;49m\u001b[38;5;241;43m.\u001b[39;49m\u001b[43mT\u001b[49m\u001b[43m)\u001b[49m\u001b[43m)\u001b[49m\u001b[38;5;129;43m@U\u001b[39;49m \u001b[38;5;241m+\u001b[39m p\u001b[38;5;129m@UtU_lam\u001b[39m)\n\u001b[1;32m     42\u001b[0m     rtz \u001b[38;5;241m=\u001b[39m np\u001b[38;5;241m.\u001b[39minner(r\u001b[38;5;241m.\u001b[39mflatten(\u001b[38;5;124m'\u001b[39m\u001b[38;5;124mF\u001b[39m\u001b[38;5;124m'\u001b[39m),z\u001b[38;5;241m.\u001b[39mflatten(\u001b[38;5;124m'\u001b[39m\u001b[38;5;124mF\u001b[39m\u001b[38;5;124m'\u001b[39m))  \n\u001b[1;32m     43\u001b[0m     alpha \u001b[38;5;241m=\u001b[39m rtz \u001b[38;5;241m/\u001b[39m \u001b[38;5;28mmax\u001b[39m(\u001b[38;5;241m1e-32\u001b[39m,np\u001b[38;5;241m.\u001b[39minner(p\u001b[38;5;241m.\u001b[39mflatten(\u001b[38;5;124m'\u001b[39m\u001b[38;5;124mF\u001b[39m\u001b[38;5;124m'\u001b[39m),pVtV\u001b[38;5;241m.\u001b[39mflatten(\u001b[38;5;124m'\u001b[39m\u001b[38;5;124mF\u001b[39m\u001b[38;5;124m'\u001b[39m)))\n",
      "File \u001b[0;32m/apps/bdi-venv-310/lib/python3.10/site-packages/scipy/sparse/_base.py:695\u001b[0m, in \u001b[0;36m_spbase.__matmul__\u001b[0;34m(self, other)\u001b[0m\n\u001b[1;32m    692\u001b[0m \u001b[38;5;28;01mif\u001b[39;00m isscalarlike(other):\n\u001b[1;32m    693\u001b[0m     \u001b[38;5;28;01mraise\u001b[39;00m \u001b[38;5;167;01mValueError\u001b[39;00m(\u001b[38;5;124m\"\u001b[39m\u001b[38;5;124mScalar operands are not allowed, \u001b[39m\u001b[38;5;124m\"\u001b[39m\n\u001b[1;32m    694\u001b[0m                      \u001b[38;5;124m\"\u001b[39m\u001b[38;5;124muse \u001b[39m\u001b[38;5;124m'\u001b[39m\u001b[38;5;124m*\u001b[39m\u001b[38;5;124m'\u001b[39m\u001b[38;5;124m instead\u001b[39m\u001b[38;5;124m\"\u001b[39m)\n\u001b[0;32m--> 695\u001b[0m \u001b[38;5;28;01mreturn\u001b[39;00m \u001b[38;5;28;43mself\u001b[39;49m\u001b[38;5;241;43m.\u001b[39;49m\u001b[43m_matmul_dispatch\u001b[49m\u001b[43m(\u001b[49m\u001b[43mother\u001b[49m\u001b[43m)\u001b[49m\n",
      "File \u001b[0;32m/apps/bdi-venv-310/lib/python3.10/site-packages/scipy/sparse/_base.py:595\u001b[0m, in \u001b[0;36m_spbase._matmul_dispatch\u001b[0;34m(self, other)\u001b[0m\n\u001b[1;32m    593\u001b[0m         \u001b[38;5;28;01mreturn\u001b[39;00m result\u001b[38;5;241m.\u001b[39mreshape(M, \u001b[38;5;241m1\u001b[39m)\n\u001b[1;32m    594\u001b[0m     \u001b[38;5;28;01melif\u001b[39;00m other\u001b[38;5;241m.\u001b[39mndim \u001b[38;5;241m==\u001b[39m \u001b[38;5;241m2\u001b[39m \u001b[38;5;129;01mand\u001b[39;00m other\u001b[38;5;241m.\u001b[39mshape[\u001b[38;5;241m0\u001b[39m] \u001b[38;5;241m==\u001b[39m N:\n\u001b[0;32m--> 595\u001b[0m         \u001b[38;5;28;01mreturn\u001b[39;00m \u001b[38;5;28;43mself\u001b[39;49m\u001b[38;5;241;43m.\u001b[39;49m\u001b[43m_matmul_multivector\u001b[49m\u001b[43m(\u001b[49m\u001b[43mother\u001b[49m\u001b[43m)\u001b[49m\n\u001b[1;32m    597\u001b[0m \u001b[38;5;28;01mif\u001b[39;00m isscalarlike(other):\n\u001b[1;32m    598\u001b[0m     \u001b[38;5;66;03m# scalar value\u001b[39;00m\n\u001b[1;32m    599\u001b[0m     \u001b[38;5;28;01mreturn\u001b[39;00m \u001b[38;5;28mself\u001b[39m\u001b[38;5;241m.\u001b[39m_mul_scalar(other)\n",
      "File \u001b[0;32m/apps/bdi-venv-310/lib/python3.10/site-packages/scipy/sparse/_coo.py:577\u001b[0m, in \u001b[0;36m_coo_base._matmul_multivector\u001b[0;34m(self, other)\u001b[0m\n\u001b[1;32m    575\u001b[0m result \u001b[38;5;241m=\u001b[39m np\u001b[38;5;241m.\u001b[39mzeros(result_shape, dtype\u001b[38;5;241m=\u001b[39mresult_dtype)\n\u001b[1;32m    576\u001b[0m \u001b[38;5;28;01mfor\u001b[39;00m i, other_col \u001b[38;5;129;01min\u001b[39;00m \u001b[38;5;28menumerate\u001b[39m(other\u001b[38;5;241m.\u001b[39mT):\n\u001b[0;32m--> 577\u001b[0m     \u001b[43mcoo_matvec\u001b[49m\u001b[43m(\u001b[49m\u001b[38;5;28;43mself\u001b[39;49m\u001b[38;5;241;43m.\u001b[39;49m\u001b[43mnnz\u001b[49m\u001b[43m,\u001b[49m\u001b[43m \u001b[49m\u001b[43mrow\u001b[49m\u001b[43m,\u001b[49m\u001b[43m \u001b[49m\u001b[43mcol\u001b[49m\u001b[43m,\u001b[49m\u001b[43m \u001b[49m\u001b[38;5;28;43mself\u001b[39;49m\u001b[38;5;241;43m.\u001b[39;49m\u001b[43mdata\u001b[49m\u001b[43m,\u001b[49m\u001b[43m \u001b[49m\u001b[43mother_col\u001b[49m\u001b[43m,\u001b[49m\u001b[43m \u001b[49m\u001b[43mresult\u001b[49m\u001b[43m[\u001b[49m\u001b[43mi\u001b[49m\u001b[43m:\u001b[49m\u001b[43mi\u001b[49m\u001b[43m \u001b[49m\u001b[38;5;241;43m+\u001b[39;49m\u001b[43m \u001b[49m\u001b[38;5;241;43m1\u001b[39;49m\u001b[43m]\u001b[49m\u001b[43m)\u001b[49m\n\u001b[1;32m    578\u001b[0m \u001b[38;5;28;01mreturn\u001b[39;00m result\u001b[38;5;241m.\u001b[39mT\u001b[38;5;241m.\u001b[39mview(\u001b[38;5;28mtype\u001b[39m\u001b[38;5;241m=\u001b[39m\u001b[38;5;28mtype\u001b[39m(other))\n",
      "\u001b[0;31mKeyboardInterrupt\u001b[0m: "
     ]
    }
   ],
   "source": [
    "import utils as ut\n",
    "import scipy as sc\n",
    "import numpy as np\n",
    "from tqdm.notebook import tqdm\n",
    "from joblib import Parallel, delayed\n",
    "\n",
    "path = '/efs/users/hsteck/public/datasets/msd_data/pro_sg'\n",
    "X = ut.load_train_data(path)\n",
    "#X =sc.sparse.random(10000,1000,density=0.01,format='csr')\n",
    "users,items = X.shape[0],X.shape[1]\n",
    "\n",
    "def get_U_cg(pc,VtV_lam,V,weight,U,X):\n",
    "    WX = (weight-1)*X\n",
    "    XWV = np.array((weight*X).dot(V))\n",
    "    UVtV = np.array(U@VtV_lam + (WX.multiply(U@V.T))@V)\n",
    "    r = XWV - UVtV\n",
    "    z = r.dot(pc)\n",
    "    p = z.copy()\n",
    "    for _ in tqdm(range(25)):\n",
    "        pVtV = np.array(p@VtV_lam + (WX.multiply(p@V.T))@V)\n",
    "        rtz = np.inner(r.flatten('F'),z.flatten('F'))  \n",
    "        alpha = rtz / max(1e-32,np.inner(p.flatten('F'),pVtV.flatten('F')))\n",
    "        U += alpha * p\n",
    "        r -= alpha * pVtV\n",
    "        rnorm = np.linalg.norm(r.flatten('F'))\n",
    "        if rnorm <= 1e-8:\n",
    "            return U\n",
    "        z = r.dot(pc)\n",
    "        beta = np.inner(r.flatten('F'),z.flatten('F')) / rtz\n",
    "        p = z + beta * p\n",
    "    return U\n",
    "\n",
    "\n",
    "def get_V_cg(pc,WXT,UtU_lam,U,weight,V):\n",
    "    XWU = np.array((weight*X).T.dot(U))\n",
    "    VUtU = np.array((WXT.multiply(V@U.T))@U + V@UtU_lam)\n",
    "    r = XWU - VUtU\n",
    "    z = r.dot(pc)\n",
    "    p = z.copy()\n",
    "    for _ in tqdm(range(25)):\n",
    "        pVtV = np.array((WXT.multiply(p@U.T))@U + p@UtU_lam)\n",
    "        rtz = np.inner(r.flatten('F'),z.flatten('F'))  \n",
    "        alpha = rtz / max(1e-32,np.inner(p.flatten('F'),pVtV.flatten('F')))\n",
    "        V += alpha * p\n",
    "        r -= alpha * pVtV\n",
    "        rnorm = np.linalg.norm(r.flatten('F'))\n",
    "        if rnorm <= 1e-8:\n",
    "            return V\n",
    "        z = r.dot(pc)\n",
    "        beta = np.inner(r.flatten('F'),z.flatten('F')) / rtz\n",
    "        p = z + beta * p\n",
    "    return U\n",
    "\n",
    "d = 2000\n",
    "lam = 100.0\n",
    "eye = lam * np.eye(d)\n",
    "weight = 2\n",
    "V = np.random.randn(items,d) * 0.01\n",
    "U = np.random.randn(users,d) * 0.01\n",
    "WX = (weight-1)*X\n",
    "WXT = WX.T\n",
    "for _ in tqdm(range(5)):\n",
    "    VtV_lam = V.T @ V + eye\n",
    "    pc = np.linalg.inv(VtV_lam)\n",
    "    U = get_U_cg(pc,VtV_lam,V,weight,U,X)\n",
    "    UtU_lam = U.T@U + eye\n",
    "    pc = np.linalg.inv(UtU_lam)\n",
    "    V = get_V_cg(pc,WXT,UtU_lam,U,weight,V)\n",
    "\n",
    "X_val = ut.load_tr_te_data(path,False)\n",
    "VtV_lam = V.T @ V + eye\n",
    "pc = np.linalg.inv(VtV_lam)\n",
    "U_val = np.random.randn(X.shape[0],d)*0.01\n",
    "U_val = get_U_cg(pc,VtV_lam,V,weight,U_val,X_Val)\n",
    "print('Validation Metrics')\n",
    "ut.evaluate_wmf(U_Val@V.T, path, False)\n",
    "\n",
    "X_test = ut.load_tr_te_data(path,True)\n",
    "VtV_lam = V.T @ V + eye\n",
    "pc = np.linalg.inv(VtV_lam)\n",
    "U_test = np.random.randn(X.shape[0],d)*0.01\n",
    "U_test = get_U_cg(pc,VtV_lam,V,weight,U_test,X_test)\n",
    "print('Test Metrics')\n",
    "ut.evaluate_wmf(U_test@V.T, path, False)"
   ]
  },
  {
   "cell_type": "code",
   "execution_count": null,
   "id": "b185454c-faf8-4670-bb3b-0295b978ffd8",
   "metadata": {},
   "outputs": [],
   "source": []
  }
 ],
 "metadata": {
  "kernelspec": {
   "display_name": "Python 3.10 (recommended)",
   "language": "python",
   "name": "python310"
  },
  "language_info": {
   "codemirror_mode": {
    "name": "ipython",
    "version": 3
   },
   "file_extension": ".py",
   "mimetype": "text/x-python",
   "name": "python",
   "nbconvert_exporter": "python",
   "pygments_lexer": "ipython3",
   "version": "3.10.15"
  }
 },
 "nbformat": 4,
 "nbformat_minor": 5
}
