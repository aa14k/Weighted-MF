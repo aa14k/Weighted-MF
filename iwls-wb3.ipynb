{
 "cells": [
  {
   "cell_type": "code",
   "execution_count": 1,
   "id": "c2f203d9-5ef9-49b9-af1e-b0e48e1be90c",
   "metadata": {
    "execution": {
     "iopub.execute_input": "2024-07-02T15:25:03.938365Z",
     "iopub.status.busy": "2024-07-02T15:25:03.938072Z",
     "iopub.status.idle": "2024-07-02T15:25:04.054678Z",
     "shell.execute_reply": "2024-07-02T15:25:04.054247Z",
     "shell.execute_reply.started": "2024-07-02T15:25:03.938346Z"
    }
   },
   "outputs": [],
   "source": [
    "import numpy as np\n",
    "#from cupyx.scipy.sparse import csr_matrix as csr_gpu \n",
    "import scipy as sc\n",
    "from tqdm.notebook import tqdm\n",
    "from scipy import linalg\n",
    "from scipy.sparse import csr_matrix\n",
    "from scipy.special import expit as sigmoid\n",
    "from joblib import Parallel, delayed"
   ]
  },
  {
   "cell_type": "code",
   "execution_count": 2,
   "id": "769a840a-939f-4ecb-a3ba-b5cb3ea71ad5",
   "metadata": {
    "execution": {
     "iopub.execute_input": "2024-07-02T15:25:04.306455Z",
     "iopub.status.busy": "2024-07-02T15:25:04.305838Z",
     "iopub.status.idle": "2024-07-02T15:25:05.182215Z",
     "shell.execute_reply": "2024-07-02T15:25:05.181627Z",
     "shell.execute_reply.started": "2024-07-02T15:25:04.306437Z"
    }
   },
   "outputs": [],
   "source": [
    "import os\n",
    "\n",
    "from scipy import sparse\n",
    "import pandas as pd\n",
    "\n",
    "import bottleneck as bn\n",
    "\n",
    "import datetime\n",
    "from copy import deepcopy"
   ]
  },
  {
   "cell_type": "code",
   "execution_count": 3,
   "id": "e20aaa7f-86af-4dba-9668-2de92e9700d1",
   "metadata": {
    "execution": {
     "iopub.execute_input": "2024-07-02T15:25:05.183585Z",
     "iopub.status.busy": "2024-07-02T15:25:05.183103Z",
     "iopub.status.idle": "2024-07-02T15:25:05.186183Z",
     "shell.execute_reply": "2024-07-02T15:25:05.185790Z",
     "shell.execute_reply.started": "2024-07-02T15:25:05.183559Z"
    }
   },
   "outputs": [],
   "source": [
    "\n",
    "import pickle\n",
    "\n",
    "def save_pkl(obj, filename ):\n",
    "    with open(filename, 'wb') as f:\n",
    "        pickle.dump(obj, f, pickle.HIGHEST_PROTOCOL )\n",
    "    \n",
    "def load_pkl(filename ):\n",
    "    with open(filename, 'rb') as f:\n",
    "        return pickle.load(f)\n",
    " "
   ]
  },
  {
   "cell_type": "code",
   "execution_count": 4,
   "id": "81ebb53b-13d3-4254-8c64-54caf389a77f",
   "metadata": {
    "execution": {
     "iopub.execute_input": "2024-07-02T15:25:05.186788Z",
     "iopub.status.busy": "2024-07-02T15:25:05.186652Z",
     "iopub.status.idle": "2024-07-02T15:25:05.321422Z",
     "shell.execute_reply": "2024-07-02T15:25:05.320871Z",
     "shell.execute_reply.started": "2024-07-02T15:25:05.186760Z"
    }
   },
   "outputs": [],
   "source": [
    "DATA_DIR = '/efs/users/hsteck/public/data_for_ease/movielens20mio/'"
   ]
  },
  {
   "cell_type": "code",
   "execution_count": 5,
   "id": "c0bf2350-3726-4f15-b0c2-8846c808820c",
   "metadata": {
    "execution": {
     "iopub.execute_input": "2024-07-02T15:25:05.322817Z",
     "iopub.status.busy": "2024-07-02T15:25:05.322434Z",
     "iopub.status.idle": "2024-07-02T15:25:05.436488Z",
     "shell.execute_reply": "2024-07-02T15:25:05.435906Z",
     "shell.execute_reply.started": "2024-07-02T15:25:05.322798Z"
    }
   },
   "outputs": [],
   "source": [
    "pro_dir = os.path.join(DATA_DIR, 'pro_sg')\n"
   ]
  },
  {
   "cell_type": "code",
   "execution_count": 6,
   "id": "d5e42eaa-18c4-4a1f-9775-f9997bf0b901",
   "metadata": {
    "execution": {
     "iopub.execute_input": "2024-07-02T15:25:05.437299Z",
     "iopub.status.busy": "2024-07-02T15:25:05.437160Z",
     "iopub.status.idle": "2024-07-02T15:25:05.830388Z",
     "shell.execute_reply": "2024-07-02T15:25:05.829808Z",
     "shell.execute_reply.started": "2024-07-02T15:25:05.437284Z"
    }
   },
   "outputs": [],
   "source": [
    "unique_sid = list()\n",
    "with open(os.path.join(pro_dir, 'unique_sid.txt'), 'r') as f:\n",
    "    for line in f:\n",
    "        unique_sid.append(line.strip())\n",
    "\n",
    "n_items = len(unique_sid)\n",
    "\n",
    "def load_train_data(csv_file):\n",
    "    tp = pd.read_csv(csv_file)\n",
    "    n_users = tp['uid'].max() + 1\n",
    "\n",
    "    rows, cols = tp['uid'], tp['sid']\n",
    "    data = sparse.csr_matrix((np.ones_like(rows),\n",
    "                             (rows, cols)), dtype='float64',\n",
    "                             shape=(n_users, n_items))\n",
    "    return data"
   ]
  },
  {
   "cell_type": "code",
   "execution_count": 173,
   "id": "36724a42-ce95-4068-9d34-165631718cf6",
   "metadata": {
    "execution": {
     "iopub.execute_input": "2024-07-04T20:07:53.579634Z",
     "iopub.status.busy": "2024-07-04T20:07:53.579206Z",
     "iopub.status.idle": "2024-07-04T20:07:53.582550Z",
     "shell.execute_reply": "2024-07-04T20:07:53.582169Z",
     "shell.execute_reply.started": "2024-07-04T20:07:53.579615Z"
    }
   },
   "outputs": [],
   "source": [
    "def load_xtx_binary():\n",
    "    #items = random.sample(range(20108),1000)\n",
    "    train_data = load_train_data(os.path.join(pro_dir, 'train.csv'))\n",
    "    X=train_data[:,:380]\n",
    "    print (X.shape)\n",
    "    return [X.shape[0] , X]"
   ]
  },
  {
   "cell_type": "code",
   "execution_count": 174,
   "id": "684c91ae-2f62-4776-9ec0-07150a5f32af",
   "metadata": {
    "execution": {
     "iopub.execute_input": "2024-07-04T20:07:54.003481Z",
     "iopub.status.busy": "2024-07-04T20:07:54.003061Z",
     "iopub.status.idle": "2024-07-04T20:07:55.264598Z",
     "shell.execute_reply": "2024-07-04T20:07:55.263790Z",
     "shell.execute_reply.started": "2024-07-04T20:07:54.003461Z"
    },
    "scrolled": true
   },
   "outputs": [
    {
     "name": "stdout",
     "output_type": "stream",
     "text": [
      "(116677, 380)\n"
     ]
    }
   ],
   "source": [
    "userCnt , X=load_xtx_binary()\n",
    "X_ = X.toarray()\n",
    "XX_ = 2*X_-1\n",
    "I = 380\n",
    "U = 116677"
   ]
  },
  {
   "cell_type": "code",
   "execution_count": 175,
   "id": "6dcff08c-5325-4a29-a70f-b7ca8ae01c6f",
   "metadata": {
    "execution": {
     "iopub.execute_input": "2024-07-04T20:07:55.266209Z",
     "iopub.status.busy": "2024-07-04T20:07:55.265868Z",
     "iopub.status.idle": "2024-07-04T20:07:55.269731Z",
     "shell.execute_reply": "2024-07-04T20:07:55.269422Z",
     "shell.execute_reply.started": "2024-07-04T20:07:55.266189Z"
    }
   },
   "outputs": [],
   "source": [
    "def ease(X, lam = 200.0):\n",
    "    print('multiplying matrix')\n",
    "    G = X.T @ X\n",
    "    diagIndices = np.diag_indices(G.shape[0])\n",
    "    G = G + lam * np.eye(G.shape[0])\n",
    "    print('inverting')\n",
    "    P = linalg.inv(G)\n",
    "    print('inverting complete')\n",
    "    B = P / (-np.diag(P))\n",
    "    B[diagIndices] = -1.0\n",
    "    return B"
   ]
  },
  {
   "cell_type": "code",
   "execution_count": 176,
   "id": "73cc7d84-7bb1-4973-9605-de375c1cf069",
   "metadata": {
    "execution": {
     "iopub.execute_input": "2024-07-04T20:07:55.270473Z",
     "iopub.status.busy": "2024-07-04T20:07:55.270348Z",
     "iopub.status.idle": "2024-07-04T20:07:55.412649Z",
     "shell.execute_reply": "2024-07-04T20:07:55.412140Z",
     "shell.execute_reply.started": "2024-07-04T20:07:55.270459Z"
    }
   },
   "outputs": [],
   "source": [
    "identity = np.eye(I-1)\n",
    "identity = csr_matrix(identity)"
   ]
  },
  {
   "cell_type": "code",
   "execution_count": null,
   "id": "b5ba1c48-07ff-4470-9e10-0c1bbda83af0",
   "metadata": {},
   "outputs": [],
   "source": []
  },
  {
   "cell_type": "code",
   "execution_count": 177,
   "id": "d02497f1-76c7-4175-bdb2-461ab18033f5",
   "metadata": {
    "execution": {
     "iopub.execute_input": "2024-07-04T20:07:56.571368Z",
     "iopub.status.busy": "2024-07-04T20:07:56.570984Z",
     "iopub.status.idle": "2024-07-04T20:07:56.577510Z",
     "shell.execute_reply": "2024-07-04T20:07:56.577106Z",
     "shell.execute_reply.started": "2024-07-04T20:07:56.571349Z"
    }
   },
   "outputs": [],
   "source": [
    "def irls(item,bias,lam=1.0):\n",
    "    mask = np.ones(I, dtype=bool)\n",
    "    mask[item] = False\n",
    "    w = np.zeros(I-1) \n",
    "    for _ in range(2000):\n",
    "        xw = X[:,mask]@w\n",
    "        p = sigmoid(xw)\n",
    "        S = sc.sparse.diags(p*(1-p))\n",
    "        hess = X[:,mask].T@S@X[:,mask] + lam * identity\n",
    "        grad = X[:,mask].T@(p-X_[:,item]) + lam*w\n",
    "        step = np.linalg.solve(hess,grad)\n",
    "        cov = np.linalg.norm(grad)\n",
    "        beta = max(1e-32,np.linalg.norm(step))\n",
    "        wnew = w - sc.special.xlogy(1/beta,1+beta)*step\n",
    "        #print(cov)\n",
    "        if cov<1e-11:\n",
    "            return wnew\n",
    "        if np.linalg.norm(wnew-w)<1e-12:\n",
    "            return wnew\n",
    "        w=wnew\n",
    "    return wnew\n",
    "\n",
    "\n",
    "\n",
    "def irls2(item,bias,lam=1.0):\n",
    "    w = np.zeros(I) \n",
    "    mask = np.ones(I, dtype=bool)\n",
    "    mask[item] = False\n",
    "    for _ in range(2000):\n",
    "        xw = X@w\n",
    "        p = sigmoid(xw)\n",
    "        S = sc.sparse.diags(p*(1-p))\n",
    "        hess = X.T@S@X + lam * np.eye(I)\n",
    "        grad = X.T@(p-X_[:,item]) + lam*w\n",
    "        #step = sc.sparse.linalg.cg(hess,grad,rtol='1e-10')[0]\n",
    "        step = np.linalg.solve(hess,grad)\n",
    "        cov = np.linalg.norm(grad[mask])\n",
    "        beta = max(1e-32,np.linalg.norm(step))\n",
    "        wnew = w - sc.special.xlogy(1/beta,1+beta)*step\n",
    "        #wnew[item] = 0.0\n",
    "        #print(cov)\n",
    "        if cov<1e-11:\n",
    "            return wnew\n",
    "        if np.linalg.norm(wnew-w)<1e-12:\n",
    "            return wnew\n",
    "        w=wnew\n",
    "    return wnew"
   ]
  },
  {
   "cell_type": "code",
   "execution_count": 211,
   "id": "4eeec314-75b7-45eb-84dc-006f6e0e0de6",
   "metadata": {
    "execution": {
     "iopub.execute_input": "2024-07-04T20:15:32.471408Z",
     "iopub.status.busy": "2024-07-04T20:15:32.470990Z",
     "iopub.status.idle": "2024-07-04T20:15:32.475638Z",
     "shell.execute_reply": "2024-07-04T20:15:32.475261Z",
     "shell.execute_reply.started": "2024-07-04T20:15:32.471389Z"
    }
   },
   "outputs": [],
   "source": [
    "#TODO: INCLUDE BIAS\n",
    "def biased_irls(item,lam=1.0):\n",
    "    mask = np.ones(I, dtype=bool)\n",
    "    mask[item] = False\n",
    "    w = np.zeros(I-1)\n",
    "    grad = np.zeros(I-1)\n",
    "    XX = XX_[:,mask]\n",
    "    #XX = csr_matrix(sparse.hstack((X[:,mask],np.ones(U)[:,None])).A)\n",
    "    for _ in range(500):\n",
    "        xw = XX@w\n",
    "        p = sigmoid(xw)\n",
    "        S = sc.sparse.diags(p*(1-p))\n",
    "        hess = XX.T@S@XX + lam * identity\n",
    "        #w_ = deepcopy(w)\n",
    "        #w_[-1] = 1e-12*w_[-1]\n",
    "        grad = XX.T@(p-X_[:,item]) + lam*w\n",
    "        #step = sc.sparse.linalg.cg(hess,grad,rtol=1e-10)[0]\n",
    "        step = np.linalg.solve(hess,grad)\n",
    "        cov = np.linalg.norm(grad)\n",
    "        beta = np.linalg.norm(step)\n",
    "        wnew = w - 1/beta*np.log(1+beta) * step\n",
    "        #new = w - gamma * step\n",
    "        #print(cov)\n",
    "        if cov<1e-13:\n",
    "            return wnew\n",
    "        if np.linalg.norm(w-wnew)<1e-13:\n",
    "            return wnew\n",
    "        w=wnew\n",
    "    return wnew\n",
    "\n",
    "\n"
   ]
  },
  {
   "cell_type": "code",
   "execution_count": 212,
   "id": "f8a68beb-3b22-41e2-b943-37fa2245b743",
   "metadata": {
    "execution": {
     "iopub.execute_input": "2024-07-04T20:15:37.039349Z",
     "iopub.status.busy": "2024-07-04T20:15:37.038937Z",
     "iopub.status.idle": "2024-07-04T20:15:37.042161Z",
     "shell.execute_reply": "2024-07-04T20:15:37.041793Z",
     "shell.execute_reply.started": "2024-07-04T20:15:37.039330Z"
    },
    "scrolled": true
   },
   "outputs": [],
   "source": [
    "def exp_cf(item,bias):\n",
    "    lam = 200.0\n",
    "    w = np.zeros(I)\n",
    "    mask = np.ones(I, dtype=bool)\n",
    "    mask[item] = False\n",
    "    w[mask]=biased_irls(item,lam)\n",
    "    return w"
   ]
  },
  {
   "cell_type": "code",
   "execution_count": 188,
   "id": "b9a85ef7-97a4-4d6b-b7ef-a6432c3fda65",
   "metadata": {
    "execution": {
     "iopub.execute_input": "2024-07-04T20:10:20.215671Z",
     "iopub.status.busy": "2024-07-04T20:10:20.215056Z",
     "iopub.status.idle": "2024-07-04T20:12:22.168793Z",
     "shell.execute_reply": "2024-07-04T20:12:22.168033Z",
     "shell.execute_reply.started": "2024-07-04T20:10:20.215651Z"
    },
    "scrolled": true
   },
   "outputs": [
    {
     "data": {
      "application/vnd.jupyter.widget-view+json": {
       "model_id": "1b1c9d9979f248dca34677e71810a1d5",
       "version_major": 2,
       "version_minor": 0
      },
      "text/plain": [
       "  0%|          | 0/380 [00:00<?, ?it/s]"
      ]
     },
     "metadata": {},
     "output_type": "display_data"
    },
    {
     "name": "stdout",
     "output_type": "stream",
     "text": [
      "finished\n"
     ]
    }
   ],
   "source": [
    "bias = 0.0 \n",
    "W = Parallel(n_jobs=95)(delayed(exp_cf)(item,bias) for item in tqdm(range(I)))\n",
    "print('finished')\n",
    "W = np.array(W)\n",
    "#np.save('weights_lam200_bias.npy',W.T)\n",
    "#evaluate(W.T,method='log')"
   ]
  },
  {
   "cell_type": "code",
   "execution_count": null,
   "id": "ee0506c4-4ba1-4f42-8670-d369ea793fb4",
   "metadata": {},
   "outputs": [],
   "source": []
  },
  {
   "cell_type": "code",
   "execution_count": 202,
   "id": "db7176bd-1628-40aa-9bde-a348b3e698a7",
   "metadata": {
    "execution": {
     "iopub.execute_input": "2024-07-04T20:13:44.423545Z",
     "iopub.status.busy": "2024-07-04T20:13:44.422913Z",
     "iopub.status.idle": "2024-07-04T20:13:44.606657Z",
     "shell.execute_reply": "2024-07-04T20:13:44.606193Z",
     "shell.execute_reply.started": "2024-07-04T20:13:44.423526Z"
    }
   },
   "outputs": [
    {
     "name": "stdout",
     "output_type": "stream",
     "text": [
      "multiplying matrix\n",
      "inverting\n",
      "inverting complete\n"
     ]
    }
   ],
   "source": [
    "W_lin = ease(XX,200.0)"
   ]
  },
  {
   "cell_type": "code",
   "execution_count": 213,
   "id": "530cf5fc-c56f-46d1-af7d-33eff2f62b44",
   "metadata": {
    "execution": {
     "iopub.execute_input": "2024-07-04T20:15:58.023306Z",
     "iopub.status.busy": "2024-07-04T20:15:58.022894Z",
     "iopub.status.idle": "2024-07-04T20:15:58.213630Z",
     "shell.execute_reply": "2024-07-04T20:15:58.213206Z",
     "shell.execute_reply.started": "2024-07-04T20:15:58.023286Z"
    },
    "scrolled": true
   },
   "outputs": [
    {
     "name": "stdout",
     "output_type": "stream",
     "text": [
      "2024-07-04 20:15:58.024010\n",
      "(5000, 380)\n",
      "0 ... 5000\n",
      "(5000, 380)\n",
      "5000 ... 10000\n",
      "Test NDCG@100=0.27862 (0.00209)\n",
      "2024-07-04 20:15:58.210922\n"
     ]
    },
    {
     "data": {
      "text/plain": [
       "[0.2786216751573686, nan, nan]"
      ]
     },
     "execution_count": 213,
     "metadata": {},
     "output_type": "execute_result"
    }
   ],
   "source": [
    "evaluate(W_lin,'sq')"
   ]
  },
  {
   "cell_type": "code",
   "execution_count": 214,
   "id": "91cf6a37-8af5-4920-b96e-e1a3a3293933",
   "metadata": {
    "execution": {
     "iopub.execute_input": "2024-07-04T20:16:01.911372Z",
     "iopub.status.busy": "2024-07-04T20:16:01.910961Z",
     "iopub.status.idle": "2024-07-04T20:16:02.104542Z",
     "shell.execute_reply": "2024-07-04T20:16:02.103924Z",
     "shell.execute_reply.started": "2024-07-04T20:16:01.911353Z"
    }
   },
   "outputs": [
    {
     "name": "stdout",
     "output_type": "stream",
     "text": [
      "2024-07-04 20:16:01.912233\n",
      "(5000, 380)\n",
      "0 ... 5000\n",
      "(5000, 380)\n",
      "5000 ... 10000\n",
      "Test NDCG@100=0.25772 (0.00199)\n",
      "2024-07-04 20:16:02.101190\n"
     ]
    },
    {
     "data": {
      "text/plain": [
       "[0.2577207250070528, nan, nan]"
      ]
     },
     "execution_count": 214,
     "metadata": {},
     "output_type": "execute_result"
    }
   ],
   "source": [
    "evaluate(W.T,method='sq')"
   ]
  },
  {
   "cell_type": "code",
   "execution_count": 209,
   "id": "3a6a5b16-be23-47fb-a5c7-09ba0a62bc95",
   "metadata": {
    "execution": {
     "iopub.execute_input": "2024-07-04T20:14:50.503473Z",
     "iopub.status.busy": "2024-07-04T20:14:50.503032Z",
     "iopub.status.idle": "2024-07-04T20:14:50.507464Z",
     "shell.execute_reply": "2024-07-04T20:14:50.507113Z",
     "shell.execute_reply.started": "2024-07-04T20:14:50.503452Z"
    }
   },
   "outputs": [
    {
     "data": {
      "text/plain": [
       "array([[ 0.        , -0.00672722,  0.09687959, ...,  0.06094496,\n",
       "         0.08619765, -0.01693631],\n",
       "       [-0.00216831,  0.        ,  0.05196525, ..., -0.05811392,\n",
       "        -0.06535833, -0.05176961],\n",
       "       [ 0.07759828,  0.05029494,  0.        , ..., -0.11102305,\n",
       "        -0.02753693, -0.00614037],\n",
       "       ...,\n",
       "       [ 0.06950536, -0.03920781, -0.12356415, ...,  0.        ,\n",
       "         0.33222109,  0.03567569],\n",
       "       [ 0.06915554, -0.05715742, -0.0528697 , ...,  0.32514679,\n",
       "         0.        ,  0.05501154],\n",
       "       [-0.07194547, -0.04280695, -0.01508004, ...,  0.02153961,\n",
       "         0.05549289,  0.        ]])"
      ]
     },
     "execution_count": 209,
     "metadata": {},
     "output_type": "execute_result"
    }
   ],
   "source": [
    "W"
   ]
  },
  {
   "cell_type": "code",
   "execution_count": 15,
   "id": "f7ded6bb-d8c1-455f-8093-db7057a7bad8",
   "metadata": {
    "execution": {
     "iopub.execute_input": "2024-07-02T15:25:21.375638Z",
     "iopub.status.busy": "2024-07-02T15:25:21.374951Z",
     "iopub.status.idle": "2024-07-02T15:25:21.379224Z",
     "shell.execute_reply": "2024-07-02T15:25:21.378777Z",
     "shell.execute_reply.started": "2024-07-02T15:25:21.375618Z"
    }
   },
   "outputs": [],
   "source": [
    "def load_tr_te_data(csv_file_tr, csv_file_te):\n",
    "    tp_tr = pd.read_csv(csv_file_tr)\n",
    "    tp_te = pd.read_csv(csv_file_te)\n",
    "\n",
    "    start_idx = min(tp_tr['uid'].min(), tp_te['uid'].min())\n",
    "    end_idx = max(tp_tr['uid'].max(), tp_te['uid'].max())\n",
    "\n",
    "    rows_tr, cols_tr = tp_tr['uid'] - start_idx, tp_tr['sid']\n",
    "    rows_te, cols_te = tp_te['uid'] - start_idx, tp_te['sid']\n",
    "\n",
    "    data_tr = sparse.csr_matrix((np.ones_like(rows_tr),\n",
    "                             (rows_tr, cols_tr)), dtype='float64', shape=(end_idx - start_idx + 1, n_items))\n",
    "    data_te = sparse.csr_matrix((np.ones_like(rows_te),\n",
    "                             (rows_te, cols_te)), dtype='float64', shape=(end_idx - start_idx + 1, n_items))\n",
    "    return data_tr, data_te"
   ]
  },
  {
   "cell_type": "code",
   "execution_count": 16,
   "id": "24e32e5a-f44a-41a4-9460-75a4691036aa",
   "metadata": {
    "execution": {
     "iopub.execute_input": "2024-07-02T15:25:21.539227Z",
     "iopub.status.busy": "2024-07-02T15:25:21.538540Z",
     "iopub.status.idle": "2024-07-02T15:25:21.703761Z",
     "shell.execute_reply": "2024-07-02T15:25:21.703148Z",
     "shell.execute_reply.started": "2024-07-02T15:25:21.539201Z"
    }
   },
   "outputs": [],
   "source": [
    "test_data_tr, test_data_te = load_tr_te_data(\n",
    "    os.path.join(pro_dir, 'test_tr.csv'),\n",
    "    os.path.join(pro_dir, 'test_te.csv'))"
   ]
  },
  {
   "cell_type": "code",
   "execution_count": 17,
   "id": "b2164789-565e-4745-9a99-41804bd2e0aa",
   "metadata": {
    "execution": {
     "iopub.execute_input": "2024-07-02T15:25:21.705040Z",
     "iopub.status.busy": "2024-07-02T15:25:21.704701Z",
     "iopub.status.idle": "2024-07-02T15:25:21.707231Z",
     "shell.execute_reply": "2024-07-02T15:25:21.706855Z",
     "shell.execute_reply.started": "2024-07-02T15:25:21.705022Z"
    }
   },
   "outputs": [],
   "source": [
    "N_test = test_data_tr.shape[0]\n",
    "idxlist_test = range(N_test)\n"
   ]
  },
  {
   "cell_type": "code",
   "execution_count": 18,
   "id": "0dca1c0f-0404-4790-9b81-67a727e34f7c",
   "metadata": {
    "execution": {
     "iopub.execute_input": "2024-07-02T15:25:21.869546Z",
     "iopub.status.busy": "2024-07-02T15:25:21.869006Z",
     "iopub.status.idle": "2024-07-02T15:25:21.878847Z",
     "shell.execute_reply": "2024-07-02T15:25:21.878392Z",
     "shell.execute_reply.started": "2024-07-02T15:25:21.869526Z"
    }
   },
   "outputs": [],
   "source": [
    "def NDCG_binary_at_k_batch(X_pred, heldout_batch, k=100):\n",
    "    '''\n",
    "    normalized discounted cumulative gain@k for binary relevance\n",
    "    ASSUMPTIONS: all the 0's in heldout_data indicate 0 relevance\n",
    "    '''\n",
    "    batch_users = X_pred.shape[0]\n",
    "    idx_topk_part = bn.argpartition(-X_pred, k, axis=1)\n",
    "    topk_part = X_pred[np.arange(batch_users)[:, np.newaxis],\n",
    "                       idx_topk_part[:, :k]]\n",
    "    idx_part = np.argsort(-topk_part, axis=1)\n",
    "    # X_pred[np.arange(batch_users)[:, np.newaxis], idx_topk] is the sorted\n",
    "    # topk predicted score\n",
    "    idx_topk = idx_topk_part[np.arange(batch_users)[:, np.newaxis], idx_part]\n",
    "    # build the discount template\n",
    "    tp = 1. / np.log2(np.arange(2, k + 2))\n",
    "\n",
    "    DCG = (heldout_batch[np.arange(batch_users)[:, np.newaxis],\n",
    "                         idx_topk].toarray() * tp).sum(axis=1)\n",
    "    IDCG = np.array([(tp[:min(n, k)]).sum()\n",
    "                     for n in heldout_batch.getnnz(axis=1)])\n",
    "    return DCG / IDCG"
   ]
  },
  {
   "cell_type": "code",
   "execution_count": 19,
   "id": "83151e12-931b-4d3c-b251-7b6225e5dffb",
   "metadata": {
    "execution": {
     "iopub.execute_input": "2024-07-02T15:25:22.189075Z",
     "iopub.status.busy": "2024-07-02T15:25:22.188500Z",
     "iopub.status.idle": "2024-07-02T15:25:22.192326Z",
     "shell.execute_reply": "2024-07-02T15:25:22.191883Z",
     "shell.execute_reply.started": "2024-07-02T15:25:22.189055Z"
    }
   },
   "outputs": [],
   "source": [
    "def Recall_at_k_batch(X_pred, heldout_batch, k=100):\n",
    "    batch_users = X_pred.shape[0]\n",
    "\n",
    "    idx = bn.argpartition(-X_pred, k, axis=1)\n",
    "    X_pred_binary = np.zeros_like(X_pred, dtype=bool)\n",
    "    X_pred_binary[np.arange(batch_users)[:, np.newaxis], idx[:, :k]] = True\n",
    "\n",
    "    X_true_binary = (heldout_batch > 0).toarray()\n",
    "    tmp = (np.logical_and(X_true_binary, X_pred_binary).sum(axis=1)).astype(\n",
    "        np.float32)\n",
    "    recall = tmp / np.minimum(k, X_true_binary.sum(axis=1))\n",
    "    return recall"
   ]
  },
  {
   "cell_type": "code",
   "execution_count": 196,
   "id": "5101572b-0e88-4561-8714-4b3420699448",
   "metadata": {
    "execution": {
     "iopub.execute_input": "2024-07-04T20:13:14.059469Z",
     "iopub.status.busy": "2024-07-04T20:13:14.059046Z",
     "iopub.status.idle": "2024-07-04T20:13:14.065197Z",
     "shell.execute_reply": "2024-07-04T20:13:14.064707Z",
     "shell.execute_reply.started": "2024-07-04T20:13:14.059449Z"
    }
   },
   "outputs": [],
   "source": [
    "def evaluate(BB,method='sq'):\n",
    "    #evaluate in batches\n",
    "    print(datetime.datetime.now())\n",
    "\n",
    "    #makeSparseFormat(BB, 0.0)\n",
    "\n",
    "\n",
    "    batch_size_test=5000\n",
    "    n100_list, r20_list, r50_list = [], [], []\n",
    "\n",
    "\n",
    "\n",
    "    for bnum, st_idx in enumerate(range(0, N_test, batch_size_test)):\n",
    "        end_idx = min(st_idx + batch_size_test, N_test)\n",
    "        Xtest = test_data_tr[idxlist_test[st_idx:end_idx]]\n",
    "        if method=='log':\n",
    "            Xtest = 2*Xtest[:,:I].toarray()-1\n",
    "            print(Xtest.shape)\n",
    "        else:\n",
    "            Xtest = Xtest[:,:I].toarray()\n",
    "        print(Xtest.shape)\n",
    "        print (str(st_idx)+' ... '+str(end_idx))\n",
    "        if sparse.isspmatrix(Xtest):\n",
    "            Xtest = Xtest.toarray()\n",
    "        Xtest = Xtest.astype('float32')\n",
    "\n",
    "        #pred_val = Xtest.dot(BB_excl)\n",
    "        #pred_val = (((Xtest-mu) * scaling).dot(BBth) / scaling) +mu   # no bias\n",
    "        #pred_val = Xtest.dot(beta_0d)  # no bias\n",
    "        #pred_val =Xtest.dot(beta_lowrank)  \n",
    "        if method == 'log':\n",
    "            pred_val = Xtest.dot(BB)\n",
    "        else:\n",
    "            pred_val = Xtest.dot(BB)\n",
    "\n",
    "        # exclude examples from training and validation (if any)\n",
    "        pred_val[Xtest[:,:I].nonzero()] = -np.inf\n",
    "        n100_list.append(NDCG_binary_at_k_batch(pred_val, test_data_te[idxlist_test[st_idx:end_idx]], k=100))\n",
    "        #r20_list.append(Recall_at_k_batch(pred_val, test_data_te[idxlist_test[st_idx:end_idx]], k=20))\n",
    "        #r50_list.append(Recall_at_k_batch(pred_val, test_data_te[idxlist_test[st_idx:end_idx]], k=50))\n",
    "        #calc_coverageCounts(coverageCounts2, pred_val)\n",
    "        #break  # do only 5000 users\n",
    "\n",
    "    n100_list = np.concatenate(n100_list)\n",
    "    #r20_list = np.concatenate(r20_list)\n",
    "    #r50_list = np.concatenate(r50_list)\n",
    "\n",
    "    print(\"Test NDCG@100=%.5f (%.5f)\" % (np.mean(n100_list), np.std(n100_list) / np.sqrt(len(n100_list))))\n",
    "    #print(\"Test Recall@20=%.5f (%.5f)\" % (np.mean(r20_list), np.std(r20_list) / np.sqrt(len(r20_list))))\n",
    "    #print(\"Test Recall@50=%.5f (%.5f)\" % (np.mean(r50_list), np.std(r50_list) / np.sqrt(len(r50_list))))\n",
    "\n",
    "    print(datetime.datetime.now())\n",
    "    return [np.mean(n100_list), np.mean(r20_list), np.mean(r50_list)]"
   ]
  },
  {
   "cell_type": "code",
   "execution_count": 182,
   "id": "245f50ac-7007-4fff-9d63-0b545553aded",
   "metadata": {
    "execution": {
     "iopub.execute_input": "2024-06-29T20:36:52.144860Z",
     "iopub.status.busy": "2024-06-29T20:36:52.144423Z",
     "iopub.status.idle": "2024-06-29T20:36:52.394359Z",
     "shell.execute_reply": "2024-06-29T20:36:52.393751Z",
     "shell.execute_reply.started": "2024-06-29T20:36:52.144835Z"
    }
   },
   "outputs": [
    {
     "name": "stdout",
     "output_type": "stream",
     "text": [
      "2024-06-29 20:36:52.145711\n",
      "(5000, 191)\n",
      "(5000, 191)\n",
      "0 ... 5000\n",
      "(5000, 191)\n",
      "(5000, 191)\n",
      "5000 ... 10000\n",
      "Test NDCG@100=0.19421 (0.00179)\n",
      "2024-06-29 20:36:52.391011\n"
     ]
    },
    {
     "data": {
      "text/plain": [
       "[0.19421496699521473, nan, nan]"
      ]
     },
     "execution_count": 182,
     "metadata": {},
     "output_type": "execute_result"
    }
   ],
   "source": [
    "evaluate(W.T,'log')"
   ]
  },
  {
   "cell_type": "code",
   "execution_count": 137,
   "id": "fbb4d603-44dd-4f37-ae70-aec46ecea6ea",
   "metadata": {
    "execution": {
     "iopub.execute_input": "2024-07-04T19:59:32.568038Z",
     "iopub.status.busy": "2024-07-04T19:59:32.567598Z",
     "iopub.status.idle": "2024-07-04T19:59:32.572322Z",
     "shell.execute_reply": "2024-07-04T19:59:32.571965Z",
     "shell.execute_reply.started": "2024-07-04T19:59:32.568015Z"
    }
   },
   "outputs": [
    {
     "data": {
      "text/plain": [
       "array([[ 0.00000000e+00, -3.39654967e-02,  1.35999950e-01, ...,\n",
       "        -8.43838352e-05, -8.43838352e-05, -4.63416832e+00],\n",
       "       [-2.94174137e-02,  0.00000000e+00,  6.23148929e-02, ...,\n",
       "        -5.43155525e-04, -5.43155525e-04, -3.80532107e+00],\n",
       "       [ 1.10829447e-01,  5.59055755e-02,  0.00000000e+00, ...,\n",
       "         2.39191650e-03,  2.39191650e-03, -4.02428046e+00],\n",
       "       ...,\n",
       "       [-1.94583648e-04, -4.90338114e-04,  4.60233593e-03, ...,\n",
       "         4.99973036e-03,  4.99973036e-03, -1.19700308e+01],\n",
       "       [-1.94583648e-04, -4.90338114e-04,  4.60233593e-03, ...,\n",
       "         0.00000000e+00,  4.99973036e-03, -1.19700308e+01],\n",
       "       [-1.94583648e-04, -4.90338114e-04,  4.60233593e-03, ...,\n",
       "         4.99973036e-03,  0.00000000e+00, -1.19700308e+01]])"
      ]
     },
     "execution_count": 137,
     "metadata": {},
     "output_type": "execute_result"
    }
   ],
   "source": []
  },
  {
   "cell_type": "code",
   "execution_count": null,
   "id": "56608f47-287f-4aab-859c-993535a99d56",
   "metadata": {
    "execution": {
     "execution_failed": "2024-06-25T23:56:49.551Z"
    }
   },
   "outputs": [],
   "source": [
    "# #Bn_ = (np.ones((I , I)) - 3).flatten()\n",
    "# Bn = (np.zeros((I , I))).flatten()\n",
    "# Bn1 = (np.ones((I , I)) + 2).flatten()\n",
    "# for i in range(10000):\n",
    "#     #Bnvec = Bn.flatten()\n",
    "#     #Bn_vec = Bn_.flatten()\n",
    "#     dBn_ = der(Bn_).flatten()\n",
    "#     dBn = der(Bn).flatten()\n",
    "#     top = np.abs(np.inner(Bn - Bn_, dBn - dBn_))\n",
    "#     bottom = np.linalg.norm(dBn - dBn_) ** 2\n",
    "#     if bottom <= 1e-132:\n",
    "#         break\n",
    "#     gamma = top / bottom\n",
    "#     #print(gamma)\n",
    "#     print(np.linalg.norm(der(Bn)))\n",
    "#     Bn1 = Bn - gamma * der(Bn)\n",
    "#     Bn_ = Bn\n",
    "#     Bn = Bn1\n",
    "\n",
    "# def temp(W):\n",
    "#     W = W.reshape(I,I)\n",
    "#     sums = 0.0\n",
    "#     for i in range(I):\n",
    "#         xw = X@W[:,i]\n",
    "#         sums += np.sum( np.logaddexp(-xw/2,xw/2) - X[:,i]/2 * xw)\n",
    "#     return sums\n",
    "\n",
    "\n",
    "\n",
    "# def temp2(W, lam = 1.0):\n",
    "#     W = W.reshape(I,I)\n",
    "#     S = X @ W\n",
    "#     return np.sum(np.logaddexp(-S/2,S/2) - X / 2 * S) + lam * np.linalg.norm(W,ord='fro') ** 2\n",
    "\n",
    "\n",
    "# def der2(W, lam = 1.0):\n",
    "#     W = W.reshape(I,I)\n",
    "#     S = X @ W\n",
    "#     return (1/2 * X.T @ (sigmoid(S/2) - (sigmoid(-S/2)) + X) + 2 * lam * W).flatten()\n",
    "    \n",
    "\n",
    "\n",
    "\n",
    "# def der(W):\n",
    "#     W = W.reshape(I,I)\n",
    "#     der = np.zeros((I,I))\n",
    "#     for u in range(U):\n",
    "#         for i in range(I):\n",
    "#             scalar = 1 / 2 * (np.tanh(np.inner(X[u],W[:,i])) - X[u,i])\n",
    "#             der[i] = der[i] + scalar * X[u]\n",
    "#     return der.flatten()\n",
    "\n",
    "# def Hess(W):\n",
    "#     hess = np.zeros((I,I))\n",
    "#     for u in range(U):\n",
    "#         for i in range(I):\n",
    "#             scalar = 1 / (2 * np.cosh(np.inner(X[u],W[:,i])) + 2)\n",
    "#             hess = hess + scalar * np.outer(X[u],X[u])\n",
    "#     return hess\n",
    "\n",
    "# def lsq(B, X, lam = 1.0):\n",
    "#     B = B.reshape(I,I)\n",
    "#     S = X @ B\n",
    "#     loss = sc.linalg.norm(X - S, ord='fro') ** 2 + lam * (sc.linalg.norm(B, ord='fro') ** 2)\n",
    "#     return loss\n",
    "\n",
    "# def dlsq(B, X, lam = 1.0):\n",
    "#     B = B.reshape(I,I)\n",
    "#     S = X @ B\n",
    "#     return (2 * lam * B - 2 * X.T @ (X - S)).flatten()\n",
    "\n",
    "\n",
    "# def llog(Bvec, X, lam = 1.0):\n",
    "#     B = Bvec.reshape(I,I)\n",
    "#     S = X @ B\n",
    "#     Svec = S.flatten()\n",
    "#     Xvec = X.flatten()\n",
    "\n",
    "#     loss = np.sum(np.logaddexp(-Svec/2,Svec/2) - Xvec/2*Svec)\n",
    "    \n",
    "#     loss = lam * np.inner(Bvec,Bvec) + loss\n",
    "#     return loss\n",
    "\n",
    "\n",
    "# def llog2(Bvec, X, lam = 1.0):\n",
    "#     B = Bvec.reshape(I,I)\n",
    "#     S = X @ B\n",
    "#     Svec = S.flatten()\n",
    "#     Xvec = X.flatten()\n",
    "\n",
    "#     loss = np.sum(np.logaddexp(-S/2,S/2) - X/2*S)\n",
    "    \n",
    "#     loss = lam * np.inner(Bvec,Bvec) + loss\n",
    "#     return loss\n",
    "\n",
    "# def dllog2(Bvec, X, lam = 1.0):\n",
    "#     B = Bvec.reshape(I,I)\n",
    "#     S = X @ B\n",
    "#     return (1/2 * X.T @ (2*sigmoid(S) - np.ones((U,I)) + X) + 2 * lam * B).flatten\n",
    "    \n",
    "    \n",
    "     "
   ]
  },
  {
   "cell_type": "code",
   "execution_count": null,
   "id": "735b965b-d9a1-400e-a130-396797d9a649",
   "metadata": {
    "execution": {
     "execution_failed": "2024-06-25T23:56:49.551Z"
    },
    "scrolled": true
   },
   "outputs": [],
   "source": [
    "# Bn = np.zeros(I * I)  \n",
    "# Bn_ = np.zeros(I * I) + 10 \n",
    "# Bn1 = np.zeros(I * I) + 100\n",
    "# gamma = 1.0\n",
    "# lam = 0.0\n",
    "# while gamma > 1e-10:\n",
    "#     dBn_ = der2(Bn_)\n",
    "#     dBn = der2(Bn)\n",
    "#     top = np.abs(np.inner(Bn - Bn_, dBn - dBn_))\n",
    "#     bottom = np.linalg.norm(dBn - dBn_) ** 2\n",
    "#     if bottom <= 1e-32:\n",
    "#         break\n",
    "#     gamma = top / bottom\n",
    "#     print(temp2(Bn1),np.linalg.norm(der2(Bn1)),gamma)\n",
    "#     Bn1 = Bn - gamma * der2(Bn)\n",
    "#     #Bn1mat = Bn1.reshape(I,I)\n",
    "#     #Bn1 = (Bn1mat - np.diag(np.diag(Bn1mat))).flatten()\n",
    "#     Bn_ = Bn\n",
    "#     Bn = Bn1"
   ]
  },
  {
   "cell_type": "code",
   "execution_count": null,
   "id": "1ea8e046-f935-43a2-90ae-05ad1587847e",
   "metadata": {
    "execution": {
     "execution_failed": "2024-06-25T23:56:49.551Z"
    }
   },
   "outputs": [],
   "source": [
    "# print(temp2(Bn1),np.linalg.norm(der2(np.eye(I) * 100)))"
   ]
  },
  {
   "cell_type": "code",
   "execution_count": null,
   "id": "945e451f-71b1-45b1-907c-d8369a5f7dfe",
   "metadata": {
    "execution": {
     "execution_failed": "2024-06-25T23:56:49.551Z"
    }
   },
   "outputs": [],
   "source": [
    "# W = ease(X)"
   ]
  },
  {
   "cell_type": "code",
   "execution_count": null,
   "id": "4b863731-e505-4f77-bb9f-abb39e752c2b",
   "metadata": {
    "execution": {
     "execution_failed": "2024-06-25T23:56:49.551Z"
    }
   },
   "outputs": [],
   "source": [
    "# np.linalg.norm(W - Bn1.reshape(I,I))"
   ]
  },
  {
   "cell_type": "code",
   "execution_count": null,
   "id": "5d87a67e-9591-471a-a6cd-95908c341572",
   "metadata": {
    "execution": {
     "execution_failed": "2024-06-25T23:56:49.552Z"
    }
   },
   "outputs": [],
   "source": [
    "# U = 200_000\n",
    "# I = 20_000\n",
    "# lam = 100\n",
    "# #X = np.zeros((U,I))\n",
    "\n",
    "# p = np.random.uniform(size=I)\n",
    "# print('sampling matrix')\n",
    "# X_ = np.random.binomial(n=1,p=p,size=(U,I)) \n",
    "# X = csr_matrix(X_)\n",
    "# X_ = []"
   ]
  },
  {
   "cell_type": "code",
   "execution_count": null,
   "id": "579229dc-9ba5-4994-b666-2e575996b9e6",
   "metadata": {
    "execution": {
     "execution_failed": "2024-06-25T23:56:49.552Z"
    }
   },
   "outputs": [],
   "source": [
    "mask = np.ones(I, dtype=bool)\n",
    "mask[0] = False\n",
    "w = np.zeros(I-1)\n",
    "item = 0"
   ]
  },
  {
   "cell_type": "code",
   "execution_count": null,
   "id": "c7e4fdce-dd9c-40a0-aa22-e58cc4f47ba4",
   "metadata": {
    "execution": {
     "execution_failed": "2024-06-25T23:56:49.552Z"
    }
   },
   "outputs": [],
   "source": [
    "hess = (np.diag(Var[:,item]**2)@X[:,mask]).T @ X[:,mask]\n",
    "print('1')\n",
    "diff=(X[:,mask]@w).reshape(U,1) - X[:,item]\n",
    "print('2')\n",
    "grad = X[:,mask].T @ (Var[:,item]**2*diff).T"
   ]
  },
  {
   "cell_type": "code",
   "execution_count": null,
   "id": "aed997c0-c157-407b-a711-45f2942422e8",
   "metadata": {
    "execution": {
     "execution_failed": "2024-06-25T23:56:49.552Z"
    }
   },
   "outputs": [],
   "source": [
    "w = w-sc.sparse.linalg.spsolve(hess,grad)"
   ]
  },
  {
   "cell_type": "code",
   "execution_count": null,
   "id": "f389aa31-a4fc-4ffd-9e19-83520287d852",
   "metadata": {
    "execution": {
     "execution_failed": "2024-06-25T23:56:49.552Z"
    }
   },
   "outputs": [],
   "source": [
    "w"
   ]
  },
  {
   "cell_type": "code",
   "execution_count": null,
   "id": "bdb2518a-1bd4-4f30-b62a-9ac79f776974",
   "metadata": {
    "execution": {
     "execution_failed": "2024-06-25T23:56:49.552Z"
    }
   },
   "outputs": [],
   "source": [
    "np.multiply(np.multiply(Var[:,item],diff),Var[:,item])"
   ]
  },
  {
   "cell_type": "code",
   "execution_count": null,
   "id": "1c1b2dc6-233e-4d58-9296-0900a0966c4a",
   "metadata": {
    "execution": {
     "execution_failed": "2024-06-25T23:56:49.553Z"
    }
   },
   "outputs": [],
   "source": [
    "hess.toar"
   ]
  },
  {
   "cell_type": "code",
   "execution_count": null,
   "id": "45e1bf3d-86e4-42c6-bd07-5b7fbb8db508",
   "metadata": {
    "execution": {
     "execution_failed": "2024-06-25T23:56:49.553Z"
    }
   },
   "outputs": [],
   "source": [
    "X.T.shape"
   ]
  },
  {
   "cell_type": "code",
   "execution_count": 105,
   "id": "de40bfb7-b11d-43ab-b7fd-50461c5db007",
   "metadata": {
    "execution": {
     "iopub.execute_input": "2024-06-29T20:13:41.708348Z",
     "iopub.status.busy": "2024-06-29T20:13:41.707878Z",
     "iopub.status.idle": "2024-06-29T20:13:41.712297Z",
     "shell.execute_reply": "2024-06-29T20:13:41.711740Z",
     "shell.execute_reply.started": "2024-06-29T20:13:41.708321Z"
    }
   },
   "outputs": [],
   "source": [
    "def csr_vappend(a,b):\n",
    "    \"\"\" Takes in 2 csr_matrices and appends the second one to the bottom of the first one. \n",
    "    Much faster than scipy.sparse.vstack but assumes the type to be csr and overwrites\n",
    "    the first matrix instead of copying it. The data, indices, and indptr still get copied.\"\"\"\n",
    "\n",
    "    a.data = np.vstack((a.data,b.data))\n",
    "    a.indices = np.vstack((a.indices,b.indices))\n",
    "    a.indptr = np.vstack((a.indptr,(b.indptr + a.nnz)[1:]))\n",
    "    a._shape = (a.shape[0]+b.shape[0],b.shape[1])\n",
    "    return a"
   ]
  },
  {
   "cell_type": "code",
   "execution_count": 106,
   "id": "6ed49eed-be35-460f-a845-6c7d53eb1128",
   "metadata": {
    "execution": {
     "iopub.execute_input": "2024-06-29T20:13:45.507748Z",
     "iopub.status.busy": "2024-06-29T20:13:45.507273Z",
     "iopub.status.idle": "2024-06-29T20:13:45.573647Z",
     "shell.execute_reply": "2024-06-29T20:13:45.572891Z",
     "shell.execute_reply.started": "2024-06-29T20:13:45.507722Z"
    }
   },
   "outputs": [
    {
     "ename": "ValueError",
     "evalue": "all the input array dimensions for the concatenation axis must match exactly, but along dimension 1, the array at index 0 has size 1832034 and the array at index 1 has size 116677",
     "output_type": "error",
     "traceback": [
      "\u001b[0;31m---------------------------------------------------------------------------\u001b[0m",
      "\u001b[0;31mValueError\u001b[0m                                Traceback (most recent call last)",
      "Cell \u001b[0;32mIn[106], line 1\u001b[0m\n\u001b[0;32m----> 1\u001b[0m Q\u001b[38;5;241m=\u001b[39m\u001b[43mcsr_vappend\u001b[49m\u001b[43m(\u001b[49m\u001b[43mX\u001b[49m\u001b[43m,\u001b[49m\u001b[43mcsr_matrix\u001b[49m\u001b[43m(\u001b[49m\u001b[43mnp\u001b[49m\u001b[38;5;241;43m.\u001b[39;49m\u001b[43mones\u001b[49m\u001b[43m(\u001b[49m\u001b[43mU\u001b[49m\u001b[43m)\u001b[49m\u001b[43m)\u001b[49m\u001b[43m)\u001b[49m\n",
      "Cell \u001b[0;32mIn[105], line 6\u001b[0m, in \u001b[0;36mcsr_vappend\u001b[0;34m(a, b)\u001b[0m\n\u001b[1;32m      1\u001b[0m \u001b[38;5;28;01mdef\u001b[39;00m \u001b[38;5;21mcsr_vappend\u001b[39m(a,b):\n\u001b[1;32m      2\u001b[0m \u001b[38;5;250m    \u001b[39m\u001b[38;5;124;03m\"\"\" Takes in 2 csr_matrices and appends the second one to the bottom of the first one. \u001b[39;00m\n\u001b[1;32m      3\u001b[0m \u001b[38;5;124;03m    Much faster than scipy.sparse.vstack but assumes the type to be csr and overwrites\u001b[39;00m\n\u001b[1;32m      4\u001b[0m \u001b[38;5;124;03m    the first matrix instead of copying it. The data, indices, and indptr still get copied.\"\"\"\u001b[39;00m\n\u001b[0;32m----> 6\u001b[0m     a\u001b[38;5;241m.\u001b[39mdata \u001b[38;5;241m=\u001b[39m \u001b[43mnp\u001b[49m\u001b[38;5;241;43m.\u001b[39;49m\u001b[43mvstack\u001b[49m\u001b[43m(\u001b[49m\u001b[43m(\u001b[49m\u001b[43ma\u001b[49m\u001b[38;5;241;43m.\u001b[39;49m\u001b[43mdata\u001b[49m\u001b[43m,\u001b[49m\u001b[43mb\u001b[49m\u001b[38;5;241;43m.\u001b[39;49m\u001b[43mdata\u001b[49m\u001b[43m)\u001b[49m\u001b[43m)\u001b[49m\n\u001b[1;32m      7\u001b[0m     a\u001b[38;5;241m.\u001b[39mindices \u001b[38;5;241m=\u001b[39m np\u001b[38;5;241m.\u001b[39mvstack((a\u001b[38;5;241m.\u001b[39mindices,b\u001b[38;5;241m.\u001b[39mindices))\n\u001b[1;32m      8\u001b[0m     a\u001b[38;5;241m.\u001b[39mindptr \u001b[38;5;241m=\u001b[39m np\u001b[38;5;241m.\u001b[39mvstack((a\u001b[38;5;241m.\u001b[39mindptr,(b\u001b[38;5;241m.\u001b[39mindptr \u001b[38;5;241m+\u001b[39m a\u001b[38;5;241m.\u001b[39mnnz)[\u001b[38;5;241m1\u001b[39m:]))\n",
      "File \u001b[0;32m<__array_function__ internals>:180\u001b[0m, in \u001b[0;36mvstack\u001b[0;34m(*args, **kwargs)\u001b[0m\n",
      "File \u001b[0;32m/apps/bdi-venv-310/lib/python3.10/site-packages/numpy/core/shape_base.py:282\u001b[0m, in \u001b[0;36mvstack\u001b[0;34m(tup)\u001b[0m\n\u001b[1;32m    280\u001b[0m \u001b[38;5;28;01mif\u001b[39;00m \u001b[38;5;129;01mnot\u001b[39;00m \u001b[38;5;28misinstance\u001b[39m(arrs, \u001b[38;5;28mlist\u001b[39m):\n\u001b[1;32m    281\u001b[0m     arrs \u001b[38;5;241m=\u001b[39m [arrs]\n\u001b[0;32m--> 282\u001b[0m \u001b[38;5;28;01mreturn\u001b[39;00m \u001b[43m_nx\u001b[49m\u001b[38;5;241;43m.\u001b[39;49m\u001b[43mconcatenate\u001b[49m\u001b[43m(\u001b[49m\u001b[43marrs\u001b[49m\u001b[43m,\u001b[49m\u001b[43m \u001b[49m\u001b[38;5;241;43m0\u001b[39;49m\u001b[43m)\u001b[49m\n",
      "File \u001b[0;32m<__array_function__ internals>:180\u001b[0m, in \u001b[0;36mconcatenate\u001b[0;34m(*args, **kwargs)\u001b[0m\n",
      "\u001b[0;31mValueError\u001b[0m: all the input array dimensions for the concatenation axis must match exactly, but along dimension 1, the array at index 0 has size 1832034 and the array at index 1 has size 116677"
     ]
    }
   ],
   "source": [
    "Q=csr_vappend(X,csr_matrix(np.ones(U)))"
   ]
  },
  {
   "cell_type": "code",
   "execution_count": 130,
   "id": "adf6ea8b-ef28-4c07-b239-6c7d306de98c",
   "metadata": {
    "execution": {
     "iopub.execute_input": "2024-06-29T20:17:46.724796Z",
     "iopub.status.busy": "2024-06-29T20:17:46.724234Z",
     "iopub.status.idle": "2024-06-29T20:17:47.076216Z",
     "shell.execute_reply": "2024-06-29T20:17:47.075182Z",
     "shell.execute_reply.started": "2024-06-29T20:17:46.724765Z"
    }
   },
   "outputs": [],
   "source": [
    "mask = np.ones(I, dtype=bool)\n",
    "mask[0] = False\n",
    "Q = csr_matrix(sparse.hstack((X[:,mask],np.ones(U)[:,None])).A)"
   ]
  },
  {
   "cell_type": "code",
   "execution_count": 132,
   "id": "e3621fc2-ebc3-4998-ab82-a1a0c1a2efca",
   "metadata": {
    "execution": {
     "iopub.execute_input": "2024-06-29T20:17:54.452287Z",
     "iopub.status.busy": "2024-06-29T20:17:54.451690Z",
     "iopub.status.idle": "2024-06-29T20:17:54.457191Z",
     "shell.execute_reply": "2024-06-29T20:17:54.456448Z",
     "shell.execute_reply.started": "2024-06-29T20:17:54.452256Z"
    }
   },
   "outputs": [
    {
     "data": {
      "text/plain": [
       "(116677, 190)"
      ]
     },
     "execution_count": 132,
     "metadata": {},
     "output_type": "execute_result"
    }
   ],
   "source": [
    "Q.shape"
   ]
  },
  {
   "cell_type": "code",
   "execution_count": null,
   "id": "9b155d37-8575-41a0-ac78-3533339e31a6",
   "metadata": {},
   "outputs": [],
   "source": []
  }
 ],
 "metadata": {
  "kernelspec": {
   "display_name": "Python 3.10 (recommended)",
   "language": "python",
   "name": "python310"
  },
  "language_info": {
   "codemirror_mode": {
    "name": "ipython",
    "version": 3
   },
   "file_extension": ".py",
   "mimetype": "text/x-python",
   "name": "python",
   "nbconvert_exporter": "python",
   "pygments_lexer": "ipython3",
   "version": "3.10.14"
  }
 },
 "nbformat": 4,
 "nbformat_minor": 5
}
