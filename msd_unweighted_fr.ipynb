{
 "cells": [
  {
   "cell_type": "code",
   "execution_count": 1,
   "id": "11d14461-7830-4359-a7e5-b57cff39edac",
   "metadata": {
    "execution": {
     "iopub.execute_input": "2024-10-15T21:43:48.540155Z",
     "iopub.status.busy": "2024-10-15T21:43:48.540034Z",
     "iopub.status.idle": "2024-10-15T21:43:56.943680Z",
     "shell.execute_reply": "2024-10-15T21:43:56.943093Z",
     "shell.execute_reply.started": "2024-10-15T21:43:48.540140Z"
    }
   },
   "outputs": [
    {
     "name": "stdout",
     "output_type": "stream",
     "text": [
      "loading data\n"
     ]
    }
   ],
   "source": [
    "import utils as ut\n",
    "import scipy as sc\n",
    "import numpy as np\n",
    "from tqdm.notebook import tqdm\n",
    "from joblib import Parallel, delayed\n",
    "\n",
    "\n",
    "path = '/efs/users/hsteck/public/datasets/movielens20mio/pro_sg'\n",
    "#path = '/efs/users/hsteck/public/datasets/msd_data/pro_sg'\n",
    "#path = '/efs/users/hsteck/public/datasets/netflix_prize_data/pro_sg'\n",
    "print('loading data')\n",
    "X = ut.load_train_data(path)\n",
    "items = X.shape[1]\n",
    "XtX = (X.T@X).toarray()"
   ]
  },
  {
   "cell_type": "code",
   "execution_count": null,
   "id": "eec2eaed-af93-4d7f-b0da-13510884915a",
   "metadata": {
    "execution": {
     "execution_failed": "2024-10-15T21:43:42.204Z"
    }
   },
   "outputs": [],
   "source": [
    "diags = XtX[np.diag_indices(X.shape[0])]"
   ]
  },
  {
   "cell_type": "code",
   "execution_count": 16,
   "id": "b1d6e601-ed86-4869-bb91-84d0be9aa8d7",
   "metadata": {
    "execution": {
     "iopub.execute_input": "2024-10-15T00:13:45.209750Z",
     "iopub.status.busy": "2024-10-15T00:13:45.209458Z",
     "iopub.status.idle": "2024-10-15T00:13:45.861904Z",
     "shell.execute_reply": "2024-10-15T00:13:45.861221Z",
     "shell.execute_reply.started": "2024-10-15T00:13:45.209731Z"
    }
   },
   "outputs": [],
   "source": [
    "xvals,xvecs = np.load('eigen/np-xvals.npy'),np.load('eigen/np-xvecs.npy')"
   ]
  },
  {
   "cell_type": "code",
   "execution_count": 14,
   "id": "abda3d48-3f65-4431-b521-ee526f00f4b4",
   "metadata": {
    "execution": {
     "iopub.execute_input": "2024-10-15T00:12:27.437243Z",
     "iopub.status.busy": "2024-10-15T00:12:27.436752Z",
     "iopub.status.idle": "2024-10-15T00:12:27.440625Z",
     "shell.execute_reply": "2024-10-15T00:12:27.440138Z",
     "shell.execute_reply.started": "2024-10-15T00:12:27.437206Z"
    }
   },
   "outputs": [],
   "source": [
    "lams = [1000,10000,100000]\n",
    "for lam in lams:\n",
    "    V = np.random.randn(X.shape[1],1000)\n",
    "    for _ in tqdm(range(5)):\n",
    "        vvals,vvecs = np.linalg.eigh(V.T @ V)\n",
    "        "
   ]
  },
  {
   "cell_type": "code",
   "execution_count": 9,
   "id": "aadb4df4-20c9-429b-8d9f-27c0392947c7",
   "metadata": {
    "execution": {
     "iopub.execute_input": "2024-10-12T18:30:32.860430Z",
     "iopub.status.busy": "2024-10-12T18:30:32.859802Z",
     "iopub.status.idle": "2024-10-12T18:30:32.863293Z",
     "shell.execute_reply": "2024-10-12T18:30:32.862817Z",
     "shell.execute_reply.started": "2024-10-12T18:30:32.860408Z"
    }
   },
   "outputs": [],
   "source": [
    "def efficient_sparse_computation(X, B):\n",
    "    # Ensure X is in CSR format for efficient row slicing\n",
    "    \n",
    "    # Get the non-zero elements\n",
    "    rows, cols = X.nonzero()\n",
    "    \n",
    "    # Initialize the result matrix\n",
    "    result = np.zeros((X.shape[1], B.shape[1]))\n",
    "    \n",
    "    # Use np.add.at for efficient accumulation\n",
    "    np.add.at(result, cols, B[rows])\n",
    "    \n",
    "    return result"
   ]
  },
  {
   "cell_type": "code",
   "execution_count": null,
   "id": "2f9b8967-f105-485c-8c3f-86b65f20d65c",
   "metadata": {
    "execution": {
     "iopub.execute_input": "2024-10-12T18:30:33.581227Z",
     "iopub.status.busy": "2024-10-12T18:30:33.580635Z"
    }
   },
   "outputs": [],
   "source": [
    "result = efficient_sparse_computation(X, B)"
   ]
  },
  {
   "cell_type": "raw",
   "id": "945ca9c1-858f-476e-8fff-b8e2f1d505e6",
   "metadata": {},
   "source": [
    "ML20M\n",
    "weight = 1 and lam =  5000\n",
    "Validation Metrics\n",
    "Val NDCG@100=0.40486 (0.00206)\n",
    "Val Recall@20=0.37280 (0.00264)\n",
    "Val Recall@50=0.50624 (0.00283)\n",
    "Test Metrics\n",
    "Test NDCG@100=0.39796 (0.00207)\n",
    "Test Recall@20=0.36928 (0.00265)\n",
    "Test Recall@50=0.50790 (0.00285)\n",
    "weight = 1 and lam =  15000\n",
    "Validation Metrics\n",
    "Val NDCG@100=0.41244 (0.00213)\n",
    "Val Recall@20=0.38043 (0.00266)\n",
    "Val Recall@50=0.50476 (0.00282)\n",
    "Test Metrics\n",
    "Test NDCG@100=0.40489 (0.00213)\n",
    "Test Recall@20=0.37417 (0.00269)\n",
    "Test Recall@50=0.50497 (0.00284)\n",
    "weight = 1 and lam =  20000\n",
    "Validation Metrics\n",
    "Val NDCG@100=0.40883 (0.00212)\n",
    "Val Recall@20=0.37507 (0.00266)\n",
    "Val Recall@50=0.50003 (0.00283)\n",
    "Test Metrics\n",
    "Test NDCG@100=0.40092 (0.00212)\n",
    "Test Recall@20=0.36945 (0.00268)\n",
    "Test Recall@50=0.49852 (0.00285)\n",
    "\n",
    "weight = 1 and lam =  10000\n",
    "Validation Metrics\n",
    "Val NDCG@100=0.41455 (0.00211)\n",
    "Val Recall@20=0.38279 (0.00266)\n",
    "Val Recall@50=0.50926 (0.00283)\n",
    "Test Metrics\n",
    "Test NDCG@100=0.40700 (0.00212)\n",
    "Test Recall@20=0.37568 (0.00268)\n",
    "Test Recall@50=0.51067 (0.00284)\n"
   ]
  },
  {
   "cell_type": "code",
   "execution_count": null,
   "id": "ebaaf485-833b-4a7f-bbb5-56dc6f4f399f",
   "metadata": {},
   "outputs": [],
   "source": []
  }
 ],
 "metadata": {
  "kernelspec": {
   "display_name": "Python 3.10 (recommended)",
   "language": "python",
   "name": "python310"
  },
  "language_info": {
   "codemirror_mode": {
    "name": "ipython",
    "version": 3
   },
   "file_extension": ".py",
   "mimetype": "text/x-python",
   "name": "python",
   "nbconvert_exporter": "python",
   "pygments_lexer": "ipython3",
   "version": "3.10.15"
  }
 },
 "nbformat": 4,
 "nbformat_minor": 5
}
