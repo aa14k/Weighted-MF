{
 "cells": [
  {
   "cell_type": "code",
   "execution_count": 1,
   "id": "008adcfc-9d75-4dcb-980b-2a321eca6f10",
   "metadata": {
    "execution": {
     "iopub.execute_input": "2024-09-11T16:11:49.209147Z",
     "iopub.status.busy": "2024-09-11T16:11:49.208916Z",
     "iopub.status.idle": "2024-09-11T16:11:49.604265Z",
     "shell.execute_reply": "2024-09-11T16:11:49.603613Z",
     "shell.execute_reply.started": "2024-09-11T16:11:49.209128Z"
    }
   },
   "outputs": [],
   "source": [
    "import utils as ut\n",
    "import scipy as sc\n",
    "import numpy as np\n",
    "from scipy import linalg"
   ]
  },
  {
   "cell_type": "code",
   "execution_count": 2,
   "id": "6bc0b63c-24e0-4d6e-b84a-be4f035b96bf",
   "metadata": {
    "execution": {
     "iopub.execute_input": "2024-09-11T16:11:49.605289Z",
     "iopub.status.busy": "2024-09-11T16:11:49.604998Z",
     "iopub.status.idle": "2024-09-11T16:11:51.911979Z",
     "shell.execute_reply": "2024-09-11T16:11:51.911328Z",
     "shell.execute_reply.started": "2024-09-11T16:11:49.605271Z"
    }
   },
   "outputs": [],
   "source": [
    "items = 20108\n",
    "W = np.zeros((items,items))\n",
    "W[:4000] = np.load('weights_lam_200_1.npy')\n",
    "W[4000:8000] = np.load('weights_lam_200_2.npy')\n",
    "W[8000:12000] = np.load('weights_lam_200_3.npy')\n",
    "W[12000:16000] = np.load('weights_lam_200_4.npy')\n",
    "W[16000:] = np.load('weights_lam_200_5.npy')"
   ]
  },
  {
   "cell_type": "code",
   "execution_count": 3,
   "id": "c7580492-a1b8-4ca1-af3a-0e854511e2b6",
   "metadata": {
    "execution": {
     "iopub.execute_input": "2024-09-11T16:11:51.912932Z",
     "iopub.status.busy": "2024-09-11T16:11:51.912709Z",
     "iopub.status.idle": "2024-09-11T16:12:03.009409Z",
     "shell.execute_reply": "2024-09-11T16:12:03.008855Z",
     "shell.execute_reply.started": "2024-09-11T16:11:51.912916Z"
    }
   },
   "outputs": [
    {
     "name": "stdout",
     "output_type": "stream",
     "text": [
      "2024-09-11 16:11:51.913633\n",
      "0 ... 5000\n",
      "5000 ... 10000\n",
      "Test NDCG@100=0.60573 (0.00283)\n",
      "Test Recall@20=0.37598 (0.00268)\n",
      "Test Recall@50=0.49494 (0.00287)\n",
      "2024-09-11 16:12:03.002277\n"
     ]
    },
    {
     "data": {
      "text/plain": [
       "[0.6057301207070886, 0.37598348974383033, 0.4949370310829225]"
      ]
     },
     "execution_count": 3,
     "metadata": {},
     "output_type": "execute_result"
    }
   ],
   "source": [
    "ut.evaluate(W.T,False)"
   ]
  },
  {
   "cell_type": "code",
   "execution_count": 4,
   "id": "1729968d-3931-40cf-9a38-85abcf42af20",
   "metadata": {
    "execution": {
     "iopub.execute_input": "2024-09-11T16:12:03.010268Z",
     "iopub.status.busy": "2024-09-11T16:12:03.010116Z",
     "iopub.status.idle": "2024-09-11T16:12:03.013479Z",
     "shell.execute_reply": "2024-09-11T16:12:03.013069Z",
     "shell.execute_reply.started": "2024-09-11T16:12:03.010252Z"
    }
   },
   "outputs": [],
   "source": [
    "def ease(X, lam = 100.0):\n",
    "    print('multiplying matrix')\n",
    "    G = X.T @ X\n",
    "    diagIndices = np.diag_indices(G.shape[0])\n",
    "    G = G + lam * np.eye(G.shape[0])\n",
    "    print('inverting')\n",
    "    P = linalg.inv(G)\n",
    "    print('inverting complete')\n",
    "    B = P / (-np.diag(P))\n",
    "    B[diagIndices] = 0.0\n",
    "    return B"
   ]
  },
  {
   "cell_type": "code",
   "execution_count": 5,
   "id": "82c58b51-25fe-4e6f-8ef1-c3784c6aaa8a",
   "metadata": {
    "execution": {
     "iopub.execute_input": "2024-09-11T16:12:03.014186Z",
     "iopub.status.busy": "2024-09-11T16:12:03.014054Z",
     "iopub.status.idle": "2024-09-11T16:12:04.171488Z",
     "shell.execute_reply": "2024-09-11T16:12:04.170835Z",
     "shell.execute_reply.started": "2024-09-11T16:12:03.014173Z"
    }
   },
   "outputs": [
    {
     "name": "stdout",
     "output_type": "stream",
     "text": [
      "(116677, 20108)\n"
     ]
    }
   ],
   "source": [
    "items=20108\n",
    "users,X = ut.load_xtx_binary(items)"
   ]
  },
  {
   "cell_type": "code",
   "execution_count": 6,
   "id": "f67313fc-d173-4d01-8aa2-743ed13e0343",
   "metadata": {
    "execution": {
     "iopub.execute_input": "2024-09-11T16:12:04.173226Z",
     "iopub.status.busy": "2024-09-11T16:12:04.172779Z",
     "iopub.status.idle": "2024-09-11T16:12:33.592793Z",
     "shell.execute_reply": "2024-09-11T16:12:33.591967Z",
     "shell.execute_reply.started": "2024-09-11T16:12:04.173207Z"
    }
   },
   "outputs": [
    {
     "name": "stdout",
     "output_type": "stream",
     "text": [
      "multiplying matrix\n",
      "inverting\n",
      "inverting complete\n"
     ]
    }
   ],
   "source": [
    "B = ease(X)"
   ]
  },
  {
   "cell_type": "code",
   "execution_count": 7,
   "id": "2beef24e-d479-485b-a9de-9853906623be",
   "metadata": {
    "execution": {
     "iopub.execute_input": "2024-09-11T16:12:33.594183Z",
     "iopub.status.busy": "2024-09-11T16:12:33.594007Z",
     "iopub.status.idle": "2024-09-11T16:12:45.433314Z",
     "shell.execute_reply": "2024-09-11T16:12:45.432746Z",
     "shell.execute_reply.started": "2024-09-11T16:12:33.594166Z"
    }
   },
   "outputs": [
    {
     "name": "stdout",
     "output_type": "stream",
     "text": [
      "2024-09-11 16:12:33.595237\n",
      "0 ... 5000\n",
      "5000 ... 10000\n",
      "Test NDCG@100=0.62738 (0.00274)\n",
      "Test Recall@20=0.38927 (0.00267)\n",
      "Test Recall@50=0.51623 (0.00282)\n",
      "2024-09-11 16:12:45.426683\n"
     ]
    },
    {
     "data": {
      "text/plain": [
       "[0.6273827617613021, 0.389274373357121, 0.5162321377128388]"
      ]
     },
     "execution_count": 7,
     "metadata": {},
     "output_type": "execute_result"
    }
   ],
   "source": [
    "ut.evaluate(B)"
   ]
  },
  {
   "cell_type": "code",
   "execution_count": 8,
   "id": "370b00e5-5c4d-4e32-81a7-42ea99908850",
   "metadata": {
    "execution": {
     "iopub.execute_input": "2024-09-11T16:16:02.746743Z",
     "iopub.status.busy": "2024-09-11T16:16:02.746321Z",
     "iopub.status.idle": "2024-09-11T16:16:02.750806Z",
     "shell.execute_reply": "2024-09-11T16:16:02.750388Z",
     "shell.execute_reply.started": "2024-09-11T16:16:02.746724Z"
    }
   },
   "outputs": [
    {
     "data": {
      "text/plain": [
       "array([[ 0.        , -0.02606492,  0.07078718, ...,  0.00018949,\n",
       "         0.00018949,  0.00018949],\n",
       "       [-0.02045514,  0.        ,  0.03130598, ..., -0.00135114,\n",
       "        -0.00135114, -0.00135114],\n",
       "       [ 0.06488827,  0.02625788,  0.        , ...,  0.00404829,\n",
       "         0.00404829,  0.00404829],\n",
       "       ...,\n",
       "       [-0.00027103, -0.00137966,  0.00882622, ...,  0.        ,\n",
       "         0.01020679,  0.01020679],\n",
       "       [-0.00027103, -0.00137966,  0.00882622, ...,  0.01020679,\n",
       "         0.        ,  0.01020679],\n",
       "       [-0.00027103, -0.00137966,  0.00882622, ...,  0.01020679,\n",
       "         0.01020679,  0.        ]])"
      ]
     },
     "execution_count": 8,
     "metadata": {},
     "output_type": "execute_result"
    }
   ],
   "source": [
    "W"
   ]
  },
  {
   "cell_type": "code",
   "execution_count": 9,
   "id": "f78db276-5b9b-43be-af86-77de6bb7c321",
   "metadata": {
    "execution": {
     "iopub.execute_input": "2024-09-11T16:16:42.842623Z",
     "iopub.status.busy": "2024-09-11T16:16:42.841901Z",
     "iopub.status.idle": "2024-09-11T16:16:42.846287Z",
     "shell.execute_reply": "2024-09-11T16:16:42.845819Z",
     "shell.execute_reply.started": "2024-09-11T16:16:42.842603Z"
    }
   },
   "outputs": [
    {
     "data": {
      "text/plain": [
       "array([[ 0.00000000e+00, -4.06584127e-03,  1.64020868e-02, ...,\n",
       "         3.59474171e-06,  3.59474171e-06,  3.59474171e-06],\n",
       "       [-2.19823650e-03,  0.00000000e+00,  3.92543949e-03, ...,\n",
       "        -2.21393278e-05, -2.21393278e-05, -2.21393278e-05],\n",
       "       [ 9.45265703e-03,  4.18426409e-03,  0.00000000e+00, ...,\n",
       "         6.39582114e-05,  6.39582114e-05,  6.39582114e-05],\n",
       "       ...,\n",
       "       [ 1.39178144e-04, -1.58541800e-03,  4.29679728e-03, ...,\n",
       "         0.00000000e+00,  5.24834671e-03,  5.24834671e-03],\n",
       "       [ 1.39178144e-04, -1.58541800e-03,  4.29679728e-03, ...,\n",
       "         5.24834671e-03,  0.00000000e+00,  5.24834671e-03],\n",
       "       [ 1.39178144e-04, -1.58541800e-03,  4.29679728e-03, ...,\n",
       "         5.24834671e-03,  5.24834671e-03,  0.00000000e+00]])"
      ]
     },
     "execution_count": 9,
     "metadata": {},
     "output_type": "execute_result"
    }
   ],
   "source": [
    "B"
   ]
  },
  {
   "cell_type": "code",
   "execution_count": null,
   "id": "0ccb89ed-1950-4a38-beef-878b1d63364a",
   "metadata": {},
   "outputs": [],
   "source": []
  }
 ],
 "metadata": {
  "kernelspec": {
   "display_name": "Python 3.10 (recommended)",
   "language": "python",
   "name": "python310"
  },
  "language_info": {
   "codemirror_mode": {
    "name": "ipython",
    "version": 3
   },
   "file_extension": ".py",
   "mimetype": "text/x-python",
   "name": "python",
   "nbconvert_exporter": "python",
   "pygments_lexer": "ipython3",
   "version": "3.10.14"
  }
 },
 "nbformat": 4,
 "nbformat_minor": 5
}
