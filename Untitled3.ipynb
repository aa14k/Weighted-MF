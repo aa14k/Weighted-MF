{
 "cells": [
  {
   "cell_type": "code",
   "execution_count": 4,
   "id": "3757eb88-b8b9-40f3-82bd-0c9f89a5d61b",
   "metadata": {
    "execution": {
     "iopub.execute_input": "2024-09-23T20:31:41.391185Z",
     "iopub.status.busy": "2024-09-23T20:31:41.390501Z",
     "iopub.status.idle": "2024-09-23T20:31:42.344815Z",
     "shell.execute_reply": "2024-09-23T20:31:42.344187Z",
     "shell.execute_reply.started": "2024-09-23T20:31:41.391164Z"
    }
   },
   "outputs": [
    {
     "name": "stdout",
     "output_type": "stream",
     "text": [
      "(116677, 20108)\n"
     ]
    }
   ],
   "source": [
    "import numpy as np\n",
    "import utils as ut\n",
    "from tqdm import tqdm\n",
    "import scipy as sc\n",
    "from joblib import Parallel, delayed\n",
    "\n",
    "items=20108\n",
    "userCnt , X= ut.load_xtx_binary(items)\n",
    "X_test = ut.load_xtx_binary_val()"
   ]
  },
  {
   "cell_type": "code",
   "execution_count": 5,
   "id": "91603f3f-44e3-4d92-ab2d-b9e882949d76",
   "metadata": {
    "execution": {
     "iopub.execute_input": "2024-09-23T20:31:42.345929Z",
     "iopub.status.busy": "2024-09-23T20:31:42.345766Z",
     "iopub.status.idle": "2024-09-23T20:31:42.349351Z",
     "shell.execute_reply": "2024-09-23T20:31:42.348924Z",
     "shell.execute_reply.started": "2024-09-23T20:31:42.345914Z"
    }
   },
   "outputs": [
    {
     "data": {
      "text/plain": [
       "(10000, 20108)"
      ]
     },
     "execution_count": 5,
     "metadata": {},
     "output_type": "execute_result"
    }
   ],
   "source": [
    "X_test.shape"
   ]
  },
  {
   "cell_type": "code",
   "execution_count": 6,
   "id": "f8b3e2a5-efb6-437e-8ad8-ef246b8d9a2f",
   "metadata": {
    "execution": {
     "iopub.execute_input": "2024-09-23T20:32:03.021230Z",
     "iopub.status.busy": "2024-09-23T20:32:03.020796Z",
     "iopub.status.idle": "2024-09-23T20:33:38.730484Z",
     "shell.execute_reply": "2024-09-23T20:33:38.729487Z",
     "shell.execute_reply.started": "2024-09-23T20:32:03.021210Z"
    }
   },
   "outputs": [],
   "source": [
    "XtX = (X_test.T @ X_test).toarray()\n",
    "xvals, xvecs = np.linalg.eigh(XtX)\n",
    "np.save('xvals_val.npy', xvals)\n",
    "np.save('xvecs_val.npy', xvecs)"
   ]
  },
  {
   "cell_type": "code",
   "execution_count": null,
   "id": "66a8b643-fdbd-43b1-ad4f-f45ae29537ca",
   "metadata": {},
   "outputs": [],
   "source": []
  }
 ],
 "metadata": {
  "kernelspec": {
   "display_name": "Python 3.10 (recommended)",
   "language": "python",
   "name": "python310"
  },
  "language_info": {
   "codemirror_mode": {
    "name": "ipython",
    "version": 3
   },
   "file_extension": ".py",
   "mimetype": "text/x-python",
   "name": "python",
   "nbconvert_exporter": "python",
   "pygments_lexer": "ipython3",
   "version": "3.10.14"
  }
 },
 "nbformat": 4,
 "nbformat_minor": 5
}
