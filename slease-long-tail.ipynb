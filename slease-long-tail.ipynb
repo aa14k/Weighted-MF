{
 "cells": [
  {
   "cell_type": "code",
   "execution_count": 2,
   "id": "c2f203d9-5ef9-49b9-af1e-b0e48e1be90c",
   "metadata": {
    "execution": {
     "iopub.execute_input": "2024-07-04T21:05:51.862022Z",
     "iopub.status.busy": "2024-07-04T21:05:51.861289Z",
     "iopub.status.idle": "2024-07-04T21:05:51.865319Z",
     "shell.execute_reply": "2024-07-04T21:05:51.864897Z",
     "shell.execute_reply.started": "2024-07-04T21:05:51.862002Z"
    }
   },
   "outputs": [],
   "source": [
    "import numpy as np\n",
    "import scipy as sc\n",
    "from tqdm.notebook import tqdm\n",
    "from scipy import linalg\n",
    "from scipy.optimize import minimize\n",
    "from scipy.sparse import csr_matrix\n",
    "from scipy.special import expit as sigmoid\n",
    "from scipy.special import log_expit\n",
    "from joblib import Parallel, delayed"
   ]
  },
  {
   "cell_type": "code",
   "execution_count": 3,
   "id": "769a840a-939f-4ecb-a3ba-b5cb3ea71ad5",
   "metadata": {
    "execution": {
     "iopub.execute_input": "2024-07-04T21:05:52.081437Z",
     "iopub.status.busy": "2024-07-04T21:05:52.080923Z",
     "iopub.status.idle": "2024-07-04T21:05:52.784013Z",
     "shell.execute_reply": "2024-07-04T21:05:52.783421Z",
     "shell.execute_reply.started": "2024-07-04T21:05:52.081418Z"
    }
   },
   "outputs": [],
   "source": [
    "import os\n",
    "import shutil\n",
    "import sys\n",
    "\n",
    "import numpy as np\n",
    "from scipy import sparse\n",
    "\n",
    "#import matplotlib.pyplot as plt\n",
    "#%matplotlib inline\n",
    "#\n",
    "#import seaborn as sn\n",
    "#sn.set()\n",
    "\n",
    "import pandas as pd\n",
    "\n",
    "import bottleneck as bn\n",
    "\n",
    "import datetime\n",
    "from copy import deepcopy"
   ]
  },
  {
   "cell_type": "code",
   "execution_count": 4,
   "id": "e20aaa7f-86af-4dba-9668-2de92e9700d1",
   "metadata": {
    "execution": {
     "iopub.execute_input": "2024-07-04T21:05:52.804940Z",
     "iopub.status.busy": "2024-07-04T21:05:52.804529Z",
     "iopub.status.idle": "2024-07-04T21:05:52.869289Z",
     "shell.execute_reply": "2024-07-04T21:05:52.868701Z",
     "shell.execute_reply.started": "2024-07-04T21:05:52.804923Z"
    }
   },
   "outputs": [],
   "source": [
    "\n",
    "import pickle\n",
    "\n",
    "def save_pkl(obj, filename ):\n",
    "    with open(filename, 'wb') as f:\n",
    "        pickle.dump(obj, f, pickle.HIGHEST_PROTOCOL )\n",
    "    \n",
    "def load_pkl(filename ):\n",
    "    with open(filename, 'rb') as f:\n",
    "        return pickle.load(f)\n",
    " "
   ]
  },
  {
   "cell_type": "code",
   "execution_count": 5,
   "id": "81ebb53b-13d3-4254-8c64-54caf389a77f",
   "metadata": {
    "execution": {
     "iopub.execute_input": "2024-07-04T21:05:53.053620Z",
     "iopub.status.busy": "2024-07-04T21:05:53.053023Z",
     "iopub.status.idle": "2024-07-04T21:05:53.089406Z",
     "shell.execute_reply": "2024-07-04T21:05:53.088881Z",
     "shell.execute_reply.started": "2024-07-04T21:05:53.053601Z"
    }
   },
   "outputs": [],
   "source": [
    "DATA_DIR = '/efs/users/hsteck/public/data_for_ease/movielens20mio/'"
   ]
  },
  {
   "cell_type": "code",
   "execution_count": 6,
   "id": "c0bf2350-3726-4f15-b0c2-8846c808820c",
   "metadata": {
    "execution": {
     "iopub.execute_input": "2024-07-04T21:05:53.409454Z",
     "iopub.status.busy": "2024-07-04T21:05:53.408917Z",
     "iopub.status.idle": "2024-07-04T21:05:53.411757Z",
     "shell.execute_reply": "2024-07-04T21:05:53.411331Z",
     "shell.execute_reply.started": "2024-07-04T21:05:53.409437Z"
    }
   },
   "outputs": [],
   "source": [
    "pro_dir = os.path.join(DATA_DIR, 'pro_sg')\n"
   ]
  },
  {
   "cell_type": "code",
   "execution_count": 7,
   "id": "d5e42eaa-18c4-4a1f-9775-f9997bf0b901",
   "metadata": {
    "execution": {
     "iopub.execute_input": "2024-07-04T21:05:53.701624Z",
     "iopub.status.busy": "2024-07-04T21:05:53.701040Z",
     "iopub.status.idle": "2024-07-04T21:05:53.720553Z",
     "shell.execute_reply": "2024-07-04T21:05:53.720055Z",
     "shell.execute_reply.started": "2024-07-04T21:05:53.701604Z"
    }
   },
   "outputs": [],
   "source": [
    "unique_sid = list()\n",
    "with open(os.path.join(pro_dir, 'unique_sid.txt'), 'r') as f:\n",
    "    for line in f:\n",
    "        unique_sid.append(line.strip())\n",
    "\n",
    "n_items = len(unique_sid)\n",
    "\n",
    "def load_train_data(csv_file):\n",
    "    tp = pd.read_csv(csv_file)\n",
    "    n_users = tp['uid'].max() + 1\n",
    "\n",
    "    rows, cols = tp['uid'], tp['sid']\n",
    "    data = sparse.csr_matrix((np.ones_like(rows),\n",
    "                             (rows, cols)), dtype='float64',\n",
    "                             shape=(n_users, n_items))\n",
    "    return data"
   ]
  },
  {
   "cell_type": "code",
   "execution_count": 8,
   "id": "36724a42-ce95-4068-9d34-165631718cf6",
   "metadata": {
    "execution": {
     "iopub.execute_input": "2024-07-04T21:05:54.049675Z",
     "iopub.status.busy": "2024-07-04T21:05:54.049069Z",
     "iopub.status.idle": "2024-07-04T21:05:54.053246Z",
     "shell.execute_reply": "2024-07-04T21:05:54.052795Z",
     "shell.execute_reply.started": "2024-07-04T21:05:54.049656Z"
    }
   },
   "outputs": [],
   "source": [
    "def load_xtx_binary(I):\n",
    "    train_data = load_train_data(os.path.join(pro_dir, 'train.csv'))\n",
    "    X_reg=train_data[:,:I]\n",
    "    X = X_reg.toarray()\n",
    "    #Xp = csr_matrix(np.where(X==-1,0,1))\n",
    "    #Xn = csr_matrix(np.where(X==1,0,-1))\n",
    "    #X = -1.0*csr_matrix.sign(X)\n",
    "    #X = 2 * X - 1\n",
    "    ####normalize users\n",
    "    #nn=np.array(np.sum(X,axis=1)) [:,0]\n",
    "    #nn=1.0/np.sqrt(nn)  # user weight normalized on diagonal, approx prop to nn  (off diag)\n",
    "    #X=  sparse.spdiags(nn, 0, len(nn), len(nn)) * X\n",
    "    ### remove mean  --> cov\n",
    "    print (X_reg.shape)\n",
    "    #XtX=np.array(X.T.dot(X).todense()) \n",
    "\n",
    "    return [X_reg.shape[0] , X_reg]\n",
    "\n",
    "\n",
    "def load_xtx_sign(I):\n",
    "    train_data = load_train_data(os.path.join(pro_dir, 'train.csv'))\n",
    "    \n",
    "    X=train_data[:,:I]\n",
    "    X = X.toarray()\n",
    "    #X = -1.0*csr_matrix.sign(X)\n",
    "    X = 2 * X - 1\n",
    "    ####normalize users\n",
    "    #nn=np.array(np.sum(X,axis=1)) [:,0]\n",
    "    #nn=1.0/np.sqrt(nn)  # user weight normalized on diagonal, approx prop to nn  (off diag)\n",
    "    #X=  sparse.spdiags(nn, 0, len(nn), len(nn)) * X\n",
    "    ### remove mean  --> cov\n",
    "    print (X.shape)\n",
    "    #XtX=np.array(X.T.dot(X).todense()) \n",
    "\n",
    "    return [X.shape[0] ,X,None]"
   ]
  },
  {
   "cell_type": "code",
   "execution_count": 9,
   "id": "684c91ae-2f62-4776-9ec0-07150a5f32af",
   "metadata": {
    "execution": {
     "iopub.execute_input": "2024-07-04T21:05:54.429344Z",
     "iopub.status.busy": "2024-07-04T21:05:54.429017Z",
     "iopub.status.idle": "2024-07-04T21:06:06.597169Z",
     "shell.execute_reply": "2024-07-04T21:06:06.596469Z",
     "shell.execute_reply.started": "2024-07-04T21:05:54.429326Z"
    }
   },
   "outputs": [
    {
     "name": "stdout",
     "output_type": "stream",
     "text": [
      "(116677, 20108)\n"
     ]
    }
   ],
   "source": [
    "#I = 20108\n",
    "I = 20108\n",
    "U = 116677\n",
    "userCnt , X= load_xtx_binary(I)\n",
    "X_ = X.toarray()\n",
    "Xt = (2*X_-1)"
   ]
  },
  {
   "cell_type": "code",
   "execution_count": 10,
   "id": "e7c95fc4-7bc8-41b1-8fa2-064e1fcaa05b",
   "metadata": {
    "execution": {
     "iopub.execute_input": "2024-07-04T21:06:06.598664Z",
     "iopub.status.busy": "2024-07-04T21:06:06.598178Z",
     "iopub.status.idle": "2024-07-04T21:06:06.600882Z",
     "shell.execute_reply": "2024-07-04T21:06:06.600484Z",
     "shell.execute_reply.started": "2024-07-04T21:06:06.598648Z"
    }
   },
   "outputs": [],
   "source": [
    "scale = 1"
   ]
  },
  {
   "cell_type": "code",
   "execution_count": 11,
   "id": "500e98b2-f423-4f76-9212-96796d7ae9f2",
   "metadata": {
    "execution": {
     "iopub.execute_input": "2024-07-04T21:06:06.601455Z",
     "iopub.status.busy": "2024-07-04T21:06:06.601335Z",
     "iopub.status.idle": "2024-07-04T21:06:06.773746Z",
     "shell.execute_reply": "2024-07-04T21:06:06.773196Z",
     "shell.execute_reply.started": "2024-07-04T21:06:06.601444Z"
    }
   },
   "outputs": [],
   "source": [
    "#clicks = np.sum(X_,axis=1)\n",
    "#clicks = clicks[clicks > 0]\n",
    "#clicks_idx = np.argsort(clicks)"
   ]
  },
  {
   "cell_type": "code",
   "execution_count": 12,
   "id": "4d64cd4a-f315-4a29-91f2-d72196ce1fd3",
   "metadata": {
    "execution": {
     "iopub.execute_input": "2024-07-04T21:06:06.775310Z",
     "iopub.status.busy": "2024-07-04T21:06:06.774923Z",
     "iopub.status.idle": "2024-07-04T21:06:07.001794Z",
     "shell.execute_reply": "2024-07-04T21:06:07.001108Z",
     "shell.execute_reply.started": "2024-07-04T21:06:06.775293Z"
    }
   },
   "outputs": [],
   "source": [
    "#clicks_idx.shape"
   ]
  },
  {
   "cell_type": "code",
   "execution_count": null,
   "id": "17eb73c3-de86-45f4-978b-345350279f71",
   "metadata": {},
   "outputs": [],
   "source": []
  },
  {
   "cell_type": "code",
   "execution_count": 13,
   "id": "060b5207-d68c-4f95-bd0a-15c0585aebd1",
   "metadata": {
    "execution": {
     "iopub.execute_input": "2024-07-04T21:06:07.002627Z",
     "iopub.status.busy": "2024-07-04T21:06:07.002490Z",
     "iopub.status.idle": "2024-07-04T21:06:07.183810Z",
     "shell.execute_reply": "2024-07-04T21:06:07.183273Z",
     "shell.execute_reply.started": "2024-07-04T21:06:07.002613Z"
    }
   },
   "outputs": [
    {
     "data": {
      "text/plain": [
       "(116677, 20108)"
      ]
     },
     "execution_count": 13,
     "metadata": {},
     "output_type": "execute_result"
    }
   ],
   "source": [
    "Xt.shape"
   ]
  },
  {
   "cell_type": "code",
   "execution_count": 14,
   "id": "6dcff08c-5325-4a29-a70f-b7ca8ae01c6f",
   "metadata": {
    "execution": {
     "iopub.execute_input": "2024-07-04T21:06:07.184632Z",
     "iopub.status.busy": "2024-07-04T21:06:07.184498Z",
     "iopub.status.idle": "2024-07-04T21:06:07.335382Z",
     "shell.execute_reply": "2024-07-04T21:06:07.334804Z",
     "shell.execute_reply.started": "2024-07-04T21:06:07.184619Z"
    }
   },
   "outputs": [],
   "source": [
    "def ease(X, lam):\n",
    "    print('multiplying matrix')\n",
    "    G = X.T @ X\n",
    "    diagIndices = np.diag_indices(G.shape[0])\n",
    "    G = G + lam * np.eye(G.shape[0])\n",
    "    print('inverting')\n",
    "    P = linalg.inv(G)\n",
    "    print('inverting complete')\n",
    "    B = P / (-np.diag(P))\n",
    "    B[diagIndices] = 0.0\n",
    "    return B"
   ]
  },
  {
   "cell_type": "code",
   "execution_count": 15,
   "id": "5880b844-8cc6-4bec-b806-98256f64e663",
   "metadata": {
    "execution": {
     "iopub.execute_input": "2024-07-04T21:06:07.336412Z",
     "iopub.status.busy": "2024-07-04T21:06:07.336067Z",
     "iopub.status.idle": "2024-07-04T21:06:07.440210Z",
     "shell.execute_reply": "2024-07-04T21:06:07.439624Z",
     "shell.execute_reply.started": "2024-07-04T21:06:07.336396Z"
    }
   },
   "outputs": [],
   "source": [
    "\n",
    "\n",
    "def sllog(w,item,idx0,idx1,lam=200.0):\n",
    "    return lam * np.inner(w,w) - np.sum(log_expit(X[idx1[0],:]@w)) - np.sum(log_expit(-X[idx0[0],:]@w))\n",
    "\n",
    "\n",
    "def dsllog(w,item,idx0,idx1,lam=200.0):\n",
    "    xw = (X@w).reshape(U,1)\n",
    "    return (sigmoid(xw)-X[:,item]).T@X + 2 * lam * w\n"
   ]
  },
  {
   "cell_type": "code",
   "execution_count": 16,
   "id": "d02497f1-76c7-4175-bdb2-461ab18033f5",
   "metadata": {
    "execution": {
     "iopub.execute_input": "2024-07-04T21:06:07.441048Z",
     "iopub.status.busy": "2024-07-04T21:06:07.440911Z",
     "iopub.status.idle": "2024-07-04T21:06:07.550011Z",
     "shell.execute_reply": "2024-07-04T21:06:07.549400Z",
     "shell.execute_reply.started": "2024-07-04T21:06:07.441034Z"
    }
   },
   "outputs": [],
   "source": [
    "def lsq(B, lam = 1.0):\n",
    "    B = B.reshape(I,I)\n",
    "    S = X @ B\n",
    "    loss = sc.linalg.norm(X - S, ord='fro') ** 2 + lam * (sc.linalg.norm(B, ord='fro') ** 2)\n",
    "    return loss\n",
    "\n",
    "def dlsq(B, lam = 1.0):\n",
    "    B = B.reshape(I,I)\n",
    "    S = X @ B\n",
    "    return (2 * lam * B - 2 * X.T @ (X - S)).flatten()\n",
    "\n",
    "\n",
    "# def llog1(w,item,lam=200.0):\n",
    "#     xw = (X@w)\n",
    "#     return np.sum(np.logaddexp(-xw/2,xw/2) - X[:,item]/2*(xw)) + lam * np.inner(w,w)\n",
    "\n",
    "\n",
    "# def dllog1(w,item,lam=200.0):\n",
    "#     xw = (X@w)\n",
    "#     scalar = 1/2 * (sigmoid(xw/2) - sigmoid(-xw/2) - X[:,item])\n",
    "#     return scalar.T@X + 2 * lam * w\n",
    "\n",
    "\n",
    "\n",
    "# def llog(w,item,lam=200.0):\n",
    "#     xw = (X@w)\n",
    "#     return -1.0 * np.sum(log_expit(X[:,item]*xw)) + lam * np.inner(w,w) / 2\n",
    "\n",
    "\n",
    "# def dllog(w,item,lam=200.0):\n",
    "#     y = X[:,item]\n",
    "#     xw = X@w\n",
    "#     scalar = -1.0 * y * sigmoid(-y*xw)\n",
    "#     return scalar.T@X + lam*w\n",
    "\n",
    "\n",
    "# def llog(w,item,idx0,idx1,lam):\n",
    "#     xw0 = Xp[idx0,:]@w + Xn[idx0,:]@w\n",
    "#     xw1 = Xp[idx1,:]@w + Xn[idx1,:]@w\n",
    "#     loss = -1.0 * np.sum((log_expit(xw1))) - np.sum(log_expit(-xw0))\n",
    "#     return loss + lam * np.inner(w,w) / 2\n",
    "\n",
    "# def dllog(w,item,idx0,idx1,lam):\n",
    "#     scalar = sigmoid(Xp@w + Xn@w).reshape(U,1) - X[:,item]\n",
    "#     return scalar.T@Xp + scalar.T@Xn + lam*w\n",
    "\n",
    "\n",
    "def llog(w,item,lam):\n",
    "    xw = Xt@w\n",
    "    y = X_[:,item]\n",
    "    return np.sum(np.logaddexp(0,(1-2*y)*xw)) + lam/2 * np.inner(w,w)\n",
    "\n",
    "def dllog(w,item,lam):\n",
    "    p = sigmoid(Xt@w) - X_[:,item]\n",
    "    return p.T@Xt + lam*w\n",
    "\n",
    "\n",
    "def hllog(w,item,lam):\n",
    "    xw = X_@w\n",
    "    D = D = sc.sparse.diags((sigmoid(xw)*(1-sigmoid(xw))),format='csr')\n",
    "    return X_.T @ D @ X_ + lam * sc.sparse.eye(I,format='csr')\n",
    "    \n",
    "\n",
    "def projected_newton(item,lam,alpha = 1/10):\n",
    "    w = np.zeros(I)\n",
    "    done = False\n",
    "    while not done:\n",
    "        grad = dllog(w,item,lam)\n",
    "        hess = hllog(w,item,lam)\n",
    "        update = sc.sparse.linalg.spsolve(hess,grad)\n",
    "        beta = np.linalg.norm(update)\n",
    "        w_new = w - 1 / beta * np.log(1 + beta) * update\n",
    "        #w_new = w_new / (-w_new[item])\n",
    "        w_new[item] = 0.0\n",
    "        #w_new=np.clip(w_new,-5,5)\n",
    "        #print(np.linalg.norm(w_new-w))\n",
    "        if np.linalg.norm(w_new-w) < 1e-6:\n",
    "            done = True\n",
    "            return w_new\n",
    "        w = w_new\n",
    "    return w_new"
   ]
  },
  {
   "cell_type": "code",
   "execution_count": 17,
   "id": "bb37efb6-2e5b-4352-8bc4-ad2b4ac15816",
   "metadata": {
    "execution": {
     "iopub.execute_input": "2024-07-04T21:06:07.550900Z",
     "iopub.status.busy": "2024-07-04T21:06:07.550744Z",
     "iopub.status.idle": "2024-07-04T21:06:07.666610Z",
     "shell.execute_reply": "2024-07-04T21:06:07.666024Z",
     "shell.execute_reply.started": "2024-07-04T21:06:07.550884Z"
    }
   },
   "outputs": [],
   "source": [
    "lam = 50.0\n",
    "def exp(item):\n",
    "    b = 0.0\n",
    "    bounds = np.zeros((I,2))\n",
    "    bounds[:,0] = -100\n",
    "    bounds[:,1] = 100\n",
    "    bounds[item,:] = np.array([b,b])\n",
    "    # bounds = sc.optimize.Bounds(lb=bounds[:,0],ub=bounds[:,1])\n",
    "    x0 = np.random.uniform(low=-0.0,high=0.0,size=I)\n",
    "    x0[item] = b\n",
    "    # clf = LogisticRegression(solver='L-BFGS-B', penalty = 'l2', C=lam)\n",
    "    # clf.fit(Xt,X_[:,item],bounds=bounds)\n",
    "    \n",
    "    sol = minimize(\n",
    "       fun = llog, x0=x0, args = (item,lam),method='l-bfgs-b',jac=dllog, bounds=bounds,\n",
    "       options={'ftol':1e-12}\n",
    "    )\n",
    "    #print(sol, np.linalg.norm(sol.jac))\n",
    "    return sol.x\n",
    "\n",
    "\n",
    "\n"
   ]
  },
  {
   "cell_type": "code",
   "execution_count": null,
   "id": "24ec79b5-06d4-4b2d-8c9d-3b53917077be",
   "metadata": {
    "scrolled": true
   },
   "outputs": [],
   "source": []
  },
  {
   "cell_type": "code",
   "execution_count": null,
   "id": "b9a85ef7-97a4-4d6b-b7ef-a6432c3fda65",
   "metadata": {
    "execution": {
     "iopub.execute_input": "2024-07-04T21:06:14.658245Z",
     "iopub.status.busy": "2024-07-04T21:06:14.657515Z"
    },
    "scrolled": true
   },
   "outputs": [
    {
     "data": {
      "application/vnd.jupyter.widget-view+json": {
       "model_id": "af6efb85acd64cdfb791e2918ed9a250",
       "version_major": 2,
       "version_minor": 0
      },
      "text/plain": [
       "  0%|          | 0/20108 [00:00<?, ?it/s]"
      ]
     },
     "metadata": {},
     "output_type": "display_data"
    }
   ],
   "source": [
    "W = Parallel(n_jobs=95)(delayed(exp)(item) for item in tqdm(range(I)))\n",
    "W = np.array(W)\n",
    "np.save('weights_lbfgs', W.T)"
   ]
  },
  {
   "cell_type": "code",
   "execution_count": null,
   "id": "979df937-a6a8-42ae-bb2c-844f159b117f",
   "metadata": {
    "execution": {
     "execution_failed": "2024-07-04T20:49:15.946Z"
    }
   },
   "outputs": [],
   "source": [
    "k=100\n",
    "evaluate(W.T,I,1.0,'log',k)"
   ]
  },
  {
   "cell_type": "code",
   "execution_count": 66,
   "id": "bdba1f56-9735-4b77-b134-8c67775223c9",
   "metadata": {
    "execution": {
     "iopub.execute_input": "2024-07-04T20:46:10.786230Z",
     "iopub.status.busy": "2024-07-04T20:46:10.785817Z",
     "iopub.status.idle": "2024-07-04T20:46:11.422064Z",
     "shell.execute_reply": "2024-07-04T20:46:11.421512Z",
     "shell.execute_reply.started": "2024-07-04T20:46:10.786211Z"
    }
   },
   "outputs": [
    {
     "name": "stdout",
     "output_type": "stream",
     "text": [
      "multiplying matrix\n",
      "inverting\n",
      "inverting complete\n",
      "2024-07-04 20:46:11.175298\n",
      "0 ... 5000\n",
      "(100,)\n",
      "5000 ... 10000\n",
      "(100,)\n",
      "Test NDCG@100=0.27992 (0.00209)\n",
      "2024-07-04 20:46:11.419083\n"
     ]
    },
    {
     "data": {
      "text/plain": [
       "[0.27992270765267663, nan, nan]"
      ]
     },
     "execution_count": 66,
     "metadata": {},
     "output_type": "execute_result"
    }
   ],
   "source": [
    "W_lin = ease(X,lam)\n",
    "evaluate(W_lin,I,1.0,'ease',k)"
   ]
  },
  {
   "cell_type": "code",
   "execution_count": 68,
   "id": "5efa44e7-c5e4-4c18-8768-004b499d5bf7",
   "metadata": {
    "execution": {
     "iopub.execute_input": "2024-06-24T18:36:05.448358Z",
     "iopub.status.busy": "2024-06-24T18:36:05.447969Z",
     "iopub.status.idle": "2024-06-24T18:36:05.451710Z",
     "shell.execute_reply": "2024-06-24T18:36:05.451361Z",
     "shell.execute_reply.started": "2024-06-24T18:36:05.448339Z"
    }
   },
   "outputs": [
    {
     "data": {
      "text/plain": [
       "10.0"
      ]
     },
     "execution_count": 68,
     "metadata": {},
     "output_type": "execute_result"
    }
   ],
   "source": [
    "np.max(W)"
   ]
  },
  {
   "cell_type": "code",
   "execution_count": 29,
   "id": "f7ded6bb-d8c1-455f-8093-db7057a7bad8",
   "metadata": {
    "execution": {
     "iopub.execute_input": "2024-07-04T20:38:04.986546Z",
     "iopub.status.busy": "2024-07-04T20:38:04.986128Z",
     "iopub.status.idle": "2024-07-04T20:38:04.990573Z",
     "shell.execute_reply": "2024-07-04T20:38:04.990189Z",
     "shell.execute_reply.started": "2024-07-04T20:38:04.986527Z"
    }
   },
   "outputs": [],
   "source": [
    "def load_tr_te_data(csv_file_tr, csv_file_te):\n",
    "    tp_tr = pd.read_csv(csv_file_tr)\n",
    "    tp_te = pd.read_csv(csv_file_te)\n",
    "\n",
    "    start_idx = min(tp_tr['uid'].min(), tp_te['uid'].min())\n",
    "    end_idx = max(tp_tr['uid'].max(), tp_te['uid'].max())\n",
    "\n",
    "    rows_tr, cols_tr = tp_tr['uid'] - start_idx, tp_tr['sid']\n",
    "    rows_te, cols_te = tp_te['uid'] - start_idx, tp_te['sid']\n",
    "\n",
    "    data_tr = sparse.csr_matrix((np.ones_like(rows_tr),\n",
    "                             (rows_tr, cols_tr)), dtype='float64', shape=(end_idx - start_idx + 1, n_items))\n",
    "    data_te = sparse.csr_matrix((np.ones_like(rows_te),\n",
    "                             (rows_te, cols_te)), dtype='float64', shape=(end_idx - start_idx + 1, n_items))\n",
    "    return data_tr, data_te"
   ]
  },
  {
   "cell_type": "code",
   "execution_count": 30,
   "id": "24e32e5a-f44a-41a4-9460-75a4691036aa",
   "metadata": {
    "execution": {
     "iopub.execute_input": "2024-07-04T20:38:05.170568Z",
     "iopub.status.busy": "2024-07-04T20:38:05.169971Z",
     "iopub.status.idle": "2024-07-04T20:38:05.268657Z",
     "shell.execute_reply": "2024-07-04T20:38:05.268142Z",
     "shell.execute_reply.started": "2024-07-04T20:38:05.170548Z"
    }
   },
   "outputs": [],
   "source": [
    "test_data_tr, test_data_te = load_tr_te_data(\n",
    "    os.path.join(pro_dir, 'test_tr.csv'),\n",
    "    os.path.join(pro_dir, 'test_te.csv'))"
   ]
  },
  {
   "cell_type": "code",
   "execution_count": null,
   "id": "eb64ad5d-167f-4d28-b928-4eb1d0f0a1c0",
   "metadata": {},
   "outputs": [],
   "source": []
  },
  {
   "cell_type": "code",
   "execution_count": 31,
   "id": "b2164789-565e-4745-9a99-41804bd2e0aa",
   "metadata": {
    "execution": {
     "iopub.execute_input": "2024-07-04T20:38:05.682507Z",
     "iopub.status.busy": "2024-07-04T20:38:05.681916Z",
     "iopub.status.idle": "2024-07-04T20:38:05.684841Z",
     "shell.execute_reply": "2024-07-04T20:38:05.684457Z",
     "shell.execute_reply.started": "2024-07-04T20:38:05.682488Z"
    }
   },
   "outputs": [],
   "source": [
    "N_test = test_data_te.shape[0]\n",
    "idxlist_test = range(N_test)\n"
   ]
  },
  {
   "cell_type": "code",
   "execution_count": 32,
   "id": "0dca1c0f-0404-4790-9b81-67a727e34f7c",
   "metadata": {
    "execution": {
     "iopub.execute_input": "2024-07-04T20:38:06.034201Z",
     "iopub.status.busy": "2024-07-04T20:38:06.033853Z",
     "iopub.status.idle": "2024-07-04T20:38:06.038153Z",
     "shell.execute_reply": "2024-07-04T20:38:06.037793Z",
     "shell.execute_reply.started": "2024-07-04T20:38:06.034182Z"
    }
   },
   "outputs": [],
   "source": [
    "def NDCG_binary_at_k_batch(X_pred, heldout_batch, k=20):\n",
    "    '''\n",
    "    normalized discounted cumulative gain@k for binary relevance\n",
    "    ASSUMPTIONS: all the 0's in heldout_data indicate 0 relevance\n",
    "    '''\n",
    "    batch_users = X_pred.shape[0]\n",
    "    idx_topk_part = bn.argpartition(-X_pred, k, axis=1)\n",
    "    topk_part = X_pred[np.arange(batch_users)[:, np.newaxis],\n",
    "                       idx_topk_part[:, :k]]\n",
    "    idx_part = np.argsort(-topk_part, axis=1)\n",
    "    # X_pred[np.arange(batch_users)[:, np.newaxis], idx_topk] is the sorted\n",
    "    # topk predicted score\n",
    "    idx_topk = idx_topk_part[np.arange(batch_users)[:, np.newaxis], idx_part]\n",
    "    # build the discount template\n",
    "    tp = 1. / (np.log2(np.arange(2, k + 2)))\n",
    "    print(tp.shape)\n",
    "\n",
    "    DCG = (heldout_batch[np.arange(batch_users)[:, np.newaxis],\n",
    "                         idx_topk].toarray() * tp).sum(axis=1)\n",
    "    IDCG = np.array([(tp[:min(n, k)]).sum()\n",
    "                     for n in heldout_batch.getnnz(axis=1)])\n",
    "    return DCG / IDCG"
   ]
  },
  {
   "cell_type": "code",
   "execution_count": 33,
   "id": "83151e12-931b-4d3c-b251-7b6225e5dffb",
   "metadata": {
    "execution": {
     "iopub.execute_input": "2024-07-04T20:38:06.534479Z",
     "iopub.status.busy": "2024-07-04T20:38:06.533935Z",
     "iopub.status.idle": "2024-07-04T20:38:06.537878Z",
     "shell.execute_reply": "2024-07-04T20:38:06.537483Z",
     "shell.execute_reply.started": "2024-07-04T20:38:06.534460Z"
    }
   },
   "outputs": [],
   "source": [
    "def Recall_at_k_batch(X_pred, heldout_batch, k=100):\n",
    "    batch_users = X_pred.shape[0]\n",
    "\n",
    "    idx = bn.argpartition(-X_pred, k, axis=1)\n",
    "    X_pred_binary = np.zeros_like(X_pred, dtype=bool)\n",
    "    X_pred_binary[np.arange(batch_users)[:, np.newaxis], idx[:, :k]] = True\n",
    "    \n",
    "    X_true_binary = (heldout_batch > 0).toarray()\n",
    "    X_true_binary = X_true_binary[:,:I]\n",
    "    print(X_true_binary.sum(axis=1))\n",
    "    tmp = (np.logical_and(X_true_binary, X_pred_binary).sum(axis=1)).astype(\n",
    "        np.float32)\n",
    "    recall = tmp / np.minimum(k, X_true_binary.sum(axis=1))\n",
    "    return recall"
   ]
  },
  {
   "cell_type": "code",
   "execution_count": 65,
   "id": "5101572b-0e88-4561-8714-4b3420699448",
   "metadata": {
    "execution": {
     "iopub.execute_input": "2024-07-04T20:46:02.150224Z",
     "iopub.status.busy": "2024-07-04T20:46:02.149805Z",
     "iopub.status.idle": "2024-07-04T20:46:02.155680Z",
     "shell.execute_reply": "2024-07-04T20:46:02.155195Z",
     "shell.execute_reply.started": "2024-07-04T20:46:02.150205Z"
    }
   },
   "outputs": [],
   "source": [
    "def evaluate(BB,I,scale,method='log',k=100):\n",
    "    #evaluate in batches\n",
    "    print(datetime.datetime.now())\n",
    "\n",
    "    #makeSparseFormat(BB, 0.0)\n",
    "\n",
    "\n",
    "    batch_size_test=5000\n",
    "    n100_list, r20_list, r50_list = [], [], []\n",
    "\n",
    "\n",
    "\n",
    "    for bnum, st_idx in enumerate(range(0, N_test, batch_size_test)):\n",
    "        end_idx = min(st_idx + batch_size_test, N_test)\n",
    "        Xtest = test_data_tr[idxlist_test[st_idx:end_idx]]\n",
    "        Xtest=Xtest[:,:I].toarray()\n",
    "        print (str(st_idx)+' ... '+str(end_idx))\n",
    "        if sparse.isspmatrix(Xtest):\n",
    "            Xtest = Xtest.toarray()\n",
    "        Xtest = Xtest.astype('float32')\n",
    "\n",
    "        #pred_val = Xtest.dot(BB_excl)\n",
    "        #pred_val = (((Xtest-mu) * scaling).dot(BBth) / scaling) +mu   # no bias\n",
    "        #pred_val = Xtest.dot(beta_0d)  # no bias\n",
    "        #pred_val =Xtest.dot(beta_lowrank)\n",
    "        if method == 'log':\n",
    "            pred_val = sigmoid((2*Xtest-1).dot(BB))\n",
    "        else:\n",
    "            pred_val = Xtest.dot(BB)\n",
    "\n",
    "        # exclude examples from training and validation (if any)\n",
    "        pred_val[Xtest.nonzero()] = -np.inf\n",
    "        n100_list.append(NDCG_binary_at_k_batch(pred_val, test_data_te[idxlist_test[st_idx:end_idx]], k))\n",
    "        #r20_list.append(Recall_at_k_batch(pred_val, test_data_te[idxlist_test[st_idx:end_idx]], k=20))\n",
    "        #r50_list.append(Recall_at_k_batch(pred_val, test_data_te[idxlist_test[st_idx:end_idx]], k=50))\n",
    "        #calc_coverageCounts(coverageCounts2, pred_val)\n",
    "        #break  # do only 5000 users\n",
    "\n",
    "    n100_list = np.concatenate(n100_list)\n",
    "    #r20_list = np.concatenate(r20_list)\n",
    "    #r50_list = np.concatenate(r50_list)\n",
    "\n",
    "    print(\"Test NDCG@100=%.5f (%.5f)\" % (np.mean(n100_list), np.std(n100_list) / np.sqrt(len(n100_list))))\n",
    "    #print(\"Test Recall@20=%.5f (%.5f)\" % (np.mean(r20_list), np.std(r20_list) / np.sqrt(len(r20_list))))\n",
    "    #print(\"Test Recall@50=%.5f (%.5f)\" % (np.mean(r50_list), np.std(r50_list) / np.sqrt(len(r50_list))))\n",
    "\n",
    "    print(datetime.datetime.now())\n",
    "    return [np.mean(n100_list), np.mean(r20_list), np.mean(r50_list)]"
   ]
  },
  {
   "cell_type": "code",
   "execution_count": 31,
   "id": "73ae09f4-5eac-4d8e-9a8a-2ba9a45226bf",
   "metadata": {
    "execution": {
     "iopub.execute_input": "2024-06-23T04:33:35.194806Z",
     "iopub.status.busy": "2024-06-23T04:33:35.194232Z",
     "iopub.status.idle": "2024-06-23T04:33:35.206706Z",
     "shell.execute_reply": "2024-06-23T04:33:35.206210Z",
     "shell.execute_reply.started": "2024-06-23T04:33:35.194789Z"
    }
   },
   "outputs": [
    {
     "ename": "TypeError",
     "evalue": "evaluate() missing 1 required positional argument: 'I'",
     "output_type": "error",
     "traceback": [
      "\u001b[0;31m---------------------------------------------------------------------------\u001b[0m",
      "\u001b[0;31mTypeError\u001b[0m                                 Traceback (most recent call last)",
      "Cell \u001b[0;32mIn[31], line 1\u001b[0m\n\u001b[0;32m----> 1\u001b[0m \u001b[43mevaluate\u001b[49m\u001b[43m(\u001b[49m\u001b[43mW\u001b[49m\u001b[43m)\u001b[49m\n",
      "\u001b[0;31mTypeError\u001b[0m: evaluate() missing 1 required positional argument: 'I'"
     ]
    }
   ],
   "source": [
    "evaluate(W)"
   ]
  },
  {
   "cell_type": "code",
   "execution_count": 39,
   "id": "245f50ac-7007-4fff-9d63-0b545553aded",
   "metadata": {
    "execution": {
     "iopub.execute_input": "2024-07-04T20:38:56.322448Z",
     "iopub.status.busy": "2024-07-04T20:38:56.322034Z",
     "iopub.status.idle": "2024-07-04T20:38:56.335166Z",
     "shell.execute_reply": "2024-07-04T20:38:56.334697Z",
     "shell.execute_reply.started": "2024-07-04T20:38:56.322428Z"
    }
   },
   "outputs": [
    {
     "ename": "TypeError",
     "evalue": "evaluate() missing 2 required positional arguments: 'I' and 'scale'",
     "output_type": "error",
     "traceback": [
      "\u001b[0;31m---------------------------------------------------------------------------\u001b[0m",
      "\u001b[0;31mTypeError\u001b[0m                                 Traceback (most recent call last)",
      "Cell \u001b[0;32mIn[39], line 1\u001b[0m\n\u001b[0;32m----> 1\u001b[0m \u001b[43mevaluate\u001b[49m\u001b[43m(\u001b[49m\u001b[43mW\u001b[49m\u001b[38;5;241;43m.\u001b[39;49m\u001b[43mT\u001b[49m\u001b[43m)\u001b[49m\n",
      "\u001b[0;31mTypeError\u001b[0m: evaluate() missing 2 required positional arguments: 'I' and 'scale'"
     ]
    }
   ],
   "source": [
    "evaluate(W.T)"
   ]
  },
  {
   "cell_type": "code",
   "execution_count": 40,
   "id": "82bd2b80-604c-4d92-913c-5fe5ddadec5d",
   "metadata": {
    "execution": {
     "iopub.execute_input": "2024-06-21T21:58:11.704995Z",
     "iopub.status.busy": "2024-06-21T21:58:11.704580Z",
     "iopub.status.idle": "2024-06-21T21:58:13.508249Z",
     "shell.execute_reply": "2024-06-21T21:58:13.507712Z",
     "shell.execute_reply.started": "2024-06-21T21:58:11.704975Z"
    }
   },
   "outputs": [
    {
     "name": "stdout",
     "output_type": "stream",
     "text": [
      "multiplying matrix\n",
      "inverting\n",
      "inverting complete\n",
      "2024-06-21 21:58:13.024974\n",
      "0 ... 5000\n",
      "5000 ... 10000\n",
      "Test NDCG@100=0.36168 (0.00215)\n",
      "2024-06-21 21:58:13.504854\n"
     ]
    },
    {
     "data": {
      "text/plain": [
       "[0.36167687300486134, nan, nan]"
      ]
     },
     "execution_count": 40,
     "metadata": {},
     "output_type": "execute_result"
    }
   ],
   "source": [
    "evaluate(ease(X_reg,lam=200.0))"
   ]
  },
  {
   "cell_type": "code",
   "execution_count": null,
   "id": "56608f47-287f-4aab-859c-993535a99d56",
   "metadata": {},
   "outputs": [],
   "source": [
    "# #Bn_ = (np.ones((I , I)) - 3).flatten()\n",
    "# Bn = (np.zeros((I , I))).flatten()\n",
    "# Bn1 = (np.ones((I , I)) + 2).flatten()\n",
    "# for i in range(10000):\n",
    "#     #Bnvec = Bn.flatten()\n",
    "#     #Bn_vec = Bn_.flatten()\n",
    "#     dBn_ = der(Bn_).flatten()\n",
    "#     dBn = der(Bn).flatten()\n",
    "#     top = np.abs(np.inner(Bn - Bn_, dBn - dBn_))\n",
    "#     bottom = np.linalg.norm(dBn - dBn_) ** 2\n",
    "#     if bottom <= 1e-132:\n",
    "#         break\n",
    "#     gamma = top / bottom\n",
    "#     #print(gamma)\n",
    "#     print(np.linalg.norm(der(Bn)))\n",
    "#     Bn1 = Bn - gamma * der(Bn)\n",
    "#     Bn_ = Bn\n",
    "#     Bn = Bn1\n",
    "\n",
    "# def temp(W):\n",
    "#     W = W.reshape(I,I)\n",
    "#     sums = 0.0\n",
    "#     for i in range(I):\n",
    "#         xw = X@W[:,i]\n",
    "#         sums += np.sum( np.logaddexp(-xw/2,xw/2) - X[:,i]/2 * xw)\n",
    "#     return sums\n",
    "\n",
    "\n",
    "\n",
    "# def temp2(W, lam = 1.0):\n",
    "#     W = W.reshape(I,I)\n",
    "#     S = X @ W\n",
    "#     return np.sum(np.logaddexp(-S/2,S/2) - X / 2 * S) + lam * np.linalg.norm(W,ord='fro') ** 2\n",
    "\n",
    "\n",
    "# def der2(W, lam = 1.0):\n",
    "#     W = W.reshape(I,I)\n",
    "#     S = X @ W\n",
    "#     return (1/2 * X.T @ (sigmoid(S/2) - (sigmoid(-S/2)) + X) + 2 * lam * W).flatten()\n",
    "    \n",
    "\n",
    "\n",
    "\n",
    "# def der(W):\n",
    "#     W = W.reshape(I,I)\n",
    "#     der = np.zeros((I,I))\n",
    "#     for u in range(U):\n",
    "#         for i in range(I):\n",
    "#             scalar = 1 / 2 * (np.tanh(np.inner(X[u],W[:,i])) - X[u,i])\n",
    "#             der[i] = der[i] + scalar * X[u]\n",
    "#     return der.flatten()\n",
    "\n",
    "# def Hess(W):\n",
    "#     hess = np.zeros((I,I))\n",
    "#     for u in range(U):\n",
    "#         for i in range(I):\n",
    "#             scalar = 1 / (2 * np.cosh(np.inner(X[u],W[:,i])) + 2)\n",
    "#             hess = hess + scalar * np.outer(X[u],X[u])\n",
    "#     return hess\n",
    "\n",
    "# def lsq(B, X, lam = 1.0):\n",
    "#     B = B.reshape(I,I)\n",
    "#     S = X @ B\n",
    "#     loss = sc.linalg.norm(X - S, ord='fro') ** 2 + lam * (sc.linalg.norm(B, ord='fro') ** 2)\n",
    "#     return loss\n",
    "\n",
    "# def dlsq(B, X, lam = 1.0):\n",
    "#     B = B.reshape(I,I)\n",
    "#     S = X @ B\n",
    "#     return (2 * lam * B - 2 * X.T @ (X - S)).flatten()\n",
    "\n",
    "\n",
    "# def llog(Bvec, X, lam = 1.0):\n",
    "#     B = Bvec.reshape(I,I)\n",
    "#     S = X @ B\n",
    "#     Svec = S.flatten()\n",
    "#     Xvec = X.flatten()\n",
    "\n",
    "#     loss = np.sum(np.logaddexp(-Svec/2,Svec/2) - Xvec/2*Svec)\n",
    "    \n",
    "#     loss = lam * np.inner(Bvec,Bvec) + loss\n",
    "#     return loss\n",
    "\n",
    "\n",
    "# def llog2(Bvec, X, lam = 1.0):\n",
    "#     B = Bvec.reshape(I,I)\n",
    "#     S = X @ B\n",
    "#     Svec = S.flatten()\n",
    "#     Xvec = X.flatten()\n",
    "\n",
    "#     loss = np.sum(np.logaddexp(-S/2,S/2) - X/2*S)\n",
    "    \n",
    "#     loss = lam * np.inner(Bvec,Bvec) + loss\n",
    "#     return loss\n",
    "\n",
    "# def dllog2(Bvec, X, lam = 1.0):\n",
    "#     B = Bvec.reshape(I,I)\n",
    "#     S = X @ B\n",
    "#     return (1/2 * X.T @ (2*sigmoid(S) - np.ones((U,I)) + X) + 2 * lam * B).flatten\n",
    "    \n",
    "    \n",
    "     "
   ]
  },
  {
   "cell_type": "code",
   "execution_count": null,
   "id": "735b965b-d9a1-400e-a130-396797d9a649",
   "metadata": {
    "scrolled": true
   },
   "outputs": [],
   "source": [
    "# Bn = np.zeros(I * I)  \n",
    "# Bn_ = np.zeros(I * I) + 10 \n",
    "# Bn1 = np.zeros(I * I) + 100\n",
    "# gamma = 1.0\n",
    "# lam = 0.0\n",
    "# while gamma > 1e-10:\n",
    "#     dBn_ = der2(Bn_)\n",
    "#     dBn = der2(Bn)\n",
    "#     top = np.abs(np.inner(Bn - Bn_, dBn - dBn_))\n",
    "#     bottom = np.linalg.norm(dBn - dBn_) ** 2\n",
    "#     if bottom <= 1e-32:\n",
    "#         break\n",
    "#     gamma = top / bottom\n",
    "#     print(temp2(Bn1),np.linalg.norm(der2(Bn1)),gamma)\n",
    "#     Bn1 = Bn - gamma * der2(Bn)\n",
    "#     #Bn1mat = Bn1.reshape(I,I)\n",
    "#     #Bn1 = (Bn1mat - np.diag(np.diag(Bn1mat))).flatten()\n",
    "#     Bn_ = Bn\n",
    "#     Bn = Bn1"
   ]
  },
  {
   "cell_type": "code",
   "execution_count": null,
   "id": "1ea8e046-f935-43a2-90ae-05ad1587847e",
   "metadata": {},
   "outputs": [],
   "source": [
    "# print(temp2(Bn1),np.linalg.norm(der2(np.eye(I) * 100)))"
   ]
  },
  {
   "cell_type": "code",
   "execution_count": null,
   "id": "945e451f-71b1-45b1-907c-d8369a5f7dfe",
   "metadata": {},
   "outputs": [],
   "source": [
    "# W = ease(X)"
   ]
  },
  {
   "cell_type": "code",
   "execution_count": null,
   "id": "4b863731-e505-4f77-bb9f-abb39e752c2b",
   "metadata": {},
   "outputs": [],
   "source": [
    "# np.linalg.norm(W - Bn1.reshape(I,I))"
   ]
  },
  {
   "cell_type": "code",
   "execution_count": 4,
   "id": "5d87a67e-9591-471a-a6cd-95908c341572",
   "metadata": {
    "execution": {
     "iopub.execute_input": "2024-06-21T19:31:21.054444Z",
     "iopub.status.busy": "2024-06-21T19:31:21.053751Z",
     "iopub.status.idle": "2024-06-21T19:31:21.910450Z",
     "shell.execute_reply": "2024-06-21T19:31:21.909846Z",
     "shell.execute_reply.started": "2024-06-21T19:31:21.054423Z"
    }
   },
   "outputs": [
    {
     "name": "stdout",
     "output_type": "stream",
     "text": [
      "sampling matrix\n"
     ]
    }
   ],
   "source": [
    "U = 200_000\n",
    "I = 90\n",
    "lam = 100\n",
    "#X = np.zeros((U,I))\n",
    "\n",
    "p = np.random.uniform(size=I)\n",
    "print('sampling matrix')\n",
    "X = csr_matrix(np.random.binomial(n=1,p=p,size=(U,I)))"
   ]
  },
  {
   "cell_type": "code",
   "execution_count": 5,
   "id": "e5c1a5e7-e071-40e8-9886-7ea7cee30ed6",
   "metadata": {
    "execution": {
     "iopub.execute_input": "2024-06-21T19:31:52.472405Z",
     "iopub.status.busy": "2024-06-21T19:31:52.471722Z",
     "iopub.status.idle": "2024-06-21T19:31:52.475672Z",
     "shell.execute_reply": "2024-06-21T19:31:52.475229Z",
     "shell.execute_reply.started": "2024-06-21T19:31:52.472386Z"
    }
   },
   "outputs": [],
   "source": []
  },
  {
   "cell_type": "code",
   "execution_count": 50,
   "id": "f24db2f7-7d23-4cfd-b04c-c8810992adbf",
   "metadata": {
    "execution": {
     "iopub.execute_input": "2024-06-21T21:28:14.666828Z",
     "iopub.status.busy": "2024-06-21T21:28:14.666406Z",
     "iopub.status.idle": "2024-06-21T21:28:14.727760Z",
     "shell.execute_reply": "2024-06-21T21:28:14.727183Z",
     "shell.execute_reply.started": "2024-06-21T21:28:14.666809Z"
    }
   },
   "outputs": [
    {
     "name": "stderr",
     "output_type": "stream",
     "text": [
      "/apps/bdi-venv-310/lib/python3.10/site-packages/IPython/core/interactiveshell.py:3553: SparseEfficiencyWarning: Comparing a sparse matrix with 0 using == is inefficient, try using != instead.\n",
      "  exec(code_obj, self.user_global_ns, self.user_ns)\n"
     ]
    },
    {
     "ename": "ValueError",
     "evalue": "The truth value of an array with more than one element is ambiguous. Use a.any() or a.all().",
     "output_type": "error",
     "traceback": [
      "\u001b[0;31m---------------------------------------------------------------------------\u001b[0m",
      "\u001b[0;31mValueError\u001b[0m                                Traceback (most recent call last)",
      "Cell \u001b[0;32mIn[50], line 1\u001b[0m\n\u001b[0;32m----> 1\u001b[0m \u001b[43mnp\u001b[49m\u001b[38;5;241;43m.\u001b[39;49m\u001b[43mwhere\u001b[49m\u001b[43m(\u001b[49m\u001b[43mX\u001b[49m\u001b[43m[\u001b[49m\u001b[43m:\u001b[49m\u001b[43m,\u001b[49m\u001b[38;5;241;43m0\u001b[39;49m\u001b[43m]\u001b[49m\u001b[38;5;241;43m==\u001b[39;49m\u001b[38;5;241;43m0\u001b[39;49m\u001b[43m)\u001b[49m\n",
      "File \u001b[0;32m<__array_function__ internals>:180\u001b[0m, in \u001b[0;36mwhere\u001b[0;34m(*args, **kwargs)\u001b[0m\n",
      "File \u001b[0;32m/apps/bdi-venv-310/lib/python3.10/site-packages/scipy/sparse/_base.py:387\u001b[0m, in \u001b[0;36m_spbase.__bool__\u001b[0;34m(self)\u001b[0m\n\u001b[1;32m    385\u001b[0m     \u001b[38;5;28;01mreturn\u001b[39;00m \u001b[38;5;28mself\u001b[39m\u001b[38;5;241m.\u001b[39mnnz \u001b[38;5;241m!=\u001b[39m \u001b[38;5;241m0\u001b[39m\n\u001b[1;32m    386\u001b[0m \u001b[38;5;28;01melse\u001b[39;00m:\n\u001b[0;32m--> 387\u001b[0m     \u001b[38;5;28;01mraise\u001b[39;00m \u001b[38;5;167;01mValueError\u001b[39;00m(\u001b[38;5;124m\"\u001b[39m\u001b[38;5;124mThe truth value of an array with more than one \u001b[39m\u001b[38;5;124m\"\u001b[39m\n\u001b[1;32m    388\u001b[0m                      \u001b[38;5;124m\"\u001b[39m\u001b[38;5;124melement is ambiguous. Use a.any() or a.all().\u001b[39m\u001b[38;5;124m\"\u001b[39m)\n",
      "\u001b[0;31mValueError\u001b[0m: The truth value of an array with more than one element is ambiguous. Use a.any() or a.all()."
     ]
    }
   ],
   "source": [
    "np.where(X[:,0]==0)"
   ]
  },
  {
   "cell_type": "code",
   "execution_count": 51,
   "id": "d0a766b4-2b39-4df1-81c0-e5c75d36df22",
   "metadata": {
    "execution": {
     "iopub.execute_input": "2024-06-21T21:28:23.859255Z",
     "iopub.status.busy": "2024-06-21T21:28:23.858832Z",
     "iopub.status.idle": "2024-06-21T21:28:23.871456Z",
     "shell.execute_reply": "2024-06-21T21:28:23.870966Z",
     "shell.execute_reply.started": "2024-06-21T21:28:23.859236Z"
    }
   },
   "outputs": [
    {
     "data": {
      "text/plain": [
       "<116677x1 sparse matrix of type '<class 'numpy.float64'>'\n",
       "\twith 5409 stored elements in Compressed Sparse Row format>"
      ]
     },
     "execution_count": 51,
     "metadata": {},
     "output_type": "execute_result"
    }
   ],
   "source": [
    "X[:,0]"
   ]
  },
  {
   "cell_type": "code",
   "execution_count": 52,
   "id": "da28722a-9e3a-4628-9290-8c2265fded53",
   "metadata": {
    "execution": {
     "iopub.execute_input": "2024-06-21T21:32:01.289185Z",
     "iopub.status.busy": "2024-06-21T21:32:01.288750Z",
     "iopub.status.idle": "2024-06-21T21:32:01.292027Z",
     "shell.execute_reply": "2024-06-21T21:32:01.291597Z",
     "shell.execute_reply.started": "2024-06-21T21:32:01.289165Z"
    }
   },
   "outputs": [],
   "source": [
    "from sklearn.metrics import log_loss"
   ]
  },
  {
   "cell_type": "code",
   "execution_count": 53,
   "id": "660893b5-f8ee-4657-9253-d956fa576dee",
   "metadata": {
    "execution": {
     "iopub.execute_input": "2024-06-21T21:32:27.758960Z",
     "iopub.status.busy": "2024-06-21T21:32:27.758544Z",
     "iopub.status.idle": "2024-06-21T21:32:28.082668Z",
     "shell.execute_reply": "2024-06-21T21:32:28.082028Z",
     "shell.execute_reply.started": "2024-06-21T21:32:27.758941Z"
    }
   },
   "outputs": [
    {
     "ename": "TypeError",
     "evalue": "unhashable type: 'csr_matrix'",
     "output_type": "error",
     "traceback": [
      "\u001b[0;31m---------------------------------------------------------------------------\u001b[0m",
      "\u001b[0;31mTypeError\u001b[0m                                 Traceback (most recent call last)",
      "Cell \u001b[0;32mIn[53], line 1\u001b[0m\n\u001b[0;32m----> 1\u001b[0m \u001b[43mlog_loss\u001b[49m\u001b[43m(\u001b[49m\u001b[43mX\u001b[49m\u001b[43m[\u001b[49m\u001b[43m:\u001b[49m\u001b[43m,\u001b[49m\u001b[38;5;241;43m0\u001b[39;49m\u001b[43m]\u001b[49m\u001b[43m,\u001b[49m\u001b[43msigmoid\u001b[49m\u001b[43m(\u001b[49m\u001b[43mX\u001b[49m\u001b[38;5;129;43m@np\u001b[39;49m\u001b[38;5;241;43m.\u001b[39;49m\u001b[43mzeros\u001b[49m\u001b[43m(\u001b[49m\u001b[43mI\u001b[49m\u001b[43m)\u001b[49m\u001b[43m)\u001b[49m\u001b[43m)\u001b[49m\n",
      "File \u001b[0;32m/apps/bdi-venv-310/lib/python3.10/site-packages/sklearn/utils/_param_validation.py:213\u001b[0m, in \u001b[0;36mvalidate_params.<locals>.decorator.<locals>.wrapper\u001b[0;34m(*args, **kwargs)\u001b[0m\n\u001b[1;32m    207\u001b[0m \u001b[38;5;28;01mtry\u001b[39;00m:\n\u001b[1;32m    208\u001b[0m     \u001b[38;5;28;01mwith\u001b[39;00m config_context(\n\u001b[1;32m    209\u001b[0m         skip_parameter_validation\u001b[38;5;241m=\u001b[39m(\n\u001b[1;32m    210\u001b[0m             prefer_skip_nested_validation \u001b[38;5;129;01mor\u001b[39;00m global_skip_validation\n\u001b[1;32m    211\u001b[0m         )\n\u001b[1;32m    212\u001b[0m     ):\n\u001b[0;32m--> 213\u001b[0m         \u001b[38;5;28;01mreturn\u001b[39;00m \u001b[43mfunc\u001b[49m\u001b[43m(\u001b[49m\u001b[38;5;241;43m*\u001b[39;49m\u001b[43margs\u001b[49m\u001b[43m,\u001b[49m\u001b[43m \u001b[49m\u001b[38;5;241;43m*\u001b[39;49m\u001b[38;5;241;43m*\u001b[39;49m\u001b[43mkwargs\u001b[49m\u001b[43m)\u001b[49m\n\u001b[1;32m    214\u001b[0m \u001b[38;5;28;01mexcept\u001b[39;00m InvalidParameterError \u001b[38;5;28;01mas\u001b[39;00m e:\n\u001b[1;32m    215\u001b[0m     \u001b[38;5;66;03m# When the function is just a wrapper around an estimator, we allow\u001b[39;00m\n\u001b[1;32m    216\u001b[0m     \u001b[38;5;66;03m# the function to delegate validation to the estimator, but we replace\u001b[39;00m\n\u001b[1;32m    217\u001b[0m     \u001b[38;5;66;03m# the name of the estimator by the name of the function in the error\u001b[39;00m\n\u001b[1;32m    218\u001b[0m     \u001b[38;5;66;03m# message to avoid confusion.\u001b[39;00m\n\u001b[1;32m    219\u001b[0m     msg \u001b[38;5;241m=\u001b[39m re\u001b[38;5;241m.\u001b[39msub(\n\u001b[1;32m    220\u001b[0m         \u001b[38;5;124mr\u001b[39m\u001b[38;5;124m\"\u001b[39m\u001b[38;5;124mparameter of \u001b[39m\u001b[38;5;124m\\\u001b[39m\u001b[38;5;124mw+ must be\u001b[39m\u001b[38;5;124m\"\u001b[39m,\n\u001b[1;32m    221\u001b[0m         \u001b[38;5;124mf\u001b[39m\u001b[38;5;124m\"\u001b[39m\u001b[38;5;124mparameter of \u001b[39m\u001b[38;5;132;01m{\u001b[39;00mfunc\u001b[38;5;241m.\u001b[39m\u001b[38;5;18m__qualname__\u001b[39m\u001b[38;5;132;01m}\u001b[39;00m\u001b[38;5;124m must be\u001b[39m\u001b[38;5;124m\"\u001b[39m,\n\u001b[1;32m    222\u001b[0m         \u001b[38;5;28mstr\u001b[39m(e),\n\u001b[1;32m    223\u001b[0m     )\n",
      "File \u001b[0;32m/apps/bdi-venv-310/lib/python3.10/site-packages/sklearn/metrics/_classification.py:2913\u001b[0m, in \u001b[0;36mlog_loss\u001b[0;34m(y_true, y_pred, eps, normalize, sample_weight, labels)\u001b[0m\n\u001b[1;32m   2911\u001b[0m     lb\u001b[38;5;241m.\u001b[39mfit(labels)\n\u001b[1;32m   2912\u001b[0m \u001b[38;5;28;01melse\u001b[39;00m:\n\u001b[0;32m-> 2913\u001b[0m     \u001b[43mlb\u001b[49m\u001b[38;5;241;43m.\u001b[39;49m\u001b[43mfit\u001b[49m\u001b[43m(\u001b[49m\u001b[43my_true\u001b[49m\u001b[43m)\u001b[49m\n\u001b[1;32m   2915\u001b[0m \u001b[38;5;28;01mif\u001b[39;00m \u001b[38;5;28mlen\u001b[39m(lb\u001b[38;5;241m.\u001b[39mclasses_) \u001b[38;5;241m==\u001b[39m \u001b[38;5;241m1\u001b[39m:\n\u001b[1;32m   2916\u001b[0m     \u001b[38;5;28;01mif\u001b[39;00m labels \u001b[38;5;129;01mis\u001b[39;00m \u001b[38;5;28;01mNone\u001b[39;00m:\n",
      "File \u001b[0;32m/apps/bdi-venv-310/lib/python3.10/site-packages/sklearn/base.py:1351\u001b[0m, in \u001b[0;36m_fit_context.<locals>.decorator.<locals>.wrapper\u001b[0;34m(estimator, *args, **kwargs)\u001b[0m\n\u001b[1;32m   1344\u001b[0m     estimator\u001b[38;5;241m.\u001b[39m_validate_params()\n\u001b[1;32m   1346\u001b[0m \u001b[38;5;28;01mwith\u001b[39;00m config_context(\n\u001b[1;32m   1347\u001b[0m     skip_parameter_validation\u001b[38;5;241m=\u001b[39m(\n\u001b[1;32m   1348\u001b[0m         prefer_skip_nested_validation \u001b[38;5;129;01mor\u001b[39;00m global_skip_validation\n\u001b[1;32m   1349\u001b[0m     )\n\u001b[1;32m   1350\u001b[0m ):\n\u001b[0;32m-> 1351\u001b[0m     \u001b[38;5;28;01mreturn\u001b[39;00m \u001b[43mfit_method\u001b[49m\u001b[43m(\u001b[49m\u001b[43mestimator\u001b[49m\u001b[43m,\u001b[49m\u001b[43m \u001b[49m\u001b[38;5;241;43m*\u001b[39;49m\u001b[43margs\u001b[49m\u001b[43m,\u001b[49m\u001b[43m \u001b[49m\u001b[38;5;241;43m*\u001b[39;49m\u001b[38;5;241;43m*\u001b[39;49m\u001b[43mkwargs\u001b[49m\u001b[43m)\u001b[49m\n",
      "File \u001b[0;32m/apps/bdi-venv-310/lib/python3.10/site-packages/sklearn/preprocessing/_label.py:306\u001b[0m, in \u001b[0;36mLabelBinarizer.fit\u001b[0;34m(self, y)\u001b[0m\n\u001b[1;32m    303\u001b[0m     \u001b[38;5;28;01mraise\u001b[39;00m \u001b[38;5;167;01mValueError\u001b[39;00m(\u001b[38;5;124m\"\u001b[39m\u001b[38;5;124my has 0 samples: \u001b[39m\u001b[38;5;132;01m%r\u001b[39;00m\u001b[38;5;124m\"\u001b[39m \u001b[38;5;241m%\u001b[39m y)\n\u001b[1;32m    305\u001b[0m \u001b[38;5;28mself\u001b[39m\u001b[38;5;241m.\u001b[39msparse_input_ \u001b[38;5;241m=\u001b[39m sp\u001b[38;5;241m.\u001b[39missparse(y)\n\u001b[0;32m--> 306\u001b[0m \u001b[38;5;28mself\u001b[39m\u001b[38;5;241m.\u001b[39mclasses_ \u001b[38;5;241m=\u001b[39m \u001b[43munique_labels\u001b[49m\u001b[43m(\u001b[49m\u001b[43my\u001b[49m\u001b[43m)\u001b[49m\n\u001b[1;32m    307\u001b[0m \u001b[38;5;28;01mreturn\u001b[39;00m \u001b[38;5;28mself\u001b[39m\n",
      "File \u001b[0;32m/apps/bdi-venv-310/lib/python3.10/site-packages/sklearn/utils/multiclass.py:113\u001b[0m, in \u001b[0;36munique_labels\u001b[0;34m(*ys)\u001b[0m\n\u001b[1;32m    110\u001b[0m     unique_ys \u001b[38;5;241m=\u001b[39m xp\u001b[38;5;241m.\u001b[39mconcat([_unique_labels(y) \u001b[38;5;28;01mfor\u001b[39;00m y \u001b[38;5;129;01min\u001b[39;00m ys])\n\u001b[1;32m    111\u001b[0m     \u001b[38;5;28;01mreturn\u001b[39;00m xp\u001b[38;5;241m.\u001b[39munique_values(unique_ys)\n\u001b[0;32m--> 113\u001b[0m ys_labels \u001b[38;5;241m=\u001b[39m \u001b[38;5;28;43mset\u001b[39;49m\u001b[43m(\u001b[49m\u001b[43mchain\u001b[49m\u001b[38;5;241;43m.\u001b[39;49m\u001b[43mfrom_iterable\u001b[49m\u001b[43m(\u001b[49m\u001b[43m(\u001b[49m\u001b[43mi\u001b[49m\u001b[43m \u001b[49m\u001b[38;5;28;43;01mfor\u001b[39;49;00m\u001b[43m \u001b[49m\u001b[43mi\u001b[49m\u001b[43m \u001b[49m\u001b[38;5;129;43;01min\u001b[39;49;00m\u001b[43m \u001b[49m\u001b[43m_unique_labels\u001b[49m\u001b[43m(\u001b[49m\u001b[43my\u001b[49m\u001b[43m)\u001b[49m\u001b[43m)\u001b[49m\u001b[43m \u001b[49m\u001b[38;5;28;43;01mfor\u001b[39;49;00m\u001b[43m \u001b[49m\u001b[43my\u001b[49m\u001b[43m \u001b[49m\u001b[38;5;129;43;01min\u001b[39;49;00m\u001b[43m \u001b[49m\u001b[43mys\u001b[49m\u001b[43m)\u001b[49m\u001b[43m)\u001b[49m\n\u001b[1;32m    114\u001b[0m \u001b[38;5;66;03m# Check that we don't mix string type with number type\u001b[39;00m\n\u001b[1;32m    115\u001b[0m \u001b[38;5;28;01mif\u001b[39;00m \u001b[38;5;28mlen\u001b[39m(\u001b[38;5;28mset\u001b[39m(\u001b[38;5;28misinstance\u001b[39m(label, \u001b[38;5;28mstr\u001b[39m) \u001b[38;5;28;01mfor\u001b[39;00m label \u001b[38;5;129;01min\u001b[39;00m ys_labels)) \u001b[38;5;241m>\u001b[39m \u001b[38;5;241m1\u001b[39m:\n",
      "File \u001b[0;32m/apps/bdi-venv-310/lib/python3.10/site-packages/sklearn/utils/multiclass.py:113\u001b[0m, in \u001b[0;36m<genexpr>\u001b[0;34m(.0)\u001b[0m\n\u001b[1;32m    110\u001b[0m     unique_ys \u001b[38;5;241m=\u001b[39m xp\u001b[38;5;241m.\u001b[39mconcat([_unique_labels(y) \u001b[38;5;28;01mfor\u001b[39;00m y \u001b[38;5;129;01min\u001b[39;00m ys])\n\u001b[1;32m    111\u001b[0m     \u001b[38;5;28;01mreturn\u001b[39;00m xp\u001b[38;5;241m.\u001b[39munique_values(unique_ys)\n\u001b[0;32m--> 113\u001b[0m ys_labels \u001b[38;5;241m=\u001b[39m \u001b[38;5;28mset\u001b[39m(chain\u001b[38;5;241m.\u001b[39mfrom_iterable((i \u001b[38;5;28;01mfor\u001b[39;00m i \u001b[38;5;129;01min\u001b[39;00m \u001b[43m_unique_labels\u001b[49m\u001b[43m(\u001b[49m\u001b[43my\u001b[49m\u001b[43m)\u001b[49m) \u001b[38;5;28;01mfor\u001b[39;00m y \u001b[38;5;129;01min\u001b[39;00m ys))\n\u001b[1;32m    114\u001b[0m \u001b[38;5;66;03m# Check that we don't mix string type with number type\u001b[39;00m\n\u001b[1;32m    115\u001b[0m \u001b[38;5;28;01mif\u001b[39;00m \u001b[38;5;28mlen\u001b[39m(\u001b[38;5;28mset\u001b[39m(\u001b[38;5;28misinstance\u001b[39m(label, \u001b[38;5;28mstr\u001b[39m) \u001b[38;5;28;01mfor\u001b[39;00m label \u001b[38;5;129;01min\u001b[39;00m ys_labels)) \u001b[38;5;241m>\u001b[39m \u001b[38;5;241m1\u001b[39m:\n",
      "File \u001b[0;32m/apps/bdi-venv-310/lib/python3.10/site-packages/sklearn/utils/multiclass.py:26\u001b[0m, in \u001b[0;36m_unique_multiclass\u001b[0;34m(y)\u001b[0m\n\u001b[1;32m     24\u001b[0m     \u001b[38;5;28;01mreturn\u001b[39;00m xp\u001b[38;5;241m.\u001b[39munique_values(xp\u001b[38;5;241m.\u001b[39masarray(y))\n\u001b[1;32m     25\u001b[0m \u001b[38;5;28;01melse\u001b[39;00m:\n\u001b[0;32m---> 26\u001b[0m     \u001b[38;5;28;01mreturn\u001b[39;00m \u001b[38;5;28;43mset\u001b[39;49m\u001b[43m(\u001b[49m\u001b[43my\u001b[49m\u001b[43m)\u001b[49m\n",
      "\u001b[0;31mTypeError\u001b[0m: unhashable type: 'csr_matrix'"
     ]
    }
   ],
   "source": [
    "log_loss(X[:,0],sigmoid(X@np.zeros(I)))"
   ]
  },
  {
   "cell_type": "code",
   "execution_count": 227,
   "id": "67b45081-728c-4655-945b-8ef298fefd5c",
   "metadata": {
    "execution": {
     "iopub.execute_input": "2024-06-22T21:49:29.524396Z",
     "iopub.status.busy": "2024-06-22T21:49:29.523972Z",
     "iopub.status.idle": "2024-06-22T21:49:29.539915Z",
     "shell.execute_reply": "2024-06-22T21:49:29.539537Z",
     "shell.execute_reply.started": "2024-06-22T21:49:29.524375Z"
    }
   },
   "outputs": [],
   "source": [
    "X = 2 * np.random.binomial(1,0.5,size=(5,5)) - 1"
   ]
  },
  {
   "cell_type": "code",
   "execution_count": 239,
   "id": "8ca085ff-1673-48f4-8ed8-f2694a571348",
   "metadata": {
    "execution": {
     "iopub.execute_input": "2024-06-22T21:51:52.715246Z",
     "iopub.status.busy": "2024-06-22T21:51:52.714841Z",
     "iopub.status.idle": "2024-06-22T21:51:52.718464Z",
     "shell.execute_reply": "2024-06-22T21:51:52.718041Z",
     "shell.execute_reply.started": "2024-06-22T21:51:52.715225Z"
    }
   },
   "outputs": [],
   "source": [
    "Xp = np.where(X==-1,0,1)\n",
    "Xn = np.where(X==1,0,-1)\n",
    "\n",
    "w = np.random.uniform(size=5)\n"
   ]
  },
  {
   "cell_type": "code",
   "execution_count": 240,
   "id": "9407283d-a7a8-4ab0-b34c-50b0162fb0d2",
   "metadata": {
    "execution": {
     "iopub.execute_input": "2024-06-22T21:51:55.852066Z",
     "iopub.status.busy": "2024-06-22T21:51:55.851649Z",
     "iopub.status.idle": "2024-06-22T21:51:55.856010Z",
     "shell.execute_reply": "2024-06-22T21:51:55.855607Z",
     "shell.execute_reply.started": "2024-06-22T21:51:55.852045Z"
    }
   },
   "outputs": [
    {
     "data": {
      "text/plain": [
       "array([ 1.20294548,  1.51995758, -1.60616126,  1.60616126, -2.16785936])"
      ]
     },
     "execution_count": 240,
     "metadata": {},
     "output_type": "execute_result"
    }
   ],
   "source": [
    "X@w"
   ]
  },
  {
   "cell_type": "code",
   "execution_count": 241,
   "id": "af75b0a6-106d-4e88-a076-ffaca17010e9",
   "metadata": {
    "execution": {
     "iopub.execute_input": "2024-06-22T21:52:02.325623Z",
     "iopub.status.busy": "2024-06-22T21:52:02.325186Z",
     "iopub.status.idle": "2024-06-22T21:52:02.329043Z",
     "shell.execute_reply": "2024-06-22T21:52:02.328699Z",
     "shell.execute_reply.started": "2024-06-22T21:52:02.325602Z"
    }
   },
   "outputs": [
    {
     "data": {
      "text/plain": [
       "array([ 1.20294548,  1.51995758, -1.60616126,  1.60616126, -2.16785936])"
      ]
     },
     "execution_count": 241,
     "metadata": {},
     "output_type": "execute_result"
    }
   ],
   "source": [
    "Xp@w + Xn@w"
   ]
  },
  {
   "cell_type": "code",
   "execution_count": null,
   "id": "f7f0cd6d-7fee-48d3-aeb4-2b55befaeab8",
   "metadata": {},
   "outputs": [],
   "source": []
  }
 ],
 "metadata": {
  "kernelspec": {
   "display_name": "Python 3.10 (recommended)",
   "language": "python",
   "name": "python310"
  },
  "language_info": {
   "codemirror_mode": {
    "name": "ipython",
    "version": 3
   },
   "file_extension": ".py",
   "mimetype": "text/x-python",
   "name": "python",
   "nbconvert_exporter": "python",
   "pygments_lexer": "ipython3",
   "version": "3.10.14"
  }
 },
 "nbformat": 4,
 "nbformat_minor": 5
}
