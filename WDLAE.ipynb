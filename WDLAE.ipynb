{
 "cells": [
  {
   "cell_type": "code",
   "execution_count": 1,
   "id": "1fdd25ee-25b4-4bb1-9418-77737b6d6127",
   "metadata": {
    "execution": {
     "iopub.execute_input": "2024-10-30T15:22:20.813186Z",
     "iopub.status.busy": "2024-10-30T15:22:20.812956Z",
     "iopub.status.idle": "2024-10-30T15:22:29.603637Z",
     "shell.execute_reply": "2024-10-30T15:22:29.602915Z",
     "shell.execute_reply.started": "2024-10-30T15:22:20.813168Z"
    }
   },
   "outputs": [],
   "source": [
    "import utils as ut\n",
    "import scipy as sc\n",
    "import numpy as np\n",
    "from tqdm.notebook import tqdm\n",
    "import scipy.sparse as sparse\n",
    "from joblib import Parallel, delayed\n",
    "\n",
    "\n",
    "def hadamard_matmal(r,X,B,cols,ind):\n",
    "    idx = cols[ind[r]:ind[r+1]]\n",
    "    return (B[idx][:,idx]).sum(0)\n",
    "\n",
    "def WDLAE_cg(pc, X, XtX_lam, weight, nonzeros, path, users, items):\n",
    "    ind = X.indptr\n",
    "    B = np.zeros((items,items))\n",
    "    XWX = (X.T.dot(weight*X)).toarray() # 30 seconds\n",
    "    temp = Parallel(n_jobs=36)(delayed(hadamard_matmal)(user,X,B,nonzeros[1],ind) for user in range(users)) # 2 minutes\n",
    "    WXXB = (weight - 1) * sparse.csr_matrix((np.concatenate(temp), (nonzeros[0], nonzeros[1])))\n",
    "    XtXB = np.array(X.T.dot(WXXB) + XtX_lam.dot(B)) # 1.5 minutes...\n",
    "    r = XWX - XtXB\n",
    "    z = pc.dot(r) # 1.5 minutes \n",
    "    p = z.copy()\n",
    "    for _ in tqdm(range(5)):\n",
    "        temp = Parallel(n_jobs=36)(delayed(hadamard_matmal)(user,X,p,nonzeros[1],ind) for user in range(users))\n",
    "        WXXp = (weight - 1) * sparse.csr_matrix((np.concatenate(temp), (nonzeros[0], nonzeros[1])))\n",
    "        XtXp = np.array(X.T.dot(WXXp) + XtX_lam.dot(p))\n",
    "        rtz = np.inner(r.flatten('F'),z.flatten('F'))  \n",
    "        alpha = rtz / max(1e-32,np.inner(p.flatten('F'),XtXp.flatten('F')))\n",
    "        B += alpha * p\n",
    "        r -= alpha * XtXp\n",
    "        rnorm = np.linalg.norm(r.flatten('F'))\n",
    "        if rnorm <= 1e-8:\n",
    "            ut.evaluate(B,path)\n",
    "            break\n",
    "        if _ % 5 == 4:\n",
    "            ut.evaluate(B,path)\n",
    "        z = pc.dot(r)\n",
    "        beta = np.inner(r.flatten('F'),z.flatten('F')) / rtz\n",
    "        p = z + beta * p\n",
    "    \n",
    "\n",
    "#paths = ['/efs/users/hsteck/public/datasets/msd_data/pro_sg', '/efs/users/hsteck/public/datasets/movielens20mio/pro_sg']\n",
    "path = '/efs/users/hsteck/public/datasets/movielens20mio/pro_sg'\n",
    "\n",
    "Ps = [0.01,0.1,0.5,0.9,0.99]\n",
    "weights = [1,2,5,10,20]\n",
    "X = ut.load_train_data(path)\n",
    "users,items = X.shape[0],X.shape[1]\n",
    "XtX = (X.T@X).toarray()\n",
    "nonzeros = X.nonzero()"
   ]
  },
  {
   "cell_type": "code",
   "execution_count": null,
   "id": "bbb258ca-5280-4514-ac6b-8f30cd11b054",
   "metadata": {
    "execution": {
     "iopub.execute_input": "2024-10-30T15:22:29.604552Z",
     "iopub.status.busy": "2024-10-30T15:22:29.604369Z"
    }
   },
   "outputs": [
    {
     "name": "stdout",
     "output_type": "stream",
     "text": [
      "running with (p,weight):  0.01  ,  1\n"
     ]
    },
    {
     "data": {
      "application/vnd.jupyter.widget-view+json": {
       "model_id": "8db5188ec94e42aabd1e95f6b3c9c1d7",
       "version_major": 2,
       "version_minor": 0
      },
      "text/plain": [
       "  0%|          | 0/5 [00:00<?, ?it/s]"
      ]
     },
     "metadata": {},
     "output_type": "display_data"
    },
    {
     "name": "stdout",
     "output_type": "stream",
     "text": [
      "Validation Metrics\n",
      "Val NDCG@100=0.38376 (0.00221)\n",
      "Val Recall@20=0.35643 (0.00271)\n",
      "Val Recall@50=0.47666 (0.00294)\n",
      "Test Metrics\n",
      "Test NDCG@100=0.37786 (0.00219)\n",
      "Test Recall@20=0.35506 (0.00270)\n",
      "Test Recall@50=0.47530 (0.00296)\n",
      "running with (p,weight):  0.01  ,  2\n"
     ]
    },
    {
     "data": {
      "application/vnd.jupyter.widget-view+json": {
       "model_id": "f88f178513e14c8287802286590bdac2",
       "version_major": 2,
       "version_minor": 0
      },
      "text/plain": [
       "  0%|          | 0/5 [00:00<?, ?it/s]"
      ]
     },
     "metadata": {},
     "output_type": "display_data"
    },
    {
     "name": "stdout",
     "output_type": "stream",
     "text": [
      "Val NDCG@100=0.37851 (0.00220)\n",
      "Val Recall@20=0.35216 (0.00272)\n",
      "Val Recall@50=0.47564 (0.00297)\n",
      "Test Metrics\n",
      "Test NDCG@100=0.37215 (0.00218)\n",
      "Test Recall@20=0.35062 (0.00271)\n",
      "Test Recall@50=0.47405 (0.00298)\n",
      "running with (p,weight):  0.01  ,  5\n"
     ]
    },
    {
     "data": {
      "application/vnd.jupyter.widget-view+json": {
       "model_id": "c1bb9eeca7794620a6f7b32b705736bf",
       "version_major": 2,
       "version_minor": 0
      },
      "text/plain": [
       "  0%|          | 0/5 [00:00<?, ?it/s]"
      ]
     },
     "metadata": {},
     "output_type": "display_data"
    },
    {
     "name": "stdout",
     "output_type": "stream",
     "text": [
      "Validation Metrics\n",
      "Val NDCG@100=0.36362 (0.00218)\n",
      "Val Recall@20=0.33960 (0.00274)\n",
      "Val Recall@50=0.46576 (0.00301)\n",
      "Test Metrics\n",
      "Test NDCG@100=0.35760 (0.00217)\n",
      "Test Recall@20=0.33581 (0.00273)\n",
      "Test Recall@50=0.46175 (0.00304)\n",
      "running with (p,weight):  0.01  ,  10\n"
     ]
    },
    {
     "data": {
      "application/vnd.jupyter.widget-view+json": {
       "model_id": "50294b5dacaa4098b5454a868bdcea7c",
       "version_major": 2,
       "version_minor": 0
      },
      "text/plain": [
       "  0%|          | 0/5 [00:00<?, ?it/s]"
      ]
     },
     "metadata": {},
     "output_type": "display_data"
    },
    {
     "name": "stdout",
     "output_type": "stream",
     "text": [
      "Validation Metrics\n",
      "Val NDCG@100=0.34215 (0.00216)\n",
      "Val Recall@20=0.31901 (0.00273)\n",
      "Val Recall@50=0.44719 (0.00306)\n",
      "Test Metrics\n",
      "Test NDCG@100=0.33749 (0.00214)\n",
      "Test Recall@20=0.31724 (0.00274)\n",
      "Test Recall@50=0.44334 (0.00310)\n",
      "running with (p,weight):  0.01  ,  20\n"
     ]
    },
    {
     "data": {
      "application/vnd.jupyter.widget-view+json": {
       "model_id": "fcb64681285a422594a91aefe4ef2505",
       "version_major": 2,
       "version_minor": 0
      },
      "text/plain": [
       "  0%|          | 0/5 [00:00<?, ?it/s]"
      ]
     },
     "metadata": {},
     "output_type": "display_data"
    },
    {
     "name": "stdout",
     "output_type": "stream",
     "text": [
      "Validation Metrics\n",
      "Val NDCG@100=0.30738 (0.00207)\n",
      "Val Recall@20=0.28470 (0.00270)\n",
      "Val Recall@50=0.41627 (0.00310)\n",
      "Test Metrics\n",
      "Test NDCG@100=0.30413 (0.00205)\n",
      "Test Recall@20=0.28389 (0.00271)\n",
      "Test Recall@50=0.41398 (0.00314)\n",
      "running with (p,weight):  0.1  ,  1\n"
     ]
    },
    {
     "data": {
      "application/vnd.jupyter.widget-view+json": {
       "model_id": "0e6e206b3ed94789ac19d3d3ee9b915b",
       "version_major": 2,
       "version_minor": 0
      },
      "text/plain": [
       "  0%|          | 0/5 [00:00<?, ?it/s]"
      ]
     },
     "metadata": {},
     "output_type": "display_data"
    },
    {
     "name": "stdout",
     "output_type": "stream",
     "text": [
      "Validation Metrics\n",
      "Val NDCG@100=0.40318 (0.00217)\n",
      "Val Recall@20=0.37375 (0.00268)\n",
      "Val Recall@50=0.49495 (0.00287)\n",
      "Test Metrics\n",
      "Test NDCG@100=0.39683 (0.00216)\n",
      "Test Recall@20=0.37069 (0.00268)\n",
      "Test Recall@50=0.49247 (0.00289)\n",
      "running with (p,weight):  0.1  ,  2\n"
     ]
    },
    {
     "data": {
      "application/vnd.jupyter.widget-view+json": {
       "model_id": "0b546ab520bc42e0baaef9c528b38345",
       "version_major": 2,
       "version_minor": 0
      },
      "text/plain": [
       "  0%|          | 0/5 [00:00<?, ?it/s]"
      ]
     },
     "metadata": {},
     "output_type": "display_data"
    },
    {
     "name": "stdout",
     "output_type": "stream",
     "text": [
      "Validation Metrics\n",
      "Val NDCG@100=0.39848 (0.00216)\n",
      "Val Recall@20=0.36964 (0.00268)\n",
      "Val Recall@50=0.49351 (0.00289)\n",
      "Test Metrics\n",
      "Test NDCG@100=0.39099 (0.00215)\n",
      "Test Recall@20=0.36676 (0.00268)\n",
      "Test Recall@50=0.49100 (0.00291)\n",
      "running with (p,weight):  0.1  ,  5\n"
     ]
    },
    {
     "data": {
      "application/vnd.jupyter.widget-view+json": {
       "model_id": "980532ca8e5b452fb4049d1307df7289",
       "version_major": 2,
       "version_minor": 0
      },
      "text/plain": [
       "  0%|          | 0/5 [00:00<?, ?it/s]"
      ]
     },
     "metadata": {},
     "output_type": "display_data"
    },
    {
     "name": "stdout",
     "output_type": "stream",
     "text": [
      "Validation Metrics\n",
      "Val NDCG@100=0.38440 (0.00214)\n",
      "Val Recall@20=0.35787 (0.00268)\n",
      "Val Recall@50=0.48423 (0.00292)\n",
      "Test Metrics\n",
      "Test NDCG@100=0.37743 (0.00213)\n",
      "Test Recall@20=0.35244 (0.00268)\n",
      "Test Recall@50=0.48084 (0.00296)\n",
      "running with (p,weight):  0.1  ,  10\n"
     ]
    },
    {
     "data": {
      "application/vnd.jupyter.widget-view+json": {
       "model_id": "9f8f81e554cb49cb84c061702665ada6",
       "version_major": 2,
       "version_minor": 0
      },
      "text/plain": [
       "  0%|          | 0/5 [00:00<?, ?it/s]"
      ]
     },
     "metadata": {},
     "output_type": "display_data"
    },
    {
     "name": "stdout",
     "output_type": "stream",
     "text": [
      "Validation Metrics\n",
      "Val NDCG@100=0.36522 (0.00212)\n",
      "Val Recall@20=0.33848 (0.00268)\n",
      "Val Recall@50=0.46931 (0.00297)\n",
      "Test Metrics\n",
      "Test NDCG@100=0.35879 (0.00210)\n",
      "Test Recall@20=0.33655 (0.00270)\n",
      "Test Recall@50=0.46458 (0.00301)\n",
      "running with (p,weight):  0.1  ,  20\n"
     ]
    },
    {
     "data": {
      "application/vnd.jupyter.widget-view+json": {
       "model_id": "21b7ff65bf1a49b182d2df127e2fcbb0",
       "version_major": 2,
       "version_minor": 0
      },
      "text/plain": [
       "  0%|          | 0/5 [00:00<?, ?it/s]"
      ]
     },
     "metadata": {},
     "output_type": "display_data"
    },
    {
     "name": "stdout",
     "output_type": "stream",
     "text": [
      "Validation Metrics\n",
      "Val NDCG@100=0.33272 (0.00203)\n",
      "Val Recall@20=0.30955 (0.00266)\n",
      "Val Recall@50=0.44171 (0.00301)\n",
      "Test Metrics\n",
      "Test NDCG@100=0.32836 (0.00203)\n",
      "Test Recall@20=0.30623 (0.00267)\n",
      "Test Recall@50=0.43714 (0.00305)\n",
      "running with (p,weight):  0.5  ,  1\n"
     ]
    },
    {
     "data": {
      "application/vnd.jupyter.widget-view+json": {
       "model_id": "0001617b896b4e3d9826a7171ee8b9c7",
       "version_major": 2,
       "version_minor": 0
      },
      "text/plain": [
       "  0%|          | 0/5 [00:00<?, ?it/s]"
      ]
     },
     "metadata": {},
     "output_type": "display_data"
    },
    {
     "name": "stdout",
     "output_type": "stream",
     "text": [
      "Validation Metrics\n",
      "Val NDCG@100=0.42114 (0.00215)\n",
      "Val Recall@20=0.38453 (0.00267)\n",
      "Val Recall@50=0.51152 (0.00281)\n",
      "Test Metrics\n",
      "Test NDCG@100=0.41398 (0.00214)\n",
      "Test Recall@20=0.38068 (0.00267)\n",
      "Test Recall@50=0.51140 (0.00284)\n",
      "running with (p,weight):  0.5  ,  2\n"
     ]
    },
    {
     "data": {
      "application/vnd.jupyter.widget-view+json": {
       "model_id": "098b382187ef436491db0e8812571601",
       "version_major": 2,
       "version_minor": 0
      },
      "text/plain": [
       "  0%|          | 0/5 [00:00<?, ?it/s]"
      ]
     },
     "metadata": {},
     "output_type": "display_data"
    },
    {
     "name": "stdout",
     "output_type": "stream",
     "text": [
      "Validation Metrics\n",
      "Val NDCG@100=0.42045 (0.00215)\n",
      "Val Recall@20=0.38572 (0.00267)\n",
      "Val Recall@50=0.51257 (0.00282)\n",
      "Test Metrics\n",
      "Test NDCG@100=0.41295 (0.00214)\n",
      "Test Recall@20=0.38134 (0.00268)\n",
      "Test Recall@50=0.51319 (0.00285)\n",
      "running with (p,weight):  0.5  ,  5\n"
     ]
    },
    {
     "data": {
      "application/vnd.jupyter.widget-view+json": {
       "model_id": "52346bcf28e24c13b19a9c0bfd5c449c",
       "version_major": 2,
       "version_minor": 0
      },
      "text/plain": [
       "  0%|          | 0/5 [00:00<?, ?it/s]"
      ]
     },
     "metadata": {},
     "output_type": "display_data"
    },
    {
     "name": "stdout",
     "output_type": "stream",
     "text": [
      "Validation Metrics\n",
      "Val NDCG@100=0.41242 (0.00213)\n",
      "Val Recall@20=0.37931 (0.00266)\n",
      "Val Recall@50=0.50949 (0.00283)\n",
      "Test Metrics\n",
      "Test NDCG@100=0.40449 (0.00212)\n",
      "Test Recall@20=0.37468 (0.00268)\n",
      "Test Recall@50=0.50728 (0.00287)\n",
      "running with (p,weight):  0.5  ,  10\n",
      "Validation Metrics\n",
      "Val NDCG@100=0.39862 (0.00210)\n",
      "Val Recall@20=0.36597 (0.00266)\n",
      "Val Recall@50=0.49824 (0.00286)\n",
      "Test Metrics\n",
      "Test NDCG@100=0.39040 (0.00209)\n",
      "Test Recall@20=0.36171 (0.00267)\n",
      "Test Recall@50=0.49464 (0.00290)\n",
      "running with (p,weight):  0.5  ,  20\n"
     ]
    },
    {
     "data": {
      "application/vnd.jupyter.widget-view+json": {
       "model_id": "11fa4958bc7847b3ae7f95ba13f0e97f",
       "version_major": 2,
       "version_minor": 0
      },
      "text/plain": [
       "  0%|          | 0/5 [00:00<?, ?it/s]"
      ]
     },
     "metadata": {},
     "output_type": "display_data"
    },
    {
     "name": "stdout",
     "output_type": "stream",
     "text": [
      "Validation Metrics\n",
      "Val NDCG@100=0.37728 (0.00206)\n",
      "Val Recall@20=0.34591 (0.00266)\n",
      "Val Recall@50=0.48002 (0.00291)\n",
      "Test Metrics\n",
      "Test NDCG@100=0.36890 (0.00205)\n",
      "Test Recall@20=0.34042 (0.00267)\n",
      "Test Recall@50=0.47553 (0.00294)\n",
      "running with (p,weight):  0.9  ,  1\n"
     ]
    },
    {
     "data": {
      "application/vnd.jupyter.widget-view+json": {
       "model_id": "aae4983f72c5448c8b1c1498480892a1",
       "version_major": 2,
       "version_minor": 0
      },
      "text/plain": [
       "  0%|          | 0/5 [00:00<?, ?it/s]"
      ]
     },
     "metadata": {},
     "output_type": "display_data"
    },
    {
     "name": "stdout",
     "output_type": "stream",
     "text": [
      "Validation Metrics\n",
      "Val NDCG@100=0.39154 (0.00208)\n",
      "Val Recall@20=0.35083 (0.00262)\n",
      "Val Recall@50=0.48152 (0.00282)\n",
      "Test Metrics\n",
      "Test NDCG@100=0.38423 (0.00207)\n",
      "Test Recall@20=0.34737 (0.00263)\n",
      "Test Recall@50=0.47893 (0.00284)\n",
      "running with (p,weight):  0.9  ,  2\n"
     ]
    },
    {
     "data": {
      "application/vnd.jupyter.widget-view+json": {
       "model_id": "52e905fd503d44c9860b7a1382776db1",
       "version_major": 2,
       "version_minor": 0
      },
      "text/plain": [
       "  0%|          | 0/5 [00:00<?, ?it/s]"
      ]
     },
     "metadata": {},
     "output_type": "display_data"
    },
    {
     "name": "stdout",
     "output_type": "stream",
     "text": [
      "Validation Metrics\n",
      "Val NDCG@100=0.40200 (0.00210)\n",
      "Val Recall@20=0.36322 (0.00264)\n",
      "Val Recall@50=0.49103 (0.00281)\n",
      "Test Metrics\n",
      "Test NDCG@100=0.39513 (0.00208)\n",
      "Test Recall@20=0.35902 (0.00264)\n",
      "Test Recall@50=0.48994 (0.00283)\n",
      "running with (p,weight):  0.9  ,  5\n"
     ]
    },
    {
     "data": {
      "application/vnd.jupyter.widget-view+json": {
       "model_id": "fd477731039341c788b18db49f942af8",
       "version_major": 2,
       "version_minor": 0
      },
      "text/plain": [
       "  0%|          | 0/5 [00:00<?, ?it/s]"
      ]
     },
     "metadata": {},
     "output_type": "display_data"
    },
    {
     "name": "stdout",
     "output_type": "stream",
     "text": [
      "Validation Metrics\n",
      "Val NDCG@100=0.41162 (0.00211)\n",
      "Val Recall@20=0.37500 (0.00264)\n",
      "Val Recall@50=0.50248 (0.00281)\n",
      "Test Metrics\n",
      "Test NDCG@100=0.40362 (0.00209)\n",
      "Test Recall@20=0.36875 (0.00266)\n",
      "Test Recall@50=0.50232 (0.00283)\n",
      "running with (p,weight):  0.9  ,  10\n"
     ]
    },
    {
     "data": {
      "application/vnd.jupyter.widget-view+json": {
       "model_id": "a7854b019fa04261b16b4752fa11ceb6",
       "version_major": 2,
       "version_minor": 0
      },
      "text/plain": [
       "  0%|          | 0/5 [00:00<?, ?it/s]"
      ]
     },
     "metadata": {},
     "output_type": "display_data"
    },
    {
     "name": "stdout",
     "output_type": "stream",
     "text": [
      "Validation Metrics\n",
      "Val NDCG@100=0.41361 (0.00211)\n",
      "Val Recall@20=0.37811 (0.00265)\n",
      "Val Recall@50=0.50683 (0.00281)\n",
      "Test Metrics\n",
      "Test NDCG@100=0.40470 (0.00209)\n",
      "Test Recall@20=0.37255 (0.00267)\n",
      "Test Recall@50=0.50585 (0.00284)\n",
      "Validation Metrics\n",
      "Val NDCG@100=0.40909 (0.00210)\n",
      "Val Recall@20=0.37289 (0.00265)\n",
      "Val Recall@50=0.50615 (0.00282)\n",
      "Test Metrics\n",
      "Test NDCG@100=0.39957 (0.00208)\n",
      "Test Recall@20=0.36965 (0.00267)\n",
      "Test Recall@50=0.50261 (0.00286)\n",
      "running with (p,weight):  0.99  ,  1\n"
     ]
    },
    {
     "data": {
      "application/vnd.jupyter.widget-view+json": {
       "model_id": "8415f986301546199d76c314e376854e",
       "version_major": 2,
       "version_minor": 0
      },
      "text/plain": [
       "  0%|          | 0/5 [00:00<?, ?it/s]"
      ]
     },
     "metadata": {},
     "output_type": "display_data"
    },
    {
     "name": "stdout",
     "output_type": "stream",
     "text": [
      "Validation Metrics\n",
      "Val NDCG@100=0.31967 (0.00199)\n",
      "Val Recall@20=0.28118 (0.00248)\n",
      "Val Recall@50=0.39641 (0.00277)\n",
      "Test Metrics\n",
      "Test NDCG@100=0.31210 (0.00197)\n",
      "Test Recall@20=0.27359 (0.00247)\n",
      "Test Recall@50=0.39177 (0.00279)\n",
      "running with (p,weight):  0.99  ,  2\n"
     ]
    },
    {
     "data": {
      "application/vnd.jupyter.widget-view+json": {
       "model_id": "b7d3ed930c844c8484557b3906ac5290",
       "version_major": 2,
       "version_minor": 0
      },
      "text/plain": [
       "  0%|          | 0/5 [00:00<?, ?it/s]"
      ]
     },
     "metadata": {},
     "output_type": "display_data"
    },
    {
     "name": "stdout",
     "output_type": "stream",
     "text": [
      "Validation Metrics\n",
      "Val NDCG@100=0.33302 (0.00201)\n",
      "Val Recall@20=0.29503 (0.00252)\n",
      "Val Recall@50=0.41304 (0.00280)\n",
      "Test Metrics\n",
      "Test NDCG@100=0.32532 (0.00199)\n",
      "Test Recall@20=0.28911 (0.00252)\n",
      "Test Recall@50=0.40782 (0.00281)\n",
      "running with (p,weight):  0.99  ,  5\n"
     ]
    },
    {
     "data": {
      "application/vnd.jupyter.widget-view+json": {
       "model_id": "4e66bb72584243d491e0f59f1395a7ce",
       "version_major": 2,
       "version_minor": 0
      },
      "text/plain": [
       "  0%|          | 0/5 [00:00<?, ?it/s]"
      ]
     },
     "metadata": {},
     "output_type": "display_data"
    },
    {
     "name": "stdout",
     "output_type": "stream",
     "text": [
      "Validation Metrics\n",
      "Val NDCG@100=0.35527 (0.00204)\n",
      "Val Recall@20=0.31900 (0.00258)\n",
      "Val Recall@50=0.43834 (0.00282)\n",
      "Test Metrics\n",
      "Test NDCG@100=0.34773 (0.00202)\n",
      "Test Recall@20=0.31462 (0.00258)\n",
      "Test Recall@50=0.43350 (0.00284)\n",
      "running with (p,weight):  0.99  ,  10\n"
     ]
    },
    {
     "data": {
      "application/vnd.jupyter.widget-view+json": {
       "model_id": "c078463b39b64a0996bebf7e449b0f5a",
       "version_major": 2,
       "version_minor": 0
      },
      "text/plain": [
       "  0%|          | 0/5 [00:00<?, ?it/s]"
      ]
     },
     "metadata": {},
     "output_type": "display_data"
    },
    {
     "name": "stdout",
     "output_type": "stream",
     "text": [
      "Validation Metrics\n",
      "Val NDCG@100=0.37238 (0.00206)\n",
      "Val Recall@20=0.33648 (0.00260)\n",
      "Val Recall@50=0.45764 (0.00281)\n",
      "Test Metrics\n",
      "Test NDCG@100=0.36496 (0.00203)\n",
      "Test Recall@20=0.33310 (0.00260)\n",
      "Test Recall@50=0.45406 (0.00284)\n",
      "running with (p,weight):  0.99  ,  20\n"
     ]
    },
    {
     "data": {
      "application/vnd.jupyter.widget-view+json": {
       "model_id": "ddbdf635b66b4b8abce5d1afc214664b",
       "version_major": 2,
       "version_minor": 0
      },
      "text/plain": [
       "  0%|          | 0/5 [00:00<?, ?it/s]"
      ]
     },
     "metadata": {},
     "output_type": "display_data"
    },
    {
     "name": "stdout",
     "output_type": "stream",
     "text": [
      "Validation Metrics\n",
      "Val NDCG@100=0.38606 (0.00207)\n",
      "Val Recall@20=0.35133 (0.00262)\n",
      "Val Recall@50=0.47410 (0.00281)\n",
      "Test Metrics\n"
     ]
    }
   ],
   "source": [
    "for p in Ps:\n",
    "    XtX_lam = XtX.copy()\n",
    "    XtX_lam[np.diag_indices(items)] *= (1 + p/(1-p))\n",
    "    pc = np.linalg.inv(XtX_lam)\n",
    "    for weight in weights:\n",
    "        print('running with (p,weight): ', p,' , ', weight)\n",
    "        WDLAE_cg(pc, X, XtX_lam, weight, nonzeros, path, users, items)"
   ]
  },
  {
   "cell_type": "code",
   "execution_count": null,
   "id": "fa8741f3-4e20-45ae-8cd9-c04453f77bb5",
   "metadata": {},
   "outputs": [],
   "source": []
  }
 ],
 "metadata": {
  "kernelspec": {
   "display_name": "Python 3.10 (recommended)",
   "language": "python",
   "name": "python310"
  },
  "language_info": {
   "codemirror_mode": {
    "name": "ipython",
    "version": 3
   },
   "file_extension": ".py",
   "mimetype": "text/x-python",
   "name": "python",
   "nbconvert_exporter": "python",
   "pygments_lexer": "ipython3",
   "version": "3.10.15"
  }
 },
 "nbformat": 4,
 "nbformat_minor": 5
}
