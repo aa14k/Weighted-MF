{
 "cells": [
  {
   "cell_type": "code",
   "execution_count": 2,
   "id": "f2fb815e-cdd2-4d0d-85bb-d931cc9e1abf",
   "metadata": {
    "execution": {
     "iopub.execute_input": "2024-10-11T23:54:52.818062Z",
     "iopub.status.busy": "2024-10-11T23:54:52.817704Z",
     "iopub.status.idle": "2024-10-11T23:55:28.832326Z",
     "shell.execute_reply": "2024-10-11T23:55:28.831419Z",
     "shell.execute_reply.started": "2024-10-11T23:54:52.818043Z"
    }
   },
   "outputs": [
    {
     "name": "stdout",
     "output_type": "stream",
     "text": [
      "loading data\n"
     ]
    }
   ],
   "source": [
    "import utils as ut\n",
    "import scipy as sc\n",
    "import numpy as np\n",
    "from tqdm.notebook import tqdm\n",
    "from joblib import Parallel, delayed\n",
    "\n",
    "\n",
    "#path = '/efs/users/hsteck/public/datasets/movielens20mio/pro_sg'\n",
    "path = '/efs/users/hsteck/public/datasets/msd_data/pro_sg'\n",
    "print('loading data')\n",
    "X = ut.load_train_data(path)\n",
    "#X = sc.sparse.random(10000,1000,0.01,format='csr')\n",
    "users,items = X.shape[0],X.shape[1]\n",
    "XtX = (X.T@X).toarray()\n",
    "nonzeros = X.nonzero()"
   ]
  },
  {
   "cell_type": "code",
   "execution_count": null,
   "id": "7b203c60-7e70-428b-8be8-97eb958a6076",
   "metadata": {
    "execution": {
     "iopub.execute_input": "2024-10-11T23:55:28.833843Z",
     "iopub.status.busy": "2024-10-11T23:55:28.833658Z"
    }
   },
   "outputs": [],
   "source": [
    "lam = 1000.0\n",
    "XtX_lam = XtX\n",
    "XtX_lam[np.diag_indices(items)] += lam\n",
    "pc = np.linalg.inv(XtX_lam)"
   ]
  },
  {
   "cell_type": "code",
   "execution_count": null,
   "id": "b7f73714-9d7f-4668-b6da-93c31da57fa9",
   "metadata": {},
   "outputs": [],
   "source": [
    "WX = (2-1) * X"
   ]
  },
  {
   "cell_type": "code",
   "execution_count": null,
   "id": "f0003c39-5bb0-4d8d-a99d-038c0c8e87fb",
   "metadata": {},
   "outputs": [],
   "source": [
    "B = np.zeros((items,items))\n",
    "weight = 2"
   ]
  },
  {
   "cell_type": "code",
   "execution_count": null,
   "id": "315204ea-e40c-45ae-8872-191a4d71db33",
   "metadata": {},
   "outputs": [],
   "source": [
    "XWX = (X.T.dot(weight*X)).toarray()"
   ]
  },
  {
   "cell_type": "code",
   "execution_count": null,
   "id": "f805e9af-8b94-4aaa-89c6-7ac528a70ff1",
   "metadata": {},
   "outputs": [],
   "source": [
    "XtXB = np.array(X.T.dot(WX.multiply(X.dot(B)))) + XtX_lam.dot(B)"
   ]
  },
  {
   "cell_type": "code",
   "execution_count": null,
   "id": "12dfc8d9-9678-4918-881e-c0d96a6ecfc7",
   "metadata": {
    "execution": {
     "execution_failed": "2024-10-11T23:54:33.912Z"
    }
   },
   "outputs": [],
   "source": [
    "r = XWX - XtXB"
   ]
  },
  {
   "cell_type": "code",
   "execution_count": null,
   "id": "1768337d-4742-4dbd-a64a-dba341f1432e",
   "metadata": {},
   "outputs": [],
   "source": []
  }
 ],
 "metadata": {
  "kernelspec": {
   "display_name": "Python 3.10 (recommended)",
   "language": "python",
   "name": "python310"
  },
  "language_info": {
   "codemirror_mode": {
    "name": "ipython",
    "version": 3
   },
   "file_extension": ".py",
   "mimetype": "text/x-python",
   "name": "python",
   "nbconvert_exporter": "python",
   "pygments_lexer": "ipython3",
   "version": "3.10.15"
  }
 },
 "nbformat": 4,
 "nbformat_minor": 5
}
