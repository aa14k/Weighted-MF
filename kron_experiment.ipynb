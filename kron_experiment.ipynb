{
 "cells": [
  {
   "cell_type": "code",
   "execution_count": 1,
   "id": "4bf62160-a6a9-4ace-94fe-e0695e207183",
   "metadata": {
    "execution": {
     "iopub.execute_input": "2024-10-14T16:23:46.495239Z",
     "iopub.status.busy": "2024-10-14T16:23:46.494975Z",
     "iopub.status.idle": "2024-10-14T16:23:47.697345Z",
     "shell.execute_reply": "2024-10-14T16:23:47.696687Z",
     "shell.execute_reply.started": "2024-10-14T16:23:46.495221Z"
    }
   },
   "outputs": [
    {
     "name": "stdout",
     "output_type": "stream",
     "text": [
      "loading data\n"
     ]
    }
   ],
   "source": [
    "import utils as ut\n",
    "import scipy as sc\n",
    "import numpy as np\n",
    "from tqdm import tqdm\n",
    "from joblib import Parallel, delayed\n",
    "\n",
    "\n",
    "path = '/efs/users/hsteck/public/datasets/movielens20mio/pro_sg'\n",
    "#path = '/efs/users/hsteck/public/datasets/msd_data/pro_sg'\n",
    "print('loading data')\n",
    "X = ut.load_train_data(path)\n",
    "users,items = X.shape\n",
    "#XtX = (X.T@X).toarray()"
   ]
  },
  {
   "cell_type": "code",
   "execution_count": null,
   "id": "ca2b1ea1-cd4c-4f94-8107-81231729a366",
   "metadata": {
    "execution": {
     "execution_failed": "2024-10-14T16:27:11.805Z",
     "iopub.execute_input": "2024-10-14T16:26:04.968289Z",
     "iopub.status.busy": "2024-10-14T16:26:04.967934Z"
    }
   },
   "outputs": [],
   "source": [
    "#temp = sc.sparse.csr_matrix((items**2,users*items))\n",
    "\n",
    "\n",
    "\n",
    "V = np.random.randn(items,100) * 0.01\n",
    "\n",
    "temp = sc.sparse.kron(V,X,format='csr')"
   ]
  },
  {
   "cell_type": "code",
   "execution_count": null,
   "id": "1998530c-f167-4d14-bccf-02046d5c5c27",
   "metadata": {},
   "outputs": [],
   "source": []
  }
 ],
 "metadata": {
  "kernelspec": {
   "display_name": "Python 3.10 (recommended)",
   "language": "python",
   "name": "python310"
  },
  "language_info": {
   "codemirror_mode": {
    "name": "ipython",
    "version": 3
   },
   "file_extension": ".py",
   "mimetype": "text/x-python",
   "name": "python",
   "nbconvert_exporter": "python",
   "pygments_lexer": "ipython3",
   "version": "3.10.15"
  }
 },
 "nbformat": 4,
 "nbformat_minor": 5
}
