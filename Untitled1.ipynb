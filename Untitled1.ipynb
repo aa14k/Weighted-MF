{
 "cells": [
  {
   "cell_type": "code",
   "execution_count": 1,
   "id": "a6f0e8bd-670f-4125-9c46-4a05569f0cf9",
   "metadata": {
    "execution": {
     "iopub.execute_input": "2024-09-18T00:09:19.409164Z",
     "iopub.status.busy": "2024-09-18T00:09:19.409030Z",
     "iopub.status.idle": "2024-09-18T00:23:37.214587Z",
     "shell.execute_reply": "2024-09-18T00:23:37.213810Z",
     "shell.execute_reply.started": "2024-09-18T00:09:19.409142Z"
    },
    "scrolled": true
   },
   "outputs": [
    {
     "name": "stdout",
     "output_type": "stream",
     "text": [
      "(116677, 20108)\n",
      "dim = 1000 , weight = 8  and lam = 200\n"
     ]
    },
    {
     "data": {
      "application/vnd.jupyter.widget-view+json": {
       "model_id": "576815dc5b4c4ebeb5facbfd73ace1ad",
       "version_major": 2,
       "version_minor": 0
      },
      "text/plain": [
       "  0%|          | 0/5 [00:00<?, ?it/s]"
      ]
     },
     "metadata": {},
     "output_type": "display_data"
    },
    {
     "data": {
      "application/vnd.jupyter.widget-view+json": {
       "model_id": "53e274c17fe043dd8679c14087c31385",
       "version_major": 2,
       "version_minor": 0
      },
      "text/plain": [
       "  0%|          | 0/30 [00:00<?, ?it/s]"
      ]
     },
     "metadata": {},
     "output_type": "display_data"
    },
    {
     "name": "stdout",
     "output_type": "stream",
     "text": [
      "U: 248.2656866594471\n",
      "U: 27.55735310923664\n",
      "U: 10.360070131120136\n",
      "U: 2.2935672081138256\n",
      "U: 0.4390222029369222\n",
      "U: 0.1257008896318204\n",
      "U: 0.029005160848389458\n",
      "U: 0.0066938639467344005\n",
      "U: 0.0016453395619626943\n",
      "U: 0.000392857149963964\n",
      "U: 0.00011087787112833879\n",
      "U: 2.9696483059070485e-05\n",
      "U: 6.888039179172417e-06\n",
      "U: 1.793526255110858e-06\n",
      "U: 4.799491115479842e-07\n",
      "U: 1.2213743108718317e-07\n",
      "U: 3.1741562517654385e-08\n"
     ]
    },
    {
     "data": {
      "application/vnd.jupyter.widget-view+json": {
       "model_id": "dae73886f0b640099e7366805089bb5a",
       "version_major": 2,
       "version_minor": 0
      },
      "text/plain": [
       "  0%|          | 0/30 [00:00<?, ?it/s]"
      ]
     },
     "metadata": {},
     "output_type": "display_data"
    },
    {
     "name": "stdout",
     "output_type": "stream",
     "text": [
      "V: 1765760061.70952\n",
      "V: 1313186550.0641093\n",
      "V: 677122633.1688253\n",
      "V: 267893179.58119306\n",
      "V: 105557546.91334465\n",
      "V: 45556878.30155627\n",
      "V: 20210642.074295595\n",
      "V: 9156798.290029077\n",
      "V: 4239846.920991303\n",
      "V: 1935391.1399266296\n",
      "V: 911650.5344124769\n",
      "V: 421348.4600938611\n",
      "V: 196361.7220922229\n",
      "V: 95491.57516958381\n",
      "V: 44605.93890259301\n",
      "V: 20438.43513458521\n",
      "V: 10114.340137048574\n",
      "V: 4574.902632312789\n",
      "V: 2120.6070056885656\n",
      "V: 1024.4793954437616\n",
      "V: 480.73161012017135\n",
      "V: 220.06615110657535\n",
      "V: 107.5060859938403\n",
      "V: 49.60005072404709\n",
      "V: 23.754833355487964\n",
      "V: 11.1270584856783\n",
      "V: 5.183196858482534\n",
      "V: 2.449269739002852\n",
      "V: 1.1725549126365689\n",
      "V: 0.5469994060035381\n"
     ]
    },
    {
     "data": {
      "application/vnd.jupyter.widget-view+json": {
       "model_id": "78f4d9aee4874f7fbef0ea0f470b870e",
       "version_major": 2,
       "version_minor": 0
      },
      "text/plain": [
       "  0%|          | 0/30 [00:00<?, ?it/s]"
      ]
     },
     "metadata": {},
     "output_type": "display_data"
    },
    {
     "name": "stdout",
     "output_type": "stream",
     "text": [
      "U: 790.150121427563\n",
      "U: 422.30231061989537\n",
      "U: 189.73950698034562\n",
      "U: 93.7378236266974\n",
      "U: 40.10637655695444\n",
      "U: 16.353390354278194\n",
      "U: 7.769049755576115\n",
      "U: 3.457457080989433\n",
      "U: 1.561065269670268\n"
     ]
    },
    {
     "ename": "KeyboardInterrupt",
     "evalue": "",
     "output_type": "error",
     "traceback": [
      "\u001b[0;31m---------------------------------------------------------------------------\u001b[0m",
      "\u001b[0;31mKeyboardInterrupt\u001b[0m                         Traceback (most recent call last)",
      "Cell \u001b[0;32mIn[1], line 99\u001b[0m\n\u001b[1;32m     97\u001b[0m V \u001b[38;5;241m=\u001b[39m np\u001b[38;5;241m.\u001b[39mrandom\u001b[38;5;241m.\u001b[39mnormal(size \u001b[38;5;241m=\u001b[39m (items,d)) \u001b[38;5;241m*\u001b[39m \u001b[38;5;241m1\u001b[39m \u001b[38;5;241m/\u001b[39m np\u001b[38;5;241m.\u001b[39msqrt(weight\u001b[38;5;241m*\u001b[39m(d\u001b[38;5;241m*\u001b[39m\u001b[38;5;241m*\u001b[39m\u001b[38;5;241m3\u001b[39m))\n\u001b[1;32m     98\u001b[0m \u001b[38;5;28;01mfor\u001b[39;00m i \u001b[38;5;129;01min\u001b[39;00m tqdm(\u001b[38;5;28mrange\u001b[39m(runs)):\n\u001b[0;32m---> 99\u001b[0m     U \u001b[38;5;241m=\u001b[39m \u001b[43mget_wease_U\u001b[49m\u001b[43m(\u001b[49m\u001b[43mweight\u001b[49m\u001b[43m,\u001b[49m\u001b[43mlam\u001b[49m\u001b[43m,\u001b[49m\u001b[43md\u001b[49m\u001b[43m,\u001b[49m\u001b[43mitems\u001b[49m\u001b[43m)\u001b[49m\n\u001b[1;32m    100\u001b[0m     U \u001b[38;5;241m=\u001b[39m np\u001b[38;5;241m.\u001b[39msqueeze(np\u001b[38;5;241m.\u001b[39marray(U))\n\u001b[1;32m    101\u001b[0m     XU \u001b[38;5;241m=\u001b[39m X\u001b[38;5;129m@U\u001b[39m\n",
      "Cell \u001b[0;32mIn[1], line 57\u001b[0m, in \u001b[0;36mget_wease_U\u001b[0;34m(weight, lam, d, items)\u001b[0m\n\u001b[1;32m     55\u001b[0m p \u001b[38;5;241m=\u001b[39m z\n\u001b[1;32m     56\u001b[0m \u001b[38;5;28;01mfor\u001b[39;00m _ \u001b[38;5;129;01min\u001b[39;00m tqdm(\u001b[38;5;28mrange\u001b[39m(\u001b[38;5;241m30\u001b[39m)):\n\u001b[0;32m---> 57\u001b[0m     XPV \u001b[38;5;241m=\u001b[39m \u001b[43mX\u001b[49m\u001b[38;5;241;43m@\u001b[39;49m\u001b[43m \u001b[49m\u001b[43mp\u001b[49m\u001b[38;5;241;43m.\u001b[39;49m\u001b[43mreshape\u001b[49m\u001b[43m(\u001b[49m\u001b[43m(\u001b[49m\u001b[43mitems\u001b[49m\u001b[43m,\u001b[49m\u001b[43md\u001b[49m\u001b[43m)\u001b[49m\u001b[43m,\u001b[49m\u001b[43morder\u001b[49m\u001b[38;5;241;43m=\u001b[39;49m\u001b[38;5;124;43m'\u001b[39;49m\u001b[38;5;124;43mF\u001b[39;49m\u001b[38;5;124;43m'\u001b[39;49m\u001b[43m)\u001b[49m \u001b[38;5;129m@V\u001b[39m\u001b[38;5;241m.\u001b[39mT\n\u001b[1;32m     58\u001b[0m     XPV[nonzeros] \u001b[38;5;241m=\u001b[39m weight \u001b[38;5;241m*\u001b[39m XPV[nonzeros]\n\u001b[1;32m     59\u001b[0m     Ap \u001b[38;5;241m=\u001b[39m (X\u001b[38;5;241m.\u001b[39mT \u001b[38;5;241m@\u001b[39m (XPV \u001b[38;5;241m@\u001b[39m V))\u001b[38;5;241m.\u001b[39mflatten(\u001b[38;5;124m'\u001b[39m\u001b[38;5;124mF\u001b[39m\u001b[38;5;124m'\u001b[39m) \u001b[38;5;241m+\u001b[39m lam \u001b[38;5;241m*\u001b[39m (p\u001b[38;5;241m.\u001b[39mreshape((items,d),order\u001b[38;5;241m=\u001b[39m\u001b[38;5;124m'\u001b[39m\u001b[38;5;124mF\u001b[39m\u001b[38;5;124m'\u001b[39m) \u001b[38;5;129m@VtV\u001b[39m)\u001b[38;5;241m.\u001b[39mflatten(\u001b[38;5;124m'\u001b[39m\u001b[38;5;124mF\u001b[39m\u001b[38;5;124m'\u001b[39m)\n",
      "File \u001b[0;32m/apps/bdi-venv-310/lib/python3.10/site-packages/scipy/sparse/_base.py:678\u001b[0m, in \u001b[0;36m_spbase.__matmul__\u001b[0;34m(self, other)\u001b[0m\n\u001b[1;32m    675\u001b[0m \u001b[38;5;28;01mif\u001b[39;00m isscalarlike(other):\n\u001b[1;32m    676\u001b[0m     \u001b[38;5;28;01mraise\u001b[39;00m \u001b[38;5;167;01mValueError\u001b[39;00m(\u001b[38;5;124m\"\u001b[39m\u001b[38;5;124mScalar operands are not allowed, \u001b[39m\u001b[38;5;124m\"\u001b[39m\n\u001b[1;32m    677\u001b[0m                      \u001b[38;5;124m\"\u001b[39m\u001b[38;5;124muse \u001b[39m\u001b[38;5;124m'\u001b[39m\u001b[38;5;124m*\u001b[39m\u001b[38;5;124m'\u001b[39m\u001b[38;5;124m instead\u001b[39m\u001b[38;5;124m\"\u001b[39m)\n\u001b[0;32m--> 678\u001b[0m \u001b[38;5;28;01mreturn\u001b[39;00m \u001b[38;5;28;43mself\u001b[39;49m\u001b[38;5;241;43m.\u001b[39;49m\u001b[43m_mul_dispatch\u001b[49m\u001b[43m(\u001b[49m\u001b[43mother\u001b[49m\u001b[43m)\u001b[49m\n",
      "File \u001b[0;32m/apps/bdi-venv-310/lib/python3.10/site-packages/scipy/sparse/_base.py:580\u001b[0m, in \u001b[0;36m_spbase._mul_dispatch\u001b[0;34m(self, other)\u001b[0m\n\u001b[1;32m    578\u001b[0m         \u001b[38;5;28;01mreturn\u001b[39;00m \u001b[38;5;28mself\u001b[39m\u001b[38;5;241m.\u001b[39m_mul_vector(other\u001b[38;5;241m.\u001b[39mravel())\u001b[38;5;241m.\u001b[39mreshape(M, \u001b[38;5;241m1\u001b[39m)\n\u001b[1;32m    579\u001b[0m     \u001b[38;5;28;01melif\u001b[39;00m other\u001b[38;5;241m.\u001b[39mndim \u001b[38;5;241m==\u001b[39m \u001b[38;5;241m2\u001b[39m \u001b[38;5;129;01mand\u001b[39;00m other\u001b[38;5;241m.\u001b[39mshape[\u001b[38;5;241m0\u001b[39m] \u001b[38;5;241m==\u001b[39m N:\n\u001b[0;32m--> 580\u001b[0m         \u001b[38;5;28;01mreturn\u001b[39;00m \u001b[38;5;28;43mself\u001b[39;49m\u001b[38;5;241;43m.\u001b[39;49m\u001b[43m_mul_multivector\u001b[49m\u001b[43m(\u001b[49m\u001b[43mother\u001b[49m\u001b[43m)\u001b[49m\n\u001b[1;32m    582\u001b[0m \u001b[38;5;28;01mif\u001b[39;00m isscalarlike(other):\n\u001b[1;32m    583\u001b[0m     \u001b[38;5;66;03m# scalar value\u001b[39;00m\n\u001b[1;32m    584\u001b[0m     \u001b[38;5;28;01mreturn\u001b[39;00m \u001b[38;5;28mself\u001b[39m\u001b[38;5;241m.\u001b[39m_mul_scalar(other)\n",
      "File \u001b[0;32m/apps/bdi-venv-310/lib/python3.10/site-packages/scipy/sparse/_compressed.py:507\u001b[0m, in \u001b[0;36m_cs_matrix._mul_multivector\u001b[0;34m(self, other)\u001b[0m\n\u001b[1;32m    505\u001b[0m \u001b[38;5;66;03m# csr_matvecs or csc_matvecs\u001b[39;00m\n\u001b[1;32m    506\u001b[0m fn \u001b[38;5;241m=\u001b[39m \u001b[38;5;28mgetattr\u001b[39m(_sparsetools, \u001b[38;5;28mself\u001b[39m\u001b[38;5;241m.\u001b[39mformat \u001b[38;5;241m+\u001b[39m \u001b[38;5;124m'\u001b[39m\u001b[38;5;124m_matvecs\u001b[39m\u001b[38;5;124m'\u001b[39m)\n\u001b[0;32m--> 507\u001b[0m \u001b[43mfn\u001b[49m\u001b[43m(\u001b[49m\u001b[43mM\u001b[49m\u001b[43m,\u001b[49m\u001b[43m \u001b[49m\u001b[43mN\u001b[49m\u001b[43m,\u001b[49m\u001b[43m \u001b[49m\u001b[43mn_vecs\u001b[49m\u001b[43m,\u001b[49m\u001b[43m \u001b[49m\u001b[38;5;28;43mself\u001b[39;49m\u001b[38;5;241;43m.\u001b[39;49m\u001b[43mindptr\u001b[49m\u001b[43m,\u001b[49m\u001b[43m \u001b[49m\u001b[38;5;28;43mself\u001b[39;49m\u001b[38;5;241;43m.\u001b[39;49m\u001b[43mindices\u001b[49m\u001b[43m,\u001b[49m\u001b[43m \u001b[49m\u001b[38;5;28;43mself\u001b[39;49m\u001b[38;5;241;43m.\u001b[39;49m\u001b[43mdata\u001b[49m\u001b[43m,\u001b[49m\n\u001b[1;32m    508\u001b[0m \u001b[43m   \u001b[49m\u001b[43mother\u001b[49m\u001b[38;5;241;43m.\u001b[39;49m\u001b[43mravel\u001b[49m\u001b[43m(\u001b[49m\u001b[43m)\u001b[49m\u001b[43m,\u001b[49m\u001b[43m \u001b[49m\u001b[43mresult\u001b[49m\u001b[38;5;241;43m.\u001b[39;49m\u001b[43mravel\u001b[49m\u001b[43m(\u001b[49m\u001b[43m)\u001b[49m\u001b[43m)\u001b[49m\n\u001b[1;32m    510\u001b[0m \u001b[38;5;28;01mreturn\u001b[39;00m result\n",
      "\u001b[0;31mKeyboardInterrupt\u001b[0m: "
     ]
    }
   ],
   "source": [
    "import numpy as np\n",
    "import utils as ut\n",
    "from tqdm.notebook import tqdm\n",
    "import scipy as sc\n",
    "from joblib import Parallel, delayed\n",
    "\n",
    "items=20108\n",
    "userCnt , X = ut.load_xtx_binary(items)\n",
    "XtX = (X.T @ X).toarray()\n",
    "users = 116677\n",
    "nonzeros = X.nonzero()\n",
    "nonzerosT = (X.T).nonzero()\n",
    "#W = np.ones((users,items))\n",
    "\n",
    "\n",
    "def get_wease_V_cg(weight,lam,d,items):\n",
    "    v = V.flatten('F')\n",
    "    pd = np.linalg.inv(U.T @ (XtX_lam) @ U)\n",
    "    XU = X@U\n",
    "    UtU = U.T @ U\n",
    "    VUX = V@XU.T\n",
    "    VUX[nonzerosT] *= weight \n",
    "    r = (W2X.T @ (X @ U)).flatten('F') - (lam*V@UtU + VUX@XU).flatten('F')\n",
    "    z = (r.reshape((items,d),order='F')@pd).flatten('F')\n",
    "    p = z.copy()\n",
    "    for _ in tqdm(range(50)):\n",
    "        P = p.reshape((items,d),order='F')\n",
    "        PUX = P@XU.T\n",
    "        PUX[nonzerosT] *= weight\n",
    "        Ap = (lam * P@UtU + PUX @ XU).flatten('F')\n",
    "        alpha = np.dot(r,z) / max(1e-300,np.dot(p,Ap))\n",
    "        v = v + alpha * p\n",
    "        r_new = r - alpha * Ap\n",
    "        print('V:', np.linalg.norm(r_new))\n",
    "        if np.linalg.norm(r_new) < 1e-7:\n",
    "            return v.reshape((items,d),order='F')\n",
    "        z_new = (r_new.reshape((items,d),order='F')@pd).flatten('F')\n",
    "        beta = np.dot(r_new,z_new) / max(1e-300,np.dot(r,z))\n",
    "        p = z_new + beta * p\n",
    "        r = r_new\n",
    "        z = z_new\n",
    "    return v.reshape((items,d),order='F')\n",
    "\n",
    "\n",
    "\n",
    "def get_wease_U(weight,lam,d,items):\n",
    "    u = U.flatten('F')\n",
    "    VtV = V.T @ V\n",
    "    VtV_inv = np.linalg.inv(VtV)\n",
    "    b = (X.T @ (W2X @ V)).flatten('F')\n",
    "    XUV = X@U@V.T\n",
    "    XUV[nonzeros] = weight * XUV[nonzeros]\n",
    "    r = b - ((X.T @ (XUV @ V)).flatten('F') + lam * (U @ VtV).flatten('F'))\n",
    "    z = (XtX_inv @ r.reshape((items,d),order='F') @ VtV_inv).flatten('F')\n",
    "    p = z\n",
    "    for _ in tqdm(range(30)):\n",
    "        XPV = X@ p.reshape((items,d),order='F') @V.T\n",
    "        XPV[nonzeros] = weight * XPV[nonzeros]\n",
    "        Ap = (X.T @ (XPV @ V)).flatten('F') + lam * (p.reshape((items,d),order='F') @VtV).flatten('F')\n",
    "        rtz = np.dot(r,z)\n",
    "        alpha = rtz / np.dot(p,Ap)\n",
    "        u = u + alpha * p\n",
    "        r_new = r - alpha * Ap\n",
    "        z = (XtX_inv @ r_new.reshape((items,d),order='F') @ VtV_inv).flatten('F')\n",
    "        print('U:', np.linalg.norm(r_new))\n",
    "        if np.linalg.norm(r_new) < 1e-7:\n",
    "            return u.reshape((items,d),order='F')\n",
    "        beta = np.dot(r_new,z) / rtz\n",
    "        p = z + beta * p\n",
    "        r = r_new\n",
    "    return u.reshape((items,d),order='F')\n",
    "    \n",
    "\n",
    "def get_wease_V(i):\n",
    "    A = XU.T @ sc.sparse.diags(W[:,i])\n",
    "    return np.linalg.solve(lam * UtU + A@XU, A @ X[:,i])\n",
    "\n",
    "\n",
    "\n",
    "\n",
    "weights = [8,64]\n",
    "lams = [200,2000,20000]\n",
    "dims = [1000]\n",
    "\n",
    "runs = 5 \n",
    "\n",
    "for d in dims:\n",
    "    for lam in lams:\n",
    "        XtX_lam = XtX + lam * np.eye(items)\n",
    "        XtX_inv = np.linalg.inv(XtX_lam)\n",
    "        for weight in weights:\n",
    "            #W[nonzeros] = weight\n",
    "            W2X = weight * X\n",
    "            print('dim =', d,', weight =', weight, ' and lam =', lam)\n",
    "            U = np.random.normal(size = (items,d)) * 1 / np.sqrt(weight*(d**3))\n",
    "            V = np.random.normal(size = (items,d)) * 1 / np.sqrt(weight*(d**3))\n",
    "            for i in tqdm(range(runs)):\n",
    "                U = get_wease_U(weight,lam,d,items)\n",
    "                U = np.squeeze(np.array(U))\n",
    "                XU = X@U\n",
    "                UtU = U.T @ U\n",
    "                V = get_wease_V_cg(weight,lam,d,items)\n",
    "                V = np.squeeze(np.array(V))\n",
    "                if i == runs-1:\n",
    "                    ut.evaluate(U@V.T)\n",
    "                    print('=======================')"
   ]
  },
  {
   "cell_type": "code",
   "execution_count": null,
   "id": "c09c2b7b-3510-448b-b18a-0ab1bc9281e5",
   "metadata": {},
   "outputs": [],
   "source": []
  },
  {
   "cell_type": "code",
   "execution_count": null,
   "id": "2c800048-d081-49f8-bf15-5f9a024de2b6",
   "metadata": {},
   "outputs": [],
   "source": []
  }
 ],
 "metadata": {
  "kernelspec": {
   "display_name": "Python 3.10 (recommended)",
   "language": "python",
   "name": "python310"
  },
  "language_info": {
   "codemirror_mode": {
    "name": "ipython",
    "version": 3
   },
   "file_extension": ".py",
   "mimetype": "text/x-python",
   "name": "python",
   "nbconvert_exporter": "python",
   "pygments_lexer": "ipython3",
   "version": "3.10.14"
  }
 },
 "nbformat": 4,
 "nbformat_minor": 5
}
